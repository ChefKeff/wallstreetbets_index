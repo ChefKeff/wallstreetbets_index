{
  "nbformat": 4,
  "nbformat_minor": 0,
  "metadata": {
    "colab": {
      "name": "Main_ML_Notebook.ipynb",
      "provenance": [],
      "collapsed_sections": [],
      "authorship_tag": "ABX9TyPpBpjtnDvIsfKJ29mJ8JGj",
      "include_colab_link": true
    },
    "kernelspec": {
      "name": "python3",
      "display_name": "Python 3"
    },
    "language_info": {
      "name": "python"
    }
  },
  "cells": [
    {
      "cell_type": "markdown",
      "metadata": {
        "id": "view-in-github",
        "colab_type": "text"
      },
      "source": [
        "<a href=\"https://colab.research.google.com/github/ChefKeff/wallstreetbets_index/blob/pre_processing/Main_ML_Notebook.ipynb\" target=\"_parent\"><img src=\"https://colab.research.google.com/assets/colab-badge.svg\" alt=\"Open In Colab\"/></a>"
      ]
    },
    {
      "cell_type": "code",
      "source": [
        "from sklearn.ensemble import RandomForestClassifier\n",
        "from sklearn.neural_network import MLPClassifier\n",
        "from sklearn.model_selection import train_test_split\n",
        "from sklearn.metrics import precision_score\n",
        "from pathlib import Path\n",
        "import pandas as pd\n",
        "import numpy as np"
      ],
      "metadata": {
        "id": "-bQBLiR4ZqMU"
      },
      "execution_count": null,
      "outputs": []
    },
    {
      "cell_type": "code",
      "execution_count": null,
      "metadata": {
        "colab": {
          "base_uri": "https://localhost:8080/"
        },
        "id": "oO6Jtv5SZXbK",
        "outputId": "559cf7b2-c427-4393-96ce-1f7d8b4213df"
      },
      "outputs": [
        {
          "output_type": "stream",
          "name": "stdout",
          "text": [
            "Drive already mounted at /content/drive; to attempt to forcibly remount, call drive.mount(\"/content/drive\", force_remount=True).\n"
          ]
        }
      ],
      "source": [
        "from google.colab import drive\n",
        "drive.mount('/content/drive')\n",
        "dir_str_mod_wsb = '/content/drive/MyDrive/SKOLA/UU/C-UPPSATS/FEK/Notebooks/wsb_mod_percent/'\n"
      ]
    },
    {
      "cell_type": "markdown",
      "source": [
        "## GETTING THE PRECISION WITH RANDOM FOREST CLASSIFIER"
      ],
      "metadata": {
        "id": "lUMgLAbF01bQ"
      }
    },
    {
      "cell_type": "code",
      "source": [
        "pathlist_mod = Path(dir_str_mod_wsb).glob('**/*.csv')\n",
        "\n",
        "def mlp():\n",
        "    accuracies = {}\n",
        "    too_little_data = {}\n",
        "    for path in pathlist_mod:\n",
        "      filename = pd.read_csv(path)\n",
        "      data = filename[[\"High\"]]\n",
        "      data = data.rename(columns={\"High\": \"Actual_High\"})\n",
        "      data[\"Target\"] = filename.rolling(2).apply(\n",
        "          lambda x: x.iloc[1] > x.iloc[0])[\"High\"]\n",
        "\n",
        "      data_prev = filename.copy() \n",
        "      data_prev = data_prev.shift(1)\n",
        "      predictors = [\"Sentiment\"]\n",
        "      data = data.join(data_prev[predictors]).iloc[1:]\n",
        "\n",
        "      model = RandomForestClassifier(n_estimators=100, min_samples_split=200, random_state=1)\n",
        "\n",
        "      # Create a train and test set\n",
        "      x = np.array(data[\"Sentiment\"])\n",
        "      y = np.array(data[\"Target\"])\n",
        "      if(len(data) > 250):\n",
        "        try:\n",
        "          x_train, x_test, y_train, y_test = train_test_split(\n",
        "              x, y, test_size=0.30, random_state=0)\n",
        "\n",
        "          model.fit(x_train.reshape(-1, 1).tolist(),\n",
        "                    y_train.reshape(-1, 1).tolist())\n",
        "          \n",
        "\n",
        "          preds = model.predict(x_test.reshape(-1, 1).tolist())\n",
        "          precision = precision_score(y_test, preds)\n",
        "          if precision != 0 or precision != 1:\n",
        "            print(precision)\n",
        "            accuracies[f'{filename[\"Ticker\"].iloc[0]}'] = precision\n",
        "        except:\n",
        "          too_little_data.append[filename[\"Ticker\"].iloc[0]] = len(data)\n",
        "          continue\n",
        "      else:\n",
        "        too_little_data[filename[\"Ticker\"].iloc[0]] = len(data)\n",
        "    return [accuracies, too_little_data]\n",
        "\n",
        "\n",
        "wsb_stock_prediction = mlp()"
      ],
      "metadata": {
        "colab": {
          "base_uri": "https://localhost:8080/"
        },
        "id": "0mHD68iiZx_Q",
        "outputId": "dffe5ead-11de-4d7c-c5e3-d623e1d2e478"
      },
      "execution_count": null,
      "outputs": [
        {
          "output_type": "stream",
          "name": "stderr",
          "text": [
            "/usr/local/lib/python3.7/dist-packages/ipykernel_launcher.py:29: DataConversionWarning: A column-vector y was passed when a 1d array was expected. Please change the shape of y to (n_samples,), for example using ravel().\n"
          ]
        },
        {
          "output_type": "stream",
          "name": "stdout",
          "text": [
            "0.40963855421686746\n"
          ]
        },
        {
          "output_type": "stream",
          "name": "stderr",
          "text": [
            "/usr/local/lib/python3.7/dist-packages/ipykernel_launcher.py:29: DataConversionWarning: A column-vector y was passed when a 1d array was expected. Please change the shape of y to (n_samples,), for example using ravel().\n",
            "/usr/local/lib/python3.7/dist-packages/sklearn/metrics/_classification.py:1318: UndefinedMetricWarning: Precision is ill-defined and being set to 0.0 due to no predicted samples. Use `zero_division` parameter to control this behavior.\n",
            "  _warn_prf(average, modifier, msg_start, len(result))\n"
          ]
        },
        {
          "output_type": "stream",
          "name": "stdout",
          "text": [
            "0.0\n"
          ]
        },
        {
          "output_type": "stream",
          "name": "stderr",
          "text": [
            "/usr/local/lib/python3.7/dist-packages/ipykernel_launcher.py:29: DataConversionWarning: A column-vector y was passed when a 1d array was expected. Please change the shape of y to (n_samples,), for example using ravel().\n"
          ]
        },
        {
          "output_type": "stream",
          "name": "stdout",
          "text": [
            "0.5454545454545454\n"
          ]
        },
        {
          "output_type": "stream",
          "name": "stderr",
          "text": [
            "/usr/local/lib/python3.7/dist-packages/ipykernel_launcher.py:29: DataConversionWarning: A column-vector y was passed when a 1d array was expected. Please change the shape of y to (n_samples,), for example using ravel().\n",
            "/usr/local/lib/python3.7/dist-packages/sklearn/metrics/_classification.py:1318: UndefinedMetricWarning: Precision is ill-defined and being set to 0.0 due to no predicted samples. Use `zero_division` parameter to control this behavior.\n",
            "  _warn_prf(average, modifier, msg_start, len(result))\n"
          ]
        },
        {
          "output_type": "stream",
          "name": "stdout",
          "text": [
            "0.0\n"
          ]
        },
        {
          "output_type": "stream",
          "name": "stderr",
          "text": [
            "/usr/local/lib/python3.7/dist-packages/ipykernel_launcher.py:29: DataConversionWarning: A column-vector y was passed when a 1d array was expected. Please change the shape of y to (n_samples,), for example using ravel().\n"
          ]
        },
        {
          "output_type": "stream",
          "name": "stdout",
          "text": [
            "0.525\n"
          ]
        },
        {
          "output_type": "stream",
          "name": "stderr",
          "text": [
            "/usr/local/lib/python3.7/dist-packages/ipykernel_launcher.py:29: DataConversionWarning: A column-vector y was passed when a 1d array was expected. Please change the shape of y to (n_samples,), for example using ravel().\n"
          ]
        },
        {
          "output_type": "stream",
          "name": "stdout",
          "text": [
            "0.43478260869565216\n"
          ]
        },
        {
          "output_type": "stream",
          "name": "stderr",
          "text": [
            "/usr/local/lib/python3.7/dist-packages/ipykernel_launcher.py:29: DataConversionWarning: A column-vector y was passed when a 1d array was expected. Please change the shape of y to (n_samples,), for example using ravel().\n"
          ]
        },
        {
          "output_type": "stream",
          "name": "stdout",
          "text": [
            "0.45161290322580644\n"
          ]
        },
        {
          "output_type": "stream",
          "name": "stderr",
          "text": [
            "/usr/local/lib/python3.7/dist-packages/ipykernel_launcher.py:29: DataConversionWarning: A column-vector y was passed when a 1d array was expected. Please change the shape of y to (n_samples,), for example using ravel().\n",
            "/usr/local/lib/python3.7/dist-packages/sklearn/metrics/_classification.py:1318: UndefinedMetricWarning: Precision is ill-defined and being set to 0.0 due to no predicted samples. Use `zero_division` parameter to control this behavior.\n",
            "  _warn_prf(average, modifier, msg_start, len(result))\n"
          ]
        },
        {
          "output_type": "stream",
          "name": "stdout",
          "text": [
            "0.0\n"
          ]
        },
        {
          "output_type": "stream",
          "name": "stderr",
          "text": [
            "/usr/local/lib/python3.7/dist-packages/ipykernel_launcher.py:29: DataConversionWarning: A column-vector y was passed when a 1d array was expected. Please change the shape of y to (n_samples,), for example using ravel().\n",
            "/usr/local/lib/python3.7/dist-packages/sklearn/metrics/_classification.py:1318: UndefinedMetricWarning: Precision is ill-defined and being set to 0.0 due to no predicted samples. Use `zero_division` parameter to control this behavior.\n",
            "  _warn_prf(average, modifier, msg_start, len(result))\n"
          ]
        },
        {
          "output_type": "stream",
          "name": "stdout",
          "text": [
            "0.0\n"
          ]
        },
        {
          "output_type": "stream",
          "name": "stderr",
          "text": [
            "/usr/local/lib/python3.7/dist-packages/ipykernel_launcher.py:29: DataConversionWarning: A column-vector y was passed when a 1d array was expected. Please change the shape of y to (n_samples,), for example using ravel().\n"
          ]
        },
        {
          "output_type": "stream",
          "name": "stdout",
          "text": [
            "0.5\n"
          ]
        },
        {
          "output_type": "stream",
          "name": "stderr",
          "text": [
            "/usr/local/lib/python3.7/dist-packages/ipykernel_launcher.py:29: DataConversionWarning: A column-vector y was passed when a 1d array was expected. Please change the shape of y to (n_samples,), for example using ravel().\n"
          ]
        },
        {
          "output_type": "stream",
          "name": "stdout",
          "text": [
            "0.5588235294117647\n"
          ]
        },
        {
          "output_type": "stream",
          "name": "stderr",
          "text": [
            "/usr/local/lib/python3.7/dist-packages/ipykernel_launcher.py:29: DataConversionWarning: A column-vector y was passed when a 1d array was expected. Please change the shape of y to (n_samples,), for example using ravel().\n",
            "/usr/local/lib/python3.7/dist-packages/sklearn/metrics/_classification.py:1318: UndefinedMetricWarning: Precision is ill-defined and being set to 0.0 due to no predicted samples. Use `zero_division` parameter to control this behavior.\n",
            "  _warn_prf(average, modifier, msg_start, len(result))\n"
          ]
        },
        {
          "output_type": "stream",
          "name": "stdout",
          "text": [
            "0.0\n"
          ]
        },
        {
          "output_type": "stream",
          "name": "stderr",
          "text": [
            "/usr/local/lib/python3.7/dist-packages/ipykernel_launcher.py:29: DataConversionWarning: A column-vector y was passed when a 1d array was expected. Please change the shape of y to (n_samples,), for example using ravel().\n"
          ]
        },
        {
          "output_type": "stream",
          "name": "stdout",
          "text": [
            "0.5104895104895105\n"
          ]
        },
        {
          "output_type": "stream",
          "name": "stderr",
          "text": [
            "/usr/local/lib/python3.7/dist-packages/ipykernel_launcher.py:29: DataConversionWarning: A column-vector y was passed when a 1d array was expected. Please change the shape of y to (n_samples,), for example using ravel().\n"
          ]
        },
        {
          "output_type": "stream",
          "name": "stdout",
          "text": [
            "0.4797297297297297\n"
          ]
        },
        {
          "output_type": "stream",
          "name": "stderr",
          "text": [
            "/usr/local/lib/python3.7/dist-packages/ipykernel_launcher.py:29: DataConversionWarning: A column-vector y was passed when a 1d array was expected. Please change the shape of y to (n_samples,), for example using ravel().\n"
          ]
        },
        {
          "output_type": "stream",
          "name": "stdout",
          "text": [
            "0.4946236559139785\n"
          ]
        },
        {
          "output_type": "stream",
          "name": "stderr",
          "text": [
            "/usr/local/lib/python3.7/dist-packages/ipykernel_launcher.py:29: DataConversionWarning: A column-vector y was passed when a 1d array was expected. Please change the shape of y to (n_samples,), for example using ravel().\n",
            "/usr/local/lib/python3.7/dist-packages/sklearn/metrics/_classification.py:1318: UndefinedMetricWarning: Precision is ill-defined and being set to 0.0 due to no predicted samples. Use `zero_division` parameter to control this behavior.\n",
            "  _warn_prf(average, modifier, msg_start, len(result))\n"
          ]
        },
        {
          "output_type": "stream",
          "name": "stdout",
          "text": [
            "0.0\n"
          ]
        },
        {
          "output_type": "stream",
          "name": "stderr",
          "text": [
            "/usr/local/lib/python3.7/dist-packages/ipykernel_launcher.py:29: DataConversionWarning: A column-vector y was passed when a 1d array was expected. Please change the shape of y to (n_samples,), for example using ravel().\n"
          ]
        },
        {
          "output_type": "stream",
          "name": "stdout",
          "text": [
            "0.501628664495114\n"
          ]
        },
        {
          "output_type": "stream",
          "name": "stderr",
          "text": [
            "/usr/local/lib/python3.7/dist-packages/ipykernel_launcher.py:29: DataConversionWarning: A column-vector y was passed when a 1d array was expected. Please change the shape of y to (n_samples,), for example using ravel().\n"
          ]
        },
        {
          "output_type": "stream",
          "name": "stdout",
          "text": [
            "0.4\n"
          ]
        },
        {
          "output_type": "stream",
          "name": "stderr",
          "text": [
            "/usr/local/lib/python3.7/dist-packages/ipykernel_launcher.py:29: DataConversionWarning: A column-vector y was passed when a 1d array was expected. Please change the shape of y to (n_samples,), for example using ravel().\n"
          ]
        },
        {
          "output_type": "stream",
          "name": "stdout",
          "text": [
            "0.4166666666666667\n"
          ]
        },
        {
          "output_type": "stream",
          "name": "stderr",
          "text": [
            "/usr/local/lib/python3.7/dist-packages/ipykernel_launcher.py:29: DataConversionWarning: A column-vector y was passed when a 1d array was expected. Please change the shape of y to (n_samples,), for example using ravel().\n"
          ]
        },
        {
          "output_type": "stream",
          "name": "stdout",
          "text": [
            "0.2\n"
          ]
        },
        {
          "output_type": "stream",
          "name": "stderr",
          "text": [
            "/usr/local/lib/python3.7/dist-packages/ipykernel_launcher.py:29: DataConversionWarning: A column-vector y was passed when a 1d array was expected. Please change the shape of y to (n_samples,), for example using ravel().\n"
          ]
        },
        {
          "output_type": "stream",
          "name": "stdout",
          "text": [
            "0.45081967213114754\n"
          ]
        },
        {
          "output_type": "stream",
          "name": "stderr",
          "text": [
            "/usr/local/lib/python3.7/dist-packages/ipykernel_launcher.py:29: DataConversionWarning: A column-vector y was passed when a 1d array was expected. Please change the shape of y to (n_samples,), for example using ravel().\n"
          ]
        },
        {
          "output_type": "stream",
          "name": "stdout",
          "text": [
            "0.5412844036697247\n"
          ]
        },
        {
          "output_type": "stream",
          "name": "stderr",
          "text": [
            "/usr/local/lib/python3.7/dist-packages/ipykernel_launcher.py:29: DataConversionWarning: A column-vector y was passed when a 1d array was expected. Please change the shape of y to (n_samples,), for example using ravel().\n"
          ]
        },
        {
          "output_type": "stream",
          "name": "stdout",
          "text": [
            "0.6038961038961039\n"
          ]
        },
        {
          "output_type": "stream",
          "name": "stderr",
          "text": [
            "/usr/local/lib/python3.7/dist-packages/ipykernel_launcher.py:29: DataConversionWarning: A column-vector y was passed when a 1d array was expected. Please change the shape of y to (n_samples,), for example using ravel().\n"
          ]
        },
        {
          "output_type": "stream",
          "name": "stdout",
          "text": [
            "0.5678571428571428\n"
          ]
        },
        {
          "output_type": "stream",
          "name": "stderr",
          "text": [
            "/usr/local/lib/python3.7/dist-packages/ipykernel_launcher.py:29: DataConversionWarning: A column-vector y was passed when a 1d array was expected. Please change the shape of y to (n_samples,), for example using ravel().\n",
            "/usr/local/lib/python3.7/dist-packages/sklearn/metrics/_classification.py:1318: UndefinedMetricWarning: Precision is ill-defined and being set to 0.0 due to no predicted samples. Use `zero_division` parameter to control this behavior.\n",
            "  _warn_prf(average, modifier, msg_start, len(result))\n"
          ]
        },
        {
          "output_type": "stream",
          "name": "stdout",
          "text": [
            "0.0\n"
          ]
        },
        {
          "output_type": "stream",
          "name": "stderr",
          "text": [
            "/usr/local/lib/python3.7/dist-packages/ipykernel_launcher.py:29: DataConversionWarning: A column-vector y was passed when a 1d array was expected. Please change the shape of y to (n_samples,), for example using ravel().\n"
          ]
        },
        {
          "output_type": "stream",
          "name": "stdout",
          "text": [
            "0.4823529411764706\n"
          ]
        },
        {
          "output_type": "stream",
          "name": "stderr",
          "text": [
            "/usr/local/lib/python3.7/dist-packages/ipykernel_launcher.py:29: DataConversionWarning: A column-vector y was passed when a 1d array was expected. Please change the shape of y to (n_samples,), for example using ravel().\n"
          ]
        },
        {
          "output_type": "stream",
          "name": "stdout",
          "text": [
            "0.5490196078431373\n"
          ]
        },
        {
          "output_type": "stream",
          "name": "stderr",
          "text": [
            "/usr/local/lib/python3.7/dist-packages/ipykernel_launcher.py:29: DataConversionWarning: A column-vector y was passed when a 1d array was expected. Please change the shape of y to (n_samples,), for example using ravel().\n"
          ]
        },
        {
          "output_type": "stream",
          "name": "stdout",
          "text": [
            "0.6524822695035462\n"
          ]
        },
        {
          "output_type": "stream",
          "name": "stderr",
          "text": [
            "/usr/local/lib/python3.7/dist-packages/ipykernel_launcher.py:29: DataConversionWarning: A column-vector y was passed when a 1d array was expected. Please change the shape of y to (n_samples,), for example using ravel().\n"
          ]
        },
        {
          "output_type": "stream",
          "name": "stdout",
          "text": [
            "0.5125\n"
          ]
        },
        {
          "output_type": "stream",
          "name": "stderr",
          "text": [
            "/usr/local/lib/python3.7/dist-packages/ipykernel_launcher.py:29: DataConversionWarning: A column-vector y was passed when a 1d array was expected. Please change the shape of y to (n_samples,), for example using ravel().\n"
          ]
        },
        {
          "output_type": "stream",
          "name": "stdout",
          "text": [
            "0.5327102803738317\n"
          ]
        },
        {
          "output_type": "stream",
          "name": "stderr",
          "text": [
            "/usr/local/lib/python3.7/dist-packages/ipykernel_launcher.py:29: DataConversionWarning: A column-vector y was passed when a 1d array was expected. Please change the shape of y to (n_samples,), for example using ravel().\n",
            "/usr/local/lib/python3.7/dist-packages/sklearn/metrics/_classification.py:1318: UndefinedMetricWarning: Precision is ill-defined and being set to 0.0 due to no predicted samples. Use `zero_division` parameter to control this behavior.\n",
            "  _warn_prf(average, modifier, msg_start, len(result))\n"
          ]
        },
        {
          "output_type": "stream",
          "name": "stdout",
          "text": [
            "0.0\n"
          ]
        },
        {
          "output_type": "stream",
          "name": "stderr",
          "text": [
            "/usr/local/lib/python3.7/dist-packages/ipykernel_launcher.py:29: DataConversionWarning: A column-vector y was passed when a 1d array was expected. Please change the shape of y to (n_samples,), for example using ravel().\n",
            "/usr/local/lib/python3.7/dist-packages/sklearn/metrics/_classification.py:1318: UndefinedMetricWarning: Precision is ill-defined and being set to 0.0 due to no predicted samples. Use `zero_division` parameter to control this behavior.\n",
            "  _warn_prf(average, modifier, msg_start, len(result))\n"
          ]
        },
        {
          "output_type": "stream",
          "name": "stdout",
          "text": [
            "0.0\n"
          ]
        },
        {
          "output_type": "stream",
          "name": "stderr",
          "text": [
            "/usr/local/lib/python3.7/dist-packages/ipykernel_launcher.py:29: DataConversionWarning: A column-vector y was passed when a 1d array was expected. Please change the shape of y to (n_samples,), for example using ravel().\n"
          ]
        },
        {
          "output_type": "stream",
          "name": "stdout",
          "text": [
            "0.5188679245283019\n"
          ]
        },
        {
          "output_type": "stream",
          "name": "stderr",
          "text": [
            "/usr/local/lib/python3.7/dist-packages/ipykernel_launcher.py:29: DataConversionWarning: A column-vector y was passed when a 1d array was expected. Please change the shape of y to (n_samples,), for example using ravel().\n"
          ]
        },
        {
          "output_type": "stream",
          "name": "stdout",
          "text": [
            "0.5882352941176471\n"
          ]
        },
        {
          "output_type": "stream",
          "name": "stderr",
          "text": [
            "/usr/local/lib/python3.7/dist-packages/ipykernel_launcher.py:29: DataConversionWarning: A column-vector y was passed when a 1d array was expected. Please change the shape of y to (n_samples,), for example using ravel().\n",
            "/usr/local/lib/python3.7/dist-packages/sklearn/metrics/_classification.py:1318: UndefinedMetricWarning: Precision is ill-defined and being set to 0.0 due to no predicted samples. Use `zero_division` parameter to control this behavior.\n",
            "  _warn_prf(average, modifier, msg_start, len(result))\n"
          ]
        },
        {
          "output_type": "stream",
          "name": "stdout",
          "text": [
            "0.0\n"
          ]
        },
        {
          "output_type": "stream",
          "name": "stderr",
          "text": [
            "/usr/local/lib/python3.7/dist-packages/ipykernel_launcher.py:29: DataConversionWarning: A column-vector y was passed when a 1d array was expected. Please change the shape of y to (n_samples,), for example using ravel().\n"
          ]
        },
        {
          "output_type": "stream",
          "name": "stdout",
          "text": [
            "0.5602836879432624\n"
          ]
        },
        {
          "output_type": "stream",
          "name": "stderr",
          "text": [
            "/usr/local/lib/python3.7/dist-packages/ipykernel_launcher.py:29: DataConversionWarning: A column-vector y was passed when a 1d array was expected. Please change the shape of y to (n_samples,), for example using ravel().\n",
            "/usr/local/lib/python3.7/dist-packages/sklearn/metrics/_classification.py:1318: UndefinedMetricWarning: Precision is ill-defined and being set to 0.0 due to no predicted samples. Use `zero_division` parameter to control this behavior.\n",
            "  _warn_prf(average, modifier, msg_start, len(result))\n"
          ]
        },
        {
          "output_type": "stream",
          "name": "stdout",
          "text": [
            "0.0\n"
          ]
        },
        {
          "output_type": "stream",
          "name": "stderr",
          "text": [
            "/usr/local/lib/python3.7/dist-packages/ipykernel_launcher.py:29: DataConversionWarning: A column-vector y was passed when a 1d array was expected. Please change the shape of y to (n_samples,), for example using ravel().\n"
          ]
        },
        {
          "output_type": "stream",
          "name": "stdout",
          "text": [
            "0.4587628865979381\n"
          ]
        },
        {
          "output_type": "stream",
          "name": "stderr",
          "text": [
            "/usr/local/lib/python3.7/dist-packages/ipykernel_launcher.py:29: DataConversionWarning: A column-vector y was passed when a 1d array was expected. Please change the shape of y to (n_samples,), for example using ravel().\n"
          ]
        },
        {
          "output_type": "stream",
          "name": "stdout",
          "text": [
            "0.425531914893617\n"
          ]
        },
        {
          "output_type": "stream",
          "name": "stderr",
          "text": [
            "/usr/local/lib/python3.7/dist-packages/ipykernel_launcher.py:29: DataConversionWarning: A column-vector y was passed when a 1d array was expected. Please change the shape of y to (n_samples,), for example using ravel().\n",
            "/usr/local/lib/python3.7/dist-packages/sklearn/metrics/_classification.py:1318: UndefinedMetricWarning: Precision is ill-defined and being set to 0.0 due to no predicted samples. Use `zero_division` parameter to control this behavior.\n",
            "  _warn_prf(average, modifier, msg_start, len(result))\n"
          ]
        },
        {
          "output_type": "stream",
          "name": "stdout",
          "text": [
            "0.0\n"
          ]
        },
        {
          "output_type": "stream",
          "name": "stderr",
          "text": [
            "/usr/local/lib/python3.7/dist-packages/ipykernel_launcher.py:29: DataConversionWarning: A column-vector y was passed when a 1d array was expected. Please change the shape of y to (n_samples,), for example using ravel().\n",
            "/usr/local/lib/python3.7/dist-packages/sklearn/metrics/_classification.py:1318: UndefinedMetricWarning: Precision is ill-defined and being set to 0.0 due to no predicted samples. Use `zero_division` parameter to control this behavior.\n",
            "  _warn_prf(average, modifier, msg_start, len(result))\n"
          ]
        },
        {
          "output_type": "stream",
          "name": "stdout",
          "text": [
            "0.0\n"
          ]
        },
        {
          "output_type": "stream",
          "name": "stderr",
          "text": [
            "/usr/local/lib/python3.7/dist-packages/ipykernel_launcher.py:29: DataConversionWarning: A column-vector y was passed when a 1d array was expected. Please change the shape of y to (n_samples,), for example using ravel().\n"
          ]
        },
        {
          "output_type": "stream",
          "name": "stdout",
          "text": [
            "0.5304347826086957\n"
          ]
        },
        {
          "output_type": "stream",
          "name": "stderr",
          "text": [
            "/usr/local/lib/python3.7/dist-packages/ipykernel_launcher.py:29: DataConversionWarning: A column-vector y was passed when a 1d array was expected. Please change the shape of y to (n_samples,), for example using ravel().\n"
          ]
        },
        {
          "output_type": "stream",
          "name": "stdout",
          "text": [
            "0.25\n"
          ]
        },
        {
          "output_type": "stream",
          "name": "stderr",
          "text": [
            "/usr/local/lib/python3.7/dist-packages/ipykernel_launcher.py:29: DataConversionWarning: A column-vector y was passed when a 1d array was expected. Please change the shape of y to (n_samples,), for example using ravel().\n",
            "/usr/local/lib/python3.7/dist-packages/sklearn/metrics/_classification.py:1318: UndefinedMetricWarning: Precision is ill-defined and being set to 0.0 due to no predicted samples. Use `zero_division` parameter to control this behavior.\n",
            "  _warn_prf(average, modifier, msg_start, len(result))\n"
          ]
        },
        {
          "output_type": "stream",
          "name": "stdout",
          "text": [
            "0.0\n"
          ]
        },
        {
          "output_type": "stream",
          "name": "stderr",
          "text": [
            "/usr/local/lib/python3.7/dist-packages/ipykernel_launcher.py:29: DataConversionWarning: A column-vector y was passed when a 1d array was expected. Please change the shape of y to (n_samples,), for example using ravel().\n"
          ]
        },
        {
          "output_type": "stream",
          "name": "stdout",
          "text": [
            "0.3181818181818182\n"
          ]
        },
        {
          "output_type": "stream",
          "name": "stderr",
          "text": [
            "/usr/local/lib/python3.7/dist-packages/ipykernel_launcher.py:29: DataConversionWarning: A column-vector y was passed when a 1d array was expected. Please change the shape of y to (n_samples,), for example using ravel().\n"
          ]
        },
        {
          "output_type": "stream",
          "name": "stdout",
          "text": [
            "0.5287356321839081\n"
          ]
        },
        {
          "output_type": "stream",
          "name": "stderr",
          "text": [
            "/usr/local/lib/python3.7/dist-packages/ipykernel_launcher.py:29: DataConversionWarning: A column-vector y was passed when a 1d array was expected. Please change the shape of y to (n_samples,), for example using ravel().\n"
          ]
        },
        {
          "output_type": "stream",
          "name": "stdout",
          "text": [
            "0.5151515151515151\n"
          ]
        },
        {
          "output_type": "stream",
          "name": "stderr",
          "text": [
            "/usr/local/lib/python3.7/dist-packages/ipykernel_launcher.py:29: DataConversionWarning: A column-vector y was passed when a 1d array was expected. Please change the shape of y to (n_samples,), for example using ravel().\n"
          ]
        },
        {
          "output_type": "stream",
          "name": "stdout",
          "text": [
            "0.4594594594594595\n"
          ]
        },
        {
          "output_type": "stream",
          "name": "stderr",
          "text": [
            "/usr/local/lib/python3.7/dist-packages/ipykernel_launcher.py:29: DataConversionWarning: A column-vector y was passed when a 1d array was expected. Please change the shape of y to (n_samples,), for example using ravel().\n"
          ]
        },
        {
          "output_type": "stream",
          "name": "stdout",
          "text": [
            "0.5233644859813084\n"
          ]
        },
        {
          "output_type": "stream",
          "name": "stderr",
          "text": [
            "/usr/local/lib/python3.7/dist-packages/ipykernel_launcher.py:29: DataConversionWarning: A column-vector y was passed when a 1d array was expected. Please change the shape of y to (n_samples,), for example using ravel().\n"
          ]
        },
        {
          "output_type": "stream",
          "name": "stdout",
          "text": [
            "0.4891304347826087\n"
          ]
        },
        {
          "output_type": "stream",
          "name": "stderr",
          "text": [
            "/usr/local/lib/python3.7/dist-packages/ipykernel_launcher.py:29: DataConversionWarning: A column-vector y was passed when a 1d array was expected. Please change the shape of y to (n_samples,), for example using ravel().\n"
          ]
        },
        {
          "output_type": "stream",
          "name": "stdout",
          "text": [
            "0.512\n"
          ]
        },
        {
          "output_type": "stream",
          "name": "stderr",
          "text": [
            "/usr/local/lib/python3.7/dist-packages/ipykernel_launcher.py:29: DataConversionWarning: A column-vector y was passed when a 1d array was expected. Please change the shape of y to (n_samples,), for example using ravel().\n"
          ]
        },
        {
          "output_type": "stream",
          "name": "stdout",
          "text": [
            "0.5627240143369175\n"
          ]
        },
        {
          "output_type": "stream",
          "name": "stderr",
          "text": [
            "/usr/local/lib/python3.7/dist-packages/ipykernel_launcher.py:29: DataConversionWarning: A column-vector y was passed when a 1d array was expected. Please change the shape of y to (n_samples,), for example using ravel().\n",
            "/usr/local/lib/python3.7/dist-packages/sklearn/metrics/_classification.py:1318: UndefinedMetricWarning: Precision is ill-defined and being set to 0.0 due to no predicted samples. Use `zero_division` parameter to control this behavior.\n",
            "  _warn_prf(average, modifier, msg_start, len(result))\n"
          ]
        },
        {
          "output_type": "stream",
          "name": "stdout",
          "text": [
            "0.0\n"
          ]
        },
        {
          "output_type": "stream",
          "name": "stderr",
          "text": [
            "/usr/local/lib/python3.7/dist-packages/ipykernel_launcher.py:29: DataConversionWarning: A column-vector y was passed when a 1d array was expected. Please change the shape of y to (n_samples,), for example using ravel().\n"
          ]
        },
        {
          "output_type": "stream",
          "name": "stdout",
          "text": [
            "0.6015625\n"
          ]
        },
        {
          "output_type": "stream",
          "name": "stderr",
          "text": [
            "/usr/local/lib/python3.7/dist-packages/ipykernel_launcher.py:29: DataConversionWarning: A column-vector y was passed when a 1d array was expected. Please change the shape of y to (n_samples,), for example using ravel().\n"
          ]
        },
        {
          "output_type": "stream",
          "name": "stdout",
          "text": [
            "0.5543478260869565\n"
          ]
        },
        {
          "output_type": "stream",
          "name": "stderr",
          "text": [
            "/usr/local/lib/python3.7/dist-packages/ipykernel_launcher.py:29: DataConversionWarning: A column-vector y was passed when a 1d array was expected. Please change the shape of y to (n_samples,), for example using ravel().\n"
          ]
        },
        {
          "output_type": "stream",
          "name": "stdout",
          "text": [
            "0.5369127516778524\n"
          ]
        },
        {
          "output_type": "stream",
          "name": "stderr",
          "text": [
            "/usr/local/lib/python3.7/dist-packages/ipykernel_launcher.py:29: DataConversionWarning: A column-vector y was passed when a 1d array was expected. Please change the shape of y to (n_samples,), for example using ravel().\n"
          ]
        },
        {
          "output_type": "stream",
          "name": "stdout",
          "text": [
            "0.5555555555555556\n"
          ]
        },
        {
          "output_type": "stream",
          "name": "stderr",
          "text": [
            "/usr/local/lib/python3.7/dist-packages/ipykernel_launcher.py:29: DataConversionWarning: A column-vector y was passed when a 1d array was expected. Please change the shape of y to (n_samples,), for example using ravel().\n"
          ]
        },
        {
          "output_type": "stream",
          "name": "stdout",
          "text": [
            "0.5318181818181819\n"
          ]
        },
        {
          "output_type": "stream",
          "name": "stderr",
          "text": [
            "/usr/local/lib/python3.7/dist-packages/ipykernel_launcher.py:29: DataConversionWarning: A column-vector y was passed when a 1d array was expected. Please change the shape of y to (n_samples,), for example using ravel().\n",
            "/usr/local/lib/python3.7/dist-packages/sklearn/metrics/_classification.py:1318: UndefinedMetricWarning: Precision is ill-defined and being set to 0.0 due to no predicted samples. Use `zero_division` parameter to control this behavior.\n",
            "  _warn_prf(average, modifier, msg_start, len(result))\n"
          ]
        },
        {
          "output_type": "stream",
          "name": "stdout",
          "text": [
            "0.0\n"
          ]
        },
        {
          "output_type": "stream",
          "name": "stderr",
          "text": [
            "/usr/local/lib/python3.7/dist-packages/ipykernel_launcher.py:29: DataConversionWarning: A column-vector y was passed when a 1d array was expected. Please change the shape of y to (n_samples,), for example using ravel().\n"
          ]
        },
        {
          "output_type": "stream",
          "name": "stdout",
          "text": [
            "0.4774774774774775\n"
          ]
        },
        {
          "output_type": "stream",
          "name": "stderr",
          "text": [
            "/usr/local/lib/python3.7/dist-packages/ipykernel_launcher.py:29: DataConversionWarning: A column-vector y was passed when a 1d array was expected. Please change the shape of y to (n_samples,), for example using ravel().\n"
          ]
        },
        {
          "output_type": "stream",
          "name": "stdout",
          "text": [
            "0.5119047619047619\n"
          ]
        },
        {
          "output_type": "stream",
          "name": "stderr",
          "text": [
            "/usr/local/lib/python3.7/dist-packages/ipykernel_launcher.py:29: DataConversionWarning: A column-vector y was passed when a 1d array was expected. Please change the shape of y to (n_samples,), for example using ravel().\n",
            "/usr/local/lib/python3.7/dist-packages/sklearn/metrics/_classification.py:1318: UndefinedMetricWarning: Precision is ill-defined and being set to 0.0 due to no predicted samples. Use `zero_division` parameter to control this behavior.\n",
            "  _warn_prf(average, modifier, msg_start, len(result))\n"
          ]
        },
        {
          "output_type": "stream",
          "name": "stdout",
          "text": [
            "0.0\n"
          ]
        },
        {
          "output_type": "stream",
          "name": "stderr",
          "text": [
            "/usr/local/lib/python3.7/dist-packages/ipykernel_launcher.py:29: DataConversionWarning: A column-vector y was passed when a 1d array was expected. Please change the shape of y to (n_samples,), for example using ravel().\n",
            "/usr/local/lib/python3.7/dist-packages/sklearn/metrics/_classification.py:1318: UndefinedMetricWarning: Precision is ill-defined and being set to 0.0 due to no predicted samples. Use `zero_division` parameter to control this behavior.\n",
            "  _warn_prf(average, modifier, msg_start, len(result))\n"
          ]
        },
        {
          "output_type": "stream",
          "name": "stdout",
          "text": [
            "0.0\n"
          ]
        },
        {
          "output_type": "stream",
          "name": "stderr",
          "text": [
            "/usr/local/lib/python3.7/dist-packages/ipykernel_launcher.py:29: DataConversionWarning: A column-vector y was passed when a 1d array was expected. Please change the shape of y to (n_samples,), for example using ravel().\n",
            "/usr/local/lib/python3.7/dist-packages/sklearn/metrics/_classification.py:1318: UndefinedMetricWarning: Precision is ill-defined and being set to 0.0 due to no predicted samples. Use `zero_division` parameter to control this behavior.\n",
            "  _warn_prf(average, modifier, msg_start, len(result))\n"
          ]
        },
        {
          "output_type": "stream",
          "name": "stdout",
          "text": [
            "0.0\n"
          ]
        },
        {
          "output_type": "stream",
          "name": "stderr",
          "text": [
            "/usr/local/lib/python3.7/dist-packages/ipykernel_launcher.py:29: DataConversionWarning: A column-vector y was passed when a 1d array was expected. Please change the shape of y to (n_samples,), for example using ravel().\n"
          ]
        },
        {
          "output_type": "stream",
          "name": "stdout",
          "text": [
            "0.5257142857142857\n"
          ]
        },
        {
          "output_type": "stream",
          "name": "stderr",
          "text": [
            "/usr/local/lib/python3.7/dist-packages/ipykernel_launcher.py:29: DataConversionWarning: A column-vector y was passed when a 1d array was expected. Please change the shape of y to (n_samples,), for example using ravel().\n"
          ]
        },
        {
          "output_type": "stream",
          "name": "stdout",
          "text": [
            "0.5238095238095238\n"
          ]
        },
        {
          "output_type": "stream",
          "name": "stderr",
          "text": [
            "/usr/local/lib/python3.7/dist-packages/ipykernel_launcher.py:29: DataConversionWarning: A column-vector y was passed when a 1d array was expected. Please change the shape of y to (n_samples,), for example using ravel().\n"
          ]
        },
        {
          "output_type": "stream",
          "name": "stdout",
          "text": [
            "0.5782312925170068\n"
          ]
        },
        {
          "output_type": "stream",
          "name": "stderr",
          "text": [
            "/usr/local/lib/python3.7/dist-packages/ipykernel_launcher.py:29: DataConversionWarning: A column-vector y was passed when a 1d array was expected. Please change the shape of y to (n_samples,), for example using ravel().\n"
          ]
        },
        {
          "output_type": "stream",
          "name": "stdout",
          "text": [
            "0.47058823529411764\n"
          ]
        },
        {
          "output_type": "stream",
          "name": "stderr",
          "text": [
            "/usr/local/lib/python3.7/dist-packages/ipykernel_launcher.py:29: DataConversionWarning: A column-vector y was passed when a 1d array was expected. Please change the shape of y to (n_samples,), for example using ravel().\n"
          ]
        },
        {
          "output_type": "stream",
          "name": "stdout",
          "text": [
            "0.5454545454545454\n"
          ]
        },
        {
          "output_type": "stream",
          "name": "stderr",
          "text": [
            "/usr/local/lib/python3.7/dist-packages/ipykernel_launcher.py:29: DataConversionWarning: A column-vector y was passed when a 1d array was expected. Please change the shape of y to (n_samples,), for example using ravel().\n",
            "/usr/local/lib/python3.7/dist-packages/sklearn/metrics/_classification.py:1318: UndefinedMetricWarning: Precision is ill-defined and being set to 0.0 due to no predicted samples. Use `zero_division` parameter to control this behavior.\n",
            "  _warn_prf(average, modifier, msg_start, len(result))\n"
          ]
        },
        {
          "output_type": "stream",
          "name": "stdout",
          "text": [
            "0.0\n"
          ]
        },
        {
          "output_type": "stream",
          "name": "stderr",
          "text": [
            "/usr/local/lib/python3.7/dist-packages/ipykernel_launcher.py:29: DataConversionWarning: A column-vector y was passed when a 1d array was expected. Please change the shape of y to (n_samples,), for example using ravel().\n",
            "/usr/local/lib/python3.7/dist-packages/sklearn/metrics/_classification.py:1318: UndefinedMetricWarning: Precision is ill-defined and being set to 0.0 due to no predicted samples. Use `zero_division` parameter to control this behavior.\n",
            "  _warn_prf(average, modifier, msg_start, len(result))\n"
          ]
        },
        {
          "output_type": "stream",
          "name": "stdout",
          "text": [
            "0.0\n"
          ]
        },
        {
          "output_type": "stream",
          "name": "stderr",
          "text": [
            "/usr/local/lib/python3.7/dist-packages/ipykernel_launcher.py:29: DataConversionWarning: A column-vector y was passed when a 1d array was expected. Please change the shape of y to (n_samples,), for example using ravel().\n"
          ]
        },
        {
          "output_type": "stream",
          "name": "stdout",
          "text": [
            "0.5882352941176471\n"
          ]
        },
        {
          "output_type": "stream",
          "name": "stderr",
          "text": [
            "/usr/local/lib/python3.7/dist-packages/ipykernel_launcher.py:29: DataConversionWarning: A column-vector y was passed when a 1d array was expected. Please change the shape of y to (n_samples,), for example using ravel().\n",
            "/usr/local/lib/python3.7/dist-packages/sklearn/metrics/_classification.py:1318: UndefinedMetricWarning: Precision is ill-defined and being set to 0.0 due to no predicted samples. Use `zero_division` parameter to control this behavior.\n",
            "  _warn_prf(average, modifier, msg_start, len(result))\n"
          ]
        },
        {
          "output_type": "stream",
          "name": "stdout",
          "text": [
            "0.0\n"
          ]
        },
        {
          "output_type": "stream",
          "name": "stderr",
          "text": [
            "/usr/local/lib/python3.7/dist-packages/ipykernel_launcher.py:29: DataConversionWarning: A column-vector y was passed when a 1d array was expected. Please change the shape of y to (n_samples,), for example using ravel().\n"
          ]
        },
        {
          "output_type": "stream",
          "name": "stdout",
          "text": [
            "0.49038461538461536\n"
          ]
        },
        {
          "output_type": "stream",
          "name": "stderr",
          "text": [
            "/usr/local/lib/python3.7/dist-packages/ipykernel_launcher.py:29: DataConversionWarning: A column-vector y was passed when a 1d array was expected. Please change the shape of y to (n_samples,), for example using ravel().\n"
          ]
        },
        {
          "output_type": "stream",
          "name": "stdout",
          "text": [
            "0.5454545454545454\n"
          ]
        },
        {
          "output_type": "stream",
          "name": "stderr",
          "text": [
            "/usr/local/lib/python3.7/dist-packages/ipykernel_launcher.py:29: DataConversionWarning: A column-vector y was passed when a 1d array was expected. Please change the shape of y to (n_samples,), for example using ravel().\n"
          ]
        },
        {
          "output_type": "stream",
          "name": "stdout",
          "text": [
            "0.5076923076923077\n"
          ]
        },
        {
          "output_type": "stream",
          "name": "stderr",
          "text": [
            "/usr/local/lib/python3.7/dist-packages/ipykernel_launcher.py:29: DataConversionWarning: A column-vector y was passed when a 1d array was expected. Please change the shape of y to (n_samples,), for example using ravel().\n"
          ]
        },
        {
          "output_type": "stream",
          "name": "stdout",
          "text": [
            "0.4838709677419355\n"
          ]
        },
        {
          "output_type": "stream",
          "name": "stderr",
          "text": [
            "/usr/local/lib/python3.7/dist-packages/ipykernel_launcher.py:29: DataConversionWarning: A column-vector y was passed when a 1d array was expected. Please change the shape of y to (n_samples,), for example using ravel().\n",
            "/usr/local/lib/python3.7/dist-packages/sklearn/metrics/_classification.py:1318: UndefinedMetricWarning: Precision is ill-defined and being set to 0.0 due to no predicted samples. Use `zero_division` parameter to control this behavior.\n",
            "  _warn_prf(average, modifier, msg_start, len(result))\n"
          ]
        },
        {
          "output_type": "stream",
          "name": "stdout",
          "text": [
            "0.0\n"
          ]
        },
        {
          "output_type": "stream",
          "name": "stderr",
          "text": [
            "/usr/local/lib/python3.7/dist-packages/ipykernel_launcher.py:29: DataConversionWarning: A column-vector y was passed when a 1d array was expected. Please change the shape of y to (n_samples,), for example using ravel().\n"
          ]
        },
        {
          "output_type": "stream",
          "name": "stdout",
          "text": [
            "0.8\n"
          ]
        },
        {
          "output_type": "stream",
          "name": "stderr",
          "text": [
            "/usr/local/lib/python3.7/dist-packages/ipykernel_launcher.py:29: DataConversionWarning: A column-vector y was passed when a 1d array was expected. Please change the shape of y to (n_samples,), for example using ravel().\n"
          ]
        },
        {
          "output_type": "stream",
          "name": "stdout",
          "text": [
            "0.46853146853146854\n"
          ]
        },
        {
          "output_type": "stream",
          "name": "stderr",
          "text": [
            "/usr/local/lib/python3.7/dist-packages/ipykernel_launcher.py:29: DataConversionWarning: A column-vector y was passed when a 1d array was expected. Please change the shape of y to (n_samples,), for example using ravel().\n",
            "/usr/local/lib/python3.7/dist-packages/sklearn/metrics/_classification.py:1318: UndefinedMetricWarning: Precision is ill-defined and being set to 0.0 due to no predicted samples. Use `zero_division` parameter to control this behavior.\n",
            "  _warn_prf(average, modifier, msg_start, len(result))\n"
          ]
        },
        {
          "output_type": "stream",
          "name": "stdout",
          "text": [
            "0.0\n"
          ]
        },
        {
          "output_type": "stream",
          "name": "stderr",
          "text": [
            "/usr/local/lib/python3.7/dist-packages/ipykernel_launcher.py:29: DataConversionWarning: A column-vector y was passed when a 1d array was expected. Please change the shape of y to (n_samples,), for example using ravel().\n"
          ]
        },
        {
          "output_type": "stream",
          "name": "stdout",
          "text": [
            "0.518796992481203\n"
          ]
        },
        {
          "output_type": "stream",
          "name": "stderr",
          "text": [
            "/usr/local/lib/python3.7/dist-packages/ipykernel_launcher.py:29: DataConversionWarning: A column-vector y was passed when a 1d array was expected. Please change the shape of y to (n_samples,), for example using ravel().\n"
          ]
        },
        {
          "output_type": "stream",
          "name": "stdout",
          "text": [
            "0.4888888888888889\n"
          ]
        },
        {
          "output_type": "stream",
          "name": "stderr",
          "text": [
            "/usr/local/lib/python3.7/dist-packages/ipykernel_launcher.py:29: DataConversionWarning: A column-vector y was passed when a 1d array was expected. Please change the shape of y to (n_samples,), for example using ravel().\n",
            "/usr/local/lib/python3.7/dist-packages/sklearn/metrics/_classification.py:1318: UndefinedMetricWarning: Precision is ill-defined and being set to 0.0 due to no predicted samples. Use `zero_division` parameter to control this behavior.\n",
            "  _warn_prf(average, modifier, msg_start, len(result))\n"
          ]
        },
        {
          "output_type": "stream",
          "name": "stdout",
          "text": [
            "0.0\n"
          ]
        },
        {
          "output_type": "stream",
          "name": "stderr",
          "text": [
            "/usr/local/lib/python3.7/dist-packages/ipykernel_launcher.py:29: DataConversionWarning: A column-vector y was passed when a 1d array was expected. Please change the shape of y to (n_samples,), for example using ravel().\n"
          ]
        },
        {
          "output_type": "stream",
          "name": "stdout",
          "text": [
            "0.5566037735849056\n"
          ]
        },
        {
          "output_type": "stream",
          "name": "stderr",
          "text": [
            "/usr/local/lib/python3.7/dist-packages/ipykernel_launcher.py:29: DataConversionWarning: A column-vector y was passed when a 1d array was expected. Please change the shape of y to (n_samples,), for example using ravel().\n",
            "/usr/local/lib/python3.7/dist-packages/sklearn/metrics/_classification.py:1318: UndefinedMetricWarning: Precision is ill-defined and being set to 0.0 due to no predicted samples. Use `zero_division` parameter to control this behavior.\n",
            "  _warn_prf(average, modifier, msg_start, len(result))\n"
          ]
        },
        {
          "output_type": "stream",
          "name": "stdout",
          "text": [
            "0.0\n"
          ]
        },
        {
          "output_type": "stream",
          "name": "stderr",
          "text": [
            "/usr/local/lib/python3.7/dist-packages/ipykernel_launcher.py:29: DataConversionWarning: A column-vector y was passed when a 1d array was expected. Please change the shape of y to (n_samples,), for example using ravel().\n"
          ]
        },
        {
          "output_type": "stream",
          "name": "stdout",
          "text": [
            "0.6831683168316832\n"
          ]
        },
        {
          "output_type": "stream",
          "name": "stderr",
          "text": [
            "/usr/local/lib/python3.7/dist-packages/ipykernel_launcher.py:29: DataConversionWarning: A column-vector y was passed when a 1d array was expected. Please change the shape of y to (n_samples,), for example using ravel().\n"
          ]
        },
        {
          "output_type": "stream",
          "name": "stdout",
          "text": [
            "0.625\n"
          ]
        },
        {
          "output_type": "stream",
          "name": "stderr",
          "text": [
            "/usr/local/lib/python3.7/dist-packages/ipykernel_launcher.py:29: DataConversionWarning: A column-vector y was passed when a 1d array was expected. Please change the shape of y to (n_samples,), for example using ravel().\n",
            "/usr/local/lib/python3.7/dist-packages/sklearn/metrics/_classification.py:1318: UndefinedMetricWarning: Precision is ill-defined and being set to 0.0 due to no predicted samples. Use `zero_division` parameter to control this behavior.\n",
            "  _warn_prf(average, modifier, msg_start, len(result))\n"
          ]
        },
        {
          "output_type": "stream",
          "name": "stdout",
          "text": [
            "0.0\n"
          ]
        },
        {
          "output_type": "stream",
          "name": "stderr",
          "text": [
            "/usr/local/lib/python3.7/dist-packages/ipykernel_launcher.py:29: DataConversionWarning: A column-vector y was passed when a 1d array was expected. Please change the shape of y to (n_samples,), for example using ravel().\n",
            "/usr/local/lib/python3.7/dist-packages/sklearn/metrics/_classification.py:1318: UndefinedMetricWarning: Precision is ill-defined and being set to 0.0 due to no predicted samples. Use `zero_division` parameter to control this behavior.\n",
            "  _warn_prf(average, modifier, msg_start, len(result))\n"
          ]
        },
        {
          "output_type": "stream",
          "name": "stdout",
          "text": [
            "0.0\n"
          ]
        },
        {
          "output_type": "stream",
          "name": "stderr",
          "text": [
            "/usr/local/lib/python3.7/dist-packages/ipykernel_launcher.py:29: DataConversionWarning: A column-vector y was passed when a 1d array was expected. Please change the shape of y to (n_samples,), for example using ravel().\n"
          ]
        },
        {
          "output_type": "stream",
          "name": "stdout",
          "text": [
            "0.543859649122807\n"
          ]
        },
        {
          "output_type": "stream",
          "name": "stderr",
          "text": [
            "/usr/local/lib/python3.7/dist-packages/ipykernel_launcher.py:29: DataConversionWarning: A column-vector y was passed when a 1d array was expected. Please change the shape of y to (n_samples,), for example using ravel().\n"
          ]
        },
        {
          "output_type": "stream",
          "name": "stdout",
          "text": [
            "0.5578947368421052\n"
          ]
        },
        {
          "output_type": "stream",
          "name": "stderr",
          "text": [
            "/usr/local/lib/python3.7/dist-packages/ipykernel_launcher.py:29: DataConversionWarning: A column-vector y was passed when a 1d array was expected. Please change the shape of y to (n_samples,), for example using ravel().\n",
            "/usr/local/lib/python3.7/dist-packages/sklearn/metrics/_classification.py:1318: UndefinedMetricWarning: Precision is ill-defined and being set to 0.0 due to no predicted samples. Use `zero_division` parameter to control this behavior.\n",
            "  _warn_prf(average, modifier, msg_start, len(result))\n"
          ]
        },
        {
          "output_type": "stream",
          "name": "stdout",
          "text": [
            "0.0\n"
          ]
        },
        {
          "output_type": "stream",
          "name": "stderr",
          "text": [
            "/usr/local/lib/python3.7/dist-packages/ipykernel_launcher.py:29: DataConversionWarning: A column-vector y was passed when a 1d array was expected. Please change the shape of y to (n_samples,), for example using ravel().\n"
          ]
        },
        {
          "output_type": "stream",
          "name": "stdout",
          "text": [
            "0.6041666666666666\n"
          ]
        },
        {
          "output_type": "stream",
          "name": "stderr",
          "text": [
            "/usr/local/lib/python3.7/dist-packages/ipykernel_launcher.py:29: DataConversionWarning: A column-vector y was passed when a 1d array was expected. Please change the shape of y to (n_samples,), for example using ravel().\n"
          ]
        },
        {
          "output_type": "stream",
          "name": "stdout",
          "text": [
            "0.5657894736842105\n"
          ]
        },
        {
          "output_type": "stream",
          "name": "stderr",
          "text": [
            "/usr/local/lib/python3.7/dist-packages/ipykernel_launcher.py:29: DataConversionWarning: A column-vector y was passed when a 1d array was expected. Please change the shape of y to (n_samples,), for example using ravel().\n"
          ]
        },
        {
          "output_type": "stream",
          "name": "stdout",
          "text": [
            "0.5061728395061729\n"
          ]
        },
        {
          "output_type": "stream",
          "name": "stderr",
          "text": [
            "/usr/local/lib/python3.7/dist-packages/ipykernel_launcher.py:29: DataConversionWarning: A column-vector y was passed when a 1d array was expected. Please change the shape of y to (n_samples,), for example using ravel().\n"
          ]
        },
        {
          "output_type": "stream",
          "name": "stdout",
          "text": [
            "0.5909090909090909\n"
          ]
        },
        {
          "output_type": "stream",
          "name": "stderr",
          "text": [
            "/usr/local/lib/python3.7/dist-packages/ipykernel_launcher.py:29: DataConversionWarning: A column-vector y was passed when a 1d array was expected. Please change the shape of y to (n_samples,), for example using ravel().\n"
          ]
        },
        {
          "output_type": "stream",
          "name": "stdout",
          "text": [
            "0.42857142857142855\n"
          ]
        },
        {
          "output_type": "stream",
          "name": "stderr",
          "text": [
            "/usr/local/lib/python3.7/dist-packages/ipykernel_launcher.py:29: DataConversionWarning: A column-vector y was passed when a 1d array was expected. Please change the shape of y to (n_samples,), for example using ravel().\n",
            "/usr/local/lib/python3.7/dist-packages/sklearn/metrics/_classification.py:1318: UndefinedMetricWarning: Precision is ill-defined and being set to 0.0 due to no predicted samples. Use `zero_division` parameter to control this behavior.\n",
            "  _warn_prf(average, modifier, msg_start, len(result))\n"
          ]
        },
        {
          "output_type": "stream",
          "name": "stdout",
          "text": [
            "0.0\n"
          ]
        },
        {
          "output_type": "stream",
          "name": "stderr",
          "text": [
            "/usr/local/lib/python3.7/dist-packages/ipykernel_launcher.py:29: DataConversionWarning: A column-vector y was passed when a 1d array was expected. Please change the shape of y to (n_samples,), for example using ravel().\n",
            "/usr/local/lib/python3.7/dist-packages/sklearn/metrics/_classification.py:1318: UndefinedMetricWarning: Precision is ill-defined and being set to 0.0 due to no predicted samples. Use `zero_division` parameter to control this behavior.\n",
            "  _warn_prf(average, modifier, msg_start, len(result))\n"
          ]
        },
        {
          "output_type": "stream",
          "name": "stdout",
          "text": [
            "0.0\n"
          ]
        },
        {
          "output_type": "stream",
          "name": "stderr",
          "text": [
            "/usr/local/lib/python3.7/dist-packages/ipykernel_launcher.py:29: DataConversionWarning: A column-vector y was passed when a 1d array was expected. Please change the shape of y to (n_samples,), for example using ravel().\n"
          ]
        },
        {
          "output_type": "stream",
          "name": "stdout",
          "text": [
            "0.5757575757575758\n"
          ]
        },
        {
          "output_type": "stream",
          "name": "stderr",
          "text": [
            "/usr/local/lib/python3.7/dist-packages/ipykernel_launcher.py:29: DataConversionWarning: A column-vector y was passed when a 1d array was expected. Please change the shape of y to (n_samples,), for example using ravel().\n"
          ]
        },
        {
          "output_type": "stream",
          "name": "stdout",
          "text": [
            "0.5255474452554745\n"
          ]
        },
        {
          "output_type": "stream",
          "name": "stderr",
          "text": [
            "/usr/local/lib/python3.7/dist-packages/ipykernel_launcher.py:29: DataConversionWarning: A column-vector y was passed when a 1d array was expected. Please change the shape of y to (n_samples,), for example using ravel().\n"
          ]
        },
        {
          "output_type": "stream",
          "name": "stdout",
          "text": [
            "0.46875\n"
          ]
        },
        {
          "output_type": "stream",
          "name": "stderr",
          "text": [
            "/usr/local/lib/python3.7/dist-packages/ipykernel_launcher.py:29: DataConversionWarning: A column-vector y was passed when a 1d array was expected. Please change the shape of y to (n_samples,), for example using ravel().\n"
          ]
        },
        {
          "output_type": "stream",
          "name": "stdout",
          "text": [
            "0.5144927536231884\n"
          ]
        },
        {
          "output_type": "stream",
          "name": "stderr",
          "text": [
            "/usr/local/lib/python3.7/dist-packages/ipykernel_launcher.py:29: DataConversionWarning: A column-vector y was passed when a 1d array was expected. Please change the shape of y to (n_samples,), for example using ravel().\n"
          ]
        },
        {
          "output_type": "stream",
          "name": "stdout",
          "text": [
            "0.574468085106383\n"
          ]
        },
        {
          "output_type": "stream",
          "name": "stderr",
          "text": [
            "/usr/local/lib/python3.7/dist-packages/ipykernel_launcher.py:29: DataConversionWarning: A column-vector y was passed when a 1d array was expected. Please change the shape of y to (n_samples,), for example using ravel().\n"
          ]
        },
        {
          "output_type": "stream",
          "name": "stdout",
          "text": [
            "0.59375\n"
          ]
        },
        {
          "output_type": "stream",
          "name": "stderr",
          "text": [
            "/usr/local/lib/python3.7/dist-packages/ipykernel_launcher.py:29: DataConversionWarning: A column-vector y was passed when a 1d array was expected. Please change the shape of y to (n_samples,), for example using ravel().\n",
            "/usr/local/lib/python3.7/dist-packages/sklearn/metrics/_classification.py:1318: UndefinedMetricWarning: Precision is ill-defined and being set to 0.0 due to no predicted samples. Use `zero_division` parameter to control this behavior.\n",
            "  _warn_prf(average, modifier, msg_start, len(result))\n"
          ]
        },
        {
          "output_type": "stream",
          "name": "stdout",
          "text": [
            "0.0\n"
          ]
        },
        {
          "output_type": "stream",
          "name": "stderr",
          "text": [
            "/usr/local/lib/python3.7/dist-packages/ipykernel_launcher.py:29: DataConversionWarning: A column-vector y was passed when a 1d array was expected. Please change the shape of y to (n_samples,), for example using ravel().\n"
          ]
        },
        {
          "output_type": "stream",
          "name": "stdout",
          "text": [
            "0.5446428571428571\n"
          ]
        },
        {
          "output_type": "stream",
          "name": "stderr",
          "text": [
            "/usr/local/lib/python3.7/dist-packages/ipykernel_launcher.py:29: DataConversionWarning: A column-vector y was passed when a 1d array was expected. Please change the shape of y to (n_samples,), for example using ravel().\n",
            "/usr/local/lib/python3.7/dist-packages/sklearn/metrics/_classification.py:1318: UndefinedMetricWarning: Precision is ill-defined and being set to 0.0 due to no predicted samples. Use `zero_division` parameter to control this behavior.\n",
            "  _warn_prf(average, modifier, msg_start, len(result))\n"
          ]
        },
        {
          "output_type": "stream",
          "name": "stdout",
          "text": [
            "0.0\n"
          ]
        },
        {
          "output_type": "stream",
          "name": "stderr",
          "text": [
            "/usr/local/lib/python3.7/dist-packages/ipykernel_launcher.py:29: DataConversionWarning: A column-vector y was passed when a 1d array was expected. Please change the shape of y to (n_samples,), for example using ravel().\n"
          ]
        },
        {
          "output_type": "stream",
          "name": "stdout",
          "text": [
            "0.4939759036144578\n"
          ]
        },
        {
          "output_type": "stream",
          "name": "stderr",
          "text": [
            "/usr/local/lib/python3.7/dist-packages/ipykernel_launcher.py:29: DataConversionWarning: A column-vector y was passed when a 1d array was expected. Please change the shape of y to (n_samples,), for example using ravel().\n"
          ]
        },
        {
          "output_type": "stream",
          "name": "stdout",
          "text": [
            "0.45161290322580644\n"
          ]
        },
        {
          "output_type": "stream",
          "name": "stderr",
          "text": [
            "/usr/local/lib/python3.7/dist-packages/ipykernel_launcher.py:29: DataConversionWarning: A column-vector y was passed when a 1d array was expected. Please change the shape of y to (n_samples,), for example using ravel().\n"
          ]
        },
        {
          "output_type": "stream",
          "name": "stdout",
          "text": [
            "0.44642857142857145\n"
          ]
        },
        {
          "output_type": "stream",
          "name": "stderr",
          "text": [
            "/usr/local/lib/python3.7/dist-packages/ipykernel_launcher.py:29: DataConversionWarning: A column-vector y was passed when a 1d array was expected. Please change the shape of y to (n_samples,), for example using ravel().\n"
          ]
        },
        {
          "output_type": "stream",
          "name": "stdout",
          "text": [
            "0.5608108108108109\n"
          ]
        },
        {
          "output_type": "stream",
          "name": "stderr",
          "text": [
            "/usr/local/lib/python3.7/dist-packages/ipykernel_launcher.py:29: DataConversionWarning: A column-vector y was passed when a 1d array was expected. Please change the shape of y to (n_samples,), for example using ravel().\n"
          ]
        },
        {
          "output_type": "stream",
          "name": "stdout",
          "text": [
            "0.5142857142857142\n"
          ]
        },
        {
          "output_type": "stream",
          "name": "stderr",
          "text": [
            "/usr/local/lib/python3.7/dist-packages/ipykernel_launcher.py:29: DataConversionWarning: A column-vector y was passed when a 1d array was expected. Please change the shape of y to (n_samples,), for example using ravel().\n"
          ]
        },
        {
          "output_type": "stream",
          "name": "stdout",
          "text": [
            "0.5370370370370371\n"
          ]
        },
        {
          "output_type": "stream",
          "name": "stderr",
          "text": [
            "/usr/local/lib/python3.7/dist-packages/ipykernel_launcher.py:29: DataConversionWarning: A column-vector y was passed when a 1d array was expected. Please change the shape of y to (n_samples,), for example using ravel().\n"
          ]
        },
        {
          "output_type": "stream",
          "name": "stdout",
          "text": [
            "0.5594059405940595\n"
          ]
        },
        {
          "output_type": "stream",
          "name": "stderr",
          "text": [
            "/usr/local/lib/python3.7/dist-packages/ipykernel_launcher.py:29: DataConversionWarning: A column-vector y was passed when a 1d array was expected. Please change the shape of y to (n_samples,), for example using ravel().\n",
            "/usr/local/lib/python3.7/dist-packages/sklearn/metrics/_classification.py:1318: UndefinedMetricWarning: Precision is ill-defined and being set to 0.0 due to no predicted samples. Use `zero_division` parameter to control this behavior.\n",
            "  _warn_prf(average, modifier, msg_start, len(result))\n"
          ]
        },
        {
          "output_type": "stream",
          "name": "stdout",
          "text": [
            "0.0\n"
          ]
        },
        {
          "output_type": "stream",
          "name": "stderr",
          "text": [
            "/usr/local/lib/python3.7/dist-packages/ipykernel_launcher.py:29: DataConversionWarning: A column-vector y was passed when a 1d array was expected. Please change the shape of y to (n_samples,), for example using ravel().\n"
          ]
        },
        {
          "output_type": "stream",
          "name": "stdout",
          "text": [
            "0.5764705882352941\n"
          ]
        },
        {
          "output_type": "stream",
          "name": "stderr",
          "text": [
            "/usr/local/lib/python3.7/dist-packages/ipykernel_launcher.py:29: DataConversionWarning: A column-vector y was passed when a 1d array was expected. Please change the shape of y to (n_samples,), for example using ravel().\n"
          ]
        },
        {
          "output_type": "stream",
          "name": "stdout",
          "text": [
            "0.5540540540540541\n"
          ]
        },
        {
          "output_type": "stream",
          "name": "stderr",
          "text": [
            "/usr/local/lib/python3.7/dist-packages/ipykernel_launcher.py:29: DataConversionWarning: A column-vector y was passed when a 1d array was expected. Please change the shape of y to (n_samples,), for example using ravel().\n",
            "/usr/local/lib/python3.7/dist-packages/sklearn/metrics/_classification.py:1318: UndefinedMetricWarning: Precision is ill-defined and being set to 0.0 due to no predicted samples. Use `zero_division` parameter to control this behavior.\n",
            "  _warn_prf(average, modifier, msg_start, len(result))\n"
          ]
        },
        {
          "output_type": "stream",
          "name": "stdout",
          "text": [
            "0.0\n"
          ]
        },
        {
          "output_type": "stream",
          "name": "stderr",
          "text": [
            "/usr/local/lib/python3.7/dist-packages/ipykernel_launcher.py:29: DataConversionWarning: A column-vector y was passed when a 1d array was expected. Please change the shape of y to (n_samples,), for example using ravel().\n"
          ]
        },
        {
          "output_type": "stream",
          "name": "stdout",
          "text": [
            "0.55\n"
          ]
        },
        {
          "output_type": "stream",
          "name": "stderr",
          "text": [
            "/usr/local/lib/python3.7/dist-packages/ipykernel_launcher.py:29: DataConversionWarning: A column-vector y was passed when a 1d array was expected. Please change the shape of y to (n_samples,), for example using ravel().\n"
          ]
        },
        {
          "output_type": "stream",
          "name": "stdout",
          "text": [
            "0.5622119815668203\n"
          ]
        },
        {
          "output_type": "stream",
          "name": "stderr",
          "text": [
            "/usr/local/lib/python3.7/dist-packages/ipykernel_launcher.py:29: DataConversionWarning: A column-vector y was passed when a 1d array was expected. Please change the shape of y to (n_samples,), for example using ravel().\n"
          ]
        },
        {
          "output_type": "stream",
          "name": "stdout",
          "text": [
            "0.5545454545454546\n"
          ]
        },
        {
          "output_type": "stream",
          "name": "stderr",
          "text": [
            "/usr/local/lib/python3.7/dist-packages/ipykernel_launcher.py:29: DataConversionWarning: A column-vector y was passed when a 1d array was expected. Please change the shape of y to (n_samples,), for example using ravel().\n"
          ]
        },
        {
          "output_type": "stream",
          "name": "stdout",
          "text": [
            "0.5782747603833865\n"
          ]
        },
        {
          "output_type": "stream",
          "name": "stderr",
          "text": [
            "/usr/local/lib/python3.7/dist-packages/ipykernel_launcher.py:29: DataConversionWarning: A column-vector y was passed when a 1d array was expected. Please change the shape of y to (n_samples,), for example using ravel().\n"
          ]
        },
        {
          "output_type": "stream",
          "name": "stdout",
          "text": [
            "0.6236559139784946\n"
          ]
        },
        {
          "output_type": "stream",
          "name": "stderr",
          "text": [
            "/usr/local/lib/python3.7/dist-packages/ipykernel_launcher.py:29: DataConversionWarning: A column-vector y was passed when a 1d array was expected. Please change the shape of y to (n_samples,), for example using ravel().\n",
            "/usr/local/lib/python3.7/dist-packages/sklearn/metrics/_classification.py:1318: UndefinedMetricWarning: Precision is ill-defined and being set to 0.0 due to no predicted samples. Use `zero_division` parameter to control this behavior.\n",
            "  _warn_prf(average, modifier, msg_start, len(result))\n"
          ]
        },
        {
          "output_type": "stream",
          "name": "stdout",
          "text": [
            "0.0\n"
          ]
        },
        {
          "output_type": "stream",
          "name": "stderr",
          "text": [
            "/usr/local/lib/python3.7/dist-packages/ipykernel_launcher.py:29: DataConversionWarning: A column-vector y was passed when a 1d array was expected. Please change the shape of y to (n_samples,), for example using ravel().\n",
            "/usr/local/lib/python3.7/dist-packages/sklearn/metrics/_classification.py:1318: UndefinedMetricWarning: Precision is ill-defined and being set to 0.0 due to no predicted samples. Use `zero_division` parameter to control this behavior.\n",
            "  _warn_prf(average, modifier, msg_start, len(result))\n"
          ]
        },
        {
          "output_type": "stream",
          "name": "stdout",
          "text": [
            "0.0\n"
          ]
        },
        {
          "output_type": "stream",
          "name": "stderr",
          "text": [
            "/usr/local/lib/python3.7/dist-packages/ipykernel_launcher.py:29: DataConversionWarning: A column-vector y was passed when a 1d array was expected. Please change the shape of y to (n_samples,), for example using ravel().\n",
            "/usr/local/lib/python3.7/dist-packages/sklearn/metrics/_classification.py:1318: UndefinedMetricWarning: Precision is ill-defined and being set to 0.0 due to no predicted samples. Use `zero_division` parameter to control this behavior.\n",
            "  _warn_prf(average, modifier, msg_start, len(result))\n"
          ]
        },
        {
          "output_type": "stream",
          "name": "stdout",
          "text": [
            "0.0\n"
          ]
        },
        {
          "output_type": "stream",
          "name": "stderr",
          "text": [
            "/usr/local/lib/python3.7/dist-packages/ipykernel_launcher.py:29: DataConversionWarning: A column-vector y was passed when a 1d array was expected. Please change the shape of y to (n_samples,), for example using ravel().\n"
          ]
        },
        {
          "output_type": "stream",
          "name": "stdout",
          "text": [
            "0.5657894736842105\n"
          ]
        },
        {
          "output_type": "stream",
          "name": "stderr",
          "text": [
            "/usr/local/lib/python3.7/dist-packages/ipykernel_launcher.py:29: DataConversionWarning: A column-vector y was passed when a 1d array was expected. Please change the shape of y to (n_samples,), for example using ravel().\n",
            "/usr/local/lib/python3.7/dist-packages/sklearn/metrics/_classification.py:1318: UndefinedMetricWarning: Precision is ill-defined and being set to 0.0 due to no predicted samples. Use `zero_division` parameter to control this behavior.\n",
            "  _warn_prf(average, modifier, msg_start, len(result))\n"
          ]
        },
        {
          "output_type": "stream",
          "name": "stdout",
          "text": [
            "0.0\n"
          ]
        },
        {
          "output_type": "stream",
          "name": "stderr",
          "text": [
            "/usr/local/lib/python3.7/dist-packages/ipykernel_launcher.py:29: DataConversionWarning: A column-vector y was passed when a 1d array was expected. Please change the shape of y to (n_samples,), for example using ravel().\n",
            "/usr/local/lib/python3.7/dist-packages/sklearn/metrics/_classification.py:1318: UndefinedMetricWarning: Precision is ill-defined and being set to 0.0 due to no predicted samples. Use `zero_division` parameter to control this behavior.\n",
            "  _warn_prf(average, modifier, msg_start, len(result))\n"
          ]
        },
        {
          "output_type": "stream",
          "name": "stdout",
          "text": [
            "0.0\n"
          ]
        },
        {
          "output_type": "stream",
          "name": "stderr",
          "text": [
            "/usr/local/lib/python3.7/dist-packages/ipykernel_launcher.py:29: DataConversionWarning: A column-vector y was passed when a 1d array was expected. Please change the shape of y to (n_samples,), for example using ravel().\n"
          ]
        },
        {
          "output_type": "stream",
          "name": "stdout",
          "text": [
            "0.6458333333333334\n"
          ]
        },
        {
          "output_type": "stream",
          "name": "stderr",
          "text": [
            "/usr/local/lib/python3.7/dist-packages/ipykernel_launcher.py:29: DataConversionWarning: A column-vector y was passed when a 1d array was expected. Please change the shape of y to (n_samples,), for example using ravel().\n"
          ]
        },
        {
          "output_type": "stream",
          "name": "stdout",
          "text": [
            "0.5163043478260869\n"
          ]
        },
        {
          "output_type": "stream",
          "name": "stderr",
          "text": [
            "/usr/local/lib/python3.7/dist-packages/ipykernel_launcher.py:29: DataConversionWarning: A column-vector y was passed when a 1d array was expected. Please change the shape of y to (n_samples,), for example using ravel().\n"
          ]
        },
        {
          "output_type": "stream",
          "name": "stdout",
          "text": [
            "0.5\n"
          ]
        },
        {
          "output_type": "stream",
          "name": "stderr",
          "text": [
            "/usr/local/lib/python3.7/dist-packages/ipykernel_launcher.py:29: DataConversionWarning: A column-vector y was passed when a 1d array was expected. Please change the shape of y to (n_samples,), for example using ravel().\n"
          ]
        },
        {
          "output_type": "stream",
          "name": "stdout",
          "text": [
            "0.5289855072463768\n"
          ]
        },
        {
          "output_type": "stream",
          "name": "stderr",
          "text": [
            "/usr/local/lib/python3.7/dist-packages/ipykernel_launcher.py:29: DataConversionWarning: A column-vector y was passed when a 1d array was expected. Please change the shape of y to (n_samples,), for example using ravel().\n",
            "/usr/local/lib/python3.7/dist-packages/sklearn/metrics/_classification.py:1318: UndefinedMetricWarning: Precision is ill-defined and being set to 0.0 due to no predicted samples. Use `zero_division` parameter to control this behavior.\n",
            "  _warn_prf(average, modifier, msg_start, len(result))\n"
          ]
        },
        {
          "output_type": "stream",
          "name": "stdout",
          "text": [
            "0.0\n"
          ]
        },
        {
          "output_type": "stream",
          "name": "stderr",
          "text": [
            "/usr/local/lib/python3.7/dist-packages/ipykernel_launcher.py:29: DataConversionWarning: A column-vector y was passed when a 1d array was expected. Please change the shape of y to (n_samples,), for example using ravel().\n"
          ]
        },
        {
          "output_type": "stream",
          "name": "stdout",
          "text": [
            "0.46511627906976744\n"
          ]
        },
        {
          "output_type": "stream",
          "name": "stderr",
          "text": [
            "/usr/local/lib/python3.7/dist-packages/ipykernel_launcher.py:29: DataConversionWarning: A column-vector y was passed when a 1d array was expected. Please change the shape of y to (n_samples,), for example using ravel().\n",
            "/usr/local/lib/python3.7/dist-packages/sklearn/metrics/_classification.py:1318: UndefinedMetricWarning: Precision is ill-defined and being set to 0.0 due to no predicted samples. Use `zero_division` parameter to control this behavior.\n",
            "  _warn_prf(average, modifier, msg_start, len(result))\n"
          ]
        },
        {
          "output_type": "stream",
          "name": "stdout",
          "text": [
            "0.0\n"
          ]
        },
        {
          "output_type": "stream",
          "name": "stderr",
          "text": [
            "/usr/local/lib/python3.7/dist-packages/ipykernel_launcher.py:29: DataConversionWarning: A column-vector y was passed when a 1d array was expected. Please change the shape of y to (n_samples,), for example using ravel().\n",
            "/usr/local/lib/python3.7/dist-packages/sklearn/metrics/_classification.py:1318: UndefinedMetricWarning: Precision is ill-defined and being set to 0.0 due to no predicted samples. Use `zero_division` parameter to control this behavior.\n",
            "  _warn_prf(average, modifier, msg_start, len(result))\n"
          ]
        },
        {
          "output_type": "stream",
          "name": "stdout",
          "text": [
            "0.0\n"
          ]
        },
        {
          "output_type": "stream",
          "name": "stderr",
          "text": [
            "/usr/local/lib/python3.7/dist-packages/ipykernel_launcher.py:29: DataConversionWarning: A column-vector y was passed when a 1d array was expected. Please change the shape of y to (n_samples,), for example using ravel().\n"
          ]
        },
        {
          "output_type": "stream",
          "name": "stdout",
          "text": [
            "0.49557522123893805\n"
          ]
        },
        {
          "output_type": "stream",
          "name": "stderr",
          "text": [
            "/usr/local/lib/python3.7/dist-packages/ipykernel_launcher.py:29: DataConversionWarning: A column-vector y was passed when a 1d array was expected. Please change the shape of y to (n_samples,), for example using ravel().\n"
          ]
        },
        {
          "output_type": "stream",
          "name": "stdout",
          "text": [
            "0.6\n"
          ]
        },
        {
          "output_type": "stream",
          "name": "stderr",
          "text": [
            "/usr/local/lib/python3.7/dist-packages/ipykernel_launcher.py:29: DataConversionWarning: A column-vector y was passed when a 1d array was expected. Please change the shape of y to (n_samples,), for example using ravel().\n"
          ]
        },
        {
          "output_type": "stream",
          "name": "stdout",
          "text": [
            "0.5523809523809524\n"
          ]
        },
        {
          "output_type": "stream",
          "name": "stderr",
          "text": [
            "/usr/local/lib/python3.7/dist-packages/ipykernel_launcher.py:29: DataConversionWarning: A column-vector y was passed when a 1d array was expected. Please change the shape of y to (n_samples,), for example using ravel().\n"
          ]
        },
        {
          "output_type": "stream",
          "name": "stdout",
          "text": [
            "0.49504950495049505\n"
          ]
        },
        {
          "output_type": "stream",
          "name": "stderr",
          "text": [
            "/usr/local/lib/python3.7/dist-packages/ipykernel_launcher.py:29: DataConversionWarning: A column-vector y was passed when a 1d array was expected. Please change the shape of y to (n_samples,), for example using ravel().\n"
          ]
        },
        {
          "output_type": "stream",
          "name": "stdout",
          "text": [
            "0.4\n"
          ]
        },
        {
          "output_type": "stream",
          "name": "stderr",
          "text": [
            "/usr/local/lib/python3.7/dist-packages/ipykernel_launcher.py:29: DataConversionWarning: A column-vector y was passed when a 1d array was expected. Please change the shape of y to (n_samples,), for example using ravel().\n"
          ]
        },
        {
          "output_type": "stream",
          "name": "stdout",
          "text": [
            "0.4375\n"
          ]
        },
        {
          "output_type": "stream",
          "name": "stderr",
          "text": [
            "/usr/local/lib/python3.7/dist-packages/ipykernel_launcher.py:29: DataConversionWarning: A column-vector y was passed when a 1d array was expected. Please change the shape of y to (n_samples,), for example using ravel().\n",
            "/usr/local/lib/python3.7/dist-packages/sklearn/metrics/_classification.py:1318: UndefinedMetricWarning: Precision is ill-defined and being set to 0.0 due to no predicted samples. Use `zero_division` parameter to control this behavior.\n",
            "  _warn_prf(average, modifier, msg_start, len(result))\n"
          ]
        },
        {
          "output_type": "stream",
          "name": "stdout",
          "text": [
            "0.0\n"
          ]
        },
        {
          "output_type": "stream",
          "name": "stderr",
          "text": [
            "/usr/local/lib/python3.7/dist-packages/ipykernel_launcher.py:29: DataConversionWarning: A column-vector y was passed when a 1d array was expected. Please change the shape of y to (n_samples,), for example using ravel().\n"
          ]
        },
        {
          "output_type": "stream",
          "name": "stdout",
          "text": [
            "0.5\n"
          ]
        },
        {
          "output_type": "stream",
          "name": "stderr",
          "text": [
            "/usr/local/lib/python3.7/dist-packages/ipykernel_launcher.py:29: DataConversionWarning: A column-vector y was passed when a 1d array was expected. Please change the shape of y to (n_samples,), for example using ravel().\n"
          ]
        },
        {
          "output_type": "stream",
          "name": "stdout",
          "text": [
            "0.5930232558139535\n"
          ]
        },
        {
          "output_type": "stream",
          "name": "stderr",
          "text": [
            "/usr/local/lib/python3.7/dist-packages/ipykernel_launcher.py:29: DataConversionWarning: A column-vector y was passed when a 1d array was expected. Please change the shape of y to (n_samples,), for example using ravel().\n"
          ]
        },
        {
          "output_type": "stream",
          "name": "stdout",
          "text": [
            "0.5773195876288659\n"
          ]
        },
        {
          "output_type": "stream",
          "name": "stderr",
          "text": [
            "/usr/local/lib/python3.7/dist-packages/ipykernel_launcher.py:29: DataConversionWarning: A column-vector y was passed when a 1d array was expected. Please change the shape of y to (n_samples,), for example using ravel().\n"
          ]
        },
        {
          "output_type": "stream",
          "name": "stdout",
          "text": [
            "0.41379310344827586\n"
          ]
        },
        {
          "output_type": "stream",
          "name": "stderr",
          "text": [
            "/usr/local/lib/python3.7/dist-packages/ipykernel_launcher.py:29: DataConversionWarning: A column-vector y was passed when a 1d array was expected. Please change the shape of y to (n_samples,), for example using ravel().\n",
            "/usr/local/lib/python3.7/dist-packages/sklearn/metrics/_classification.py:1318: UndefinedMetricWarning: Precision is ill-defined and being set to 0.0 due to no predicted samples. Use `zero_division` parameter to control this behavior.\n",
            "  _warn_prf(average, modifier, msg_start, len(result))\n"
          ]
        },
        {
          "output_type": "stream",
          "name": "stdout",
          "text": [
            "0.0\n"
          ]
        },
        {
          "output_type": "stream",
          "name": "stderr",
          "text": [
            "/usr/local/lib/python3.7/dist-packages/ipykernel_launcher.py:29: DataConversionWarning: A column-vector y was passed when a 1d array was expected. Please change the shape of y to (n_samples,), for example using ravel().\n"
          ]
        },
        {
          "output_type": "stream",
          "name": "stdout",
          "text": [
            "0.5748031496062992\n"
          ]
        },
        {
          "output_type": "stream",
          "name": "stderr",
          "text": [
            "/usr/local/lib/python3.7/dist-packages/ipykernel_launcher.py:29: DataConversionWarning: A column-vector y was passed when a 1d array was expected. Please change the shape of y to (n_samples,), for example using ravel().\n"
          ]
        },
        {
          "output_type": "stream",
          "name": "stdout",
          "text": [
            "0.5163934426229508\n"
          ]
        },
        {
          "output_type": "stream",
          "name": "stderr",
          "text": [
            "/usr/local/lib/python3.7/dist-packages/ipykernel_launcher.py:29: DataConversionWarning: A column-vector y was passed when a 1d array was expected. Please change the shape of y to (n_samples,), for example using ravel().\n"
          ]
        },
        {
          "output_type": "stream",
          "name": "stdout",
          "text": [
            "0.5411764705882353\n"
          ]
        },
        {
          "output_type": "stream",
          "name": "stderr",
          "text": [
            "/usr/local/lib/python3.7/dist-packages/ipykernel_launcher.py:29: DataConversionWarning: A column-vector y was passed when a 1d array was expected. Please change the shape of y to (n_samples,), for example using ravel().\n"
          ]
        },
        {
          "output_type": "stream",
          "name": "stdout",
          "text": [
            "0.14285714285714285\n"
          ]
        },
        {
          "output_type": "stream",
          "name": "stderr",
          "text": [
            "/usr/local/lib/python3.7/dist-packages/ipykernel_launcher.py:29: DataConversionWarning: A column-vector y was passed when a 1d array was expected. Please change the shape of y to (n_samples,), for example using ravel().\n"
          ]
        },
        {
          "output_type": "stream",
          "name": "stdout",
          "text": [
            "0.4596774193548387\n"
          ]
        },
        {
          "output_type": "stream",
          "name": "stderr",
          "text": [
            "/usr/local/lib/python3.7/dist-packages/ipykernel_launcher.py:29: DataConversionWarning: A column-vector y was passed when a 1d array was expected. Please change the shape of y to (n_samples,), for example using ravel().\n",
            "/usr/local/lib/python3.7/dist-packages/sklearn/metrics/_classification.py:1318: UndefinedMetricWarning: Precision is ill-defined and being set to 0.0 due to no predicted samples. Use `zero_division` parameter to control this behavior.\n",
            "  _warn_prf(average, modifier, msg_start, len(result))\n"
          ]
        },
        {
          "output_type": "stream",
          "name": "stdout",
          "text": [
            "0.0\n"
          ]
        },
        {
          "output_type": "stream",
          "name": "stderr",
          "text": [
            "/usr/local/lib/python3.7/dist-packages/ipykernel_launcher.py:29: DataConversionWarning: A column-vector y was passed when a 1d array was expected. Please change the shape of y to (n_samples,), for example using ravel().\n"
          ]
        },
        {
          "output_type": "stream",
          "name": "stdout",
          "text": [
            "0.43478260869565216\n"
          ]
        },
        {
          "output_type": "stream",
          "name": "stderr",
          "text": [
            "/usr/local/lib/python3.7/dist-packages/ipykernel_launcher.py:29: DataConversionWarning: A column-vector y was passed when a 1d array was expected. Please change the shape of y to (n_samples,), for example using ravel().\n"
          ]
        },
        {
          "output_type": "stream",
          "name": "stdout",
          "text": [
            "0.5208333333333334\n"
          ]
        },
        {
          "output_type": "stream",
          "name": "stderr",
          "text": [
            "/usr/local/lib/python3.7/dist-packages/ipykernel_launcher.py:29: DataConversionWarning: A column-vector y was passed when a 1d array was expected. Please change the shape of y to (n_samples,), for example using ravel().\n"
          ]
        },
        {
          "output_type": "stream",
          "name": "stdout",
          "text": [
            "0.5125\n"
          ]
        },
        {
          "output_type": "stream",
          "name": "stderr",
          "text": [
            "/usr/local/lib/python3.7/dist-packages/ipykernel_launcher.py:29: DataConversionWarning: A column-vector y was passed when a 1d array was expected. Please change the shape of y to (n_samples,), for example using ravel().\n"
          ]
        },
        {
          "output_type": "stream",
          "name": "stdout",
          "text": [
            "0.5576923076923077\n"
          ]
        },
        {
          "output_type": "stream",
          "name": "stderr",
          "text": [
            "/usr/local/lib/python3.7/dist-packages/ipykernel_launcher.py:29: DataConversionWarning: A column-vector y was passed when a 1d array was expected. Please change the shape of y to (n_samples,), for example using ravel().\n"
          ]
        },
        {
          "output_type": "stream",
          "name": "stdout",
          "text": [
            "0.4634146341463415\n"
          ]
        },
        {
          "output_type": "stream",
          "name": "stderr",
          "text": [
            "/usr/local/lib/python3.7/dist-packages/ipykernel_launcher.py:29: DataConversionWarning: A column-vector y was passed when a 1d array was expected. Please change the shape of y to (n_samples,), for example using ravel().\n",
            "/usr/local/lib/python3.7/dist-packages/sklearn/metrics/_classification.py:1318: UndefinedMetricWarning: Precision is ill-defined and being set to 0.0 due to no predicted samples. Use `zero_division` parameter to control this behavior.\n",
            "  _warn_prf(average, modifier, msg_start, len(result))\n"
          ]
        },
        {
          "output_type": "stream",
          "name": "stdout",
          "text": [
            "0.0\n"
          ]
        },
        {
          "output_type": "stream",
          "name": "stderr",
          "text": [
            "/usr/local/lib/python3.7/dist-packages/ipykernel_launcher.py:29: DataConversionWarning: A column-vector y was passed when a 1d array was expected. Please change the shape of y to (n_samples,), for example using ravel().\n"
          ]
        },
        {
          "output_type": "stream",
          "name": "stdout",
          "text": [
            "0.35714285714285715\n"
          ]
        },
        {
          "output_type": "stream",
          "name": "stderr",
          "text": [
            "/usr/local/lib/python3.7/dist-packages/ipykernel_launcher.py:29: DataConversionWarning: A column-vector y was passed when a 1d array was expected. Please change the shape of y to (n_samples,), for example using ravel().\n"
          ]
        },
        {
          "output_type": "stream",
          "name": "stdout",
          "text": [
            "0.5\n"
          ]
        },
        {
          "output_type": "stream",
          "name": "stderr",
          "text": [
            "/usr/local/lib/python3.7/dist-packages/ipykernel_launcher.py:29: DataConversionWarning: A column-vector y was passed when a 1d array was expected. Please change the shape of y to (n_samples,), for example using ravel().\n"
          ]
        },
        {
          "output_type": "stream",
          "name": "stdout",
          "text": [
            "0.48226950354609927\n"
          ]
        },
        {
          "output_type": "stream",
          "name": "stderr",
          "text": [
            "/usr/local/lib/python3.7/dist-packages/ipykernel_launcher.py:29: DataConversionWarning: A column-vector y was passed when a 1d array was expected. Please change the shape of y to (n_samples,), for example using ravel().\n"
          ]
        },
        {
          "output_type": "stream",
          "name": "stdout",
          "text": [
            "0.6285714285714286\n"
          ]
        },
        {
          "output_type": "stream",
          "name": "stderr",
          "text": [
            "/usr/local/lib/python3.7/dist-packages/ipykernel_launcher.py:29: DataConversionWarning: A column-vector y was passed when a 1d array was expected. Please change the shape of y to (n_samples,), for example using ravel().\n"
          ]
        },
        {
          "output_type": "stream",
          "name": "stdout",
          "text": [
            "0.5058823529411764\n"
          ]
        },
        {
          "output_type": "stream",
          "name": "stderr",
          "text": [
            "/usr/local/lib/python3.7/dist-packages/ipykernel_launcher.py:29: DataConversionWarning: A column-vector y was passed when a 1d array was expected. Please change the shape of y to (n_samples,), for example using ravel().\n"
          ]
        },
        {
          "output_type": "stream",
          "name": "stdout",
          "text": [
            "0.4827586206896552\n"
          ]
        },
        {
          "output_type": "stream",
          "name": "stderr",
          "text": [
            "/usr/local/lib/python3.7/dist-packages/ipykernel_launcher.py:29: DataConversionWarning: A column-vector y was passed when a 1d array was expected. Please change the shape of y to (n_samples,), for example using ravel().\n"
          ]
        },
        {
          "output_type": "stream",
          "name": "stdout",
          "text": [
            "0.5213675213675214\n"
          ]
        },
        {
          "output_type": "stream",
          "name": "stderr",
          "text": [
            "/usr/local/lib/python3.7/dist-packages/ipykernel_launcher.py:29: DataConversionWarning: A column-vector y was passed when a 1d array was expected. Please change the shape of y to (n_samples,), for example using ravel().\n"
          ]
        },
        {
          "output_type": "stream",
          "name": "stdout",
          "text": [
            "0.5669291338582677\n"
          ]
        },
        {
          "output_type": "stream",
          "name": "stderr",
          "text": [
            "/usr/local/lib/python3.7/dist-packages/ipykernel_launcher.py:29: DataConversionWarning: A column-vector y was passed when a 1d array was expected. Please change the shape of y to (n_samples,), for example using ravel().\n",
            "/usr/local/lib/python3.7/dist-packages/sklearn/metrics/_classification.py:1318: UndefinedMetricWarning: Precision is ill-defined and being set to 0.0 due to no predicted samples. Use `zero_division` parameter to control this behavior.\n",
            "  _warn_prf(average, modifier, msg_start, len(result))\n"
          ]
        },
        {
          "output_type": "stream",
          "name": "stdout",
          "text": [
            "0.0\n"
          ]
        },
        {
          "output_type": "stream",
          "name": "stderr",
          "text": [
            "/usr/local/lib/python3.7/dist-packages/ipykernel_launcher.py:29: DataConversionWarning: A column-vector y was passed when a 1d array was expected. Please change the shape of y to (n_samples,), for example using ravel().\n",
            "/usr/local/lib/python3.7/dist-packages/sklearn/metrics/_classification.py:1318: UndefinedMetricWarning: Precision is ill-defined and being set to 0.0 due to no predicted samples. Use `zero_division` parameter to control this behavior.\n",
            "  _warn_prf(average, modifier, msg_start, len(result))\n"
          ]
        },
        {
          "output_type": "stream",
          "name": "stdout",
          "text": [
            "0.0\n"
          ]
        },
        {
          "output_type": "stream",
          "name": "stderr",
          "text": [
            "/usr/local/lib/python3.7/dist-packages/ipykernel_launcher.py:29: DataConversionWarning: A column-vector y was passed when a 1d array was expected. Please change the shape of y to (n_samples,), for example using ravel().\n"
          ]
        },
        {
          "output_type": "stream",
          "name": "stdout",
          "text": [
            "0.5675675675675675\n"
          ]
        },
        {
          "output_type": "stream",
          "name": "stderr",
          "text": [
            "/usr/local/lib/python3.7/dist-packages/ipykernel_launcher.py:29: DataConversionWarning: A column-vector y was passed when a 1d array was expected. Please change the shape of y to (n_samples,), for example using ravel().\n"
          ]
        },
        {
          "output_type": "stream",
          "name": "stdout",
          "text": [
            "0.423728813559322\n"
          ]
        },
        {
          "output_type": "stream",
          "name": "stderr",
          "text": [
            "/usr/local/lib/python3.7/dist-packages/ipykernel_launcher.py:29: DataConversionWarning: A column-vector y was passed when a 1d array was expected. Please change the shape of y to (n_samples,), for example using ravel().\n"
          ]
        },
        {
          "output_type": "stream",
          "name": "stdout",
          "text": [
            "0.5140845070422535\n"
          ]
        },
        {
          "output_type": "stream",
          "name": "stderr",
          "text": [
            "/usr/local/lib/python3.7/dist-packages/ipykernel_launcher.py:29: DataConversionWarning: A column-vector y was passed when a 1d array was expected. Please change the shape of y to (n_samples,), for example using ravel().\n"
          ]
        },
        {
          "output_type": "stream",
          "name": "stdout",
          "text": [
            "0.5135135135135135\n"
          ]
        },
        {
          "output_type": "stream",
          "name": "stderr",
          "text": [
            "/usr/local/lib/python3.7/dist-packages/ipykernel_launcher.py:29: DataConversionWarning: A column-vector y was passed when a 1d array was expected. Please change the shape of y to (n_samples,), for example using ravel().\n",
            "/usr/local/lib/python3.7/dist-packages/sklearn/metrics/_classification.py:1318: UndefinedMetricWarning: Precision is ill-defined and being set to 0.0 due to no predicted samples. Use `zero_division` parameter to control this behavior.\n",
            "  _warn_prf(average, modifier, msg_start, len(result))\n"
          ]
        },
        {
          "output_type": "stream",
          "name": "stdout",
          "text": [
            "0.0\n"
          ]
        },
        {
          "output_type": "stream",
          "name": "stderr",
          "text": [
            "/usr/local/lib/python3.7/dist-packages/ipykernel_launcher.py:29: DataConversionWarning: A column-vector y was passed when a 1d array was expected. Please change the shape of y to (n_samples,), for example using ravel().\n"
          ]
        },
        {
          "output_type": "stream",
          "name": "stdout",
          "text": [
            "0.45185185185185184\n"
          ]
        },
        {
          "output_type": "stream",
          "name": "stderr",
          "text": [
            "/usr/local/lib/python3.7/dist-packages/ipykernel_launcher.py:29: DataConversionWarning: A column-vector y was passed when a 1d array was expected. Please change the shape of y to (n_samples,), for example using ravel().\n"
          ]
        },
        {
          "output_type": "stream",
          "name": "stdout",
          "text": [
            "0.49411764705882355\n"
          ]
        },
        {
          "output_type": "stream",
          "name": "stderr",
          "text": [
            "/usr/local/lib/python3.7/dist-packages/ipykernel_launcher.py:29: DataConversionWarning: A column-vector y was passed when a 1d array was expected. Please change the shape of y to (n_samples,), for example using ravel().\n",
            "/usr/local/lib/python3.7/dist-packages/sklearn/metrics/_classification.py:1318: UndefinedMetricWarning: Precision is ill-defined and being set to 0.0 due to no predicted samples. Use `zero_division` parameter to control this behavior.\n",
            "  _warn_prf(average, modifier, msg_start, len(result))\n"
          ]
        },
        {
          "output_type": "stream",
          "name": "stdout",
          "text": [
            "0.0\n"
          ]
        },
        {
          "output_type": "stream",
          "name": "stderr",
          "text": [
            "/usr/local/lib/python3.7/dist-packages/ipykernel_launcher.py:29: DataConversionWarning: A column-vector y was passed when a 1d array was expected. Please change the shape of y to (n_samples,), for example using ravel().\n"
          ]
        },
        {
          "output_type": "stream",
          "name": "stdout",
          "text": [
            "0.5724137931034483\n"
          ]
        },
        {
          "output_type": "stream",
          "name": "stderr",
          "text": [
            "/usr/local/lib/python3.7/dist-packages/ipykernel_launcher.py:29: DataConversionWarning: A column-vector y was passed when a 1d array was expected. Please change the shape of y to (n_samples,), for example using ravel().\n",
            "/usr/local/lib/python3.7/dist-packages/sklearn/metrics/_classification.py:1318: UndefinedMetricWarning: Precision is ill-defined and being set to 0.0 due to no predicted samples. Use `zero_division` parameter to control this behavior.\n",
            "  _warn_prf(average, modifier, msg_start, len(result))\n"
          ]
        },
        {
          "output_type": "stream",
          "name": "stdout",
          "text": [
            "0.0\n"
          ]
        },
        {
          "output_type": "stream",
          "name": "stderr",
          "text": [
            "/usr/local/lib/python3.7/dist-packages/ipykernel_launcher.py:29: DataConversionWarning: A column-vector y was passed when a 1d array was expected. Please change the shape of y to (n_samples,), for example using ravel().\n"
          ]
        },
        {
          "output_type": "stream",
          "name": "stdout",
          "text": [
            "0.5671641791044776\n"
          ]
        },
        {
          "output_type": "stream",
          "name": "stderr",
          "text": [
            "/usr/local/lib/python3.7/dist-packages/ipykernel_launcher.py:29: DataConversionWarning: A column-vector y was passed when a 1d array was expected. Please change the shape of y to (n_samples,), for example using ravel().\n"
          ]
        },
        {
          "output_type": "stream",
          "name": "stdout",
          "text": [
            "0.5118110236220472\n"
          ]
        },
        {
          "output_type": "stream",
          "name": "stderr",
          "text": [
            "/usr/local/lib/python3.7/dist-packages/ipykernel_launcher.py:29: DataConversionWarning: A column-vector y was passed when a 1d array was expected. Please change the shape of y to (n_samples,), for example using ravel().\n",
            "/usr/local/lib/python3.7/dist-packages/sklearn/metrics/_classification.py:1318: UndefinedMetricWarning: Precision is ill-defined and being set to 0.0 due to no predicted samples. Use `zero_division` parameter to control this behavior.\n",
            "  _warn_prf(average, modifier, msg_start, len(result))\n"
          ]
        },
        {
          "output_type": "stream",
          "name": "stdout",
          "text": [
            "0.0\n"
          ]
        },
        {
          "output_type": "stream",
          "name": "stderr",
          "text": [
            "/usr/local/lib/python3.7/dist-packages/ipykernel_launcher.py:29: DataConversionWarning: A column-vector y was passed when a 1d array was expected. Please change the shape of y to (n_samples,), for example using ravel().\n",
            "/usr/local/lib/python3.7/dist-packages/sklearn/metrics/_classification.py:1318: UndefinedMetricWarning: Precision is ill-defined and being set to 0.0 due to no predicted samples. Use `zero_division` parameter to control this behavior.\n",
            "  _warn_prf(average, modifier, msg_start, len(result))\n"
          ]
        },
        {
          "output_type": "stream",
          "name": "stdout",
          "text": [
            "0.0\n"
          ]
        },
        {
          "output_type": "stream",
          "name": "stderr",
          "text": [
            "/usr/local/lib/python3.7/dist-packages/ipykernel_launcher.py:29: DataConversionWarning: A column-vector y was passed when a 1d array was expected. Please change the shape of y to (n_samples,), for example using ravel().\n"
          ]
        },
        {
          "output_type": "stream",
          "name": "stdout",
          "text": [
            "0.5606060606060606\n"
          ]
        },
        {
          "output_type": "stream",
          "name": "stderr",
          "text": [
            "/usr/local/lib/python3.7/dist-packages/ipykernel_launcher.py:29: DataConversionWarning: A column-vector y was passed when a 1d array was expected. Please change the shape of y to (n_samples,), for example using ravel().\n"
          ]
        },
        {
          "output_type": "stream",
          "name": "stdout",
          "text": [
            "0.526984126984127\n"
          ]
        },
        {
          "output_type": "stream",
          "name": "stderr",
          "text": [
            "/usr/local/lib/python3.7/dist-packages/ipykernel_launcher.py:29: DataConversionWarning: A column-vector y was passed when a 1d array was expected. Please change the shape of y to (n_samples,), for example using ravel().\n"
          ]
        },
        {
          "output_type": "stream",
          "name": "stdout",
          "text": [
            "0.5813953488372093\n"
          ]
        },
        {
          "output_type": "stream",
          "name": "stderr",
          "text": [
            "/usr/local/lib/python3.7/dist-packages/ipykernel_launcher.py:29: DataConversionWarning: A column-vector y was passed when a 1d array was expected. Please change the shape of y to (n_samples,), for example using ravel().\n",
            "/usr/local/lib/python3.7/dist-packages/sklearn/metrics/_classification.py:1318: UndefinedMetricWarning: Precision is ill-defined and being set to 0.0 due to no predicted samples. Use `zero_division` parameter to control this behavior.\n",
            "  _warn_prf(average, modifier, msg_start, len(result))\n"
          ]
        },
        {
          "output_type": "stream",
          "name": "stdout",
          "text": [
            "0.0\n"
          ]
        },
        {
          "output_type": "stream",
          "name": "stderr",
          "text": [
            "/usr/local/lib/python3.7/dist-packages/ipykernel_launcher.py:29: DataConversionWarning: A column-vector y was passed when a 1d array was expected. Please change the shape of y to (n_samples,), for example using ravel().\n",
            "/usr/local/lib/python3.7/dist-packages/sklearn/metrics/_classification.py:1318: UndefinedMetricWarning: Precision is ill-defined and being set to 0.0 due to no predicted samples. Use `zero_division` parameter to control this behavior.\n",
            "  _warn_prf(average, modifier, msg_start, len(result))\n"
          ]
        },
        {
          "output_type": "stream",
          "name": "stdout",
          "text": [
            "0.0\n"
          ]
        },
        {
          "output_type": "stream",
          "name": "stderr",
          "text": [
            "/usr/local/lib/python3.7/dist-packages/ipykernel_launcher.py:29: DataConversionWarning: A column-vector y was passed when a 1d array was expected. Please change the shape of y to (n_samples,), for example using ravel().\n"
          ]
        },
        {
          "output_type": "stream",
          "name": "stdout",
          "text": [
            "0.4931506849315068\n"
          ]
        },
        {
          "output_type": "stream",
          "name": "stderr",
          "text": [
            "/usr/local/lib/python3.7/dist-packages/ipykernel_launcher.py:29: DataConversionWarning: A column-vector y was passed when a 1d array was expected. Please change the shape of y to (n_samples,), for example using ravel().\n",
            "/usr/local/lib/python3.7/dist-packages/sklearn/metrics/_classification.py:1318: UndefinedMetricWarning: Precision is ill-defined and being set to 0.0 due to no predicted samples. Use `zero_division` parameter to control this behavior.\n",
            "  _warn_prf(average, modifier, msg_start, len(result))\n"
          ]
        },
        {
          "output_type": "stream",
          "name": "stdout",
          "text": [
            "0.0\n"
          ]
        },
        {
          "output_type": "stream",
          "name": "stderr",
          "text": [
            "/usr/local/lib/python3.7/dist-packages/ipykernel_launcher.py:29: DataConversionWarning: A column-vector y was passed when a 1d array was expected. Please change the shape of y to (n_samples,), for example using ravel().\n",
            "/usr/local/lib/python3.7/dist-packages/sklearn/metrics/_classification.py:1318: UndefinedMetricWarning: Precision is ill-defined and being set to 0.0 due to no predicted samples. Use `zero_division` parameter to control this behavior.\n",
            "  _warn_prf(average, modifier, msg_start, len(result))\n"
          ]
        },
        {
          "output_type": "stream",
          "name": "stdout",
          "text": [
            "0.0\n"
          ]
        },
        {
          "output_type": "stream",
          "name": "stderr",
          "text": [
            "/usr/local/lib/python3.7/dist-packages/ipykernel_launcher.py:29: DataConversionWarning: A column-vector y was passed when a 1d array was expected. Please change the shape of y to (n_samples,), for example using ravel().\n",
            "/usr/local/lib/python3.7/dist-packages/sklearn/metrics/_classification.py:1318: UndefinedMetricWarning: Precision is ill-defined and being set to 0.0 due to no predicted samples. Use `zero_division` parameter to control this behavior.\n",
            "  _warn_prf(average, modifier, msg_start, len(result))\n"
          ]
        },
        {
          "output_type": "stream",
          "name": "stdout",
          "text": [
            "0.0\n"
          ]
        },
        {
          "output_type": "stream",
          "name": "stderr",
          "text": [
            "/usr/local/lib/python3.7/dist-packages/ipykernel_launcher.py:29: DataConversionWarning: A column-vector y was passed when a 1d array was expected. Please change the shape of y to (n_samples,), for example using ravel().\n"
          ]
        },
        {
          "output_type": "stream",
          "name": "stdout",
          "text": [
            "0.5544554455445545\n"
          ]
        },
        {
          "output_type": "stream",
          "name": "stderr",
          "text": [
            "/usr/local/lib/python3.7/dist-packages/ipykernel_launcher.py:29: DataConversionWarning: A column-vector y was passed when a 1d array was expected. Please change the shape of y to (n_samples,), for example using ravel().\n"
          ]
        },
        {
          "output_type": "stream",
          "name": "stdout",
          "text": [
            "0.5849056603773585\n"
          ]
        },
        {
          "output_type": "stream",
          "name": "stderr",
          "text": [
            "/usr/local/lib/python3.7/dist-packages/ipykernel_launcher.py:29: DataConversionWarning: A column-vector y was passed when a 1d array was expected. Please change the shape of y to (n_samples,), for example using ravel().\n"
          ]
        },
        {
          "output_type": "stream",
          "name": "stdout",
          "text": [
            "0.5061224489795918\n"
          ]
        },
        {
          "output_type": "stream",
          "name": "stderr",
          "text": [
            "/usr/local/lib/python3.7/dist-packages/ipykernel_launcher.py:29: DataConversionWarning: A column-vector y was passed when a 1d array was expected. Please change the shape of y to (n_samples,), for example using ravel().\n"
          ]
        },
        {
          "output_type": "stream",
          "name": "stdout",
          "text": [
            "0.4724770642201835\n"
          ]
        },
        {
          "output_type": "stream",
          "name": "stderr",
          "text": [
            "/usr/local/lib/python3.7/dist-packages/ipykernel_launcher.py:29: DataConversionWarning: A column-vector y was passed when a 1d array was expected. Please change the shape of y to (n_samples,), for example using ravel().\n"
          ]
        },
        {
          "output_type": "stream",
          "name": "stdout",
          "text": [
            "0.6296296296296297\n"
          ]
        },
        {
          "output_type": "stream",
          "name": "stderr",
          "text": [
            "/usr/local/lib/python3.7/dist-packages/ipykernel_launcher.py:29: DataConversionWarning: A column-vector y was passed when a 1d array was expected. Please change the shape of y to (n_samples,), for example using ravel().\n"
          ]
        },
        {
          "output_type": "stream",
          "name": "stdout",
          "text": [
            "0.5\n"
          ]
        },
        {
          "output_type": "stream",
          "name": "stderr",
          "text": [
            "/usr/local/lib/python3.7/dist-packages/ipykernel_launcher.py:29: DataConversionWarning: A column-vector y was passed when a 1d array was expected. Please change the shape of y to (n_samples,), for example using ravel().\n"
          ]
        },
        {
          "output_type": "stream",
          "name": "stdout",
          "text": [
            "0.5909090909090909\n"
          ]
        },
        {
          "output_type": "stream",
          "name": "stderr",
          "text": [
            "/usr/local/lib/python3.7/dist-packages/ipykernel_launcher.py:29: DataConversionWarning: A column-vector y was passed when a 1d array was expected. Please change the shape of y to (n_samples,), for example using ravel().\n"
          ]
        },
        {
          "output_type": "stream",
          "name": "stdout",
          "text": [
            "0.5094339622641509\n"
          ]
        },
        {
          "output_type": "stream",
          "name": "stderr",
          "text": [
            "/usr/local/lib/python3.7/dist-packages/ipykernel_launcher.py:29: DataConversionWarning: A column-vector y was passed when a 1d array was expected. Please change the shape of y to (n_samples,), for example using ravel().\n"
          ]
        },
        {
          "output_type": "stream",
          "name": "stdout",
          "text": [
            "0.4482758620689655\n"
          ]
        },
        {
          "output_type": "stream",
          "name": "stderr",
          "text": [
            "/usr/local/lib/python3.7/dist-packages/ipykernel_launcher.py:29: DataConversionWarning: A column-vector y was passed when a 1d array was expected. Please change the shape of y to (n_samples,), for example using ravel().\n",
            "/usr/local/lib/python3.7/dist-packages/sklearn/metrics/_classification.py:1318: UndefinedMetricWarning: Precision is ill-defined and being set to 0.0 due to no predicted samples. Use `zero_division` parameter to control this behavior.\n",
            "  _warn_prf(average, modifier, msg_start, len(result))\n"
          ]
        },
        {
          "output_type": "stream",
          "name": "stdout",
          "text": [
            "0.0\n"
          ]
        },
        {
          "output_type": "stream",
          "name": "stderr",
          "text": [
            "/usr/local/lib/python3.7/dist-packages/ipykernel_launcher.py:29: DataConversionWarning: A column-vector y was passed when a 1d array was expected. Please change the shape of y to (n_samples,), for example using ravel().\n"
          ]
        },
        {
          "output_type": "stream",
          "name": "stdout",
          "text": [
            "0.48704663212435234\n"
          ]
        },
        {
          "output_type": "stream",
          "name": "stderr",
          "text": [
            "/usr/local/lib/python3.7/dist-packages/ipykernel_launcher.py:29: DataConversionWarning: A column-vector y was passed when a 1d array was expected. Please change the shape of y to (n_samples,), for example using ravel().\n",
            "/usr/local/lib/python3.7/dist-packages/sklearn/metrics/_classification.py:1318: UndefinedMetricWarning: Precision is ill-defined and being set to 0.0 due to no predicted samples. Use `zero_division` parameter to control this behavior.\n",
            "  _warn_prf(average, modifier, msg_start, len(result))\n"
          ]
        },
        {
          "output_type": "stream",
          "name": "stdout",
          "text": [
            "0.0\n"
          ]
        },
        {
          "output_type": "stream",
          "name": "stderr",
          "text": [
            "/usr/local/lib/python3.7/dist-packages/ipykernel_launcher.py:29: DataConversionWarning: A column-vector y was passed when a 1d array was expected. Please change the shape of y to (n_samples,), for example using ravel().\n"
          ]
        },
        {
          "output_type": "stream",
          "name": "stdout",
          "text": [
            "0.5353535353535354\n"
          ]
        },
        {
          "output_type": "stream",
          "name": "stderr",
          "text": [
            "/usr/local/lib/python3.7/dist-packages/ipykernel_launcher.py:29: DataConversionWarning: A column-vector y was passed when a 1d array was expected. Please change the shape of y to (n_samples,), for example using ravel().\n"
          ]
        },
        {
          "output_type": "stream",
          "name": "stdout",
          "text": [
            "0.375\n"
          ]
        },
        {
          "output_type": "stream",
          "name": "stderr",
          "text": [
            "/usr/local/lib/python3.7/dist-packages/ipykernel_launcher.py:29: DataConversionWarning: A column-vector y was passed when a 1d array was expected. Please change the shape of y to (n_samples,), for example using ravel().\n"
          ]
        },
        {
          "output_type": "stream",
          "name": "stdout",
          "text": [
            "0.5544554455445545\n"
          ]
        },
        {
          "output_type": "stream",
          "name": "stderr",
          "text": [
            "/usr/local/lib/python3.7/dist-packages/ipykernel_launcher.py:29: DataConversionWarning: A column-vector y was passed when a 1d array was expected. Please change the shape of y to (n_samples,), for example using ravel().\n"
          ]
        },
        {
          "output_type": "stream",
          "name": "stdout",
          "text": [
            "0.4074074074074074\n"
          ]
        },
        {
          "output_type": "stream",
          "name": "stderr",
          "text": [
            "/usr/local/lib/python3.7/dist-packages/ipykernel_launcher.py:29: DataConversionWarning: A column-vector y was passed when a 1d array was expected. Please change the shape of y to (n_samples,), for example using ravel().\n"
          ]
        },
        {
          "output_type": "stream",
          "name": "stdout",
          "text": [
            "0.5145631067961165\n"
          ]
        },
        {
          "output_type": "stream",
          "name": "stderr",
          "text": [
            "/usr/local/lib/python3.7/dist-packages/ipykernel_launcher.py:29: DataConversionWarning: A column-vector y was passed when a 1d array was expected. Please change the shape of y to (n_samples,), for example using ravel().\n"
          ]
        },
        {
          "output_type": "stream",
          "name": "stdout",
          "text": [
            "0.42857142857142855\n"
          ]
        },
        {
          "output_type": "stream",
          "name": "stderr",
          "text": [
            "/usr/local/lib/python3.7/dist-packages/ipykernel_launcher.py:29: DataConversionWarning: A column-vector y was passed when a 1d array was expected. Please change the shape of y to (n_samples,), for example using ravel().\n"
          ]
        },
        {
          "output_type": "stream",
          "name": "stdout",
          "text": [
            "0.5666666666666667\n"
          ]
        },
        {
          "output_type": "stream",
          "name": "stderr",
          "text": [
            "/usr/local/lib/python3.7/dist-packages/ipykernel_launcher.py:29: DataConversionWarning: A column-vector y was passed when a 1d array was expected. Please change the shape of y to (n_samples,), for example using ravel().\n"
          ]
        },
        {
          "output_type": "stream",
          "name": "stdout",
          "text": [
            "0.5\n"
          ]
        },
        {
          "output_type": "stream",
          "name": "stderr",
          "text": [
            "/usr/local/lib/python3.7/dist-packages/ipykernel_launcher.py:29: DataConversionWarning: A column-vector y was passed when a 1d array was expected. Please change the shape of y to (n_samples,), for example using ravel().\n"
          ]
        },
        {
          "output_type": "stream",
          "name": "stdout",
          "text": [
            "0.5632911392405063\n"
          ]
        },
        {
          "output_type": "stream",
          "name": "stderr",
          "text": [
            "/usr/local/lib/python3.7/dist-packages/ipykernel_launcher.py:29: DataConversionWarning: A column-vector y was passed when a 1d array was expected. Please change the shape of y to (n_samples,), for example using ravel().\n",
            "/usr/local/lib/python3.7/dist-packages/sklearn/metrics/_classification.py:1318: UndefinedMetricWarning: Precision is ill-defined and being set to 0.0 due to no predicted samples. Use `zero_division` parameter to control this behavior.\n",
            "  _warn_prf(average, modifier, msg_start, len(result))\n"
          ]
        },
        {
          "output_type": "stream",
          "name": "stdout",
          "text": [
            "0.0\n"
          ]
        },
        {
          "output_type": "stream",
          "name": "stderr",
          "text": [
            "/usr/local/lib/python3.7/dist-packages/ipykernel_launcher.py:29: DataConversionWarning: A column-vector y was passed when a 1d array was expected. Please change the shape of y to (n_samples,), for example using ravel().\n"
          ]
        },
        {
          "output_type": "stream",
          "name": "stdout",
          "text": [
            "0.5172413793103449\n"
          ]
        },
        {
          "output_type": "stream",
          "name": "stderr",
          "text": [
            "/usr/local/lib/python3.7/dist-packages/ipykernel_launcher.py:29: DataConversionWarning: A column-vector y was passed when a 1d array was expected. Please change the shape of y to (n_samples,), for example using ravel().\n"
          ]
        },
        {
          "output_type": "stream",
          "name": "stdout",
          "text": [
            "0.6190476190476191\n"
          ]
        },
        {
          "output_type": "stream",
          "name": "stderr",
          "text": [
            "/usr/local/lib/python3.7/dist-packages/ipykernel_launcher.py:29: DataConversionWarning: A column-vector y was passed when a 1d array was expected. Please change the shape of y to (n_samples,), for example using ravel().\n",
            "/usr/local/lib/python3.7/dist-packages/sklearn/metrics/_classification.py:1318: UndefinedMetricWarning: Precision is ill-defined and being set to 0.0 due to no predicted samples. Use `zero_division` parameter to control this behavior.\n",
            "  _warn_prf(average, modifier, msg_start, len(result))\n"
          ]
        },
        {
          "output_type": "stream",
          "name": "stdout",
          "text": [
            "0.0\n"
          ]
        },
        {
          "output_type": "stream",
          "name": "stderr",
          "text": [
            "/usr/local/lib/python3.7/dist-packages/ipykernel_launcher.py:29: DataConversionWarning: A column-vector y was passed when a 1d array was expected. Please change the shape of y to (n_samples,), for example using ravel().\n"
          ]
        },
        {
          "output_type": "stream",
          "name": "stdout",
          "text": [
            "0.535483870967742\n"
          ]
        },
        {
          "output_type": "stream",
          "name": "stderr",
          "text": [
            "/usr/local/lib/python3.7/dist-packages/ipykernel_launcher.py:29: DataConversionWarning: A column-vector y was passed when a 1d array was expected. Please change the shape of y to (n_samples,), for example using ravel().\n"
          ]
        },
        {
          "output_type": "stream",
          "name": "stdout",
          "text": [
            "0.42168674698795183\n"
          ]
        },
        {
          "output_type": "stream",
          "name": "stderr",
          "text": [
            "/usr/local/lib/python3.7/dist-packages/ipykernel_launcher.py:29: DataConversionWarning: A column-vector y was passed when a 1d array was expected. Please change the shape of y to (n_samples,), for example using ravel().\n",
            "/usr/local/lib/python3.7/dist-packages/sklearn/metrics/_classification.py:1318: UndefinedMetricWarning: Precision is ill-defined and being set to 0.0 due to no predicted samples. Use `zero_division` parameter to control this behavior.\n",
            "  _warn_prf(average, modifier, msg_start, len(result))\n"
          ]
        },
        {
          "output_type": "stream",
          "name": "stdout",
          "text": [
            "0.0\n"
          ]
        },
        {
          "output_type": "stream",
          "name": "stderr",
          "text": [
            "/usr/local/lib/python3.7/dist-packages/ipykernel_launcher.py:29: DataConversionWarning: A column-vector y was passed when a 1d array was expected. Please change the shape of y to (n_samples,), for example using ravel().\n"
          ]
        },
        {
          "output_type": "stream",
          "name": "stdout",
          "text": [
            "0.49572649572649574\n"
          ]
        },
        {
          "output_type": "stream",
          "name": "stderr",
          "text": [
            "/usr/local/lib/python3.7/dist-packages/ipykernel_launcher.py:29: DataConversionWarning: A column-vector y was passed when a 1d array was expected. Please change the shape of y to (n_samples,), for example using ravel().\n"
          ]
        },
        {
          "output_type": "stream",
          "name": "stdout",
          "text": [
            "0.5\n"
          ]
        },
        {
          "output_type": "stream",
          "name": "stderr",
          "text": [
            "/usr/local/lib/python3.7/dist-packages/ipykernel_launcher.py:29: DataConversionWarning: A column-vector y was passed when a 1d array was expected. Please change the shape of y to (n_samples,), for example using ravel().\n"
          ]
        },
        {
          "output_type": "stream",
          "name": "stdout",
          "text": [
            "0.5760869565217391\n"
          ]
        },
        {
          "output_type": "stream",
          "name": "stderr",
          "text": [
            "/usr/local/lib/python3.7/dist-packages/ipykernel_launcher.py:29: DataConversionWarning: A column-vector y was passed when a 1d array was expected. Please change the shape of y to (n_samples,), for example using ravel().\n",
            "/usr/local/lib/python3.7/dist-packages/sklearn/metrics/_classification.py:1318: UndefinedMetricWarning: Precision is ill-defined and being set to 0.0 due to no predicted samples. Use `zero_division` parameter to control this behavior.\n",
            "  _warn_prf(average, modifier, msg_start, len(result))\n"
          ]
        },
        {
          "output_type": "stream",
          "name": "stdout",
          "text": [
            "0.0\n"
          ]
        },
        {
          "output_type": "stream",
          "name": "stderr",
          "text": [
            "/usr/local/lib/python3.7/dist-packages/ipykernel_launcher.py:29: DataConversionWarning: A column-vector y was passed when a 1d array was expected. Please change the shape of y to (n_samples,), for example using ravel().\n"
          ]
        },
        {
          "output_type": "stream",
          "name": "stdout",
          "text": [
            "0.48623853211009177\n"
          ]
        },
        {
          "output_type": "stream",
          "name": "stderr",
          "text": [
            "/usr/local/lib/python3.7/dist-packages/ipykernel_launcher.py:29: DataConversionWarning: A column-vector y was passed when a 1d array was expected. Please change the shape of y to (n_samples,), for example using ravel().\n",
            "/usr/local/lib/python3.7/dist-packages/sklearn/metrics/_classification.py:1318: UndefinedMetricWarning: Precision is ill-defined and being set to 0.0 due to no predicted samples. Use `zero_division` parameter to control this behavior.\n",
            "  _warn_prf(average, modifier, msg_start, len(result))\n"
          ]
        },
        {
          "output_type": "stream",
          "name": "stdout",
          "text": [
            "0.0\n"
          ]
        },
        {
          "output_type": "stream",
          "name": "stderr",
          "text": [
            "/usr/local/lib/python3.7/dist-packages/ipykernel_launcher.py:29: DataConversionWarning: A column-vector y was passed when a 1d array was expected. Please change the shape of y to (n_samples,), for example using ravel().\n",
            "/usr/local/lib/python3.7/dist-packages/sklearn/metrics/_classification.py:1318: UndefinedMetricWarning: Precision is ill-defined and being set to 0.0 due to no predicted samples. Use `zero_division` parameter to control this behavior.\n",
            "  _warn_prf(average, modifier, msg_start, len(result))\n"
          ]
        },
        {
          "output_type": "stream",
          "name": "stdout",
          "text": [
            "0.0\n"
          ]
        },
        {
          "output_type": "stream",
          "name": "stderr",
          "text": [
            "/usr/local/lib/python3.7/dist-packages/ipykernel_launcher.py:29: DataConversionWarning: A column-vector y was passed when a 1d array was expected. Please change the shape of y to (n_samples,), for example using ravel().\n"
          ]
        },
        {
          "output_type": "stream",
          "name": "stdout",
          "text": [
            "0.5325443786982249\n"
          ]
        },
        {
          "output_type": "stream",
          "name": "stderr",
          "text": [
            "/usr/local/lib/python3.7/dist-packages/ipykernel_launcher.py:29: DataConversionWarning: A column-vector y was passed when a 1d array was expected. Please change the shape of y to (n_samples,), for example using ravel().\n",
            "/usr/local/lib/python3.7/dist-packages/sklearn/metrics/_classification.py:1318: UndefinedMetricWarning: Precision is ill-defined and being set to 0.0 due to no predicted samples. Use `zero_division` parameter to control this behavior.\n",
            "  _warn_prf(average, modifier, msg_start, len(result))\n"
          ]
        },
        {
          "output_type": "stream",
          "name": "stdout",
          "text": [
            "0.0\n"
          ]
        },
        {
          "output_type": "stream",
          "name": "stderr",
          "text": [
            "/usr/local/lib/python3.7/dist-packages/ipykernel_launcher.py:29: DataConversionWarning: A column-vector y was passed when a 1d array was expected. Please change the shape of y to (n_samples,), for example using ravel().\n",
            "/usr/local/lib/python3.7/dist-packages/sklearn/metrics/_classification.py:1318: UndefinedMetricWarning: Precision is ill-defined and being set to 0.0 due to no predicted samples. Use `zero_division` parameter to control this behavior.\n",
            "  _warn_prf(average, modifier, msg_start, len(result))\n"
          ]
        },
        {
          "output_type": "stream",
          "name": "stdout",
          "text": [
            "0.0\n"
          ]
        },
        {
          "output_type": "stream",
          "name": "stderr",
          "text": [
            "/usr/local/lib/python3.7/dist-packages/ipykernel_launcher.py:29: DataConversionWarning: A column-vector y was passed when a 1d array was expected. Please change the shape of y to (n_samples,), for example using ravel().\n"
          ]
        },
        {
          "output_type": "stream",
          "name": "stdout",
          "text": [
            "0.5555555555555556\n"
          ]
        },
        {
          "output_type": "stream",
          "name": "stderr",
          "text": [
            "/usr/local/lib/python3.7/dist-packages/ipykernel_launcher.py:29: DataConversionWarning: A column-vector y was passed when a 1d array was expected. Please change the shape of y to (n_samples,), for example using ravel().\n"
          ]
        },
        {
          "output_type": "stream",
          "name": "stdout",
          "text": [
            "0.39759036144578314\n"
          ]
        },
        {
          "output_type": "stream",
          "name": "stderr",
          "text": [
            "/usr/local/lib/python3.7/dist-packages/ipykernel_launcher.py:29: DataConversionWarning: A column-vector y was passed when a 1d array was expected. Please change the shape of y to (n_samples,), for example using ravel().\n"
          ]
        },
        {
          "output_type": "stream",
          "name": "stdout",
          "text": [
            "0.5373134328358209\n"
          ]
        },
        {
          "output_type": "stream",
          "name": "stderr",
          "text": [
            "/usr/local/lib/python3.7/dist-packages/ipykernel_launcher.py:29: DataConversionWarning: A column-vector y was passed when a 1d array was expected. Please change the shape of y to (n_samples,), for example using ravel().\n"
          ]
        },
        {
          "output_type": "stream",
          "name": "stdout",
          "text": [
            "0.4719626168224299\n"
          ]
        },
        {
          "output_type": "stream",
          "name": "stderr",
          "text": [
            "/usr/local/lib/python3.7/dist-packages/ipykernel_launcher.py:29: DataConversionWarning: A column-vector y was passed when a 1d array was expected. Please change the shape of y to (n_samples,), for example using ravel().\n"
          ]
        },
        {
          "output_type": "stream",
          "name": "stdout",
          "text": [
            "1.0\n"
          ]
        },
        {
          "output_type": "stream",
          "name": "stderr",
          "text": [
            "/usr/local/lib/python3.7/dist-packages/ipykernel_launcher.py:29: DataConversionWarning: A column-vector y was passed when a 1d array was expected. Please change the shape of y to (n_samples,), for example using ravel().\n",
            "/usr/local/lib/python3.7/dist-packages/sklearn/metrics/_classification.py:1318: UndefinedMetricWarning: Precision is ill-defined and being set to 0.0 due to no predicted samples. Use `zero_division` parameter to control this behavior.\n",
            "  _warn_prf(average, modifier, msg_start, len(result))\n"
          ]
        },
        {
          "output_type": "stream",
          "name": "stdout",
          "text": [
            "0.0\n"
          ]
        },
        {
          "output_type": "stream",
          "name": "stderr",
          "text": [
            "/usr/local/lib/python3.7/dist-packages/ipykernel_launcher.py:29: DataConversionWarning: A column-vector y was passed when a 1d array was expected. Please change the shape of y to (n_samples,), for example using ravel().\n"
          ]
        },
        {
          "output_type": "stream",
          "name": "stdout",
          "text": [
            "0.5970149253731343\n"
          ]
        },
        {
          "output_type": "stream",
          "name": "stderr",
          "text": [
            "/usr/local/lib/python3.7/dist-packages/ipykernel_launcher.py:29: DataConversionWarning: A column-vector y was passed when a 1d array was expected. Please change the shape of y to (n_samples,), for example using ravel().\n",
            "/usr/local/lib/python3.7/dist-packages/sklearn/metrics/_classification.py:1318: UndefinedMetricWarning: Precision is ill-defined and being set to 0.0 due to no predicted samples. Use `zero_division` parameter to control this behavior.\n",
            "  _warn_prf(average, modifier, msg_start, len(result))\n"
          ]
        },
        {
          "output_type": "stream",
          "name": "stdout",
          "text": [
            "0.0\n"
          ]
        },
        {
          "output_type": "stream",
          "name": "stderr",
          "text": [
            "/usr/local/lib/python3.7/dist-packages/ipykernel_launcher.py:29: DataConversionWarning: A column-vector y was passed when a 1d array was expected. Please change the shape of y to (n_samples,), for example using ravel().\n",
            "/usr/local/lib/python3.7/dist-packages/sklearn/metrics/_classification.py:1318: UndefinedMetricWarning: Precision is ill-defined and being set to 0.0 due to no predicted samples. Use `zero_division` parameter to control this behavior.\n",
            "  _warn_prf(average, modifier, msg_start, len(result))\n"
          ]
        },
        {
          "output_type": "stream",
          "name": "stdout",
          "text": [
            "0.0\n"
          ]
        },
        {
          "output_type": "stream",
          "name": "stderr",
          "text": [
            "/usr/local/lib/python3.7/dist-packages/ipykernel_launcher.py:29: DataConversionWarning: A column-vector y was passed when a 1d array was expected. Please change the shape of y to (n_samples,), for example using ravel().\n"
          ]
        },
        {
          "output_type": "stream",
          "name": "stdout",
          "text": [
            "0.5798319327731093\n"
          ]
        },
        {
          "output_type": "stream",
          "name": "stderr",
          "text": [
            "/usr/local/lib/python3.7/dist-packages/ipykernel_launcher.py:29: DataConversionWarning: A column-vector y was passed when a 1d array was expected. Please change the shape of y to (n_samples,), for example using ravel().\n",
            "/usr/local/lib/python3.7/dist-packages/sklearn/metrics/_classification.py:1318: UndefinedMetricWarning: Precision is ill-defined and being set to 0.0 due to no predicted samples. Use `zero_division` parameter to control this behavior.\n",
            "  _warn_prf(average, modifier, msg_start, len(result))\n"
          ]
        },
        {
          "output_type": "stream",
          "name": "stdout",
          "text": [
            "0.0\n"
          ]
        },
        {
          "output_type": "stream",
          "name": "stderr",
          "text": [
            "/usr/local/lib/python3.7/dist-packages/ipykernel_launcher.py:29: DataConversionWarning: A column-vector y was passed when a 1d array was expected. Please change the shape of y to (n_samples,), for example using ravel().\n"
          ]
        },
        {
          "output_type": "stream",
          "name": "stdout",
          "text": [
            "0.45751633986928103\n"
          ]
        },
        {
          "output_type": "stream",
          "name": "stderr",
          "text": [
            "/usr/local/lib/python3.7/dist-packages/ipykernel_launcher.py:29: DataConversionWarning: A column-vector y was passed when a 1d array was expected. Please change the shape of y to (n_samples,), for example using ravel().\n",
            "/usr/local/lib/python3.7/dist-packages/sklearn/metrics/_classification.py:1318: UndefinedMetricWarning: Precision is ill-defined and being set to 0.0 due to no predicted samples. Use `zero_division` parameter to control this behavior.\n",
            "  _warn_prf(average, modifier, msg_start, len(result))\n"
          ]
        },
        {
          "output_type": "stream",
          "name": "stdout",
          "text": [
            "0.0\n"
          ]
        },
        {
          "output_type": "stream",
          "name": "stderr",
          "text": [
            "/usr/local/lib/python3.7/dist-packages/ipykernel_launcher.py:29: DataConversionWarning: A column-vector y was passed when a 1d array was expected. Please change the shape of y to (n_samples,), for example using ravel().\n"
          ]
        },
        {
          "output_type": "stream",
          "name": "stdout",
          "text": [
            "0.47843137254901963\n"
          ]
        },
        {
          "output_type": "stream",
          "name": "stderr",
          "text": [
            "/usr/local/lib/python3.7/dist-packages/ipykernel_launcher.py:29: DataConversionWarning: A column-vector y was passed when a 1d array was expected. Please change the shape of y to (n_samples,), for example using ravel().\n",
            "/usr/local/lib/python3.7/dist-packages/sklearn/metrics/_classification.py:1318: UndefinedMetricWarning: Precision is ill-defined and being set to 0.0 due to no predicted samples. Use `zero_division` parameter to control this behavior.\n",
            "  _warn_prf(average, modifier, msg_start, len(result))\n"
          ]
        },
        {
          "output_type": "stream",
          "name": "stdout",
          "text": [
            "0.0\n"
          ]
        },
        {
          "output_type": "stream",
          "name": "stderr",
          "text": [
            "/usr/local/lib/python3.7/dist-packages/ipykernel_launcher.py:29: DataConversionWarning: A column-vector y was passed when a 1d array was expected. Please change the shape of y to (n_samples,), for example using ravel().\n",
            "/usr/local/lib/python3.7/dist-packages/sklearn/metrics/_classification.py:1318: UndefinedMetricWarning: Precision is ill-defined and being set to 0.0 due to no predicted samples. Use `zero_division` parameter to control this behavior.\n",
            "  _warn_prf(average, modifier, msg_start, len(result))\n"
          ]
        },
        {
          "output_type": "stream",
          "name": "stdout",
          "text": [
            "0.0\n"
          ]
        },
        {
          "output_type": "stream",
          "name": "stderr",
          "text": [
            "/usr/local/lib/python3.7/dist-packages/ipykernel_launcher.py:29: DataConversionWarning: A column-vector y was passed when a 1d array was expected. Please change the shape of y to (n_samples,), for example using ravel().\n",
            "/usr/local/lib/python3.7/dist-packages/sklearn/metrics/_classification.py:1318: UndefinedMetricWarning: Precision is ill-defined and being set to 0.0 due to no predicted samples. Use `zero_division` parameter to control this behavior.\n",
            "  _warn_prf(average, modifier, msg_start, len(result))\n"
          ]
        },
        {
          "output_type": "stream",
          "name": "stdout",
          "text": [
            "0.0\n"
          ]
        },
        {
          "output_type": "stream",
          "name": "stderr",
          "text": [
            "/usr/local/lib/python3.7/dist-packages/ipykernel_launcher.py:29: DataConversionWarning: A column-vector y was passed when a 1d array was expected. Please change the shape of y to (n_samples,), for example using ravel().\n"
          ]
        },
        {
          "output_type": "stream",
          "name": "stdout",
          "text": [
            "0.4\n"
          ]
        },
        {
          "output_type": "stream",
          "name": "stderr",
          "text": [
            "/usr/local/lib/python3.7/dist-packages/ipykernel_launcher.py:29: DataConversionWarning: A column-vector y was passed when a 1d array was expected. Please change the shape of y to (n_samples,), for example using ravel().\n"
          ]
        },
        {
          "output_type": "stream",
          "name": "stdout",
          "text": [
            "0.5833333333333334\n"
          ]
        },
        {
          "output_type": "stream",
          "name": "stderr",
          "text": [
            "/usr/local/lib/python3.7/dist-packages/ipykernel_launcher.py:29: DataConversionWarning: A column-vector y was passed when a 1d array was expected. Please change the shape of y to (n_samples,), for example using ravel().\n"
          ]
        },
        {
          "output_type": "stream",
          "name": "stdout",
          "text": [
            "0.4539877300613497\n"
          ]
        },
        {
          "output_type": "stream",
          "name": "stderr",
          "text": [
            "/usr/local/lib/python3.7/dist-packages/ipykernel_launcher.py:29: DataConversionWarning: A column-vector y was passed when a 1d array was expected. Please change the shape of y to (n_samples,), for example using ravel().\n"
          ]
        },
        {
          "output_type": "stream",
          "name": "stdout",
          "text": [
            "0.525\n"
          ]
        },
        {
          "output_type": "stream",
          "name": "stderr",
          "text": [
            "/usr/local/lib/python3.7/dist-packages/ipykernel_launcher.py:29: DataConversionWarning: A column-vector y was passed when a 1d array was expected. Please change the shape of y to (n_samples,), for example using ravel().\n"
          ]
        },
        {
          "output_type": "stream",
          "name": "stdout",
          "text": [
            "0.5125\n"
          ]
        },
        {
          "output_type": "stream",
          "name": "stderr",
          "text": [
            "/usr/local/lib/python3.7/dist-packages/ipykernel_launcher.py:29: DataConversionWarning: A column-vector y was passed when a 1d array was expected. Please change the shape of y to (n_samples,), for example using ravel().\n"
          ]
        },
        {
          "output_type": "stream",
          "name": "stdout",
          "text": [
            "0.5614035087719298\n"
          ]
        },
        {
          "output_type": "stream",
          "name": "stderr",
          "text": [
            "/usr/local/lib/python3.7/dist-packages/ipykernel_launcher.py:29: DataConversionWarning: A column-vector y was passed when a 1d array was expected. Please change the shape of y to (n_samples,), for example using ravel().\n"
          ]
        },
        {
          "output_type": "stream",
          "name": "stdout",
          "text": [
            "0.47058823529411764\n"
          ]
        },
        {
          "output_type": "stream",
          "name": "stderr",
          "text": [
            "/usr/local/lib/python3.7/dist-packages/ipykernel_launcher.py:29: DataConversionWarning: A column-vector y was passed when a 1d array was expected. Please change the shape of y to (n_samples,), for example using ravel().\n",
            "/usr/local/lib/python3.7/dist-packages/sklearn/metrics/_classification.py:1318: UndefinedMetricWarning: Precision is ill-defined and being set to 0.0 due to no predicted samples. Use `zero_division` parameter to control this behavior.\n",
            "  _warn_prf(average, modifier, msg_start, len(result))\n"
          ]
        },
        {
          "output_type": "stream",
          "name": "stdout",
          "text": [
            "0.0\n"
          ]
        },
        {
          "output_type": "stream",
          "name": "stderr",
          "text": [
            "/usr/local/lib/python3.7/dist-packages/ipykernel_launcher.py:29: DataConversionWarning: A column-vector y was passed when a 1d array was expected. Please change the shape of y to (n_samples,), for example using ravel().\n"
          ]
        },
        {
          "output_type": "stream",
          "name": "stdout",
          "text": [
            "0.47560975609756095\n"
          ]
        },
        {
          "output_type": "stream",
          "name": "stderr",
          "text": [
            "/usr/local/lib/python3.7/dist-packages/ipykernel_launcher.py:29: DataConversionWarning: A column-vector y was passed when a 1d array was expected. Please change the shape of y to (n_samples,), for example using ravel().\n"
          ]
        },
        {
          "output_type": "stream",
          "name": "stdout",
          "text": [
            "0.53125\n"
          ]
        },
        {
          "output_type": "stream",
          "name": "stderr",
          "text": [
            "/usr/local/lib/python3.7/dist-packages/ipykernel_launcher.py:29: DataConversionWarning: A column-vector y was passed when a 1d array was expected. Please change the shape of y to (n_samples,), for example using ravel().\n"
          ]
        },
        {
          "output_type": "stream",
          "name": "stdout",
          "text": [
            "0.5294117647058824\n"
          ]
        },
        {
          "output_type": "stream",
          "name": "stderr",
          "text": [
            "/usr/local/lib/python3.7/dist-packages/ipykernel_launcher.py:29: DataConversionWarning: A column-vector y was passed when a 1d array was expected. Please change the shape of y to (n_samples,), for example using ravel().\n"
          ]
        },
        {
          "output_type": "stream",
          "name": "stdout",
          "text": [
            "0.4695121951219512\n"
          ]
        },
        {
          "output_type": "stream",
          "name": "stderr",
          "text": [
            "/usr/local/lib/python3.7/dist-packages/ipykernel_launcher.py:29: DataConversionWarning: A column-vector y was passed when a 1d array was expected. Please change the shape of y to (n_samples,), for example using ravel().\n"
          ]
        },
        {
          "output_type": "stream",
          "name": "stdout",
          "text": [
            "0.43617021276595747\n"
          ]
        },
        {
          "output_type": "stream",
          "name": "stderr",
          "text": [
            "/usr/local/lib/python3.7/dist-packages/ipykernel_launcher.py:29: DataConversionWarning: A column-vector y was passed when a 1d array was expected. Please change the shape of y to (n_samples,), for example using ravel().\n"
          ]
        },
        {
          "output_type": "stream",
          "name": "stdout",
          "text": [
            "0.43902439024390244\n"
          ]
        },
        {
          "output_type": "stream",
          "name": "stderr",
          "text": [
            "/usr/local/lib/python3.7/dist-packages/ipykernel_launcher.py:29: DataConversionWarning: A column-vector y was passed when a 1d array was expected. Please change the shape of y to (n_samples,), for example using ravel().\n"
          ]
        },
        {
          "output_type": "stream",
          "name": "stdout",
          "text": [
            "0.5030674846625767\n"
          ]
        },
        {
          "output_type": "stream",
          "name": "stderr",
          "text": [
            "/usr/local/lib/python3.7/dist-packages/ipykernel_launcher.py:29: DataConversionWarning: A column-vector y was passed when a 1d array was expected. Please change the shape of y to (n_samples,), for example using ravel().\n"
          ]
        },
        {
          "output_type": "stream",
          "name": "stdout",
          "text": [
            "0.4296875\n"
          ]
        },
        {
          "output_type": "stream",
          "name": "stderr",
          "text": [
            "/usr/local/lib/python3.7/dist-packages/ipykernel_launcher.py:29: DataConversionWarning: A column-vector y was passed when a 1d array was expected. Please change the shape of y to (n_samples,), for example using ravel().\n"
          ]
        },
        {
          "output_type": "stream",
          "name": "stdout",
          "text": [
            "0.46\n"
          ]
        },
        {
          "output_type": "stream",
          "name": "stderr",
          "text": [
            "/usr/local/lib/python3.7/dist-packages/ipykernel_launcher.py:29: DataConversionWarning: A column-vector y was passed when a 1d array was expected. Please change the shape of y to (n_samples,), for example using ravel().\n"
          ]
        },
        {
          "output_type": "stream",
          "name": "stdout",
          "text": [
            "0.5846994535519126\n"
          ]
        },
        {
          "output_type": "stream",
          "name": "stderr",
          "text": [
            "/usr/local/lib/python3.7/dist-packages/ipykernel_launcher.py:29: DataConversionWarning: A column-vector y was passed when a 1d array was expected. Please change the shape of y to (n_samples,), for example using ravel().\n",
            "/usr/local/lib/python3.7/dist-packages/sklearn/metrics/_classification.py:1318: UndefinedMetricWarning: Precision is ill-defined and being set to 0.0 due to no predicted samples. Use `zero_division` parameter to control this behavior.\n",
            "  _warn_prf(average, modifier, msg_start, len(result))\n"
          ]
        },
        {
          "output_type": "stream",
          "name": "stdout",
          "text": [
            "0.0\n"
          ]
        },
        {
          "output_type": "stream",
          "name": "stderr",
          "text": [
            "/usr/local/lib/python3.7/dist-packages/ipykernel_launcher.py:29: DataConversionWarning: A column-vector y was passed when a 1d array was expected. Please change the shape of y to (n_samples,), for example using ravel().\n"
          ]
        },
        {
          "output_type": "stream",
          "name": "stdout",
          "text": [
            "0.5098039215686274\n"
          ]
        },
        {
          "output_type": "stream",
          "name": "stderr",
          "text": [
            "/usr/local/lib/python3.7/dist-packages/ipykernel_launcher.py:29: DataConversionWarning: A column-vector y was passed when a 1d array was expected. Please change the shape of y to (n_samples,), for example using ravel().\n"
          ]
        },
        {
          "output_type": "stream",
          "name": "stdout",
          "text": [
            "0.5842696629213483\n"
          ]
        },
        {
          "output_type": "stream",
          "name": "stderr",
          "text": [
            "/usr/local/lib/python3.7/dist-packages/ipykernel_launcher.py:29: DataConversionWarning: A column-vector y was passed when a 1d array was expected. Please change the shape of y to (n_samples,), for example using ravel().\n",
            "/usr/local/lib/python3.7/dist-packages/sklearn/metrics/_classification.py:1318: UndefinedMetricWarning: Precision is ill-defined and being set to 0.0 due to no predicted samples. Use `zero_division` parameter to control this behavior.\n",
            "  _warn_prf(average, modifier, msg_start, len(result))\n"
          ]
        },
        {
          "output_type": "stream",
          "name": "stdout",
          "text": [
            "0.0\n"
          ]
        },
        {
          "output_type": "stream",
          "name": "stderr",
          "text": [
            "/usr/local/lib/python3.7/dist-packages/ipykernel_launcher.py:29: DataConversionWarning: A column-vector y was passed when a 1d array was expected. Please change the shape of y to (n_samples,), for example using ravel().\n"
          ]
        },
        {
          "output_type": "stream",
          "name": "stdout",
          "text": [
            "0.6179775280898876\n"
          ]
        },
        {
          "output_type": "stream",
          "name": "stderr",
          "text": [
            "/usr/local/lib/python3.7/dist-packages/ipykernel_launcher.py:29: DataConversionWarning: A column-vector y was passed when a 1d array was expected. Please change the shape of y to (n_samples,), for example using ravel().\n"
          ]
        },
        {
          "output_type": "stream",
          "name": "stdout",
          "text": [
            "0.5121951219512195\n"
          ]
        },
        {
          "output_type": "stream",
          "name": "stderr",
          "text": [
            "/usr/local/lib/python3.7/dist-packages/ipykernel_launcher.py:29: DataConversionWarning: A column-vector y was passed when a 1d array was expected. Please change the shape of y to (n_samples,), for example using ravel().\n"
          ]
        },
        {
          "output_type": "stream",
          "name": "stdout",
          "text": [
            "0.5535714285714286\n"
          ]
        },
        {
          "output_type": "stream",
          "name": "stderr",
          "text": [
            "/usr/local/lib/python3.7/dist-packages/ipykernel_launcher.py:29: DataConversionWarning: A column-vector y was passed when a 1d array was expected. Please change the shape of y to (n_samples,), for example using ravel().\n",
            "/usr/local/lib/python3.7/dist-packages/sklearn/metrics/_classification.py:1318: UndefinedMetricWarning: Precision is ill-defined and being set to 0.0 due to no predicted samples. Use `zero_division` parameter to control this behavior.\n",
            "  _warn_prf(average, modifier, msg_start, len(result))\n"
          ]
        },
        {
          "output_type": "stream",
          "name": "stdout",
          "text": [
            "0.0\n"
          ]
        },
        {
          "output_type": "stream",
          "name": "stderr",
          "text": [
            "/usr/local/lib/python3.7/dist-packages/ipykernel_launcher.py:29: DataConversionWarning: A column-vector y was passed when a 1d array was expected. Please change the shape of y to (n_samples,), for example using ravel().\n",
            "/usr/local/lib/python3.7/dist-packages/sklearn/metrics/_classification.py:1318: UndefinedMetricWarning: Precision is ill-defined and being set to 0.0 due to no predicted samples. Use `zero_division` parameter to control this behavior.\n",
            "  _warn_prf(average, modifier, msg_start, len(result))\n"
          ]
        },
        {
          "output_type": "stream",
          "name": "stdout",
          "text": [
            "0.0\n"
          ]
        },
        {
          "output_type": "stream",
          "name": "stderr",
          "text": [
            "/usr/local/lib/python3.7/dist-packages/ipykernel_launcher.py:29: DataConversionWarning: A column-vector y was passed when a 1d array was expected. Please change the shape of y to (n_samples,), for example using ravel().\n"
          ]
        },
        {
          "output_type": "stream",
          "name": "stdout",
          "text": [
            "0.2857142857142857\n"
          ]
        },
        {
          "output_type": "stream",
          "name": "stderr",
          "text": [
            "/usr/local/lib/python3.7/dist-packages/ipykernel_launcher.py:29: DataConversionWarning: A column-vector y was passed when a 1d array was expected. Please change the shape of y to (n_samples,), for example using ravel().\n"
          ]
        },
        {
          "output_type": "stream",
          "name": "stdout",
          "text": [
            "0.5765765765765766\n"
          ]
        },
        {
          "output_type": "stream",
          "name": "stderr",
          "text": [
            "/usr/local/lib/python3.7/dist-packages/ipykernel_launcher.py:29: DataConversionWarning: A column-vector y was passed when a 1d array was expected. Please change the shape of y to (n_samples,), for example using ravel().\n"
          ]
        },
        {
          "output_type": "stream",
          "name": "stdout",
          "text": [
            "0.6105263157894737\n"
          ]
        },
        {
          "output_type": "stream",
          "name": "stderr",
          "text": [
            "/usr/local/lib/python3.7/dist-packages/ipykernel_launcher.py:29: DataConversionWarning: A column-vector y was passed when a 1d array was expected. Please change the shape of y to (n_samples,), for example using ravel().\n"
          ]
        },
        {
          "output_type": "stream",
          "name": "stdout",
          "text": [
            "0.5771428571428572\n"
          ]
        },
        {
          "output_type": "stream",
          "name": "stderr",
          "text": [
            "/usr/local/lib/python3.7/dist-packages/ipykernel_launcher.py:29: DataConversionWarning: A column-vector y was passed when a 1d array was expected. Please change the shape of y to (n_samples,), for example using ravel().\n",
            "/usr/local/lib/python3.7/dist-packages/sklearn/metrics/_classification.py:1318: UndefinedMetricWarning: Precision is ill-defined and being set to 0.0 due to no predicted samples. Use `zero_division` parameter to control this behavior.\n",
            "  _warn_prf(average, modifier, msg_start, len(result))\n"
          ]
        },
        {
          "output_type": "stream",
          "name": "stdout",
          "text": [
            "0.0\n"
          ]
        },
        {
          "output_type": "stream",
          "name": "stderr",
          "text": [
            "/usr/local/lib/python3.7/dist-packages/ipykernel_launcher.py:29: DataConversionWarning: A column-vector y was passed when a 1d array was expected. Please change the shape of y to (n_samples,), for example using ravel().\n",
            "/usr/local/lib/python3.7/dist-packages/sklearn/metrics/_classification.py:1318: UndefinedMetricWarning: Precision is ill-defined and being set to 0.0 due to no predicted samples. Use `zero_division` parameter to control this behavior.\n",
            "  _warn_prf(average, modifier, msg_start, len(result))\n"
          ]
        },
        {
          "output_type": "stream",
          "name": "stdout",
          "text": [
            "0.0\n"
          ]
        },
        {
          "output_type": "stream",
          "name": "stderr",
          "text": [
            "/usr/local/lib/python3.7/dist-packages/ipykernel_launcher.py:29: DataConversionWarning: A column-vector y was passed when a 1d array was expected. Please change the shape of y to (n_samples,), for example using ravel().\n"
          ]
        },
        {
          "output_type": "stream",
          "name": "stdout",
          "text": [
            "0.5\n"
          ]
        },
        {
          "output_type": "stream",
          "name": "stderr",
          "text": [
            "/usr/local/lib/python3.7/dist-packages/ipykernel_launcher.py:29: DataConversionWarning: A column-vector y was passed when a 1d array was expected. Please change the shape of y to (n_samples,), for example using ravel().\n",
            "/usr/local/lib/python3.7/dist-packages/sklearn/metrics/_classification.py:1318: UndefinedMetricWarning: Precision is ill-defined and being set to 0.0 due to no predicted samples. Use `zero_division` parameter to control this behavior.\n",
            "  _warn_prf(average, modifier, msg_start, len(result))\n"
          ]
        },
        {
          "output_type": "stream",
          "name": "stdout",
          "text": [
            "0.0\n"
          ]
        },
        {
          "output_type": "stream",
          "name": "stderr",
          "text": [
            "/usr/local/lib/python3.7/dist-packages/ipykernel_launcher.py:29: DataConversionWarning: A column-vector y was passed when a 1d array was expected. Please change the shape of y to (n_samples,), for example using ravel().\n"
          ]
        },
        {
          "output_type": "stream",
          "name": "stdout",
          "text": [
            "0.5662650602409639\n"
          ]
        },
        {
          "output_type": "stream",
          "name": "stderr",
          "text": [
            "/usr/local/lib/python3.7/dist-packages/ipykernel_launcher.py:29: DataConversionWarning: A column-vector y was passed when a 1d array was expected. Please change the shape of y to (n_samples,), for example using ravel().\n"
          ]
        },
        {
          "output_type": "stream",
          "name": "stdout",
          "text": [
            "0.5111111111111111\n"
          ]
        },
        {
          "output_type": "stream",
          "name": "stderr",
          "text": [
            "/usr/local/lib/python3.7/dist-packages/ipykernel_launcher.py:29: DataConversionWarning: A column-vector y was passed when a 1d array was expected. Please change the shape of y to (n_samples,), for example using ravel().\n"
          ]
        },
        {
          "output_type": "stream",
          "name": "stdout",
          "text": [
            "0.5548780487804879\n"
          ]
        },
        {
          "output_type": "stream",
          "name": "stderr",
          "text": [
            "/usr/local/lib/python3.7/dist-packages/ipykernel_launcher.py:29: DataConversionWarning: A column-vector y was passed when a 1d array was expected. Please change the shape of y to (n_samples,), for example using ravel().\n"
          ]
        },
        {
          "output_type": "stream",
          "name": "stdout",
          "text": [
            "0.4\n"
          ]
        },
        {
          "output_type": "stream",
          "name": "stderr",
          "text": [
            "/usr/local/lib/python3.7/dist-packages/ipykernel_launcher.py:29: DataConversionWarning: A column-vector y was passed when a 1d array was expected. Please change the shape of y to (n_samples,), for example using ravel().\n"
          ]
        },
        {
          "output_type": "stream",
          "name": "stdout",
          "text": [
            "0.125\n"
          ]
        },
        {
          "output_type": "stream",
          "name": "stderr",
          "text": [
            "/usr/local/lib/python3.7/dist-packages/ipykernel_launcher.py:29: DataConversionWarning: A column-vector y was passed when a 1d array was expected. Please change the shape of y to (n_samples,), for example using ravel().\n"
          ]
        },
        {
          "output_type": "stream",
          "name": "stdout",
          "text": [
            "0.6105263157894737\n"
          ]
        },
        {
          "output_type": "stream",
          "name": "stderr",
          "text": [
            "/usr/local/lib/python3.7/dist-packages/ipykernel_launcher.py:29: DataConversionWarning: A column-vector y was passed when a 1d array was expected. Please change the shape of y to (n_samples,), for example using ravel().\n",
            "/usr/local/lib/python3.7/dist-packages/sklearn/metrics/_classification.py:1318: UndefinedMetricWarning: Precision is ill-defined and being set to 0.0 due to no predicted samples. Use `zero_division` parameter to control this behavior.\n",
            "  _warn_prf(average, modifier, msg_start, len(result))\n"
          ]
        },
        {
          "output_type": "stream",
          "name": "stdout",
          "text": [
            "0.0\n"
          ]
        },
        {
          "output_type": "stream",
          "name": "stderr",
          "text": [
            "/usr/local/lib/python3.7/dist-packages/ipykernel_launcher.py:29: DataConversionWarning: A column-vector y was passed when a 1d array was expected. Please change the shape of y to (n_samples,), for example using ravel().\n"
          ]
        },
        {
          "output_type": "stream",
          "name": "stdout",
          "text": [
            "0.5106382978723404\n"
          ]
        },
        {
          "output_type": "stream",
          "name": "stderr",
          "text": [
            "/usr/local/lib/python3.7/dist-packages/ipykernel_launcher.py:29: DataConversionWarning: A column-vector y was passed when a 1d array was expected. Please change the shape of y to (n_samples,), for example using ravel().\n"
          ]
        },
        {
          "output_type": "stream",
          "name": "stdout",
          "text": [
            "0.4797979797979798\n"
          ]
        },
        {
          "output_type": "stream",
          "name": "stderr",
          "text": [
            "/usr/local/lib/python3.7/dist-packages/ipykernel_launcher.py:29: DataConversionWarning: A column-vector y was passed when a 1d array was expected. Please change the shape of y to (n_samples,), for example using ravel().\n"
          ]
        },
        {
          "output_type": "stream",
          "name": "stdout",
          "text": [
            "0.5384615384615384\n"
          ]
        },
        {
          "output_type": "stream",
          "name": "stderr",
          "text": [
            "/usr/local/lib/python3.7/dist-packages/ipykernel_launcher.py:29: DataConversionWarning: A column-vector y was passed when a 1d array was expected. Please change the shape of y to (n_samples,), for example using ravel().\n"
          ]
        },
        {
          "output_type": "stream",
          "name": "stdout",
          "text": [
            "0.5384615384615384\n"
          ]
        },
        {
          "output_type": "stream",
          "name": "stderr",
          "text": [
            "/usr/local/lib/python3.7/dist-packages/ipykernel_launcher.py:29: DataConversionWarning: A column-vector y was passed when a 1d array was expected. Please change the shape of y to (n_samples,), for example using ravel().\n",
            "/usr/local/lib/python3.7/dist-packages/sklearn/metrics/_classification.py:1318: UndefinedMetricWarning: Precision is ill-defined and being set to 0.0 due to no predicted samples. Use `zero_division` parameter to control this behavior.\n",
            "  _warn_prf(average, modifier, msg_start, len(result))\n"
          ]
        },
        {
          "output_type": "stream",
          "name": "stdout",
          "text": [
            "0.0\n"
          ]
        },
        {
          "output_type": "stream",
          "name": "stderr",
          "text": [
            "/usr/local/lib/python3.7/dist-packages/ipykernel_launcher.py:29: DataConversionWarning: A column-vector y was passed when a 1d array was expected. Please change the shape of y to (n_samples,), for example using ravel().\n"
          ]
        },
        {
          "output_type": "stream",
          "name": "stdout",
          "text": [
            "0.5333333333333333\n"
          ]
        },
        {
          "output_type": "stream",
          "name": "stderr",
          "text": [
            "/usr/local/lib/python3.7/dist-packages/ipykernel_launcher.py:29: DataConversionWarning: A column-vector y was passed when a 1d array was expected. Please change the shape of y to (n_samples,), for example using ravel().\n",
            "/usr/local/lib/python3.7/dist-packages/sklearn/metrics/_classification.py:1318: UndefinedMetricWarning: Precision is ill-defined and being set to 0.0 due to no predicted samples. Use `zero_division` parameter to control this behavior.\n",
            "  _warn_prf(average, modifier, msg_start, len(result))\n"
          ]
        },
        {
          "output_type": "stream",
          "name": "stdout",
          "text": [
            "0.0\n"
          ]
        },
        {
          "output_type": "stream",
          "name": "stderr",
          "text": [
            "/usr/local/lib/python3.7/dist-packages/ipykernel_launcher.py:29: DataConversionWarning: A column-vector y was passed when a 1d array was expected. Please change the shape of y to (n_samples,), for example using ravel().\n"
          ]
        },
        {
          "output_type": "stream",
          "name": "stdout",
          "text": [
            "0.5266272189349113\n"
          ]
        },
        {
          "output_type": "stream",
          "name": "stderr",
          "text": [
            "/usr/local/lib/python3.7/dist-packages/ipykernel_launcher.py:29: DataConversionWarning: A column-vector y was passed when a 1d array was expected. Please change the shape of y to (n_samples,), for example using ravel().\n",
            "/usr/local/lib/python3.7/dist-packages/sklearn/metrics/_classification.py:1318: UndefinedMetricWarning: Precision is ill-defined and being set to 0.0 due to no predicted samples. Use `zero_division` parameter to control this behavior.\n",
            "  _warn_prf(average, modifier, msg_start, len(result))\n"
          ]
        },
        {
          "output_type": "stream",
          "name": "stdout",
          "text": [
            "0.0\n"
          ]
        },
        {
          "output_type": "stream",
          "name": "stderr",
          "text": [
            "/usr/local/lib/python3.7/dist-packages/ipykernel_launcher.py:29: DataConversionWarning: A column-vector y was passed when a 1d array was expected. Please change the shape of y to (n_samples,), for example using ravel().\n"
          ]
        },
        {
          "output_type": "stream",
          "name": "stdout",
          "text": [
            "0.515625\n"
          ]
        },
        {
          "output_type": "stream",
          "name": "stderr",
          "text": [
            "/usr/local/lib/python3.7/dist-packages/ipykernel_launcher.py:29: DataConversionWarning: A column-vector y was passed when a 1d array was expected. Please change the shape of y to (n_samples,), for example using ravel().\n"
          ]
        },
        {
          "output_type": "stream",
          "name": "stdout",
          "text": [
            "0.5888888888888889\n"
          ]
        },
        {
          "output_type": "stream",
          "name": "stderr",
          "text": [
            "/usr/local/lib/python3.7/dist-packages/ipykernel_launcher.py:29: DataConversionWarning: A column-vector y was passed when a 1d array was expected. Please change the shape of y to (n_samples,), for example using ravel().\n",
            "/usr/local/lib/python3.7/dist-packages/sklearn/metrics/_classification.py:1318: UndefinedMetricWarning: Precision is ill-defined and being set to 0.0 due to no predicted samples. Use `zero_division` parameter to control this behavior.\n",
            "  _warn_prf(average, modifier, msg_start, len(result))\n"
          ]
        },
        {
          "output_type": "stream",
          "name": "stdout",
          "text": [
            "0.0\n"
          ]
        },
        {
          "output_type": "stream",
          "name": "stderr",
          "text": [
            "/usr/local/lib/python3.7/dist-packages/ipykernel_launcher.py:29: DataConversionWarning: A column-vector y was passed when a 1d array was expected. Please change the shape of y to (n_samples,), for example using ravel().\n"
          ]
        },
        {
          "output_type": "stream",
          "name": "stdout",
          "text": [
            "0.6363636363636364\n"
          ]
        },
        {
          "output_type": "stream",
          "name": "stderr",
          "text": [
            "/usr/local/lib/python3.7/dist-packages/ipykernel_launcher.py:29: DataConversionWarning: A column-vector y was passed when a 1d array was expected. Please change the shape of y to (n_samples,), for example using ravel().\n"
          ]
        },
        {
          "output_type": "stream",
          "name": "stdout",
          "text": [
            "0.4186046511627907\n"
          ]
        },
        {
          "output_type": "stream",
          "name": "stderr",
          "text": [
            "/usr/local/lib/python3.7/dist-packages/ipykernel_launcher.py:29: DataConversionWarning: A column-vector y was passed when a 1d array was expected. Please change the shape of y to (n_samples,), for example using ravel().\n"
          ]
        },
        {
          "output_type": "stream",
          "name": "stdout",
          "text": [
            "0.375\n"
          ]
        },
        {
          "output_type": "stream",
          "name": "stderr",
          "text": [
            "/usr/local/lib/python3.7/dist-packages/ipykernel_launcher.py:29: DataConversionWarning: A column-vector y was passed when a 1d array was expected. Please change the shape of y to (n_samples,), for example using ravel().\n"
          ]
        },
        {
          "output_type": "stream",
          "name": "stdout",
          "text": [
            "0.47863247863247865\n"
          ]
        },
        {
          "output_type": "stream",
          "name": "stderr",
          "text": [
            "/usr/local/lib/python3.7/dist-packages/ipykernel_launcher.py:29: DataConversionWarning: A column-vector y was passed when a 1d array was expected. Please change the shape of y to (n_samples,), for example using ravel().\n"
          ]
        },
        {
          "output_type": "stream",
          "name": "stdout",
          "text": [
            "0.5779816513761468\n"
          ]
        },
        {
          "output_type": "stream",
          "name": "stderr",
          "text": [
            "/usr/local/lib/python3.7/dist-packages/ipykernel_launcher.py:29: DataConversionWarning: A column-vector y was passed when a 1d array was expected. Please change the shape of y to (n_samples,), for example using ravel().\n"
          ]
        },
        {
          "output_type": "stream",
          "name": "stdout",
          "text": [
            "0.538961038961039\n"
          ]
        },
        {
          "output_type": "stream",
          "name": "stderr",
          "text": [
            "/usr/local/lib/python3.7/dist-packages/ipykernel_launcher.py:29: DataConversionWarning: A column-vector y was passed when a 1d array was expected. Please change the shape of y to (n_samples,), for example using ravel().\n"
          ]
        },
        {
          "output_type": "stream",
          "name": "stdout",
          "text": [
            "0.5397727272727273\n"
          ]
        },
        {
          "output_type": "stream",
          "name": "stderr",
          "text": [
            "/usr/local/lib/python3.7/dist-packages/ipykernel_launcher.py:29: DataConversionWarning: A column-vector y was passed when a 1d array was expected. Please change the shape of y to (n_samples,), for example using ravel().\n"
          ]
        },
        {
          "output_type": "stream",
          "name": "stdout",
          "text": [
            "0.47692307692307695\n"
          ]
        },
        {
          "output_type": "stream",
          "name": "stderr",
          "text": [
            "/usr/local/lib/python3.7/dist-packages/ipykernel_launcher.py:29: DataConversionWarning: A column-vector y was passed when a 1d array was expected. Please change the shape of y to (n_samples,), for example using ravel().\n"
          ]
        },
        {
          "output_type": "stream",
          "name": "stdout",
          "text": [
            "0.5781818181818181\n"
          ]
        },
        {
          "output_type": "stream",
          "name": "stderr",
          "text": [
            "/usr/local/lib/python3.7/dist-packages/ipykernel_launcher.py:29: DataConversionWarning: A column-vector y was passed when a 1d array was expected. Please change the shape of y to (n_samples,), for example using ravel().\n"
          ]
        },
        {
          "output_type": "stream",
          "name": "stdout",
          "text": [
            "0.5454545454545454\n"
          ]
        },
        {
          "output_type": "stream",
          "name": "stderr",
          "text": [
            "/usr/local/lib/python3.7/dist-packages/ipykernel_launcher.py:29: DataConversionWarning: A column-vector y was passed when a 1d array was expected. Please change the shape of y to (n_samples,), for example using ravel().\n",
            "/usr/local/lib/python3.7/dist-packages/sklearn/metrics/_classification.py:1318: UndefinedMetricWarning: Precision is ill-defined and being set to 0.0 due to no predicted samples. Use `zero_division` parameter to control this behavior.\n",
            "  _warn_prf(average, modifier, msg_start, len(result))\n"
          ]
        },
        {
          "output_type": "stream",
          "name": "stdout",
          "text": [
            "0.0\n"
          ]
        },
        {
          "output_type": "stream",
          "name": "stderr",
          "text": [
            "/usr/local/lib/python3.7/dist-packages/ipykernel_launcher.py:29: DataConversionWarning: A column-vector y was passed when a 1d array was expected. Please change the shape of y to (n_samples,), for example using ravel().\n"
          ]
        },
        {
          "output_type": "stream",
          "name": "stdout",
          "text": [
            "0.5727272727272728\n"
          ]
        },
        {
          "output_type": "stream",
          "name": "stderr",
          "text": [
            "/usr/local/lib/python3.7/dist-packages/ipykernel_launcher.py:29: DataConversionWarning: A column-vector y was passed when a 1d array was expected. Please change the shape of y to (n_samples,), for example using ravel().\n"
          ]
        },
        {
          "output_type": "stream",
          "name": "stdout",
          "text": [
            "0.42857142857142855\n"
          ]
        },
        {
          "output_type": "stream",
          "name": "stderr",
          "text": [
            "/usr/local/lib/python3.7/dist-packages/ipykernel_launcher.py:29: DataConversionWarning: A column-vector y was passed when a 1d array was expected. Please change the shape of y to (n_samples,), for example using ravel().\n"
          ]
        },
        {
          "output_type": "stream",
          "name": "stdout",
          "text": [
            "0.4303030303030303\n"
          ]
        },
        {
          "output_type": "stream",
          "name": "stderr",
          "text": [
            "/usr/local/lib/python3.7/dist-packages/ipykernel_launcher.py:29: DataConversionWarning: A column-vector y was passed when a 1d array was expected. Please change the shape of y to (n_samples,), for example using ravel().\n"
          ]
        },
        {
          "output_type": "stream",
          "name": "stdout",
          "text": [
            "0.5491803278688525\n"
          ]
        },
        {
          "output_type": "stream",
          "name": "stderr",
          "text": [
            "/usr/local/lib/python3.7/dist-packages/ipykernel_launcher.py:29: DataConversionWarning: A column-vector y was passed when a 1d array was expected. Please change the shape of y to (n_samples,), for example using ravel().\n"
          ]
        },
        {
          "output_type": "stream",
          "name": "stdout",
          "text": [
            "0.4673913043478261\n"
          ]
        },
        {
          "output_type": "stream",
          "name": "stderr",
          "text": [
            "/usr/local/lib/python3.7/dist-packages/ipykernel_launcher.py:29: DataConversionWarning: A column-vector y was passed when a 1d array was expected. Please change the shape of y to (n_samples,), for example using ravel().\n"
          ]
        },
        {
          "output_type": "stream",
          "name": "stdout",
          "text": [
            "0.5515151515151515\n"
          ]
        },
        {
          "output_type": "stream",
          "name": "stderr",
          "text": [
            "/usr/local/lib/python3.7/dist-packages/ipykernel_launcher.py:29: DataConversionWarning: A column-vector y was passed when a 1d array was expected. Please change the shape of y to (n_samples,), for example using ravel().\n"
          ]
        },
        {
          "output_type": "stream",
          "name": "stdout",
          "text": [
            "0.4\n"
          ]
        },
        {
          "output_type": "stream",
          "name": "stderr",
          "text": [
            "/usr/local/lib/python3.7/dist-packages/ipykernel_launcher.py:29: DataConversionWarning: A column-vector y was passed when a 1d array was expected. Please change the shape of y to (n_samples,), for example using ravel().\n"
          ]
        },
        {
          "output_type": "stream",
          "name": "stdout",
          "text": [
            "0.6062176165803109\n"
          ]
        },
        {
          "output_type": "stream",
          "name": "stderr",
          "text": [
            "/usr/local/lib/python3.7/dist-packages/ipykernel_launcher.py:29: DataConversionWarning: A column-vector y was passed when a 1d array was expected. Please change the shape of y to (n_samples,), for example using ravel().\n"
          ]
        },
        {
          "output_type": "stream",
          "name": "stdout",
          "text": [
            "0.48148148148148145\n"
          ]
        },
        {
          "output_type": "stream",
          "name": "stderr",
          "text": [
            "/usr/local/lib/python3.7/dist-packages/ipykernel_launcher.py:29: DataConversionWarning: A column-vector y was passed when a 1d array was expected. Please change the shape of y to (n_samples,), for example using ravel().\n"
          ]
        },
        {
          "output_type": "stream",
          "name": "stdout",
          "text": [
            "0.6565656565656566\n"
          ]
        },
        {
          "output_type": "stream",
          "name": "stderr",
          "text": [
            "/usr/local/lib/python3.7/dist-packages/ipykernel_launcher.py:29: DataConversionWarning: A column-vector y was passed when a 1d array was expected. Please change the shape of y to (n_samples,), for example using ravel().\n"
          ]
        },
        {
          "output_type": "stream",
          "name": "stdout",
          "text": [
            "0.4838709677419355\n"
          ]
        },
        {
          "output_type": "stream",
          "name": "stderr",
          "text": [
            "/usr/local/lib/python3.7/dist-packages/ipykernel_launcher.py:29: DataConversionWarning: A column-vector y was passed when a 1d array was expected. Please change the shape of y to (n_samples,), for example using ravel().\n"
          ]
        },
        {
          "output_type": "stream",
          "name": "stdout",
          "text": [
            "0.5072463768115942\n"
          ]
        },
        {
          "output_type": "stream",
          "name": "stderr",
          "text": [
            "/usr/local/lib/python3.7/dist-packages/ipykernel_launcher.py:29: DataConversionWarning: A column-vector y was passed when a 1d array was expected. Please change the shape of y to (n_samples,), for example using ravel().\n"
          ]
        },
        {
          "output_type": "stream",
          "name": "stdout",
          "text": [
            "0.5261437908496732\n"
          ]
        },
        {
          "output_type": "stream",
          "name": "stderr",
          "text": [
            "/usr/local/lib/python3.7/dist-packages/ipykernel_launcher.py:29: DataConversionWarning: A column-vector y was passed when a 1d array was expected. Please change the shape of y to (n_samples,), for example using ravel().\n"
          ]
        },
        {
          "output_type": "stream",
          "name": "stdout",
          "text": [
            "0.5588235294117647\n"
          ]
        },
        {
          "output_type": "stream",
          "name": "stderr",
          "text": [
            "/usr/local/lib/python3.7/dist-packages/ipykernel_launcher.py:29: DataConversionWarning: A column-vector y was passed when a 1d array was expected. Please change the shape of y to (n_samples,), for example using ravel().\n",
            "/usr/local/lib/python3.7/dist-packages/sklearn/metrics/_classification.py:1318: UndefinedMetricWarning: Precision is ill-defined and being set to 0.0 due to no predicted samples. Use `zero_division` parameter to control this behavior.\n",
            "  _warn_prf(average, modifier, msg_start, len(result))\n"
          ]
        },
        {
          "output_type": "stream",
          "name": "stdout",
          "text": [
            "0.0\n"
          ]
        },
        {
          "output_type": "stream",
          "name": "stderr",
          "text": [
            "/usr/local/lib/python3.7/dist-packages/ipykernel_launcher.py:29: DataConversionWarning: A column-vector y was passed when a 1d array was expected. Please change the shape of y to (n_samples,), for example using ravel().\n"
          ]
        },
        {
          "output_type": "stream",
          "name": "stdout",
          "text": [
            "0.48148148148148145\n"
          ]
        },
        {
          "output_type": "stream",
          "name": "stderr",
          "text": [
            "/usr/local/lib/python3.7/dist-packages/ipykernel_launcher.py:29: DataConversionWarning: A column-vector y was passed when a 1d array was expected. Please change the shape of y to (n_samples,), for example using ravel().\n",
            "/usr/local/lib/python3.7/dist-packages/sklearn/metrics/_classification.py:1318: UndefinedMetricWarning: Precision is ill-defined and being set to 0.0 due to no predicted samples. Use `zero_division` parameter to control this behavior.\n",
            "  _warn_prf(average, modifier, msg_start, len(result))\n"
          ]
        },
        {
          "output_type": "stream",
          "name": "stdout",
          "text": [
            "0.0\n"
          ]
        },
        {
          "output_type": "stream",
          "name": "stderr",
          "text": [
            "/usr/local/lib/python3.7/dist-packages/ipykernel_launcher.py:29: DataConversionWarning: A column-vector y was passed when a 1d array was expected. Please change the shape of y to (n_samples,), for example using ravel().\n"
          ]
        },
        {
          "output_type": "stream",
          "name": "stdout",
          "text": [
            "0.43902439024390244\n"
          ]
        },
        {
          "output_type": "stream",
          "name": "stderr",
          "text": [
            "/usr/local/lib/python3.7/dist-packages/ipykernel_launcher.py:29: DataConversionWarning: A column-vector y was passed when a 1d array was expected. Please change the shape of y to (n_samples,), for example using ravel().\n",
            "/usr/local/lib/python3.7/dist-packages/sklearn/metrics/_classification.py:1318: UndefinedMetricWarning: Precision is ill-defined and being set to 0.0 due to no predicted samples. Use `zero_division` parameter to control this behavior.\n",
            "  _warn_prf(average, modifier, msg_start, len(result))\n"
          ]
        },
        {
          "output_type": "stream",
          "name": "stdout",
          "text": [
            "0.0\n"
          ]
        },
        {
          "output_type": "stream",
          "name": "stderr",
          "text": [
            "/usr/local/lib/python3.7/dist-packages/ipykernel_launcher.py:29: DataConversionWarning: A column-vector y was passed when a 1d array was expected. Please change the shape of y to (n_samples,), for example using ravel().\n"
          ]
        },
        {
          "output_type": "stream",
          "name": "stdout",
          "text": [
            "0.5299145299145299\n"
          ]
        },
        {
          "output_type": "stream",
          "name": "stderr",
          "text": [
            "/usr/local/lib/python3.7/dist-packages/ipykernel_launcher.py:29: DataConversionWarning: A column-vector y was passed when a 1d array was expected. Please change the shape of y to (n_samples,), for example using ravel().\n"
          ]
        },
        {
          "output_type": "stream",
          "name": "stdout",
          "text": [
            "0.5135135135135135\n"
          ]
        },
        {
          "output_type": "stream",
          "name": "stderr",
          "text": [
            "/usr/local/lib/python3.7/dist-packages/ipykernel_launcher.py:29: DataConversionWarning: A column-vector y was passed when a 1d array was expected. Please change the shape of y to (n_samples,), for example using ravel().\n",
            "/usr/local/lib/python3.7/dist-packages/sklearn/metrics/_classification.py:1318: UndefinedMetricWarning: Precision is ill-defined and being set to 0.0 due to no predicted samples. Use `zero_division` parameter to control this behavior.\n",
            "  _warn_prf(average, modifier, msg_start, len(result))\n"
          ]
        },
        {
          "output_type": "stream",
          "name": "stdout",
          "text": [
            "0.0\n"
          ]
        },
        {
          "output_type": "stream",
          "name": "stderr",
          "text": [
            "/usr/local/lib/python3.7/dist-packages/ipykernel_launcher.py:29: DataConversionWarning: A column-vector y was passed when a 1d array was expected. Please change the shape of y to (n_samples,), for example using ravel().\n"
          ]
        },
        {
          "output_type": "stream",
          "name": "stdout",
          "text": [
            "0.5\n"
          ]
        },
        {
          "output_type": "stream",
          "name": "stderr",
          "text": [
            "/usr/local/lib/python3.7/dist-packages/ipykernel_launcher.py:29: DataConversionWarning: A column-vector y was passed when a 1d array was expected. Please change the shape of y to (n_samples,), for example using ravel().\n"
          ]
        },
        {
          "output_type": "stream",
          "name": "stdout",
          "text": [
            "0.5\n"
          ]
        },
        {
          "output_type": "stream",
          "name": "stderr",
          "text": [
            "/usr/local/lib/python3.7/dist-packages/ipykernel_launcher.py:29: DataConversionWarning: A column-vector y was passed when a 1d array was expected. Please change the shape of y to (n_samples,), for example using ravel().\n",
            "/usr/local/lib/python3.7/dist-packages/sklearn/metrics/_classification.py:1318: UndefinedMetricWarning: Precision is ill-defined and being set to 0.0 due to no predicted samples. Use `zero_division` parameter to control this behavior.\n",
            "  _warn_prf(average, modifier, msg_start, len(result))\n"
          ]
        },
        {
          "output_type": "stream",
          "name": "stdout",
          "text": [
            "0.0\n"
          ]
        },
        {
          "output_type": "stream",
          "name": "stderr",
          "text": [
            "/usr/local/lib/python3.7/dist-packages/ipykernel_launcher.py:29: DataConversionWarning: A column-vector y was passed when a 1d array was expected. Please change the shape of y to (n_samples,), for example using ravel().\n"
          ]
        },
        {
          "output_type": "stream",
          "name": "stdout",
          "text": [
            "0.5137614678899083\n"
          ]
        },
        {
          "output_type": "stream",
          "name": "stderr",
          "text": [
            "/usr/local/lib/python3.7/dist-packages/ipykernel_launcher.py:29: DataConversionWarning: A column-vector y was passed when a 1d array was expected. Please change the shape of y to (n_samples,), for example using ravel().\n"
          ]
        },
        {
          "output_type": "stream",
          "name": "stdout",
          "text": [
            "0.5855855855855856\n"
          ]
        },
        {
          "output_type": "stream",
          "name": "stderr",
          "text": [
            "/usr/local/lib/python3.7/dist-packages/ipykernel_launcher.py:29: DataConversionWarning: A column-vector y was passed when a 1d array was expected. Please change the shape of y to (n_samples,), for example using ravel().\n"
          ]
        },
        {
          "output_type": "stream",
          "name": "stdout",
          "text": [
            "0.38181818181818183\n"
          ]
        },
        {
          "output_type": "stream",
          "name": "stderr",
          "text": [
            "/usr/local/lib/python3.7/dist-packages/ipykernel_launcher.py:29: DataConversionWarning: A column-vector y was passed when a 1d array was expected. Please change the shape of y to (n_samples,), for example using ravel().\n",
            "/usr/local/lib/python3.7/dist-packages/sklearn/metrics/_classification.py:1318: UndefinedMetricWarning: Precision is ill-defined and being set to 0.0 due to no predicted samples. Use `zero_division` parameter to control this behavior.\n",
            "  _warn_prf(average, modifier, msg_start, len(result))\n"
          ]
        },
        {
          "output_type": "stream",
          "name": "stdout",
          "text": [
            "0.0\n"
          ]
        },
        {
          "output_type": "stream",
          "name": "stderr",
          "text": [
            "/usr/local/lib/python3.7/dist-packages/ipykernel_launcher.py:29: DataConversionWarning: A column-vector y was passed when a 1d array was expected. Please change the shape of y to (n_samples,), for example using ravel().\n"
          ]
        },
        {
          "output_type": "stream",
          "name": "stdout",
          "text": [
            "0.4489795918367347\n"
          ]
        },
        {
          "output_type": "stream",
          "name": "stderr",
          "text": [
            "/usr/local/lib/python3.7/dist-packages/ipykernel_launcher.py:29: DataConversionWarning: A column-vector y was passed when a 1d array was expected. Please change the shape of y to (n_samples,), for example using ravel().\n"
          ]
        },
        {
          "output_type": "stream",
          "name": "stdout",
          "text": [
            "0.3611111111111111\n"
          ]
        },
        {
          "output_type": "stream",
          "name": "stderr",
          "text": [
            "/usr/local/lib/python3.7/dist-packages/ipykernel_launcher.py:29: DataConversionWarning: A column-vector y was passed when a 1d array was expected. Please change the shape of y to (n_samples,), for example using ravel().\n"
          ]
        },
        {
          "output_type": "stream",
          "name": "stdout",
          "text": [
            "0.5163934426229508\n"
          ]
        },
        {
          "output_type": "stream",
          "name": "stderr",
          "text": [
            "/usr/local/lib/python3.7/dist-packages/ipykernel_launcher.py:29: DataConversionWarning: A column-vector y was passed when a 1d array was expected. Please change the shape of y to (n_samples,), for example using ravel().\n",
            "/usr/local/lib/python3.7/dist-packages/sklearn/metrics/_classification.py:1318: UndefinedMetricWarning: Precision is ill-defined and being set to 0.0 due to no predicted samples. Use `zero_division` parameter to control this behavior.\n",
            "  _warn_prf(average, modifier, msg_start, len(result))\n"
          ]
        },
        {
          "output_type": "stream",
          "name": "stdout",
          "text": [
            "0.0\n"
          ]
        },
        {
          "output_type": "stream",
          "name": "stderr",
          "text": [
            "/usr/local/lib/python3.7/dist-packages/ipykernel_launcher.py:29: DataConversionWarning: A column-vector y was passed when a 1d array was expected. Please change the shape of y to (n_samples,), for example using ravel().\n"
          ]
        },
        {
          "output_type": "stream",
          "name": "stdout",
          "text": [
            "0.6384615384615384\n"
          ]
        },
        {
          "output_type": "stream",
          "name": "stderr",
          "text": [
            "/usr/local/lib/python3.7/dist-packages/ipykernel_launcher.py:29: DataConversionWarning: A column-vector y was passed when a 1d array was expected. Please change the shape of y to (n_samples,), for example using ravel().\n"
          ]
        },
        {
          "output_type": "stream",
          "name": "stdout",
          "text": [
            "0.48031496062992124\n"
          ]
        }
      ]
    },
    {
      "cell_type": "code",
      "source": [
        "avg_prec = 0\n",
        "avg_over_fifty = 0\n",
        "prec_over_fifty = {}\n",
        "for ticker in wsb_stock_prediction[0]:\n",
        "  precision = wsb_stock_prediction[0][ticker]\n",
        "  print(\"Ticker: \", ticker)\n",
        "  print(\"Precision: \", precision)\n",
        "  avg_prec += precision\n",
        "  if precision > 0.5:\n",
        "    prec_over_fifty[ticker] = precision\n",
        "    avg_over_fifty += precision\n",
        "\n",
        "print(\"Average precision: \", avg_prec/len(wsb_stock_prediction[0]))\n",
        "print(\"Total number of stocks with sufficient data: \" + str(len(wsb_stock_prediction[0])))\n",
        "print(\"Stocks with too little data: \", wsb_stock_prediction[1], \"\\n total number of stocks with too little data: \" + str(len(wsb_stock_prediction[1])))\n",
        "\n",
        "print(\"---stocks predicted with over 50% precision---\")\n",
        "print(\"total number of stocks over 50%: \" + str(len(prec_over_fifty)))\n",
        "for stock in prec_over_fifty:\n",
        "  print(stock)\n",
        "  print(prec_over_fifty[stock])\n",
        "  \n",
        "print(\"Average precision for stocks with over 50% precision: \" + str(avg_over_fifty / len(prec_over_fifty)))"
      ],
      "metadata": {
        "colab": {
          "base_uri": "https://localhost:8080/"
        },
        "id": "e9STmtprgk7w",
        "outputId": "637c6ab2-e7d9-44f5-dcde-4c684ef033b6"
      },
      "execution_count": null,
      "outputs": [
        {
          "output_type": "stream",
          "name": "stdout",
          "text": [
            "Ticker:  NVAX\n",
            "Precision:  0.40963855421686746\n",
            "Ticker:  PDD\n",
            "Precision:  0.0\n",
            "Ticker:  WW\n",
            "Precision:  0.5454545454545454\n",
            "Ticker:  FOX\n",
            "Precision:  0.0\n",
            "Ticker:  ZG\n",
            "Precision:  0.525\n",
            "Ticker:  AL\n",
            "Precision:  0.43478260869565216\n",
            "Ticker:  MO\n",
            "Precision:  0.45161290322580644\n",
            "Ticker:  DARE\n",
            "Precision:  0.0\n",
            "Ticker:  OPEN\n",
            "Precision:  0.0\n",
            "Ticker:  BB\n",
            "Precision:  0.5\n",
            "Ticker:  T\n",
            "Precision:  0.5588235294117647\n",
            "Ticker:  XL\n",
            "Precision:  0.0\n",
            "Ticker:  OR\n",
            "Precision:  0.5104895104895105\n",
            "Ticker:  FSLY\n",
            "Precision:  0.4797297297297297\n",
            "Ticker:  CG\n",
            "Precision:  0.4946236559139785\n",
            "Ticker:  GEO\n",
            "Precision:  0.0\n",
            "Ticker:  BAC\n",
            "Precision:  0.501628664495114\n",
            "Ticker:  PPT\n",
            "Precision:  0.4\n",
            "Ticker:  FREE\n",
            "Precision:  0.4166666666666667\n",
            "Ticker:  JAN\n",
            "Precision:  0.2\n",
            "Ticker:  HAL\n",
            "Precision:  0.45081967213114754\n",
            "Ticker:  STZ\n",
            "Precision:  0.5412844036697247\n",
            "Ticker:  ADBE\n",
            "Precision:  0.6038961038961039\n",
            "Ticker:  ARE\n",
            "Precision:  0.5678571428571428\n",
            "Ticker:  NAK\n",
            "Precision:  0.0\n",
            "Ticker:  CB\n",
            "Precision:  0.4823529411764706\n",
            "Ticker:  BOX\n",
            "Precision:  0.5490196078431373\n",
            "Ticker:  CFA\n",
            "Precision:  0.6524822695035462\n",
            "Ticker:  MPC\n",
            "Precision:  0.5125\n",
            "Ticker:  WD\n",
            "Precision:  0.5327102803738317\n",
            "Ticker:  FCEL\n",
            "Precision:  0.0\n",
            "Ticker:  AI\n",
            "Precision:  0.0\n",
            "Ticker:  ORCL\n",
            "Precision:  0.5188679245283019\n",
            "Ticker:  DPZ\n",
            "Precision:  0.5882352941176471\n",
            "Ticker:  SWBI\n",
            "Precision:  0.0\n",
            "Ticker:  IR\n",
            "Precision:  0.5602836879432624\n",
            "Ticker:  ACH\n",
            "Precision:  0.0\n",
            "Ticker:  SNAP\n",
            "Precision:  0.4587628865979381\n",
            "Ticker:  HA\n",
            "Precision:  0.425531914893617\n",
            "Ticker:  EBAY\n",
            "Precision:  0.0\n",
            "Ticker:  JETS\n",
            "Precision:  0.0\n",
            "Ticker:  DB\n",
            "Precision:  0.5304347826086957\n",
            "Ticker:  RIOT\n",
            "Precision:  0.25\n",
            "Ticker:  ID\n",
            "Precision:  0.0\n",
            "Ticker:  MUST\n",
            "Precision:  0.3181818181818182\n",
            "Ticker:  RY\n",
            "Precision:  0.5287356321839081\n",
            "Ticker:  EXP\n",
            "Precision:  0.5151515151515151\n",
            "Ticker:  JDST\n",
            "Precision:  0.4594594594594595\n",
            "Ticker:  PD\n",
            "Precision:  0.5233644859813084\n",
            "Ticker:  MMM\n",
            "Precision:  0.4891304347826087\n",
            "Ticker:  MAN\n",
            "Precision:  0.512\n",
            "Ticker:  GL\n",
            "Precision:  0.5627240143369175\n",
            "Ticker:  PBR\n",
            "Precision:  0.0\n",
            "Ticker:  RUN\n",
            "Precision:  0.6015625\n",
            "Ticker:  NEE\n",
            "Precision:  0.5543478260869565\n",
            "Ticker:  UPS\n",
            "Precision:  0.5369127516778524\n",
            "Ticker:  KO\n",
            "Precision:  0.5555555555555556\n",
            "Ticker:  CMG\n",
            "Precision:  0.5318181818181819\n",
            "Ticker:  CALL\n",
            "Precision:  0.0\n",
            "Ticker:  FL\n",
            "Precision:  0.4774774774774775\n",
            "Ticker:  MLM\n",
            "Precision:  0.5119047619047619\n",
            "Ticker:  LOGI\n",
            "Precision:  0.0\n",
            "Ticker:  CAR\n",
            "Precision:  0.0\n",
            "Ticker:  SPG\n",
            "Precision:  0.0\n",
            "Ticker:  MTCH\n",
            "Precision:  0.5257142857142857\n",
            "Ticker:  AXP\n",
            "Precision:  0.5238095238095238\n",
            "Ticker:  DG\n",
            "Precision:  0.5782312925170068\n",
            "Ticker:  ET\n",
            "Precision:  0.47058823529411764\n",
            "Ticker:  CUT\n",
            "Precision:  0.5454545454545454\n",
            "Ticker:  TZA\n",
            "Precision:  0.0\n",
            "Ticker:  EB\n",
            "Precision:  0.0\n",
            "Ticker:  HR\n",
            "Precision:  0.5882352941176471\n",
            "Ticker:  SIRI\n",
            "Precision:  0.0\n",
            "Ticker:  FIVE\n",
            "Precision:  0.49038461538461536\n",
            "Ticker:  ICE\n",
            "Precision:  0.5454545454545454\n",
            "Ticker:  RTX\n",
            "Precision:  0.5076923076923077\n",
            "Ticker:  EEM\n",
            "Precision:  0.4838709677419355\n",
            "Ticker:  BG\n",
            "Precision:  0.0\n",
            "Ticker:  MJ\n",
            "Precision:  0.8\n",
            "Ticker:  HD\n",
            "Precision:  0.46853146853146854\n",
            "Ticker:  WBA\n",
            "Precision:  0.0\n",
            "Ticker:  MSM\n",
            "Precision:  0.518796992481203\n",
            "Ticker:  DT\n",
            "Precision:  0.4888888888888889\n",
            "Ticker:  PLAN\n",
            "Precision:  0.0\n",
            "Ticker:  LOW\n",
            "Precision:  0.5566037735849056\n",
            "Ticker:  TOPS\n",
            "Precision:  0.0\n",
            "Ticker:  NOC\n",
            "Precision:  0.6831683168316832\n",
            "Ticker:  WTI\n",
            "Precision:  0.625\n",
            "Ticker:  CCJ\n",
            "Precision:  0.0\n",
            "Ticker:  HIMX\n",
            "Precision:  0.0\n",
            "Ticker:  SO\n",
            "Precision:  0.543859649122807\n",
            "Ticker:  MELI\n",
            "Precision:  0.5578947368421052\n",
            "Ticker:  OCGN\n",
            "Precision:  0.0\n",
            "Ticker:  MRVL\n",
            "Precision:  0.6041666666666666\n",
            "Ticker:  AAP\n",
            "Precision:  0.5657894736842105\n",
            "Ticker:  CCI\n",
            "Precision:  0.5061728395061729\n",
            "Ticker:  FTC\n",
            "Precision:  0.5909090909090909\n",
            "Ticker:  AMC\n",
            "Precision:  0.42857142857142855\n",
            "Ticker:  DROP\n",
            "Precision:  0.0\n",
            "Ticker:  PEG\n",
            "Precision:  0.0\n",
            "Ticker:  LNG\n",
            "Precision:  0.5757575757575758\n",
            "Ticker:  FDX\n",
            "Precision:  0.5255474452554745\n",
            "Ticker:  BNTX\n",
            "Precision:  0.46875\n",
            "Ticker:  IT\n",
            "Precision:  0.5144927536231884\n",
            "Ticker:  PYPL\n",
            "Precision:  0.574468085106383\n",
            "Ticker:  ICLN\n",
            "Precision:  0.59375\n",
            "Ticker:  CRSR\n",
            "Precision:  0.0\n",
            "Ticker:  FCX\n",
            "Precision:  0.5446428571428571\n",
            "Ticker:  AY\n",
            "Precision:  0.0\n",
            "Ticker:  ARKG\n",
            "Precision:  0.4939759036144578\n",
            "Ticker:  ED\n",
            "Precision:  0.45161290322580644\n",
            "Ticker:  WOW\n",
            "Precision:  0.44642857142857145\n",
            "Ticker:  BR\n",
            "Precision:  0.5608108108108109\n",
            "Ticker:  TNA\n",
            "Precision:  0.5142857142857142\n",
            "Ticker:  MRK\n",
            "Precision:  0.5370370370370371\n",
            "Ticker:  GLD\n",
            "Precision:  0.5594059405940595\n",
            "Ticker:  AZN\n",
            "Precision:  0.0\n",
            "Ticker:  KMI\n",
            "Precision:  0.5764705882352941\n",
            "Ticker:  LL\n",
            "Precision:  0.5540540540540541\n",
            "Ticker:  XPEV\n",
            "Precision:  0.0\n",
            "Ticker:  COO\n",
            "Precision:  0.55\n",
            "Ticker:  SBUX\n",
            "Precision:  0.5622119815668203\n",
            "Ticker:  PG\n",
            "Precision:  0.5545454545454546\n",
            "Ticker:  TQQQ\n",
            "Precision:  0.5782747603833865\n",
            "Ticker:  KL\n",
            "Precision:  0.6236559139784946\n",
            "Ticker:  SONO\n",
            "Precision:  0.0\n",
            "Ticker:  OXY\n",
            "Precision:  0.0\n",
            "Ticker:  HOG\n",
            "Precision:  0.0\n",
            "Ticker:  BOTZ\n",
            "Precision:  0.5657894736842105\n",
            "Ticker:  YY\n",
            "Precision:  0.0\n",
            "Ticker:  NOV\n",
            "Precision:  0.0\n",
            "Ticker:  VT\n",
            "Precision:  0.6458333333333334\n",
            "Ticker:  UI\n",
            "Precision:  0.5163043478260869\n",
            "Ticker:  IG\n",
            "Precision:  0.5\n",
            "Ticker:  NICE\n",
            "Precision:  0.5289855072463768\n",
            "Ticker:  ABNB\n",
            "Precision:  0.0\n",
            "Ticker:  PRO\n",
            "Precision:  0.46511627906976744\n",
            "Ticker:  LI\n",
            "Precision:  0.0\n",
            "Ticker:  JBLU\n",
            "Precision:  0.0\n",
            "Ticker:  ULTA\n",
            "Precision:  0.49557522123893805\n",
            "Ticker:  SAVE\n",
            "Precision:  0.6\n",
            "Ticker:  UL\n",
            "Precision:  0.5523809523809524\n",
            "Ticker:  RL\n",
            "Precision:  0.49504950495049505\n",
            "Ticker:  DRIP\n",
            "Precision:  0.4\n",
            "Ticker:  PCG\n",
            "Precision:  0.4375\n",
            "Ticker:  VIXY\n",
            "Precision:  0.0\n",
            "Ticker:  BIDU\n",
            "Precision:  0.5\n",
            "Ticker:  APH\n",
            "Precision:  0.5930232558139535\n",
            "Ticker:  EW\n",
            "Precision:  0.5773195876288659\n",
            "Ticker:  NG\n",
            "Precision:  0.41379310344827586\n",
            "Ticker:  AMP\n",
            "Precision:  0.0\n",
            "Ticker:  CAT\n",
            "Precision:  0.5748031496062992\n",
            "Ticker:  PB\n",
            "Precision:  0.5163934426229508\n",
            "Ticker:  HPQ\n",
            "Precision:  0.5411764705882353\n",
            "Ticker:  GILD\n",
            "Precision:  0.14285714285714285\n",
            "Ticker:  SI\n",
            "Precision:  0.4596774193548387\n",
            "Ticker:  VG\n",
            "Precision:  0.0\n",
            "Ticker:  CCL\n",
            "Precision:  0.43478260869565216\n",
            "Ticker:  LIT\n",
            "Precision:  0.5208333333333334\n",
            "Ticker:  WB\n",
            "Precision:  0.5125\n",
            "Ticker:  FAS\n",
            "Precision:  0.5576923076923077\n",
            "Ticker:  GO\n",
            "Precision:  0.4634146341463415\n",
            "Ticker:  REV\n",
            "Precision:  0.0\n",
            "Ticker:  MGM\n",
            "Precision:  0.35714285714285715\n",
            "Ticker:  PT\n",
            "Precision:  0.5\n",
            "Ticker:  EA\n",
            "Precision:  0.48226950354609927\n",
            "Ticker:  AMAT\n",
            "Precision:  0.6285714285714286\n",
            "Ticker:  JACK\n",
            "Precision:  0.5058823529411764\n",
            "Ticker:  UBS\n",
            "Precision:  0.4827586206896552\n",
            "Ticker:  CR\n",
            "Precision:  0.5213675213675214\n",
            "Ticker:  TECH\n",
            "Precision:  0.5669291338582677\n",
            "Ticker:  CLF\n",
            "Precision:  0.0\n",
            "Ticker:  TLRY\n",
            "Precision:  0.0\n",
            "Ticker:  IQ\n",
            "Precision:  0.5675675675675675\n",
            "Ticker:  DFEN\n",
            "Precision:  0.423728813559322\n",
            "Ticker:  BA\n",
            "Precision:  0.5140845070422535\n",
            "Ticker:  LIVE\n",
            "Precision:  0.5135135135135135\n",
            "Ticker:  DKNG\n",
            "Precision:  0.0\n",
            "Ticker:  TTM\n",
            "Precision:  0.45185185185185184\n",
            "Ticker:  NRZ\n",
            "Precision:  0.49411764705882355\n",
            "Ticker:  RNA\n",
            "Precision:  0.0\n",
            "Ticker:  TSM\n",
            "Precision:  0.5724137931034483\n",
            "Ticker:  SDS\n",
            "Precision:  0.0\n",
            "Ticker:  OKTA\n",
            "Precision:  0.5671641791044776\n",
            "Ticker:  GOAT\n",
            "Precision:  0.5118110236220472\n",
            "Ticker:  JOB\n",
            "Precision:  0.0\n",
            "Ticker:  TCEHY\n",
            "Precision:  0.0\n",
            "Ticker:  C\n",
            "Precision:  0.5606060606060606\n",
            "Ticker:  NVDA\n",
            "Precision:  0.526984126984127\n",
            "Ticker:  GH\n",
            "Precision:  0.5813953488372093\n",
            "Ticker:  SNDL\n",
            "Precision:  0.0\n",
            "Ticker:  LVS\n",
            "Precision:  0.0\n",
            "Ticker:  HE\n",
            "Precision:  0.4931506849315068\n",
            "Ticker:  CRSP\n",
            "Precision:  0.0\n",
            "Ticker:  FAT\n",
            "Precision:  0.0\n",
            "Ticker:  IDEA\n",
            "Precision:  0.0\n",
            "Ticker:  BILI\n",
            "Precision:  0.5544554455445545\n",
            "Ticker:  PINS\n",
            "Precision:  0.5849056603773585\n",
            "Ticker:  ATVI\n",
            "Precision:  0.5061224489795918\n",
            "Ticker:  INTC\n",
            "Precision:  0.4724770642201835\n",
            "Ticker:  GEX\n",
            "Precision:  0.6296296296296297\n",
            "Ticker:  UBER\n",
            "Precision:  0.5\n",
            "Ticker:  FM\n",
            "Precision:  0.5909090909090909\n",
            "Ticker:  BUD\n",
            "Precision:  0.5094339622641509\n",
            "Ticker:  BP\n",
            "Precision:  0.4482758620689655\n",
            "Ticker:  GDXJ\n",
            "Precision:  0.0\n",
            "Ticker:  CC\n",
            "Precision:  0.48704663212435234\n",
            "Ticker:  RIDE\n",
            "Precision:  0.0\n",
            "Ticker:  AMZN\n",
            "Precision:  0.5353535353535354\n",
            "Ticker:  AM\n",
            "Precision:  0.375\n",
            "Ticker:  TAN\n",
            "Precision:  0.5544554455445545\n",
            "Ticker:  XLE\n",
            "Precision:  0.4074074074074074\n",
            "Ticker:  TX\n",
            "Precision:  0.5145631067961165\n",
            "Ticker:  NEW\n",
            "Precision:  0.42857142857142855\n",
            "Ticker:  CMCSA\n",
            "Precision:  0.5666666666666667\n",
            "Ticker:  SPXU\n",
            "Precision:  0.5\n",
            "Ticker:  DOCU\n",
            "Precision:  0.5632911392405063\n",
            "Ticker:  PLNT\n",
            "Precision:  0.0\n",
            "Ticker:  PLAY\n",
            "Precision:  0.5172413793103449\n",
            "Ticker:  GOLD\n",
            "Precision:  0.6190476190476191\n",
            "Ticker:  MX\n",
            "Precision:  0.0\n",
            "Ticker:  MSFT\n",
            "Precision:  0.535483870967742\n",
            "Ticker:  FNKO\n",
            "Precision:  0.42168674698795183\n",
            "Ticker:  VSTO\n",
            "Precision:  0.0\n",
            "Ticker:  GDX\n",
            "Precision:  0.49572649572649574\n",
            "Ticker:  HEAR\n",
            "Precision:  0.5\n",
            "Ticker:  DFS\n",
            "Precision:  0.5760869565217391\n",
            "Ticker:  AUD\n",
            "Precision:  0.0\n",
            "Ticker:  CF\n",
            "Precision:  0.48623853211009177\n",
            "Ticker:  ING\n",
            "Precision:  0.0\n",
            "Ticker:  BNGO\n",
            "Precision:  0.0\n",
            "Ticker:  USO\n",
            "Precision:  0.5325443786982249\n",
            "Ticker:  QS\n",
            "Precision:  0.0\n",
            "Ticker:  HSBC\n",
            "Precision:  0.0\n",
            "Ticker:  MCD\n",
            "Precision:  0.5555555555555556\n",
            "Ticker:  GRPN\n",
            "Precision:  0.39759036144578314\n",
            "Ticker:  LOVE\n",
            "Precision:  0.5373134328358209\n",
            "Ticker:  AMD\n",
            "Precision:  0.4719626168224299\n",
            "Ticker:  ANY\n",
            "Precision:  1.0\n",
            "Ticker:  HPE\n",
            "Precision:  0.0\n",
            "Ticker:  FAST\n",
            "Precision:  0.5970149253731343\n",
            "Ticker:  XXII\n",
            "Precision:  0.0\n",
            "Ticker:  FSR\n",
            "Precision:  0.0\n",
            "Ticker:  SMH\n",
            "Precision:  0.5798319327731093\n",
            "Ticker:  ONE\n",
            "Precision:  0.0\n",
            "Ticker:  SEE\n",
            "Precision:  0.45751633986928103\n",
            "Ticker:  SOXS\n",
            "Precision:  0.0\n",
            "Ticker:  COST\n",
            "Precision:  0.47843137254901963\n",
            "Ticker:  CHAD\n",
            "Precision:  0.0\n",
            "Ticker:  EAT\n",
            "Precision:  0.0\n",
            "Ticker:  NS\n",
            "Precision:  0.0\n",
            "Ticker:  EC\n",
            "Precision:  0.4\n",
            "Ticker:  TIP\n",
            "Precision:  0.5833333333333334\n",
            "Ticker:  BC\n",
            "Precision:  0.4539877300613497\n",
            "Ticker:  BILL\n",
            "Precision:  0.525\n",
            "Ticker:  OC\n",
            "Precision:  0.5125\n",
            "Ticker:  CASH\n",
            "Precision:  0.5614035087719298\n",
            "Ticker:  THC\n",
            "Precision:  0.47058823529411764\n",
            "Ticker:  DS\n",
            "Precision:  0.0\n",
            "Ticker:  UFO\n",
            "Precision:  0.47560975609756095\n",
            "Ticker:  UAL\n",
            "Precision:  0.53125\n",
            "Ticker:  CP\n",
            "Precision:  0.5294117647058824\n",
            "Ticker:  GM\n",
            "Precision:  0.4695121951219512\n",
            "Ticker:  F\n",
            "Precision:  0.43617021276595747\n",
            "Ticker:  DBX\n",
            "Precision:  0.43902439024390244\n",
            "Ticker:  IP\n",
            "Precision:  0.5030674846625767\n",
            "Ticker:  CVX\n",
            "Precision:  0.4296875\n",
            "Ticker:  CS\n",
            "Precision:  0.46\n",
            "Ticker:  IMO\n",
            "Precision:  0.5846994535519126\n",
            "Ticker:  YANG\n",
            "Precision:  0.0\n",
            "Ticker:  CBOE\n",
            "Precision:  0.5098039215686274\n",
            "Ticker:  SEDG\n",
            "Precision:  0.5842696629213483\n",
            "Ticker:  JMIA\n",
            "Precision:  0.0\n",
            "Ticker:  BYD\n",
            "Precision:  0.6179775280898876\n",
            "Ticker:  ENPH\n",
            "Precision:  0.5121951219512195\n",
            "Ticker:  NP\n",
            "Precision:  0.5535714285714286\n",
            "Ticker:  MARK\n",
            "Precision:  0.0\n",
            "Ticker:  RIG\n",
            "Precision:  0.0\n",
            "Ticker:  TH\n",
            "Precision:  0.2857142857142857\n",
            "Ticker:  SHE\n",
            "Precision:  0.5765765765765766\n",
            "Ticker:  RNG\n",
            "Precision:  0.6105263157894737\n",
            "Ticker:  WANT\n",
            "Precision:  0.5771428571428572\n",
            "Ticker:  RM\n",
            "Precision:  0.0\n",
            "Ticker:  SAM\n",
            "Precision:  0.0\n",
            "Ticker:  CHWY\n",
            "Precision:  0.5\n",
            "Ticker:  GNUS\n",
            "Precision:  0.0\n",
            "Ticker:  BBY\n",
            "Precision:  0.5662650602409639\n",
            "Ticker:  WWE\n",
            "Precision:  0.5111111111111111\n",
            "Ticker:  TWLO\n",
            "Precision:  0.5548780487804879\n",
            "Ticker:  SH\n",
            "Precision:  0.4\n",
            "Ticker:  SPXS\n",
            "Precision:  0.125\n",
            "Ticker:  VTI\n",
            "Precision:  0.6105263157894737\n",
            "Ticker:  SDC\n",
            "Precision:  0.0\n",
            "Ticker:  CME\n",
            "Precision:  0.5106382978723404\n",
            "Ticker:  DTE\n",
            "Precision:  0.4797979797979798\n",
            "Ticker:  TJX\n",
            "Precision:  0.5384615384615384\n",
            "Ticker:  MRO\n",
            "Precision:  0.5384615384615384\n",
            "Ticker:  KHC\n",
            "Precision:  0.0\n",
            "Ticker:  YETI\n",
            "Precision:  0.5333333333333333\n",
            "Ticker:  LMND\n",
            "Precision:  0.0\n",
            "Ticker:  DE\n",
            "Precision:  0.5266272189349113\n",
            "Ticker:  GSAT\n",
            "Precision:  0.0\n",
            "Ticker:  CE\n",
            "Precision:  0.515625\n",
            "Ticker:  NET\n",
            "Precision:  0.5888888888888889\n",
            "Ticker:  LYFT\n",
            "Precision:  0.0\n",
            "Ticker:  HOPE\n",
            "Precision:  0.6363636363636364\n",
            "Ticker:  GME\n",
            "Precision:  0.4186046511627907\n",
            "Ticker:  CRON\n",
            "Precision:  0.375\n",
            "Ticker:  DKS\n",
            "Precision:  0.47863247863247865\n",
            "Ticker:  PEP\n",
            "Precision:  0.5779816513761468\n",
            "Ticker:  WELL\n",
            "Precision:  0.538961038961039\n",
            "Ticker:  DON\n",
            "Precision:  0.5397727272727273\n",
            "Ticker:  WDC\n",
            "Precision:  0.47692307692307695\n",
            "Ticker:  NOW\n",
            "Precision:  0.5781818181818181\n",
            "Ticker:  CGC\n",
            "Precision:  0.5454545454545454\n",
            "Ticker:  WF\n",
            "Precision:  0.0\n",
            "Ticker:  MDB\n",
            "Precision:  0.5727272727272728\n",
            "Ticker:  ABBV\n",
            "Precision:  0.42857142857142855\n",
            "Ticker:  AN\n",
            "Precision:  0.4303030303030303\n",
            "Ticker:  CHGG\n",
            "Precision:  0.5491803278688525\n",
            "Ticker:  FN\n",
            "Precision:  0.4673913043478261\n",
            "Ticker:  CSCO\n",
            "Precision:  0.5515151515151515\n",
            "Ticker:  HP\n",
            "Precision:  0.4\n",
            "Ticker:  V\n",
            "Precision:  0.6062176165803109\n",
            "Ticker:  PENN\n",
            "Precision:  0.48148148148148145\n",
            "Ticker:  WFH\n",
            "Precision:  0.6565656565656566\n",
            "Ticker:  NC\n",
            "Precision:  0.4838709677419355\n",
            "Ticker:  XLF\n",
            "Precision:  0.5072463768115942\n",
            "Ticker:  ES\n",
            "Precision:  0.5261437908496732\n",
            "Ticker:  QQQ\n",
            "Precision:  0.5588235294117647\n",
            "Ticker:  AUPH\n",
            "Precision:  0.0\n",
            "Ticker:  XOM\n",
            "Precision:  0.48148148148148145\n",
            "Ticker:  AX\n",
            "Precision:  0.0\n",
            "Ticker:  EDIT\n",
            "Precision:  0.43902439024390244\n",
            "Ticker:  UNG\n",
            "Precision:  0.0\n",
            "Ticker:  IWM\n",
            "Precision:  0.5299145299145299\n",
            "Ticker:  BE\n",
            "Precision:  0.5135135135135135\n",
            "Ticker:  TBF\n",
            "Precision:  0.0\n",
            "Ticker:  BEST\n",
            "Precision:  0.5\n",
            "Ticker:  NEXT\n",
            "Precision:  0.5\n",
            "Ticker:  CNK\n",
            "Precision:  0.0\n",
            "Ticker:  TM\n",
            "Precision:  0.5137614678899083\n",
            "Ticker:  CROX\n",
            "Precision:  0.5855855855855856\n",
            "Ticker:  SM\n",
            "Precision:  0.38181818181818183\n",
            "Ticker:  MOD\n",
            "Precision:  0.0\n",
            "Ticker:  TSN\n",
            "Precision:  0.4489795918367347\n",
            "Ticker:  BBBY\n",
            "Precision:  0.3611111111111111\n",
            "Ticker:  VC\n",
            "Precision:  0.5163934426229508\n",
            "Ticker:  NGL\n",
            "Precision:  0.0\n",
            "Ticker:  ZS\n",
            "Precision:  0.6384615384615384\n",
            "Ticker:  VALE\n",
            "Precision:  0.48031496062992124\n",
            "Average precision:  0.3708850216154346\n",
            "Total number of stocks with sufficient data: 351\n",
            "Stocks with too little data:  {'PXJ': 10, 'HARP': 16, 'WDAY': 219, 'TVTY': 12, 'ZOM': 186, 'BZH': 14, 'CXW': 239, 'ATRC': 2, 'SURF': 60, 'XIACF': 1, 'HUBS': 64, 'TROW': 15, 'BROS': 70, 'MVST': 118, 'UFCS': 0, 'EGP': 7, 'BXC': 53, 'LILM': 26, 'LYFE': 38, 'EFC': 13, 'PRI': 14, 'TRND': 2, 'PRGO': 14, 'CFR': 129, 'JNCE': 11, 'AQN': 15, 'ACIU': 19, 'FTS': 24, 'BLDG': 0, 'DOL': 58, 'REKR': 7, 'FUV': 152, 'ATGE': 4, 'CNXT': 1, 'VDC': 13, 'INFR': 1, 'REPO': 179, 'TER': 142, 'FXF': 12, 'MBOT': 18, 'QUIK': 11, 'EFU': 1, 'SGMO': 198, 'BCH': 52, 'FNK': 11, 'SPXT': 6, 'VIS': 47, 'REC': 21, 'APPH': 107, 'SPYG': 174, 'CPI': 8, 'CDNS': 37, 'DTEA': 64, 'ARKW': 234, 'PEGA': 9, 'BWX': 1, 'CRT': 104, 'HIPS': 7, 'UDMY': 3, 'MORF': 0, 'PIPR': 1, 'ABCB': 6, 'EIX': 28, 'FLNT': 21, 'IEV': 8, 'CSTE': 0, 'LAZ': 30, 'EPZM': 38, 'ALTS': 6, 'CCRN': 14, 'MNMD': 113, 'AMPL': 8, 'GLRE': 0, 'RGEN': 21, 'DISH': 142, 'FAF': 49, 'DAR': 169, 'CBAY': 34, 'AFTY': 2, 'SYY': 122, 'BOND': 136, 'STLA': 44, 'MUNI': 4, 'UUUU': 142, 'SQSP': 27, 'RMED': 38, 'INSG': 153, 'RPV': 5, 'CARZ': 3, 'VFH': 19, 'APDN': 30, 'FMS': 31, 'CODX': 148, 'PKI': 21, 'NAN': 16, 'CDLX': 30, 'ADM': 141, 'GIL': 40, 'USCI': 1, 'IVOO': 2, 'IRM': 140, 'SITE': 50, 'PPG': 43, 'TECL': 223, 'BAP': 6, 'ESS': 52, 'EWRE': 0, 'SKYW': 43, 'PLCE': 61, 'FLS': 7, 'FRSH': 5, 'JOET': 1, 'DMB': 11, 'IHC': 3, 'WPRT': 43, 'INST': 4, 'XNET': 47, 'GROY': 2, 'KRO': 15, 'SUI': 23, 'AIN': 204, 'AVDL': 7, 'GLDM': 32, 'MODN': 1, 'CSB': 8, 'GILT': 39, 'WTRG': 6, 'OTEX': 5, 'CEO': 4, 'MIC': 138, 'SCOR': 8, 'CHI': 82, 'CIL': 2, 'XPO': 159, 'SNT': 4, 'LCUT': 0, 'CIZ': 0, 'NR': 186, 'UYM': 0, 'BOXL': 54, 'HBTC': 0, 'STL': 80, 'TPB': 64, 'ONCY': 32, 'BRMK': 4, 'MYNA': 1, 'G': 75, 'BIOC': 41, 'FRHC': 1, 'MASI': 25, 'FLNG': 7, 'UCC': 31, 'VOXX': 1, 'GPI': 28, 'AEHR': 14, 'LLY': 222, 'FEDX': 8, 'GSG': 13, 'PLTM': 3, 'CORP': 156, 'QMN': 0, 'WLL': 155, 'DOGZ': 17, 'EQX': 24, 'PHB': 26, 'OGI': 191, 'SIMS': 15, 'ZBRA': 41, 'CTRE': 9, 'UDOW': 205, 'FTV': 19, 'XSW': 9, 'TTNP': 87, 'AQUA': 37, 'QURE': 30, 'NINE': 103, 'XRAY': 19, 'INGR': 7, 'ACHC': 16, 'DBO': 33, 'ZEN': 154, 'ZIM': 166, 'INFA': 0, 'ZT': 11, 'DRIV': 33, 'FXC': 8, 'POSH': 110, 'VEU': 10, 'SWT': 2, 'SLI': 48, 'NCNO': 45, 'TRI': 27, 'VIV': 9, 'VECO': 1, 'ALLE': 8, 'BON': 3, 'UIS': 6, 'PSI': 60, 'RRX': 0, 'CVEO': 1, 'UVV': 13, 'COUP': 130, 'IGN': 53, 'SILV': 32, 'VZIO': 93, 'PHT': 0, 'WERN': 15, 'KGRN': 1, 'EMHY': 0, 'AOK': 14, 'CHKP': 34, 'PROG': 86, 'SSL': 100, 'DOCT': 1, 'PZA': 9, 'CTT': 11, 'PRNT': 99, 'EWUS': 0, 'ESTE': 7, 'UPLD': 10, 'FPX': 8, 'JKH': 2, 'DICE': 3, 'SCHD': 74, 'SMIN': 0, 'DENN': 79, 'SDD': 5, 'ADES': 8, 'GLYC': 6, 'SRI': 23, 'MCS': 44, 'RING': 93, 'SHG': 13, 'MRVI': 40, 'DEUS': 11, 'USHY': 3, 'AZUL': 63, 'FNDC': 0, 'VEGA': 104, 'GOL': 35, 'HIVE': 126, 'RLX': 73, 'SGRY': 9, 'NXST': 13, 'IZRL': 45, 'GCO': 17, 'DRQ': 0, 'ENTA': 11, 'EZM': 7, 'CSGP': 15, 'GAIA': 11, 'BLND': 28, 'EVN': 3, 'ICSH': 3, 'FRAK': 3, 'LWAY': 3, 'DEO': 75, 'SFY': 12, 'ZSAN': 47, 'ZVIA': 7, 'MVP': 151, 'DBEM': 0, 'VOE': 4, 'AAC': 8, 'FEM': 7, 'HSDT': 3, 'HSY': 108, 'BATRK': 0, 'FSV': 6, 'URNM': 67, 'URBN': 148, 'CBRL': 91, 'HIW': 1, 'DHI': 168, 'AAU': 19, 'SPB': 26, 'GIII': 15, 'EWK': 3, 'GLT': 4, 'SWAG': 2, 'CVI': 20, 'EAF': 53, 'ALE': 21, 'FIX': 121, 'LUMN': 162, 'WRAP': 63, 'EVX': 2, 'MDRX': 8, 'ORLA': 6, 'ALKS': 32, 'MMAT': 74, 'BBUS': 11, 'IWF': 15, 'COMP': 33, 'LEG': 145, 'EME': 19, 'BSV': 35, 'NMRK': 18, 'HYRE': 25, 'KAI': 19, 'TIPT': 2, 'PECO': 4, 'GVI': 2, 'NIU': 118, 'ALV': 10, 'OUSA': 4, 'AWK': 113, 'AME': 85, 'VEST': 3, 'CWI': 3, 'PFFA': 0, 'PBA': 47, 'VYM': 109, 'SJI': 3, 'CLB': 28, 'LAKE': 124, 'QD': 203, 'SJNK': 1, 'FSS': 7, 'REZI': 13, 'FTAI': 12, 'FDM': 15, 'HDB': 42, 'EWN': 2, 'DFIN': 0, 'GAA': 9, 'FHN': 37, 'PBW': 112, 'AVLR': 32, 'INVZ': 45, 'PSEC': 125, 'EMKR': 2, 'AMS': 65, 'HACK': 102, 'AACG': 13, 'ERII': 3, 'VNE': 7, 'BEKE': 64, 'XBI': 227, 'TTI': 36, 'EVRG': 6, 'DOMO': 120, 'AURA': 0, 'IWC': 25, 'NXPI': 159, 'PVG': 21, 'NVEE': 5, 'NDAQ': 215, 'IXN': 5, 'BKSY': 16, 'PUI': 5, 'ARMR': 0, 'DAWN': 8, 'GOSS': 5, 'UPV': 3, 'WHG': 2, 'USX': 14, 'WIT': 77, 'EXC': 35, 'KORU': 15, 'GNL': 7, 'PZD': 4, 'HOLI': 3, 'IDXX': 38, 'BFC': 10, 'IZEA': 59, 'CCNE': 1, 'YNDX': 51, 'SCHA': 7, 'SCHW': 155, 'ACVF': 1, 'BASE': 19, 'ADDDF': 1, 'PAWZ': 12, 'MNP': 1, 'NUZE': 3, 'COL': 134, 'ACM': 78, 'AAWW': 99, 'SIG': 149, 'CCO': 59, 'LBRDA': 1, 'INCO': 3, 'SY': 190, 'NUAN': 77, 'VTRN': 0, 'LQD': 173, 'AMWL': 95, 'MTH': 18, 'VIGI': 0, 'NRDS': 11, 'CVLT': 5, 'ECH': 26, 'NVEI': 22, 'SKIL': 11, 'TISI': 5, 'PWB': 7, 'QTEC': 4, 'KOD': 55, 'UEC': 63, 'BKE': 55, 'MOTO': 4, 'GSLC': 2, 'IYK': 2, 'IMPL': 11, 'MANT': 7, 'UHS': 23, 'KBWB': 5, 'MTLS': 52, 'WNEB': 0, 'AROC': 8, 'GOGO': 177, 'CSIQ': 241, 'PRTS': 55, 'NPO': 17, 'BIRD': 30, 'WIX': 196, 'UST': 202, 'MFGP': 13, 'ITA': 157, 'MMTM': 0, 'BSBR': 10, 'XSOE': 0, 'AZ': 208, 'IHF': 4, 'SAIC': 72, 'LCII': 3, 'MNKD': 161, 'CHDN': 28, 'FLOT': 5, 'WGO': 114, 'SUZ': 0, 'GLCNF': 6, 'IBUY': 12, 'PSL': 79, 'DLB': 27, 'TPIC': 41, 'ARGT': 29, 'IDV': 11, 'GTN': 15, 'GII': 4, 'HYLS': 0, 'NOVT': 2, 'VVNT': 35, 'PAYA': 47, 'HMY': 31, 'AWX': 2, 'WRE': 4, 'AKTS': 8, 'HBT': 1, 'CVGW': 38, 'TAAG': 1, 'RSX': 47, 'QLTA': 1, 'KFVG': 0, 'MRCY': 23, 'ELLO': 1, 'DNL': 1, 'BRZU': 127, 'YCBD': 27, 'IJH': 8, 'EGC': 0, 'CHIM': 2, 'ZNH': 15, 'THG': 6, 'ELS': 11, 'DGII': 2, 'XEL': 39, 'B': 149, 'SPT': 78, 'TCOM': 66, 'ENZL': 2, 'FNX': 5, 'CEMI': 46, 'LZB': 80, 'NTCT': 0, 'STRA': 8, 'HDG': 4, 'ACES': 43, 'CENT': 79, 'GOAU': 3, 'OLPX': 12, 'SALM': 4, 'BXP': 42, 'AVTR': 54, 'IMH': 11, 'RETA': 41, 'YORW': 4, 'EZPW': 19, 'CCEP': 0, 'IWP': 11, 'ONEY': 1, 'VERB': 52, 'FXP': 15, 'KXI': 2, 'DXD': 28, 'XSD': 22, 'BLCT': 12, 'BBH': 7, 'XYLD': 6, 'EGRX': 11, 'MMYT': 20, 'LHCG': 5, 'ATEN': 18, 'AGNC': 114, 'INCY': 40, 'STLD': 165, 'HCAT': 15, 'DST': 22, 'MAX': 224, 'LCG': 1, 'CGW': 27, 'PGJ': 11, 'PHG': 19, 'DOOR': 128, 'VVV': 25, 'RHS': 32, 'ITM': 2, 'FIDU': 0, 'WABC': 1, 'OBOR': 11, 'INDY': 19, 'DCO': 7, 'TYO': 61, 'HLIT': 4, 'QQQN': 6, 'KODK': 239, 'NHC': 19, 'FLV': 3, 'EPAC': 1, 'HXL': 17, 'XRT': 221, 'CMT': 22, 'QTWO': 2, 'ABM': 27, 'BKYI': 18, 'BCX': 22, 'ZETA': 4, 'VRNT': 30, 'NXRT': 7, 'PGRE': 14, 'QDF': 2, 'CCCC': 5, 'IIVI': 59, 'ESE': 16, 'PBD': 10, 'PTVE': 8, 'DUG': 18, 'VRAY': 14, 'STAG': 59, 'RMTI': 16, 'ASTC': 16, 'EWX': 6, 'CNI': 50, 'KNSA': 13, 'PAY': 97, 'TWOU': 103, 'MGK': 80, 'AEM': 64, 'PED': 83, 'GPL': 34, 'FYC': 3, 'LND': 6, 'BLV': 11, 'KLXE': 6, 'OLO': 22, 'ATOM': 46, 'FLZA': 0, 'SMTS': 6, 'PNT': 4, 'CEY': 5, 'AON': 47, 'FATE': 102, 'SEB': 25, 'TYL': 16, 'HAIN': 29, 'ZTS': 49, 'EVH': 23, 'FRSX': 39, 'NGM': 12, 'VB': 194, 'NBIX': 19, 'EYE': 114, 'HRL': 93, 'RHP': 15, 'MDU': 9, 'COKE': 248, 'CEVA': 4, 'RPRX': 15, 'BKU': 5, 'VVPR': 20, 'CBZ': 4, 'AMTD': 114, 'CFG': 35, 'UBSFF': 2, 'BOH': 22, 'BLU': 41, 'AMPY': 4, 'BDX': 44, 'IYM': 2, 'RYLD': 12, 'CNHI': 59, 'ESGV': 2, 'CEZ': 0, 'PNW': 206, 'DRD': 19, 'TPR': 100, 'RES': 247, 'PIXY': 51, 'CAG': 122, 'AQST': 39, 'INMD': 52, 'BLBD': 20, 'ENB': 115, 'DVY': 13, 'TNET': 6, 'SBLK': 38, 'HTHT': 61, 'KLAC': 66, 'CDEV': 73, 'HIG': 45, 'APLS': 30, 'PWR': 42, 'PARR': 3, 'VAPO': 13, 'SOHO': 15, 'MSEX': 6, 'MITT': 77, 'SMLF': 0, 'FKU': 7, 'IDU': 1, 'BMRN': 59, 'PSO': 28, 'YTRA': 0, 'SBB': 3, 'ARMK': 60, 'CHIQ': 11, 'TGLS': 7, 'USRT': 6, 'EQH': 5, 'STGW': 5, 'FTNT': 134, 'NRG': 87, 'XYLG': 3, 'MLPX': 1, 'IWS': 2, 'FXS': 6, 'VONV': 4, 'OMCL': 2, 'RIGL': 80, 'ROP': 61, 'NERV': 40, 'KOPN': 47, 'AOM': 10, 'WWW': 116, 'GPRE': 30, 'PNNT': 5, 'IEF': 101, 'GCI': 40, 'FTSL': 0, 'XAR': 98, 'HLI': 3, 'CW': 222, 'WASH': 60, 'THD': 24, 'WEB': 3, 'MTN': 194, 'BECN': 16, 'FBK': 4, 'SCHG': 8, 'CAPR': 31, 'KBR': 42, 'ANAT': 0, 'SLGG': 90, 'TPHS': 3, 'HOT': 16, 'GMAB': 17, 'CATO': 3, 'SPLG': 22, 'AXSM': 63, 'DLA': 8, 'USFR': 18, 'CTAS': 73, 'FMF': 9, 'OG': 164, 'ORI': 33, 'COWN': 6, 'PRQR': 14, 'BTBT': 59, 'BRP': 22, 'IHE': 5, 'FLOW': 92, 'SAFM': 19, 'ULH': 2, 'MIST': 13, 'EIDO': 11, 'QQQM': 42, 'TRIT': 75, 'ASIX': 1, 'SMLP': 6, 'PSY': 11, 'ENTG': 39, 'CSD': 5, 'PXI': 0, 'AJRD': 68, 'NOVA': 104, 'DECK': 103, 'ZGNX': 18, 'RUSL': 57, 'BRF': 14, 'USFD': 70, 'FCN': 3, 'ALDX': 7, 'KRMA': 4, 'EEX': 2, 'RTM': 13, 'TAL': 199, 'MVV': 0, 'TRIB': 15, 'GEL': 12, 'APM': 24, 'INSW': 8, 'CUBI': 0, 'FLC': 2, 'FNDE': 0, 'OVB': 0, 'VIOG': 0, 'ARKQ': 164, 'ENSG': 5, 'ADSK': 214, 'SPMB': 1, 'SESN': 87, 'GNMA': 12, 'XLG': 1, 'A': 166, 'REXR': 8, 'RODE': 11, 'GGT': 3, 'BTC': 195, 'UNF': 17, 'IJK': 1, 'AMKR': 55, 'TGI': 87, 'ELP': 15, 'VYGR': 16, 'ANAB': 6, 'KFY': 13, 'THRM': 17, 'BKNG': 182, 'WBT': 20, 'PNFP': 3, 'DBI': 26, 'IBP': 6, 'COLL': 7, 'RAIL': 100, 'NVS': 89, 'UNP': 136, 'DOLE': 48, 'SNDX': 10, 'DJD': 5, 'GGB': 92, 'ARC': 52, 'BTU': 139, 'MTX': 47, 'JAMF': 47, 'THR': 45, 'IVOL': 10, 'RYN': 31, 'W': 210, 'DAT': 6, 'PYZ': 5, 'VGK': 40, 'APLE': 108, 'LSI': 17, 'CASY': 29, 'IEP': 47, 'DEI': 11, 'CHIX': 17, 'ELF': 113, 'COPX': 43, 'SIEGY': 6, 'TBLT': 57, 'SLAB': 27, 'FDN': 63, 'PING': 113, 'YLCO': 2, 'CNRG': 29, 'PTGX': 8, 'GBL': 6, 'LOB': 26, 'HLAL': 1, 'HMHC': 44, 'SPYD': 121, 'WIRE': 97, 'OTGLF': 10, 'VKTX': 61, 'SIEN': 13, 'MUFG': 26, 'FXE': 54, 'AVEO': 42, 'APPN': 113, 'BGS': 87, 'RCUS': 7, 'SHW': 116, 'MLN': 70, 'NEU': 10, 'IRBO': 3, 'LEA': 20, 'IVV': 112, 'ETP': 148, 'REE': 157, 'BOOT': 66, 'UAVS': 163, 'SDG': 14, 'ATHX': 86, 'CHRS': 14, 'MOS': 153, 'EWM': 13, 'MDC': 27, 'STAR': 164, 'BDN': 10, 'CMA': 86, 'DGRW': 6, 'DVAX': 203, 'XTRM': 2, 'IQV': 9, 'DBJP': 0, 'ESP': 160, 'CHAU': 7, 'DXLG': 16, 'JKK': 14, 'VSTM': 70, 'DD': 69, 'PILL': 49, 'RZV': 1, 'ESTC': 155, 'TDG': 46, 'EDN': 9, 'PGEN': 23, 'KBA': 7, 'MSGE': 47, 'VTGN': 33, 'SUPN': 16, 'VISL': 69, 'KBAL': 9, 'SITC': 9, 'PHR': 6, 'DESP': 2, 'UPST': 236, 'AAXJ': 4, 'CLIX': 8, 'INDL': 23, 'CLR': 105, 'SND': 82, 'XPL': 15, 'SDIG': 4, 'LGO': 7, 'RGNX': 4, 'GOTU': 79, 'OMI': 76, 'SID': 75, 'APTS': 13, 'POR': 45, 'CSGS': 2, 'LCR': 15, 'XELA': 80, 'SBT': 23, 'PPA': 53, 'RTH': 142, 'LTL': 38, 'WOR': 29, 'MCHP': 85, 'DLR': 76, 'MTOR': 8, 'ONVO': 39, 'BW': 247, 'SOCL': 20, 'VICR': 4, 'TSLX': 4, 'ADTN': 1, 'CSA': 23, 'AGRX': 79, 'PRVA': 4, 'TBT': 210, 'QQC': 2, 'DOO': 52, 'GOLF': 79, 'EGAN': 15, 'AVYA': 27, 'TFI': 5, 'HT': 241, 'NWE': 4, 'OPT': 26, 'BRZE': 1, 'ROOF': 85, 'CYB': 10, 'WEBS': 2, 'FEX': 5, 'LNDC': 4, 'MESO': 46, 'GLW': 232, 'WAL': 29, 'GGG': 38, 'PLTK': 18, 'SPD': 27, 'GMBL': 77, 'R': 54, 'ZBH': 9, 'UMH': 3, 'SXI': 9, 'REPL': 5, 'SHLD': 7, 'ADN': 28, 'RWLK': 46, 'MMX': 7, 'WTTR': 4, 'ROC': 0, 'USM': 15, 'SFL': 35, 'ACWV': 0, 'IMMR': 35, 'LSPD': 118, 'VONE': 2, 'KWT': 0, 'ERF': 19, 'APTV': 34, 'GTLS': 14, 'IUSG': 1, 'SNA': 58, 'SAL': 6, 'DTD': 9, 'ALC': 20, 'COOK': 29, 'KBWD': 5, 'CRMD': 77, 'ACN': 91, 'MGIC': 3, 'TRUL': 69, 'GRUB': 132, 'AGS': 41, 'AMSWA': 3, 'WHR': 87, 'MNDY': 32, 'EWW': 108, 'ICF': 10, 'AGCO': 18, 'VTIP': 4, 'XLB': 50, 'BRC': 35, 'KULR': 41, 'AIM': 209, 'ACRX': 81, 'VOLVF': 0, 'CLLS': 9, 'TTEC': 2, 'MOV': 20, 'TORM': 3, 'PTC': 46, 'SENS': 230, 'PBT': 10, 'BKF': 2, 'SPSB': 0, 'EWH': 78, 'APRE': 19, 'VOOV': 6, 'ASTS': 174, 'ARVL': 127, 'PID': 19, 'CONX': 0, 'LNT': 5, 'DRW': 8, 'VXUS': 121, 'PAI': 10, 'FRC': 18, 'CEI': 156, 'VPU': 19, 'IPGP': 19, 'CMCO': 2, 'NEP': 36, 'SMTC': 6, 'OUST': 45, 'FSP': 7, 'JOYY': 18, 'WWD': 11, 'PSCE': 5, 'LPRO': 9, 'STAA': 9, 'SPPI': 48, 'YINN': 230, 'VRM': 137, 'CIO': 173, 'CTXS': 94, 'KORE': 1, 'RAVI': 3, 'EUSA': 1, 'BLDR': 39, 'BSY': 16, 'AHH': 98, 'BEN': 70, 'HRI': 13, 'SHOO': 40, 'TFII': 4, 'HOOD': 108, 'NSIT': 4, 'AGE': 74, 'HVT': 35, 'MEC': 4, 'VNDA': 19, 'IWV': 10, 'MNST': 157, 'ADX': 106, 'TTCF': 229, 'TRVG': 85, 'WWR': 78, 'RILY': 10, 'GTHX': 44, 'EXPE': 203, 'BLGO': 3, 'BSET': 5, 'ATNX': 33, 'WSO': 30, 'AXGN': 3, 'CDL': 66, 'PFI': 4, 'ESGE': 0, 'VSH': 13, 'SLYG': 0, 'BBJP': 0, 'SHAG': 0, 'RGLS': 10, 'IGOV': 4, 'KOIN': 3, 'RVP': 65, 'CHIK': 9, 'BXMT': 19, 'FTSI': 3, 'ZUMZ': 39, 'SPR': 244, 'FAME': 13, 'MOON': 93, 'CYBR': 110, 'HCSG': 3, 'D': 127, 'HCA': 122, 'DAG': 14, 'XPOF': 4, 'CVY': 0, 'KNG': 19, 'SDOG': 3, 'HTZ': 25, 'SLY': 21, 'IVE': 163, 'UNC': 1, 'COIN': 153, 'PNR': 22, 'FTDR': 3, 'IYH': 13, 'YUMC': 98, 'PEB': 3, 'VPC': 7, 'PHUN': 79, 'AVCO': 5, 'TAST': 10, 'CNO': 15, 'OPCH': 0, 'CONN': 38, 'SKY': 247, 'GXG': 4, 'EYPT': 12, 'AVGR': 44, 'SILC': 1, 'SOYB': 111, 'ASTE': 5, 'EOLS': 74, 'NBRV': 50, 'GDRX': 130, 'HELE': 23, 'EWGS': 1, 'CWEN': 21, 'SNEX': 2, 'BTAL': 4, 'ARCO': 12, 'ASC': 64, 'EDOC': 6, 'TAIL': 26, 'TMO': 246, 'GWRE': 20, 'JEF': 30, 'ATUS': 72, 'ATC': 15, 'WHD': 3, 'LPG': 36, 'HIBS': 51, 'DGT': 3, 'ROIC': 91, 'DCI': 12, 'IGM': 11, 'MUSA': 5, 'TACO': 221, 'FMC': 55, 'SSO': 150, 'JBGS': 14, 'PRTY': 146, 'SHYG': 1, 'VIEW': 63, 'JOE': 228, 'SONY': 197, 'VDE': 68, 'QRTEA': 38, 'SCHB': 52, 'XNCR': 0, 'NNVC': 25, 'MSGS': 67, 'WPM': 142, 'ALEX': 33, 'PZT': 1, 'QAI': 5, 'FTA': 27, 'SJM': 90, 'BNY': 31, 'IUSV': 0, 'ZEUS': 33, 'VLDR': 199, 'BJRI': 22, 'CDK': 14, 'GTLB': 29, 'CREX': 18, 'AKR': 15, 'BBI': 51, 'LOPE': 15, 'GNRC': 114, 'QID': 78, 'RORO': 0, 'PSCT': 1, 'TBB': 5, 'WWJD': 41, 'LOV': 31, 'PNM': 7, 'BFTR': 1, 'HUN': 42, 'IDCC': 18, 'ACHV': 17, 'PSJ': 3, 'POTX': 88, 'ATRS': 61, 'EFV': 1, 'OUNZ': 13, 'KURA': 11, 'YGYI': 3, 'NWS': 105, 'PSTH': 196, 'AXS': 29, 'INT': 101, 'SMFG': 2, 'CRC': 12, 'OLN': 156, 'SHC': 6, 'SCS': 91, 'MTL': 31, 'WSFS': 6, 'CAE': 18, 'DWSH': 2, 'SPXC': 7, 'PAX': 10, 'ETD': 13, 'LGIH': 26, 'LEU': 25, 'AIMC': 6, 'AEL': 3, 'COMT': 0, 'VOOG': 43, 'GENE': 46, 'EWY': 89, 'STAF': 22, 'MSTR': 246, 'GNW': 74, 'SEER': 9, 'TRTN': 26, 'RFL': 8, 'FMCCT': 13, 'PBE': 3, 'VCEL': 24, 'IFRX': 19, 'SPTS': 1, 'ODC': 1, 'EXT': 156, 'GRC': 0, 'SFIG': 0, 'CCK': 19, 'PODD': 26, 'HAIL': 198, 'BOMN': 7, 'SNP': 116, 'MED': 66, 'NCR': 73, 'JPXN': 0, 'CBSH': 4, 'NBTB': 0, 'PULM': 22, 'ESPO': 48, 'HOV': 40, 'VAL': 6, 'SCHE': 0, 'XITK': 2, 'UBT': 12, 'AMLP': 19, 'OPTT': 95, 'PTNR': 1, 'MSCI': 229, 'IBD': 165, 'WIP': 19, 'UFI': 5, 'GERN': 224, 'BWXT': 22, 'FAAR': 0, 'DIM': 14, 'AZZ': 95, 'BTA': 3, 'NAVI': 144, 'ARW': 15, 'FNY': 3, 'CCXI': 80, 'LX': 181, 'LRN': 100, 'KEP': 20, 'TUSK': 38, 'GLF': 0, 'ICUI': 2, 'NAUT': 9, 'ATSG': 51, 'VLO': 233, 'CHIL': 3, 'PYN': 2, 'AMOM': 9, 'VLY': 1, 'EDI': 25, 'VFMF': 2, 'GHM': 7, 'KN': 171, 'FAB': 36, 'CRU': 0, 'ELD': 7, 'ALNY': 27, 'PGNY': 30, 'AIRC': 4, 'VCRA': 8, 'CORT': 25, 'VIA': 88, 'TFX': 7, 'SMCI': 33, 'BUR': 11, 'KOS': 106, 'PAVM': 38, 'DOGEF': 0, 'RXI': 2, 'DINT': 4, 'ARCH': 31, 'CHCO': 0, 'FWONK': 6, 'GBX': 32, 'NEAR': 212, 'HAYW': 12, 'BGFV': 101, 'PSM': 1, 'OIIM': 2, 'DGS': 7, 'ROBT': 3, 'IHG': 18, 'IGIB': 1, 'SPFF': 0, 'OVV': 58, 'RPD': 41, 'SABR': 194, 'QNST': 1, 'BKH': 7, 'SYK': 57, 'MYY': 4, 'CDMO': 14, 'SPEM': 0, 'KRBN': 15, 'GRIN': 12, 'ASR': 31, 'GFS': 21, 'SRAD': 8, 'ADPT': 13, 'FDL': 1, 'VCTR': 2, 'HTGM': 22, 'TIVC': 0, 'SUM': 68, 'INTU': 184, 'IDA': 8, 'TVTX': 0, 'CSF': 16, 'GTY': 5, 'HMN': 5, 'HYLD': 0, 'RWR': 1, 'ISRG': 181, 'JIG': 5, 'IYF': 3, 'QQD': 0, 'BEAT': 7, 'HCP': 5, 'EFG': 8, 'GNOM': 1, 'OGIG': 12, 'U': 162, 'MATW': 17, 'SPC': 0, 'MEXX': 7, 'MTZ': 30, 'VOD': 140, 'AMRC': 16, 'ADI': 100, 'SEV': 7, 'CRBN': 1, 'UPW': 3, 'FXG': 2, 'VERU': 43, 'RGI': 41, 'RENN': 7, 'BNDW': 0, 'ITUB': 78, 'DTC': 11, 'RLY': 26, 'AGT': 18, 'PLM': 29, 'LUMO': 0, 'WPC': 22, 'BNO': 58, 'BAB': 66, 'NUSI': 14, 'AGFY': 22, 'VV': 201, 'WEAV': 0, 'OEF': 11, 'XCUR': 0, 'UPWK': 234, 'ACI': 151, 'BRDG': 2, 'IPG': 10, 'ENJ': 10, 'RCKT': 47, 'ATR': 106, 'SBAC': 26, 'HIBB': 37, 'OCUL': 79, 'AVUV': 1, 'ALRM': 25, 'NVMI': 3, 'APO': 80, 'FROG': 102, 'USMV': 13, 'ROMO': 10, 'UGL': 29, 'TNC': 7, 'PWFL': 1, 'BNED': 37, 'GLTR': 18, 'WE': 49, 'CMC': 174, 'EWO': 12, 'LBC': 13, 'SEED': 23, 'RARE': 136, 'CYRX': 30, 'MKL': 14, 'CALM': 154, 'PAGS': 67, 'VXRT': 184, 'STEM': 215, 'NTSX': 8, 'BUYZ': 4, 'FCUV': 3, 'LASR': 14, 'CTRA': 4, 'PNC': 175, 'TTMI': 3, 'TUYA': 8, 'CEN': 23, 'RWM': 35, 'DCOM': 1, 'RSXJ': 4, 'IYY': 5, 'REG': 48, 'MIME': 42, 'NEXA': 0, 'COMB': 3, 'CAS': 5, 'ETR': 44, 'SUNL': 18, 'RDHL': 90, 'ATNI': 3, 'COM': 228, 'CYTK': 17, 'SLYV': 11, 'YTEN': 12, 'VIPS': 134, 'BIO': 144, 'FEZ': 19, 'ECL': 41, 'CNXC': 4, 'TLH': 22, 'JLL': 15, 'UBOT': 11, 'CVM': 121, 'SPOK': 2, 'RYI': 6, 'EMR': 53, 'VTEB': 0, 'BKLN': 54, 'VTNR': 30, 'CECE': 6, 'PAYS': 73, 'PWC': 58, 'ICPT': 108, 'IOT': 5, 'PTLO': 19, 'USAC': 14, 'CELH': 128, 'CSTR': 23, 'GMF': 16, 'MLCO': 52, 'TMHC': 14, 'NWG': 3, 'KDP': 102, 'VIR': 89, 'ZIOP': 27, 'RYCEF': 11, 'NE': 82, 'UGI': 7, 'IHT': 11, 'INSP': 9, 'LQDT': 4, 'RMBS': 73, 'PCYG': 0, 'PPC': 100, 'TAK': 169, 'LAMR': 9, 'GIGE': 3, 'AFG': 19, 'PBS': 183, 'DNLI': 13, 'SENT': 25, 'TRTX': 13, 'ADNT': 4, 'BSCS': 2, 'PACK': 75, 'RMO': 129, 'GSC': 8, 'BKD': 30, 'ARVN': 8, 'EWJ': 113, 'WBS': 238, 'VCYT': 7, 'OWLT': 7, 'SONM': 26, 'NBR': 45, 'XM': 133, 'STVN': 0, 'SPLV': 27, 'DXCM': 129, 'ETHO': 1, 'CMRE': 25, 'ESTA': 6, 'XIN': 15, 'STRS': 5, 'NVCR': 49, 'FNMAL': 4, 'JKL': 7, 'VRRM': 7, 'HGH': 103, 'BKEP': 2, 'MANU': 79, 'OSK': 106, 'FBZ': 1, 'WES': 13, 'HLX': 32, 'WAN': 0, 'EXFY': 3, 'AVY': 18, 'ELA': 14, 'WNC': 7, 'DEN': 46, 'NVT': 4, 'FXB': 40, 'CLAR': 7, 'XSPA': 171, 'CANF': 13, 'IWB': 12, 'AKA': 58, 'PRAX': 1, 'SBS': 30, 'MIG': 5, 'FRPT': 13, 'BCI': 11, 'MLI': 7, 'PAK': 13, 'RKLY': 13, 'QMJ': 2, 'GDOT': 29, 'NAIL': 161, 'RNR': 6, 'MGY': 17, 'TPC': 8, 'SLM': 88, 'INBX': 4, 'CADE': 6, 'OMFS': 1, 'SWKS': 210, 'MYOV': 55, 'BLD': 11, 'HPS': 10, 'CMF': 48, 'JAZZ': 48, 'ODP': 88, 'SYNA': 22, 'VIVE': 34, 'SKM': 10, 'LIV': 2, 'ATCO': 11, 'TXN': 247, 'GATX': 0, 'LPTH': 8, 'WRLD': 42, 'GEOS': 1, 'SWCH': 85, 'BKR': 78, 'SHEN': 36, 'CMP': 57, 'RFI': 19, 'HERB': 4, 'QMCO': 3, 'JELD': 14, 'CIM': 96, 'ETWO': 23, 'OOMA': 16, 'SNSR': 2, 'BIZD': 0, 'LIDR': 15, 'AAT': 18, 'BLMN': 89, 'TK': 221, 'BGSF': 0, 'QRFT': 0, 'SFTBF': 8, 'STFC': 9, 'IYJ': 3, 'COIL': 3, 'TXMD': 137, 'SPUS': 0, 'PRFX': 1, 'LGH': 3, 'SAN': 158, 'PGX': 12, 'VS': 3, 'IMMP': 14, 'EVY': 3, 'AGQ': 103, 'CHH': 16, 'ECOR': 16, 'VONG': 3, 'SPYC': 6, 'CMCM': 20, 'OIS': 36, 'PAAS': 127, 'MILE': 127, 'JILL': 25, 'COCO': 13, 'NOG': 91, 'FORM': 122, 'ALTR': 1, 'GECC': 2, 'CEPU': 0, 'COLB': 2, 'FTEC': 42, 'PDS': 36, 'GSPI': 0, 'MNTV': 1, 'BMA': 41, 'WSM': 124, 'LUNA': 34, 'OPAD': 48, 'ASRT': 53, 'BLDP': 157, 'IRDM': 87, 'WPP': 62, 'QIWI': 11, 'AEIS': 5, 'SDIV': 59, 'GSST': 0, 'BBIO': 12, 'IUSS': 0, 'AGG': 44, 'VIXM': 67, 'RLJ': 17, 'OESX': 7, 'LAUR': 15, 'ITI': 14, 'EVO': 43, 'WTM': 7, 'BPOP': 8, 'OXM': 14, 'XLV': 148, 'RYAAY': 22, 'EDZ': 23, 'GPMT': 12, 'SYN': 53, 'QSY': 4, 'HEP': 23, 'PTH': 4, 'HEDJ': 1, 'SPIN': 32, 'OVS': 3, 'QQQJ': 163, 'FLR': 119, 'VIOV': 6, 'GLMD': 9, 'IVAC': 0, 'IS': 242, 'VET': 90, 'ACCD': 15, 'SANG': 6, 'ALGT': 41, 'TREC': 0, 'SVC': 42, 'ORN': 9, 'EMD': 5, 'CDNA': 19, 'RMAX': 5, 'CWH': 162, 'PGHY': 0, 'HBP': 12, 'ASA': 114, 'DUAL': 0, 'RXL': 1, 'DWM': 2, 'ARCM': 0, 'ADZ': 2, 'UXI': 4, 'PTCT': 15, 'MORT': 15, 'USAU': 1, 'MDGL': 20, 'FFR': 50, 'ROLL': 239, 'AIRS': 0, 'STRAX': 0, 'TRHC': 8, 'DORM': 8, 'NEGG': 112, 'DEX': 46, 'FMB': 2, 'IBB': 230, 'STM': 136, 'IDNA': 6, 'TCS': 58, 'JHG': 5, 'EMXC': 3, 'CHII': 0, 'VGZ': 14, 'RCII': 42, 'BIIB': 237, 'IFMK': 8, 'KMX': 195, 'HCC': 17, 'QRVO': 55, 'AMCX': 127, 'CATH': 5, 'IBA': 10, 'MTTR': 79, 'DCPH': 5, 'MSI': 124, 'XME': 40, 'KIE': 11, 'INVH': 22, 'TDS': 243, 'DFE': 5, 'RPAY': 11, 'AUR': 23, 'AXTI': 8, 'PSK': 3, 'CTLT': 20, 'RLGY': 39, 'VICE': 86, 'FUTY': 6, 'OPRA': 57, 'AMEH': 19, 'CSV': 116, 'AGRO': 9, 'SAND': 88, 'YLD': 1, 'LTRPA': 16, 'ROK': 82, 'UNB': 0, 'MPW': 28, 'BTG': 106, 'DOX': 23, 'VHT': 12, 'BBWI': 6, 'INUV': 24, 'E': 81, 'HGEN': 108, 'GROM': 14, 'VOT': 7, 'SPDN': 31, 'STN': 9, 'LTRX': 5, 'CVAC': 104, 'VGLT': 11, 'OYST': 2, 'LYRA': 2, 'TAGS': 9, 'FIVG': 32, 'PDCO': 12, 'WMK': 4, 'LMNR': 4, 'UBR': 2, 'HDGE': 20, 'RVNC': 26, 'SHLS': 13, 'HOLX': 44, 'ENLC': 19, 'WOLF': 70, 'MATX': 16, 'OTTR': 8, 'SNV': 11, 'TRX': 103, 'WPS': 15, 'BAR': 94, 'SEF': 9, 'RKDA': 23, 'ALT': 203, 'RLI': 2, 'BSMX': 6, 'MNR': 6, 'AHI': 2, 'RCD': 5, 'EQIX': 49, 'CTXR': 73, 'VRSK': 3, 'GRFS': 9, 'TCBI': 1, 'NLY': 189, 'ENZ': 13, 'MOBL': 2, 'UTZ': 151, 'CPK': 17, 'NYMT': 126, 'FINN': 0, 'LODE': 82, 'PHDG': 5, 'HES': 184, 'KCE': 1, 'TRIP': 224, 'TCMD': 2, 'XLU': 168, 'CWK': 8, 'VIG': 68, 'GMS': 38, 'DHX': 2, 'INPX': 108, 'ASB': 19, 'LBRT': 16, 'AMG': 235, 'FUT': 55, 'EXR': 51, 'GENC': 5, 'GXF': 3, 'WU': 229, 'SSYS': 66, 'CMS': 95, 'AIZ': 8, 'RGLD': 23, 'SKX': 86, 'SCU': 8, 'VRNS': 21, 'MYGN': 34, 'SPWH': 50, 'PLOW': 31, 'DAKT': 3, 'FRT': 27, 'CAC': 226, 'GPK': 17, 'AJG': 8, 'SLX': 46, 'URI': 171, 'SPXE': 0, 'SGH': 38, 'MBB': 64, 'LVMUY': 16, 'LNC': 20, 'CHTR': 48, 'REW': 4, 'DXC': 71, 'NAZ': 17, 'STLC': 10, 'EQL': 0, 'MIR': 8, 'PDP': 10, 'EXPD': 16, 'VCLT': 12, 'AMRS': 188, 'SPYV': 51, 'FENY': 8, 'DSS': 56, 'NVRO': 13, 'BSGM': 16, 'XPH': 5, 'BRKL': 0, 'AGR': 4, 'FLWS': 101, 'EPOL': 7, 'MET': 124, 'ALB': 210, 'TUFN': 8, 'UTL': 1, 'QED': 132, 'MAPS': 119, 'EXPR': 161, 'EZJ': 16, 'PETS': 127, 'CURV': 18, 'HLNE': 2, 'DOCS': 43, 'PCAR': 33, 'BITO': 16, 'MID': 66, 'MBT': 14, 'LECO': 4, 'ADCT': 3, 'AVAV': 69, 'POCT': 0, 'CANE': 26, 'POLY': 19, 'SFM': 121, 'USL': 227, 'IHRT': 24, 'FTCS': 1, 'SEND': 16, 'FXA': 2, 'DWX': 2, 'NERD': 175, 'CLSD': 16, 'PASS': 86, 'FAD': 16, 'MCG': 0, 'CRS': 48, 'CLXT': 8, 'WRK': 75, 'MKFG': 11, 'EPI': 39, 'HPP': 15, 'NNBR': 0, 'DUSL': 1, 'CNX': 41, 'DRV': 153, 'ZVO': 20, 'SCC': 31, 'OGN': 6, 'EMN': 12, 'AAA': 230, 'PDSB': 16, 'EWI': 69, 'ASTR': 104, 'LEE': 146, 'NUVA': 0, 'MCRI': 16, 'SOS': 245, 'GGAL': 54, 'CERN': 70, 'SPSC': 0, 'PIE': 46, 'JXI': 2, 'CIX': 0, 'ESLT': 15, 'CHRW': 33, 'GLPI': 12, 'RBA': 67, 'BURL': 91, 'CHK': 23, 'SKIN': 62, 'TRN': 11, 'ANSS': 8, 'JOBS': 200, 'XLC': 37, 'CRUS': 39, 'GWB': 71, 'RPT': 18, 'ZYME': 9, 'WCC': 19, 'FNDA': 0, 'OSH': 27, 'MMLP': 12, 'GHST': 0, 'QLYS': 18, 'OVF': 1, 'SPCX': 24, 'MWA': 10, 'HDV': 11, 'LGVN': 9, 'MLAB': 0, 'MXL': 7, 'EPRT': 4, 'CORR': 15, 'KERN': 90, 'SRCL': 4, 'DEFA': 4, 'S': 47, 'RCEL': 5, 'RYJ': 0, 'QUAD': 73, 'VCR': 119, 'TLK': 3, 'IAI': 3, 'FNI': 7, 'CYBE': 0, 'RESP': 24, 'COUR': 54, 'LH': 226, 'PRN': 85, 'DEM': 129, 'IIIN': 2, 'STX': 236, 'WEBR': 37, 'KYN': 8, 'CWST': 0, 'IVW': 20, 'ONON': 23, 'FLUX': 18, 'HTH': 31, 'DNOW': 11, 'MEDP': 0, 'FRG': 7, 'PAM': 28, 'MCB': 8, 'DVN': 198, 'ARLO': 60, 'BCO': 26, 'WRN': 5, 'NESR': 0, 'NSC': 58, 'FIBR': 2, 'GTE': 87, 'IYZ': 1, 'SHV': 21, 'RSI': 66, 'TMX': 26, 'ISRA': 0, 'LSCC': 67, 'ACGL': 0, 'SBGI': 29, 'IRTC': 19, 'XPER': 15, 'HYLB': 2, 'RWT': 68, 'EFA': 101, 'VNQ': 210, 'BV': 174, 'DLS': 9, 'CDAY': 4, 'VEA': 25, 'AWI': 5, 'NLSN': 20, 'ARDX': 25, 'FILL': 95, 'QCLN': 112, 'KSM': 5, 'ROG': 43, 'JNPR': 64, 'RDW': 20, 'FST': 11, 'SWAV': 14, 'SECT': 2, 'NRP': 2, 'CETX': 25, 'CLS': 67, 'SPUU': 7, 'FGEN': 29, 'BBAR': 12, 'SRRA': 6, 'SAH': 23, 'BNL': 1, 'HRMY': 2, 'SUMR': 2, 'RH': 148, 'ALG': 3, 'FPI': 18, 'MNA': 6, 'SMRT': 2, 'LEAD': 115, 'VSL': 4, 'PFM': 3, 'IREN': 2, 'BLES': 8, 'KICK': 59, 'GWX': 0, 'LPTX': 9, 'AMT': 208, 'CPLG': 8, 'PBP': 11, 'PHYL': 0, 'CACC': 82, 'MOR': 29, 'MHLD': 2, 'GNPX': 23, 'EWL': 7, 'HONE': 2, 'GEM': 125, 'VNT': 11, 'POWW': 127, 'FBIO': 22, 'BRG': 5, 'HNP': 7, 'WLK': 6, 'EYES': 180, 'SUN': 236, 'ARLP': 23, 'GOCO': 58, 'PXH': 2, 'NTES': 133, 'BTEC': 0, 'VMI': 22, 'PSX': 240, 'FRGI': 3, 'JBT': 9, 'ILTB': 1, 'ESRT': 23, 'GLAD': 120, 'ALLT': 3, 'DIAL': 13, 'HSTM': 0, 'ABEV': 56, 'SZC': 4, 'NATR': 1, 'ONEM': 73, 'LDRS': 1, 'VRTX': 139, 'IWD': 5, 'UDR': 7, 'BUG': 50, 'SCYX': 63, 'FXD': 7, 'KOF': 7, 'SAVA': 243, 'BIL': 116, 'AAIC': 16, 'HHC': 36, 'FCFS': 7, 'BTT': 59, 'MRIN': 35, 'ARB': 44, 'GLS': 11, 'RLAY': 7, 'NVR': 35, 'VEON': 22, 'TIPS': 215, 'SVRA': 30, 'DLTH': 36, 'MXI': 1, 'PUK': 8, 'BSTN': 0, 'PRTK': 33, 'WHEN': 223, 'AZO': 139, 'TDC': 78, 'SMAR': 64, 'SCHP': 1, 'UBA': 12, 'BST': 50, 'ORPH': 29, 'EGHT': 43, 'TITN': 7, 'AFRM': 185, 'REPH': 10, 'EVCM': 1, 'KBE': 62, 'CWCO': 4, 'FCOM': 1, 'VWOB': 0, 'JKJ': 2, 'ODFL': 36, 'IDT': 21, 'TREE': 240, 'KOP': 12, 'CPRT': 53, 'GFF': 6, 'ACHR': 23, 'BATT': 35, 'CIEN': 65, 'MUTE': 4, 'DOMA': 21, 'KOLD': 26, 'GRBK': 17, 'PTN': 103, 'USAS': 16, 'FLT': 80, 'VBR': 27, 'ALCO': 1, 'FGD': 5, 'ARKF': 220, 'XLP': 137, 'AEZS': 39, 'CTS': 55, 'ACOR': 12, 'NU': 6, 'GNK': 15, 'EAR': 49, 'LOOP': 52, 'SBOW': 1, 'SAIA': 6, 'RPG': 218, 'FHI': 2, 'TEF': 18, 'DGP': 11, 'HFFG': 4, 'USMC': 68, 'VRSN': 11, 'UHT': 1, 'THS': 25, 'BLZE': 6, 'FLMN': 0, 'WTFC': 8, 'PRK': 12, 'RAMP': 59, 'ACIW': 11, 'XERS': 57, 'DMS': 27, 'MPAA': 9, 'AHPI': 19, 'PXLW': 4, 'JAAA': 2, 'IMTE': 8, 'LEVI': 234, 'GERM': 20, 'EARN': 70, 'LOAN': 120, 'RVT': 1, 'YCL': 6, 'FREQ': 44, 'PFGC': 40, 'ANIX': 9, 'ALFA': 3, 'SCHF': 3, 'HYMB': 5, 'SMMT': 2, 'IJJ': 1, 'WEC': 10, 'STK': 30, 'DNN': 123, 'WNS': 4, 'SUSA': 1, 'PPSI': 16, 'TPOR': 15, 'ERUS': 9, 'ROOT': 228, 'BTB': 14, 'DAC': 113, 'MOAT': 52, 'EVOK': 18, 'DIOD': 9, 'DDM': 48, 'KURE': 0, 'PAYC': 54, 'PSN': 85, 'GURU': 30, 'GREK': 14, 'EMB': 18, 'SANA': 5, 'GPN': 48, 'MGI': 116, 'DRE': 36, 'ETG': 7, 'HSIC': 20, 'LPSN': 23, 'LEV': 130, 'ATKR': 10, 'IBOC': 0, 'GTS': 38, 'FUND': 202, 'GMRE': 8, 'PROV': 0, 'TYME': 33, 'VPG': 1, 'VETS': 7, 'AHCO': 11, 'PBF': 65, 'GSS': 39, 'ESG': 219, 'EMLC': 0, 'HERD': 17, 'CALX': 17, 'FLRN': 2, 'EWZ': 210, 'SDP': 10, 'YELL': 38, 'GXC': 23, 'ASTA': 0, 'MDT': 183, 'HWC': 1, 'DIN': 97, 'JEPI': 27, 'DV': 44, 'VMBS': 5, 'SWIM': 10, 'ASUR': 4, 'MEG': 33, 'PLX': 29, 'FWRD': 4, 'CHX': 13, 'PKX': 12, 'SMN': 6, 'COLD': 139, 'MDLZ': 91, 'TBPH': 6, 'HUM': 83, 'VTVT': 13, 'SMPL': 46, 'IWR': 9, 'CZOO': 5, 'CSLT': 6, 'TECK': 92, 'FXR': 6, 'GINN': 1, 'PSHG': 0, 'CFRX': 5, 'DXF': 0, 'JJSF': 4, 'LUNG': 6, 'DIVA': 2, 'CURE': 134, 'NOA': 9, 'TOTL': 5, 'UWMC': 237, 'AEO': 233} \n",
            " total number of stocks with too little data: 2236\n",
            "---stocks predicted with over 50% precision---\n",
            "total number of stocks over 50%: 157\n",
            "WW\n",
            "0.5454545454545454\n",
            "ZG\n",
            "0.525\n",
            "T\n",
            "0.5588235294117647\n",
            "OR\n",
            "0.5104895104895105\n",
            "BAC\n",
            "0.501628664495114\n",
            "STZ\n",
            "0.5412844036697247\n",
            "ADBE\n",
            "0.6038961038961039\n",
            "ARE\n",
            "0.5678571428571428\n",
            "BOX\n",
            "0.5490196078431373\n",
            "CFA\n",
            "0.6524822695035462\n",
            "MPC\n",
            "0.5125\n",
            "WD\n",
            "0.5327102803738317\n",
            "ORCL\n",
            "0.5188679245283019\n",
            "DPZ\n",
            "0.5882352941176471\n",
            "IR\n",
            "0.5602836879432624\n",
            "DB\n",
            "0.5304347826086957\n",
            "RY\n",
            "0.5287356321839081\n",
            "EXP\n",
            "0.5151515151515151\n",
            "PD\n",
            "0.5233644859813084\n",
            "MAN\n",
            "0.512\n",
            "GL\n",
            "0.5627240143369175\n",
            "RUN\n",
            "0.6015625\n",
            "NEE\n",
            "0.5543478260869565\n",
            "UPS\n",
            "0.5369127516778524\n",
            "KO\n",
            "0.5555555555555556\n",
            "CMG\n",
            "0.5318181818181819\n",
            "MLM\n",
            "0.5119047619047619\n",
            "MTCH\n",
            "0.5257142857142857\n",
            "AXP\n",
            "0.5238095238095238\n",
            "DG\n",
            "0.5782312925170068\n",
            "CUT\n",
            "0.5454545454545454\n",
            "HR\n",
            "0.5882352941176471\n",
            "ICE\n",
            "0.5454545454545454\n",
            "RTX\n",
            "0.5076923076923077\n",
            "MJ\n",
            "0.8\n",
            "MSM\n",
            "0.518796992481203\n",
            "LOW\n",
            "0.5566037735849056\n",
            "NOC\n",
            "0.6831683168316832\n",
            "WTI\n",
            "0.625\n",
            "SO\n",
            "0.543859649122807\n",
            "MELI\n",
            "0.5578947368421052\n",
            "MRVL\n",
            "0.6041666666666666\n",
            "AAP\n",
            "0.5657894736842105\n",
            "CCI\n",
            "0.5061728395061729\n",
            "FTC\n",
            "0.5909090909090909\n",
            "LNG\n",
            "0.5757575757575758\n",
            "FDX\n",
            "0.5255474452554745\n",
            "IT\n",
            "0.5144927536231884\n",
            "PYPL\n",
            "0.574468085106383\n",
            "ICLN\n",
            "0.59375\n",
            "FCX\n",
            "0.5446428571428571\n",
            "BR\n",
            "0.5608108108108109\n",
            "TNA\n",
            "0.5142857142857142\n",
            "MRK\n",
            "0.5370370370370371\n",
            "GLD\n",
            "0.5594059405940595\n",
            "KMI\n",
            "0.5764705882352941\n",
            "LL\n",
            "0.5540540540540541\n",
            "COO\n",
            "0.55\n",
            "SBUX\n",
            "0.5622119815668203\n",
            "PG\n",
            "0.5545454545454546\n",
            "TQQQ\n",
            "0.5782747603833865\n",
            "KL\n",
            "0.6236559139784946\n",
            "BOTZ\n",
            "0.5657894736842105\n",
            "VT\n",
            "0.6458333333333334\n",
            "UI\n",
            "0.5163043478260869\n",
            "NICE\n",
            "0.5289855072463768\n",
            "SAVE\n",
            "0.6\n",
            "UL\n",
            "0.5523809523809524\n",
            "APH\n",
            "0.5930232558139535\n",
            "EW\n",
            "0.5773195876288659\n",
            "CAT\n",
            "0.5748031496062992\n",
            "PB\n",
            "0.5163934426229508\n",
            "HPQ\n",
            "0.5411764705882353\n",
            "LIT\n",
            "0.5208333333333334\n",
            "WB\n",
            "0.5125\n",
            "FAS\n",
            "0.5576923076923077\n",
            "AMAT\n",
            "0.6285714285714286\n",
            "JACK\n",
            "0.5058823529411764\n",
            "CR\n",
            "0.5213675213675214\n",
            "TECH\n",
            "0.5669291338582677\n",
            "IQ\n",
            "0.5675675675675675\n",
            "BA\n",
            "0.5140845070422535\n",
            "LIVE\n",
            "0.5135135135135135\n",
            "TSM\n",
            "0.5724137931034483\n",
            "OKTA\n",
            "0.5671641791044776\n",
            "GOAT\n",
            "0.5118110236220472\n",
            "C\n",
            "0.5606060606060606\n",
            "NVDA\n",
            "0.526984126984127\n",
            "GH\n",
            "0.5813953488372093\n",
            "BILI\n",
            "0.5544554455445545\n",
            "PINS\n",
            "0.5849056603773585\n",
            "ATVI\n",
            "0.5061224489795918\n",
            "GEX\n",
            "0.6296296296296297\n",
            "FM\n",
            "0.5909090909090909\n",
            "BUD\n",
            "0.5094339622641509\n",
            "AMZN\n",
            "0.5353535353535354\n",
            "TAN\n",
            "0.5544554455445545\n",
            "TX\n",
            "0.5145631067961165\n",
            "CMCSA\n",
            "0.5666666666666667\n",
            "DOCU\n",
            "0.5632911392405063\n",
            "PLAY\n",
            "0.5172413793103449\n",
            "GOLD\n",
            "0.6190476190476191\n",
            "MSFT\n",
            "0.535483870967742\n",
            "DFS\n",
            "0.5760869565217391\n",
            "USO\n",
            "0.5325443786982249\n",
            "MCD\n",
            "0.5555555555555556\n",
            "LOVE\n",
            "0.5373134328358209\n",
            "ANY\n",
            "1.0\n",
            "FAST\n",
            "0.5970149253731343\n",
            "SMH\n",
            "0.5798319327731093\n",
            "TIP\n",
            "0.5833333333333334\n",
            "BILL\n",
            "0.525\n",
            "OC\n",
            "0.5125\n",
            "CASH\n",
            "0.5614035087719298\n",
            "UAL\n",
            "0.53125\n",
            "CP\n",
            "0.5294117647058824\n",
            "IP\n",
            "0.5030674846625767\n",
            "IMO\n",
            "0.5846994535519126\n",
            "CBOE\n",
            "0.5098039215686274\n",
            "SEDG\n",
            "0.5842696629213483\n",
            "BYD\n",
            "0.6179775280898876\n",
            "ENPH\n",
            "0.5121951219512195\n",
            "NP\n",
            "0.5535714285714286\n",
            "SHE\n",
            "0.5765765765765766\n",
            "RNG\n",
            "0.6105263157894737\n",
            "WANT\n",
            "0.5771428571428572\n",
            "BBY\n",
            "0.5662650602409639\n",
            "WWE\n",
            "0.5111111111111111\n",
            "TWLO\n",
            "0.5548780487804879\n",
            "VTI\n",
            "0.6105263157894737\n",
            "CME\n",
            "0.5106382978723404\n",
            "TJX\n",
            "0.5384615384615384\n",
            "MRO\n",
            "0.5384615384615384\n",
            "YETI\n",
            "0.5333333333333333\n",
            "DE\n",
            "0.5266272189349113\n",
            "CE\n",
            "0.515625\n",
            "NET\n",
            "0.5888888888888889\n",
            "HOPE\n",
            "0.6363636363636364\n",
            "PEP\n",
            "0.5779816513761468\n",
            "WELL\n",
            "0.538961038961039\n",
            "DON\n",
            "0.5397727272727273\n",
            "NOW\n",
            "0.5781818181818181\n",
            "CGC\n",
            "0.5454545454545454\n",
            "MDB\n",
            "0.5727272727272728\n",
            "CHGG\n",
            "0.5491803278688525\n",
            "CSCO\n",
            "0.5515151515151515\n",
            "V\n",
            "0.6062176165803109\n",
            "WFH\n",
            "0.6565656565656566\n",
            "XLF\n",
            "0.5072463768115942\n",
            "ES\n",
            "0.5261437908496732\n",
            "QQQ\n",
            "0.5588235294117647\n",
            "IWM\n",
            "0.5299145299145299\n",
            "BE\n",
            "0.5135135135135135\n",
            "TM\n",
            "0.5137614678899083\n",
            "CROX\n",
            "0.5855855855855856\n",
            "VC\n",
            "0.5163934426229508\n",
            "ZS\n",
            "0.6384615384615384\n",
            "Average precision for stocks with over 50% precision: 0.5593054248876403\n"
          ]
        }
      ]
    },
    {
      "cell_type": "code",
      "source": [
        "stocks_with_predictions_wsb = pd.DataFrame(prec_over_fifty.items(), columns={\"Ticker\", \"Precision\"})\n",
        "\n",
        "\n",
        "with open('/content/drive/MyDrive/SKOLA/UU/C-UPPSATS/FEK/Notebooks/stocks_w_predictions_wsb_RANDOM_FOREST.csv', 'w') as writefile:\n",
        "    stocks_with_predictions_wsb.to_csv(writefile)\n",
        "\n"
      ],
      "metadata": {
        "colab": {
          "base_uri": "https://localhost:8080/"
        },
        "id": "JSQ0THmJwPOA",
        "outputId": "ce1de641-089f-46f7-811e-ceb3926ca645"
      },
      "execution_count": null,
      "outputs": [
        {
          "output_type": "stream",
          "name": "stdout",
          "text": [
            "{'WW': 0.5454545454545454, 'ZG': 0.525, 'T': 0.5588235294117647, 'OR': 0.5104895104895105, 'BAC': 0.501628664495114, 'STZ': 0.5412844036697247, 'ADBE': 0.6038961038961039, 'ARE': 0.5678571428571428, 'BOX': 0.5490196078431373, 'CFA': 0.6524822695035462, 'MPC': 0.5125, 'WD': 0.5327102803738317, 'ORCL': 0.5188679245283019, 'DPZ': 0.5882352941176471, 'IR': 0.5602836879432624, 'DB': 0.5304347826086957, 'RY': 0.5287356321839081, 'EXP': 0.5151515151515151, 'PD': 0.5233644859813084, 'MAN': 0.512, 'GL': 0.5627240143369175, 'RUN': 0.6015625, 'NEE': 0.5543478260869565, 'UPS': 0.5369127516778524, 'KO': 0.5555555555555556, 'CMG': 0.5318181818181819, 'MLM': 0.5119047619047619, 'MTCH': 0.5257142857142857, 'AXP': 0.5238095238095238, 'DG': 0.5782312925170068, 'CUT': 0.5454545454545454, 'HR': 0.5882352941176471, 'ICE': 0.5454545454545454, 'RTX': 0.5076923076923077, 'MJ': 0.8, 'MSM': 0.518796992481203, 'LOW': 0.5566037735849056, 'NOC': 0.6831683168316832, 'WTI': 0.625, 'SO': 0.543859649122807, 'MELI': 0.5578947368421052, 'MRVL': 0.6041666666666666, 'AAP': 0.5657894736842105, 'CCI': 0.5061728395061729, 'FTC': 0.5909090909090909, 'LNG': 0.5757575757575758, 'FDX': 0.5255474452554745, 'IT': 0.5144927536231884, 'PYPL': 0.574468085106383, 'ICLN': 0.59375, 'FCX': 0.5446428571428571, 'BR': 0.5608108108108109, 'TNA': 0.5142857142857142, 'MRK': 0.5370370370370371, 'GLD': 0.5594059405940595, 'KMI': 0.5764705882352941, 'LL': 0.5540540540540541, 'COO': 0.55, 'SBUX': 0.5622119815668203, 'PG': 0.5545454545454546, 'TQQQ': 0.5782747603833865, 'KL': 0.6236559139784946, 'BOTZ': 0.5657894736842105, 'VT': 0.6458333333333334, 'UI': 0.5163043478260869, 'NICE': 0.5289855072463768, 'SAVE': 0.6, 'UL': 0.5523809523809524, 'APH': 0.5930232558139535, 'EW': 0.5773195876288659, 'CAT': 0.5748031496062992, 'PB': 0.5163934426229508, 'HPQ': 0.5411764705882353, 'LIT': 0.5208333333333334, 'WB': 0.5125, 'FAS': 0.5576923076923077, 'AMAT': 0.6285714285714286, 'JACK': 0.5058823529411764, 'CR': 0.5213675213675214, 'TECH': 0.5669291338582677, 'IQ': 0.5675675675675675, 'BA': 0.5140845070422535, 'LIVE': 0.5135135135135135, 'TSM': 0.5724137931034483, 'OKTA': 0.5671641791044776, 'GOAT': 0.5118110236220472, 'C': 0.5606060606060606, 'NVDA': 0.526984126984127, 'GH': 0.5813953488372093, 'BILI': 0.5544554455445545, 'PINS': 0.5849056603773585, 'ATVI': 0.5061224489795918, 'GEX': 0.6296296296296297, 'FM': 0.5909090909090909, 'BUD': 0.5094339622641509, 'AMZN': 0.5353535353535354, 'TAN': 0.5544554455445545, 'TX': 0.5145631067961165, 'CMCSA': 0.5666666666666667, 'DOCU': 0.5632911392405063, 'PLAY': 0.5172413793103449, 'GOLD': 0.6190476190476191, 'MSFT': 0.535483870967742, 'DFS': 0.5760869565217391, 'USO': 0.5325443786982249, 'MCD': 0.5555555555555556, 'LOVE': 0.5373134328358209, 'ANY': 1.0, 'FAST': 0.5970149253731343, 'SMH': 0.5798319327731093, 'TIP': 0.5833333333333334, 'BILL': 0.525, 'OC': 0.5125, 'CASH': 0.5614035087719298, 'UAL': 0.53125, 'CP': 0.5294117647058824, 'IP': 0.5030674846625767, 'IMO': 0.5846994535519126, 'CBOE': 0.5098039215686274, 'SEDG': 0.5842696629213483, 'BYD': 0.6179775280898876, 'ENPH': 0.5121951219512195, 'NP': 0.5535714285714286, 'SHE': 0.5765765765765766, 'RNG': 0.6105263157894737, 'WANT': 0.5771428571428572, 'BBY': 0.5662650602409639, 'WWE': 0.5111111111111111, 'TWLO': 0.5548780487804879, 'VTI': 0.6105263157894737, 'CME': 0.5106382978723404, 'TJX': 0.5384615384615384, 'MRO': 0.5384615384615384, 'YETI': 0.5333333333333333, 'DE': 0.5266272189349113, 'CE': 0.515625, 'NET': 0.5888888888888889, 'HOPE': 0.6363636363636364, 'PEP': 0.5779816513761468, 'WELL': 0.538961038961039, 'DON': 0.5397727272727273, 'NOW': 0.5781818181818181, 'CGC': 0.5454545454545454, 'MDB': 0.5727272727272728, 'CHGG': 0.5491803278688525, 'CSCO': 0.5515151515151515, 'V': 0.6062176165803109, 'WFH': 0.6565656565656566, 'XLF': 0.5072463768115942, 'ES': 0.5261437908496732, 'QQQ': 0.5588235294117647, 'IWM': 0.5299145299145299, 'BE': 0.5135135135135135, 'TM': 0.5137614678899083, 'CROX': 0.5855855855855856, 'VC': 0.5163934426229508, 'ZS': 0.6384615384615384}\n"
          ]
        }
      ]
    },
    {
      "cell_type": "markdown",
      "source": [
        "## GETTING THE PRECISION WITH MLP"
      ],
      "metadata": {
        "id": "WeV1dHfI1PKk"
      }
    },
    {
      "cell_type": "code",
      "source": [
        "pathlist_mod = Path(dir_str_mod_wsb).glob('**/*.csv')\n",
        "\n",
        "def mlp():\n",
        "    accuracies = {}\n",
        "    too_little_data = {}\n",
        "    for path in pathlist_mod:\n",
        "      filename = pd.read_csv(path)\n",
        "      data = filename[[\"High\"]]\n",
        "      data = data.rename(columns={\"High\": \"Actual_High\"})\n",
        "      data[\"Target\"] = filename.rolling(2).apply(\n",
        "          lambda x: x.iloc[1] > x.iloc[0])[\"High\"]\n",
        "\n",
        "      data_prev = filename.copy() \n",
        "      data_prev = data_prev.shift(1)\n",
        "      predictors = [\"Sentiment\"]\n",
        "      data = data.join(data_prev[predictors]).iloc[1:]\n",
        "\n",
        "      model = MLPClassifier()\n",
        "\n",
        "      # Create a train and test set\n",
        "      x = np.array(data[\"Sentiment\"])\n",
        "      y = np.array(data[\"Target\"])\n",
        "      if(len(data) > 250):\n",
        "        try:\n",
        "          x_train, x_test, y_train, y_test = train_test_split(\n",
        "              x, y, test_size=0.30, random_state=0)\n",
        "\n",
        "          model.fit(x_train.reshape(-1, 1).tolist(),\n",
        "                    y_train.reshape(-1, 1).tolist())\n",
        "          \n",
        "\n",
        "          preds = model.predict(x_test.reshape(-1, 1).tolist())\n",
        "          precision = precision_score(y_test, preds)\n",
        "          if precision != 0 or precision != 1:\n",
        "            print(precision)\n",
        "            accuracies[f'{filename[\"Ticker\"].iloc[0]}'] = precision\n",
        "        except:\n",
        "          too_little_data.append[filename[\"Ticker\"].iloc[0]] = len(data)\n",
        "          continue\n",
        "      else:\n",
        "        too_little_data[filename[\"Ticker\"].iloc[0]] = len(data)\n",
        "    return [accuracies, too_little_data]\n",
        "\n",
        "\n",
        "wsb_stock_prediction = mlp()"
      ],
      "metadata": {
        "colab": {
          "base_uri": "https://localhost:8080/"
        },
        "id": "HZiV_ccy0yTd",
        "outputId": "e418cdf5-06d0-441e-b9bb-25c28bdd61ae"
      },
      "execution_count": null,
      "outputs": [
        {
          "output_type": "stream",
          "name": "stderr",
          "text": [
            "/usr/local/lib/python3.7/dist-packages/sklearn/neural_network/_multilayer_perceptron.py:1109: DataConversionWarning: A column-vector y was passed when a 1d array was expected. Please change the shape of y to (n_samples, ), for example using ravel().\n",
            "  y = column_or_1d(y, warn=True)\n"
          ]
        },
        {
          "output_type": "stream",
          "name": "stdout",
          "text": [
            "0.3888888888888889\n"
          ]
        },
        {
          "output_type": "stream",
          "name": "stderr",
          "text": [
            "/usr/local/lib/python3.7/dist-packages/sklearn/neural_network/_multilayer_perceptron.py:1109: DataConversionWarning: A column-vector y was passed when a 1d array was expected. Please change the shape of y to (n_samples, ), for example using ravel().\n",
            "  y = column_or_1d(y, warn=True)\n"
          ]
        },
        {
          "output_type": "stream",
          "name": "stdout",
          "text": [
            "0.6065573770491803\n"
          ]
        },
        {
          "output_type": "stream",
          "name": "stderr",
          "text": [
            "/usr/local/lib/python3.7/dist-packages/sklearn/neural_network/_multilayer_perceptron.py:1109: DataConversionWarning: A column-vector y was passed when a 1d array was expected. Please change the shape of y to (n_samples, ), for example using ravel().\n",
            "  y = column_or_1d(y, warn=True)\n"
          ]
        },
        {
          "output_type": "stream",
          "name": "stdout",
          "text": [
            "0.5473684210526316\n"
          ]
        },
        {
          "output_type": "stream",
          "name": "stderr",
          "text": [
            "/usr/local/lib/python3.7/dist-packages/sklearn/neural_network/_multilayer_perceptron.py:1109: DataConversionWarning: A column-vector y was passed when a 1d array was expected. Please change the shape of y to (n_samples, ), for example using ravel().\n",
            "  y = column_or_1d(y, warn=True)\n"
          ]
        },
        {
          "output_type": "stream",
          "name": "stdout",
          "text": [
            "0.3125\n"
          ]
        },
        {
          "output_type": "stream",
          "name": "stderr",
          "text": [
            "/usr/local/lib/python3.7/dist-packages/sklearn/neural_network/_multilayer_perceptron.py:1109: DataConversionWarning: A column-vector y was passed when a 1d array was expected. Please change the shape of y to (n_samples, ), for example using ravel().\n",
            "  y = column_or_1d(y, warn=True)\n"
          ]
        },
        {
          "output_type": "stream",
          "name": "stdout",
          "text": [
            "0.4\n"
          ]
        },
        {
          "output_type": "stream",
          "name": "stderr",
          "text": [
            "/usr/local/lib/python3.7/dist-packages/sklearn/neural_network/_multilayer_perceptron.py:1109: DataConversionWarning: A column-vector y was passed when a 1d array was expected. Please change the shape of y to (n_samples, ), for example using ravel().\n",
            "  y = column_or_1d(y, warn=True)\n"
          ]
        },
        {
          "output_type": "stream",
          "name": "stdout",
          "text": [
            "0.42424242424242425\n"
          ]
        },
        {
          "output_type": "stream",
          "name": "stderr",
          "text": [
            "/usr/local/lib/python3.7/dist-packages/sklearn/neural_network/_multilayer_perceptron.py:1109: DataConversionWarning: A column-vector y was passed when a 1d array was expected. Please change the shape of y to (n_samples, ), for example using ravel().\n",
            "  y = column_or_1d(y, warn=True)\n"
          ]
        },
        {
          "output_type": "stream",
          "name": "stdout",
          "text": [
            "0.45390070921985815\n"
          ]
        },
        {
          "output_type": "stream",
          "name": "stderr",
          "text": [
            "/usr/local/lib/python3.7/dist-packages/sklearn/neural_network/_multilayer_perceptron.py:1109: DataConversionWarning: A column-vector y was passed when a 1d array was expected. Please change the shape of y to (n_samples, ), for example using ravel().\n",
            "  y = column_or_1d(y, warn=True)\n"
          ]
        },
        {
          "output_type": "stream",
          "name": "stdout",
          "text": [
            "1.0\n"
          ]
        },
        {
          "output_type": "stream",
          "name": "stderr",
          "text": [
            "/usr/local/lib/python3.7/dist-packages/sklearn/neural_network/_multilayer_perceptron.py:1109: DataConversionWarning: A column-vector y was passed when a 1d array was expected. Please change the shape of y to (n_samples, ), for example using ravel().\n",
            "  y = column_or_1d(y, warn=True)\n",
            "/usr/local/lib/python3.7/dist-packages/sklearn/metrics/_classification.py:1318: UndefinedMetricWarning: Precision is ill-defined and being set to 0.0 due to no predicted samples. Use `zero_division` parameter to control this behavior.\n",
            "  _warn_prf(average, modifier, msg_start, len(result))\n"
          ]
        },
        {
          "output_type": "stream",
          "name": "stdout",
          "text": [
            "0.0\n"
          ]
        },
        {
          "output_type": "stream",
          "name": "stderr",
          "text": [
            "/usr/local/lib/python3.7/dist-packages/sklearn/neural_network/_multilayer_perceptron.py:1109: DataConversionWarning: A column-vector y was passed when a 1d array was expected. Please change the shape of y to (n_samples, ), for example using ravel().\n",
            "  y = column_or_1d(y, warn=True)\n"
          ]
        },
        {
          "output_type": "stream",
          "name": "stdout",
          "text": [
            "0.16666666666666666\n"
          ]
        },
        {
          "output_type": "stream",
          "name": "stderr",
          "text": [
            "/usr/local/lib/python3.7/dist-packages/sklearn/neural_network/_multilayer_perceptron.py:1109: DataConversionWarning: A column-vector y was passed when a 1d array was expected. Please change the shape of y to (n_samples, ), for example using ravel().\n",
            "  y = column_or_1d(y, warn=True)\n"
          ]
        },
        {
          "output_type": "stream",
          "name": "stdout",
          "text": [
            "0.6666666666666666\n"
          ]
        },
        {
          "output_type": "stream",
          "name": "stderr",
          "text": [
            "/usr/local/lib/python3.7/dist-packages/sklearn/neural_network/_multilayer_perceptron.py:1109: DataConversionWarning: A column-vector y was passed when a 1d array was expected. Please change the shape of y to (n_samples, ), for example using ravel().\n",
            "  y = column_or_1d(y, warn=True)\n",
            "/usr/local/lib/python3.7/dist-packages/sklearn/metrics/_classification.py:1318: UndefinedMetricWarning: Precision is ill-defined and being set to 0.0 due to no predicted samples. Use `zero_division` parameter to control this behavior.\n",
            "  _warn_prf(average, modifier, msg_start, len(result))\n"
          ]
        },
        {
          "output_type": "stream",
          "name": "stdout",
          "text": [
            "0.0\n"
          ]
        },
        {
          "output_type": "stream",
          "name": "stderr",
          "text": [
            "/usr/local/lib/python3.7/dist-packages/sklearn/neural_network/_multilayer_perceptron.py:1109: DataConversionWarning: A column-vector y was passed when a 1d array was expected. Please change the shape of y to (n_samples, ), for example using ravel().\n",
            "  y = column_or_1d(y, warn=True)\n"
          ]
        },
        {
          "output_type": "stream",
          "name": "stdout",
          "text": [
            "0.46511627906976744\n"
          ]
        },
        {
          "output_type": "stream",
          "name": "stderr",
          "text": [
            "/usr/local/lib/python3.7/dist-packages/sklearn/neural_network/_multilayer_perceptron.py:1109: DataConversionWarning: A column-vector y was passed when a 1d array was expected. Please change the shape of y to (n_samples, ), for example using ravel().\n",
            "  y = column_or_1d(y, warn=True)\n"
          ]
        },
        {
          "output_type": "stream",
          "name": "stdout",
          "text": [
            "0.4797687861271676\n"
          ]
        },
        {
          "output_type": "stream",
          "name": "stderr",
          "text": [
            "/usr/local/lib/python3.7/dist-packages/sklearn/neural_network/_multilayer_perceptron.py:1109: DataConversionWarning: A column-vector y was passed when a 1d array was expected. Please change the shape of y to (n_samples, ), for example using ravel().\n",
            "  y = column_or_1d(y, warn=True)\n"
          ]
        },
        {
          "output_type": "stream",
          "name": "stdout",
          "text": [
            "0.4946236559139785\n"
          ]
        },
        {
          "output_type": "stream",
          "name": "stderr",
          "text": [
            "/usr/local/lib/python3.7/dist-packages/sklearn/neural_network/_multilayer_perceptron.py:1109: DataConversionWarning: A column-vector y was passed when a 1d array was expected. Please change the shape of y to (n_samples, ), for example using ravel().\n",
            "  y = column_or_1d(y, warn=True)\n",
            "/usr/local/lib/python3.7/dist-packages/sklearn/metrics/_classification.py:1318: UndefinedMetricWarning: Precision is ill-defined and being set to 0.0 due to no predicted samples. Use `zero_division` parameter to control this behavior.\n",
            "  _warn_prf(average, modifier, msg_start, len(result))\n"
          ]
        },
        {
          "output_type": "stream",
          "name": "stdout",
          "text": [
            "0.0\n"
          ]
        },
        {
          "output_type": "stream",
          "name": "stderr",
          "text": [
            "/usr/local/lib/python3.7/dist-packages/sklearn/neural_network/_multilayer_perceptron.py:1109: DataConversionWarning: A column-vector y was passed when a 1d array was expected. Please change the shape of y to (n_samples, ), for example using ravel().\n",
            "  y = column_or_1d(y, warn=True)\n"
          ]
        },
        {
          "output_type": "stream",
          "name": "stdout",
          "text": [
            "0.5089974293059126\n"
          ]
        },
        {
          "output_type": "stream",
          "name": "stderr",
          "text": [
            "/usr/local/lib/python3.7/dist-packages/sklearn/neural_network/_multilayer_perceptron.py:1109: DataConversionWarning: A column-vector y was passed when a 1d array was expected. Please change the shape of y to (n_samples, ), for example using ravel().\n",
            "  y = column_or_1d(y, warn=True)\n",
            "/usr/local/lib/python3.7/dist-packages/sklearn/metrics/_classification.py:1318: UndefinedMetricWarning: Precision is ill-defined and being set to 0.0 due to no predicted samples. Use `zero_division` parameter to control this behavior.\n",
            "  _warn_prf(average, modifier, msg_start, len(result))\n"
          ]
        },
        {
          "output_type": "stream",
          "name": "stdout",
          "text": [
            "0.0\n"
          ]
        },
        {
          "output_type": "stream",
          "name": "stderr",
          "text": [
            "/usr/local/lib/python3.7/dist-packages/sklearn/neural_network/_multilayer_perceptron.py:1109: DataConversionWarning: A column-vector y was passed when a 1d array was expected. Please change the shape of y to (n_samples, ), for example using ravel().\n",
            "  y = column_or_1d(y, warn=True)\n",
            "/usr/local/lib/python3.7/dist-packages/sklearn/metrics/_classification.py:1318: UndefinedMetricWarning: Precision is ill-defined and being set to 0.0 due to no predicted samples. Use `zero_division` parameter to control this behavior.\n",
            "  _warn_prf(average, modifier, msg_start, len(result))\n"
          ]
        },
        {
          "output_type": "stream",
          "name": "stdout",
          "text": [
            "0.0\n"
          ]
        },
        {
          "output_type": "stream",
          "name": "stderr",
          "text": [
            "/usr/local/lib/python3.7/dist-packages/sklearn/neural_network/_multilayer_perceptron.py:1109: DataConversionWarning: A column-vector y was passed when a 1d array was expected. Please change the shape of y to (n_samples, ), for example using ravel().\n",
            "  y = column_or_1d(y, warn=True)\n",
            "/usr/local/lib/python3.7/dist-packages/sklearn/metrics/_classification.py:1318: UndefinedMetricWarning: Precision is ill-defined and being set to 0.0 due to no predicted samples. Use `zero_division` parameter to control this behavior.\n",
            "  _warn_prf(average, modifier, msg_start, len(result))\n"
          ]
        },
        {
          "output_type": "stream",
          "name": "stdout",
          "text": [
            "0.0\n"
          ]
        },
        {
          "output_type": "stream",
          "name": "stderr",
          "text": [
            "/usr/local/lib/python3.7/dist-packages/sklearn/neural_network/_multilayer_perceptron.py:1109: DataConversionWarning: A column-vector y was passed when a 1d array was expected. Please change the shape of y to (n_samples, ), for example using ravel().\n",
            "  y = column_or_1d(y, warn=True)\n"
          ]
        },
        {
          "output_type": "stream",
          "name": "stdout",
          "text": [
            "0.4166666666666667\n"
          ]
        },
        {
          "output_type": "stream",
          "name": "stderr",
          "text": [
            "/usr/local/lib/python3.7/dist-packages/sklearn/neural_network/_multilayer_perceptron.py:1109: DataConversionWarning: A column-vector y was passed when a 1d array was expected. Please change the shape of y to (n_samples, ), for example using ravel().\n",
            "  y = column_or_1d(y, warn=True)\n"
          ]
        },
        {
          "output_type": "stream",
          "name": "stdout",
          "text": [
            "0.5412844036697247\n"
          ]
        },
        {
          "output_type": "stream",
          "name": "stderr",
          "text": [
            "/usr/local/lib/python3.7/dist-packages/sklearn/neural_network/_multilayer_perceptron.py:1109: DataConversionWarning: A column-vector y was passed when a 1d array was expected. Please change the shape of y to (n_samples, ), for example using ravel().\n",
            "  y = column_or_1d(y, warn=True)\n"
          ]
        },
        {
          "output_type": "stream",
          "name": "stdout",
          "text": [
            "0.601010101010101\n"
          ]
        },
        {
          "output_type": "stream",
          "name": "stderr",
          "text": [
            "/usr/local/lib/python3.7/dist-packages/sklearn/neural_network/_multilayer_perceptron.py:1109: DataConversionWarning: A column-vector y was passed when a 1d array was expected. Please change the shape of y to (n_samples, ), for example using ravel().\n",
            "  y = column_or_1d(y, warn=True)\n"
          ]
        },
        {
          "output_type": "stream",
          "name": "stdout",
          "text": [
            "0.568904593639576\n"
          ]
        },
        {
          "output_type": "stream",
          "name": "stderr",
          "text": [
            "/usr/local/lib/python3.7/dist-packages/sklearn/neural_network/_multilayer_perceptron.py:1109: DataConversionWarning: A column-vector y was passed when a 1d array was expected. Please change the shape of y to (n_samples, ), for example using ravel().\n",
            "  y = column_or_1d(y, warn=True)\n"
          ]
        },
        {
          "output_type": "stream",
          "name": "stdout",
          "text": [
            "0.25\n"
          ]
        },
        {
          "output_type": "stream",
          "name": "stderr",
          "text": [
            "/usr/local/lib/python3.7/dist-packages/sklearn/neural_network/_multilayer_perceptron.py:1109: DataConversionWarning: A column-vector y was passed when a 1d array was expected. Please change the shape of y to (n_samples, ), for example using ravel().\n",
            "  y = column_or_1d(y, warn=True)\n"
          ]
        },
        {
          "output_type": "stream",
          "name": "stdout",
          "text": [
            "0.48633879781420764\n"
          ]
        },
        {
          "output_type": "stream",
          "name": "stderr",
          "text": [
            "/usr/local/lib/python3.7/dist-packages/sklearn/neural_network/_multilayer_perceptron.py:1109: DataConversionWarning: A column-vector y was passed when a 1d array was expected. Please change the shape of y to (n_samples, ), for example using ravel().\n",
            "  y = column_or_1d(y, warn=True)\n"
          ]
        },
        {
          "output_type": "stream",
          "name": "stdout",
          "text": [
            "0.6666666666666666\n"
          ]
        },
        {
          "output_type": "stream",
          "name": "stderr",
          "text": [
            "/usr/local/lib/python3.7/dist-packages/sklearn/neural_network/_multilayer_perceptron.py:1109: DataConversionWarning: A column-vector y was passed when a 1d array was expected. Please change the shape of y to (n_samples, ), for example using ravel().\n",
            "  y = column_or_1d(y, warn=True)\n"
          ]
        },
        {
          "output_type": "stream",
          "name": "stdout",
          "text": [
            "0.6190476190476191\n"
          ]
        },
        {
          "output_type": "stream",
          "name": "stderr",
          "text": [
            "/usr/local/lib/python3.7/dist-packages/sklearn/neural_network/_multilayer_perceptron.py:1109: DataConversionWarning: A column-vector y was passed when a 1d array was expected. Please change the shape of y to (n_samples, ), for example using ravel().\n",
            "  y = column_or_1d(y, warn=True)\n",
            "/usr/local/lib/python3.7/dist-packages/sklearn/metrics/_classification.py:1318: UndefinedMetricWarning: Precision is ill-defined and being set to 0.0 due to no predicted samples. Use `zero_division` parameter to control this behavior.\n",
            "  _warn_prf(average, modifier, msg_start, len(result))\n"
          ]
        },
        {
          "output_type": "stream",
          "name": "stdout",
          "text": [
            "0.0\n"
          ]
        },
        {
          "output_type": "stream",
          "name": "stderr",
          "text": [
            "/usr/local/lib/python3.7/dist-packages/sklearn/neural_network/_multilayer_perceptron.py:1109: DataConversionWarning: A column-vector y was passed when a 1d array was expected. Please change the shape of y to (n_samples, ), for example using ravel().\n",
            "  y = column_or_1d(y, warn=True)\n"
          ]
        },
        {
          "output_type": "stream",
          "name": "stdout",
          "text": [
            "0.5531914893617021\n"
          ]
        },
        {
          "output_type": "stream",
          "name": "stderr",
          "text": [
            "/usr/local/lib/python3.7/dist-packages/sklearn/neural_network/_multilayer_perceptron.py:1109: DataConversionWarning: A column-vector y was passed when a 1d array was expected. Please change the shape of y to (n_samples, ), for example using ravel().\n",
            "  y = column_or_1d(y, warn=True)\n",
            "/usr/local/lib/python3.7/dist-packages/sklearn/metrics/_classification.py:1318: UndefinedMetricWarning: Precision is ill-defined and being set to 0.0 due to no predicted samples. Use `zero_division` parameter to control this behavior.\n",
            "  _warn_prf(average, modifier, msg_start, len(result))\n"
          ]
        },
        {
          "output_type": "stream",
          "name": "stdout",
          "text": [
            "0.0\n"
          ]
        },
        {
          "output_type": "stream",
          "name": "stderr",
          "text": [
            "/usr/local/lib/python3.7/dist-packages/sklearn/neural_network/_multilayer_perceptron.py:1109: DataConversionWarning: A column-vector y was passed when a 1d array was expected. Please change the shape of y to (n_samples, ), for example using ravel().\n",
            "  y = column_or_1d(y, warn=True)\n"
          ]
        },
        {
          "output_type": "stream",
          "name": "stdout",
          "text": [
            "0.45161290322580644\n"
          ]
        },
        {
          "output_type": "stream",
          "name": "stderr",
          "text": [
            "/usr/local/lib/python3.7/dist-packages/sklearn/neural_network/_multilayer_perceptron.py:1109: DataConversionWarning: A column-vector y was passed when a 1d array was expected. Please change the shape of y to (n_samples, ), for example using ravel().\n",
            "  y = column_or_1d(y, warn=True)\n"
          ]
        },
        {
          "output_type": "stream",
          "name": "stdout",
          "text": [
            "0.5967741935483871\n"
          ]
        },
        {
          "output_type": "stream",
          "name": "stderr",
          "text": [
            "/usr/local/lib/python3.7/dist-packages/sklearn/neural_network/_multilayer_perceptron.py:1109: DataConversionWarning: A column-vector y was passed when a 1d array was expected. Please change the shape of y to (n_samples, ), for example using ravel().\n",
            "  y = column_or_1d(y, warn=True)\n"
          ]
        },
        {
          "output_type": "stream",
          "name": "stdout",
          "text": [
            "1.0\n"
          ]
        },
        {
          "output_type": "stream",
          "name": "stderr",
          "text": [
            "/usr/local/lib/python3.7/dist-packages/sklearn/neural_network/_multilayer_perceptron.py:1109: DataConversionWarning: A column-vector y was passed when a 1d array was expected. Please change the shape of y to (n_samples, ), for example using ravel().\n",
            "  y = column_or_1d(y, warn=True)\n",
            "/usr/local/lib/python3.7/dist-packages/sklearn/metrics/_classification.py:1318: UndefinedMetricWarning: Precision is ill-defined and being set to 0.0 due to no predicted samples. Use `zero_division` parameter to control this behavior.\n",
            "  _warn_prf(average, modifier, msg_start, len(result))\n"
          ]
        },
        {
          "output_type": "stream",
          "name": "stdout",
          "text": [
            "0.0\n"
          ]
        },
        {
          "output_type": "stream",
          "name": "stderr",
          "text": [
            "/usr/local/lib/python3.7/dist-packages/sklearn/neural_network/_multilayer_perceptron.py:1109: DataConversionWarning: A column-vector y was passed when a 1d array was expected. Please change the shape of y to (n_samples, ), for example using ravel().\n",
            "  y = column_or_1d(y, warn=True)\n",
            "/usr/local/lib/python3.7/dist-packages/sklearn/metrics/_classification.py:1318: UndefinedMetricWarning: Precision is ill-defined and being set to 0.0 due to no predicted samples. Use `zero_division` parameter to control this behavior.\n",
            "  _warn_prf(average, modifier, msg_start, len(result))\n"
          ]
        },
        {
          "output_type": "stream",
          "name": "stdout",
          "text": [
            "0.0\n"
          ]
        },
        {
          "output_type": "stream",
          "name": "stderr",
          "text": [
            "/usr/local/lib/python3.7/dist-packages/sklearn/neural_network/_multilayer_perceptron.py:1109: DataConversionWarning: A column-vector y was passed when a 1d array was expected. Please change the shape of y to (n_samples, ), for example using ravel().\n",
            "  y = column_or_1d(y, warn=True)\n"
          ]
        },
        {
          "output_type": "stream",
          "name": "stdout",
          "text": [
            "0.5128205128205128\n"
          ]
        },
        {
          "output_type": "stream",
          "name": "stderr",
          "text": [
            "/usr/local/lib/python3.7/dist-packages/sklearn/neural_network/_multilayer_perceptron.py:1109: DataConversionWarning: A column-vector y was passed when a 1d array was expected. Please change the shape of y to (n_samples, ), for example using ravel().\n",
            "  y = column_or_1d(y, warn=True)\n"
          ]
        },
        {
          "output_type": "stream",
          "name": "stdout",
          "text": [
            "0.44648318042813456\n"
          ]
        },
        {
          "output_type": "stream",
          "name": "stderr",
          "text": [
            "/usr/local/lib/python3.7/dist-packages/sklearn/neural_network/_multilayer_perceptron.py:1109: DataConversionWarning: A column-vector y was passed when a 1d array was expected. Please change the shape of y to (n_samples, ), for example using ravel().\n",
            "  y = column_or_1d(y, warn=True)\n"
          ]
        },
        {
          "output_type": "stream",
          "name": "stdout",
          "text": [
            "0.4\n"
          ]
        },
        {
          "output_type": "stream",
          "name": "stderr",
          "text": [
            "/usr/local/lib/python3.7/dist-packages/sklearn/neural_network/_multilayer_perceptron.py:1109: DataConversionWarning: A column-vector y was passed when a 1d array was expected. Please change the shape of y to (n_samples, ), for example using ravel().\n",
            "  y = column_or_1d(y, warn=True)\n"
          ]
        },
        {
          "output_type": "stream",
          "name": "stdout",
          "text": [
            "0.6285714285714286\n"
          ]
        },
        {
          "output_type": "stream",
          "name": "stderr",
          "text": [
            "/usr/local/lib/python3.7/dist-packages/sklearn/neural_network/_multilayer_perceptron.py:1109: DataConversionWarning: A column-vector y was passed when a 1d array was expected. Please change the shape of y to (n_samples, ), for example using ravel().\n",
            "  y = column_or_1d(y, warn=True)\n"
          ]
        },
        {
          "output_type": "stream",
          "name": "stdout",
          "text": [
            "0.4\n"
          ]
        },
        {
          "output_type": "stream",
          "name": "stderr",
          "text": [
            "/usr/local/lib/python3.7/dist-packages/sklearn/neural_network/_multilayer_perceptron.py:1109: DataConversionWarning: A column-vector y was passed when a 1d array was expected. Please change the shape of y to (n_samples, ), for example using ravel().\n",
            "  y = column_or_1d(y, warn=True)\n"
          ]
        },
        {
          "output_type": "stream",
          "name": "stdout",
          "text": [
            "0.5726872246696035\n"
          ]
        },
        {
          "output_type": "stream",
          "name": "stderr",
          "text": [
            "/usr/local/lib/python3.7/dist-packages/sklearn/neural_network/_multilayer_perceptron.py:1109: DataConversionWarning: A column-vector y was passed when a 1d array was expected. Please change the shape of y to (n_samples, ), for example using ravel().\n",
            "  y = column_or_1d(y, warn=True)\n",
            "/usr/local/lib/python3.7/dist-packages/sklearn/metrics/_classification.py:1318: UndefinedMetricWarning: Precision is ill-defined and being set to 0.0 due to no predicted samples. Use `zero_division` parameter to control this behavior.\n",
            "  _warn_prf(average, modifier, msg_start, len(result))\n"
          ]
        },
        {
          "output_type": "stream",
          "name": "stdout",
          "text": [
            "0.0\n"
          ]
        },
        {
          "output_type": "stream",
          "name": "stderr",
          "text": [
            "/usr/local/lib/python3.7/dist-packages/sklearn/neural_network/_multilayer_perceptron.py:1109: DataConversionWarning: A column-vector y was passed when a 1d array was expected. Please change the shape of y to (n_samples, ), for example using ravel().\n",
            "  y = column_or_1d(y, warn=True)\n",
            "/usr/local/lib/python3.7/dist-packages/sklearn/metrics/_classification.py:1318: UndefinedMetricWarning: Precision is ill-defined and being set to 0.0 due to no predicted samples. Use `zero_division` parameter to control this behavior.\n",
            "  _warn_prf(average, modifier, msg_start, len(result))\n"
          ]
        },
        {
          "output_type": "stream",
          "name": "stdout",
          "text": [
            "0.0\n"
          ]
        },
        {
          "output_type": "stream",
          "name": "stderr",
          "text": [
            "/usr/local/lib/python3.7/dist-packages/sklearn/neural_network/_multilayer_perceptron.py:1109: DataConversionWarning: A column-vector y was passed when a 1d array was expected. Please change the shape of y to (n_samples, ), for example using ravel().\n",
            "  y = column_or_1d(y, warn=True)\n"
          ]
        },
        {
          "output_type": "stream",
          "name": "stdout",
          "text": [
            "0.43333333333333335\n"
          ]
        },
        {
          "output_type": "stream",
          "name": "stderr",
          "text": [
            "/usr/local/lib/python3.7/dist-packages/sklearn/neural_network/_multilayer_perceptron.py:1109: DataConversionWarning: A column-vector y was passed when a 1d array was expected. Please change the shape of y to (n_samples, ), for example using ravel().\n",
            "  y = column_or_1d(y, warn=True)\n"
          ]
        },
        {
          "output_type": "stream",
          "name": "stdout",
          "text": [
            "0.5287356321839081\n"
          ]
        },
        {
          "output_type": "stream",
          "name": "stderr",
          "text": [
            "/usr/local/lib/python3.7/dist-packages/sklearn/neural_network/_multilayer_perceptron.py:1109: DataConversionWarning: A column-vector y was passed when a 1d array was expected. Please change the shape of y to (n_samples, ), for example using ravel().\n",
            "  y = column_or_1d(y, warn=True)\n"
          ]
        },
        {
          "output_type": "stream",
          "name": "stdout",
          "text": [
            "0.5283018867924528\n"
          ]
        },
        {
          "output_type": "stream",
          "name": "stderr",
          "text": [
            "/usr/local/lib/python3.7/dist-packages/sklearn/neural_network/_multilayer_perceptron.py:1109: DataConversionWarning: A column-vector y was passed when a 1d array was expected. Please change the shape of y to (n_samples, ), for example using ravel().\n",
            "  y = column_or_1d(y, warn=True)\n"
          ]
        },
        {
          "output_type": "stream",
          "name": "stdout",
          "text": [
            "0.45098039215686275\n"
          ]
        },
        {
          "output_type": "stream",
          "name": "stderr",
          "text": [
            "/usr/local/lib/python3.7/dist-packages/sklearn/neural_network/_multilayer_perceptron.py:1109: DataConversionWarning: A column-vector y was passed when a 1d array was expected. Please change the shape of y to (n_samples, ), for example using ravel().\n",
            "  y = column_or_1d(y, warn=True)\n"
          ]
        },
        {
          "output_type": "stream",
          "name": "stdout",
          "text": [
            "0.5192307692307693\n"
          ]
        },
        {
          "output_type": "stream",
          "name": "stderr",
          "text": [
            "/usr/local/lib/python3.7/dist-packages/sklearn/neural_network/_multilayer_perceptron.py:1109: DataConversionWarning: A column-vector y was passed when a 1d array was expected. Please change the shape of y to (n_samples, ), for example using ravel().\n",
            "  y = column_or_1d(y, warn=True)\n"
          ]
        },
        {
          "output_type": "stream",
          "name": "stdout",
          "text": [
            "0.4891304347826087\n"
          ]
        },
        {
          "output_type": "stream",
          "name": "stderr",
          "text": [
            "/usr/local/lib/python3.7/dist-packages/sklearn/neural_network/_multilayer_perceptron.py:1109: DataConversionWarning: A column-vector y was passed when a 1d array was expected. Please change the shape of y to (n_samples, ), for example using ravel().\n",
            "  y = column_or_1d(y, warn=True)\n"
          ]
        },
        {
          "output_type": "stream",
          "name": "stdout",
          "text": [
            "0.5026178010471204\n"
          ]
        },
        {
          "output_type": "stream",
          "name": "stderr",
          "text": [
            "/usr/local/lib/python3.7/dist-packages/sklearn/neural_network/_multilayer_perceptron.py:1109: DataConversionWarning: A column-vector y was passed when a 1d array was expected. Please change the shape of y to (n_samples, ), for example using ravel().\n",
            "  y = column_or_1d(y, warn=True)\n"
          ]
        },
        {
          "output_type": "stream",
          "name": "stdout",
          "text": [
            "0.5382165605095541\n"
          ]
        },
        {
          "output_type": "stream",
          "name": "stderr",
          "text": [
            "/usr/local/lib/python3.7/dist-packages/sklearn/neural_network/_multilayer_perceptron.py:1109: DataConversionWarning: A column-vector y was passed when a 1d array was expected. Please change the shape of y to (n_samples, ), for example using ravel().\n",
            "  y = column_or_1d(y, warn=True)\n"
          ]
        },
        {
          "output_type": "stream",
          "name": "stdout",
          "text": [
            "0.49019607843137253\n"
          ]
        },
        {
          "output_type": "stream",
          "name": "stderr",
          "text": [
            "/usr/local/lib/python3.7/dist-packages/sklearn/neural_network/_multilayer_perceptron.py:1109: DataConversionWarning: A column-vector y was passed when a 1d array was expected. Please change the shape of y to (n_samples, ), for example using ravel().\n",
            "  y = column_or_1d(y, warn=True)\n"
          ]
        },
        {
          "output_type": "stream",
          "name": "stdout",
          "text": [
            "0.5721649484536082\n"
          ]
        },
        {
          "output_type": "stream",
          "name": "stderr",
          "text": [
            "/usr/local/lib/python3.7/dist-packages/sklearn/neural_network/_multilayer_perceptron.py:1109: DataConversionWarning: A column-vector y was passed when a 1d array was expected. Please change the shape of y to (n_samples, ), for example using ravel().\n",
            "  y = column_or_1d(y, warn=True)\n"
          ]
        },
        {
          "output_type": "stream",
          "name": "stdout",
          "text": [
            "0.5543478260869565\n"
          ]
        },
        {
          "output_type": "stream",
          "name": "stderr",
          "text": [
            "/usr/local/lib/python3.7/dist-packages/sklearn/neural_network/_multilayer_perceptron.py:1109: DataConversionWarning: A column-vector y was passed when a 1d array was expected. Please change the shape of y to (n_samples, ), for example using ravel().\n",
            "  y = column_or_1d(y, warn=True)\n"
          ]
        },
        {
          "output_type": "stream",
          "name": "stdout",
          "text": [
            "0.5061728395061729\n"
          ]
        },
        {
          "output_type": "stream",
          "name": "stderr",
          "text": [
            "/usr/local/lib/python3.7/dist-packages/sklearn/neural_network/_multilayer_perceptron.py:1109: DataConversionWarning: A column-vector y was passed when a 1d array was expected. Please change the shape of y to (n_samples, ), for example using ravel().\n",
            "  y = column_or_1d(y, warn=True)\n"
          ]
        },
        {
          "output_type": "stream",
          "name": "stdout",
          "text": [
            "0.5241635687732342\n"
          ]
        },
        {
          "output_type": "stream",
          "name": "stderr",
          "text": [
            "/usr/local/lib/python3.7/dist-packages/sklearn/neural_network/_multilayer_perceptron.py:1109: DataConversionWarning: A column-vector y was passed when a 1d array was expected. Please change the shape of y to (n_samples, ), for example using ravel().\n",
            "  y = column_or_1d(y, warn=True)\n"
          ]
        },
        {
          "output_type": "stream",
          "name": "stdout",
          "text": [
            "0.5325670498084292\n"
          ]
        },
        {
          "output_type": "stream",
          "name": "stderr",
          "text": [
            "/usr/local/lib/python3.7/dist-packages/sklearn/neural_network/_multilayer_perceptron.py:1109: DataConversionWarning: A column-vector y was passed when a 1d array was expected. Please change the shape of y to (n_samples, ), for example using ravel().\n",
            "  y = column_or_1d(y, warn=True)\n",
            "/usr/local/lib/python3.7/dist-packages/sklearn/metrics/_classification.py:1318: UndefinedMetricWarning: Precision is ill-defined and being set to 0.0 due to no predicted samples. Use `zero_division` parameter to control this behavior.\n",
            "  _warn_prf(average, modifier, msg_start, len(result))\n"
          ]
        },
        {
          "output_type": "stream",
          "name": "stdout",
          "text": [
            "0.0\n"
          ]
        },
        {
          "output_type": "stream",
          "name": "stderr",
          "text": [
            "/usr/local/lib/python3.7/dist-packages/sklearn/neural_network/_multilayer_perceptron.py:1109: DataConversionWarning: A column-vector y was passed when a 1d array was expected. Please change the shape of y to (n_samples, ), for example using ravel().\n",
            "  y = column_or_1d(y, warn=True)\n"
          ]
        },
        {
          "output_type": "stream",
          "name": "stdout",
          "text": [
            "0.43790849673202614\n"
          ]
        },
        {
          "output_type": "stream",
          "name": "stderr",
          "text": [
            "/usr/local/lib/python3.7/dist-packages/sklearn/neural_network/_multilayer_perceptron.py:1109: DataConversionWarning: A column-vector y was passed when a 1d array was expected. Please change the shape of y to (n_samples, ), for example using ravel().\n",
            "  y = column_or_1d(y, warn=True)\n"
          ]
        },
        {
          "output_type": "stream",
          "name": "stdout",
          "text": [
            "0.5495495495495496\n"
          ]
        },
        {
          "output_type": "stream",
          "name": "stderr",
          "text": [
            "/usr/local/lib/python3.7/dist-packages/sklearn/neural_network/_multilayer_perceptron.py:1109: DataConversionWarning: A column-vector y was passed when a 1d array was expected. Please change the shape of y to (n_samples, ), for example using ravel().\n",
            "  y = column_or_1d(y, warn=True)\n"
          ]
        },
        {
          "output_type": "stream",
          "name": "stdout",
          "text": [
            "0.6666666666666666\n"
          ]
        },
        {
          "output_type": "stream",
          "name": "stderr",
          "text": [
            "/usr/local/lib/python3.7/dist-packages/sklearn/neural_network/_multilayer_perceptron.py:1109: DataConversionWarning: A column-vector y was passed when a 1d array was expected. Please change the shape of y to (n_samples, ), for example using ravel().\n",
            "  y = column_or_1d(y, warn=True)\n",
            "/usr/local/lib/python3.7/dist-packages/sklearn/metrics/_classification.py:1318: UndefinedMetricWarning: Precision is ill-defined and being set to 0.0 due to no predicted samples. Use `zero_division` parameter to control this behavior.\n",
            "  _warn_prf(average, modifier, msg_start, len(result))\n"
          ]
        },
        {
          "output_type": "stream",
          "name": "stdout",
          "text": [
            "0.0\n"
          ]
        },
        {
          "output_type": "stream",
          "name": "stderr",
          "text": [
            "/usr/local/lib/python3.7/dist-packages/sklearn/neural_network/_multilayer_perceptron.py:1109: DataConversionWarning: A column-vector y was passed when a 1d array was expected. Please change the shape of y to (n_samples, ), for example using ravel().\n",
            "  y = column_or_1d(y, warn=True)\n"
          ]
        },
        {
          "output_type": "stream",
          "name": "stdout",
          "text": [
            "0.5\n"
          ]
        },
        {
          "output_type": "stream",
          "name": "stderr",
          "text": [
            "/usr/local/lib/python3.7/dist-packages/sklearn/neural_network/_multilayer_perceptron.py:1109: DataConversionWarning: A column-vector y was passed when a 1d array was expected. Please change the shape of y to (n_samples, ), for example using ravel().\n",
            "  y = column_or_1d(y, warn=True)\n"
          ]
        },
        {
          "output_type": "stream",
          "name": "stdout",
          "text": [
            "0.5202020202020202\n"
          ]
        },
        {
          "output_type": "stream",
          "name": "stderr",
          "text": [
            "/usr/local/lib/python3.7/dist-packages/sklearn/neural_network/_multilayer_perceptron.py:1109: DataConversionWarning: A column-vector y was passed when a 1d array was expected. Please change the shape of y to (n_samples, ), for example using ravel().\n",
            "  y = column_or_1d(y, warn=True)\n"
          ]
        },
        {
          "output_type": "stream",
          "name": "stdout",
          "text": [
            "0.4927536231884058\n"
          ]
        },
        {
          "output_type": "stream",
          "name": "stderr",
          "text": [
            "/usr/local/lib/python3.7/dist-packages/sklearn/neural_network/_multilayer_perceptron.py:1109: DataConversionWarning: A column-vector y was passed when a 1d array was expected. Please change the shape of y to (n_samples, ), for example using ravel().\n",
            "  y = column_or_1d(y, warn=True)\n"
          ]
        },
        {
          "output_type": "stream",
          "name": "stdout",
          "text": [
            "0.5771812080536913\n"
          ]
        },
        {
          "output_type": "stream",
          "name": "stderr",
          "text": [
            "/usr/local/lib/python3.7/dist-packages/sklearn/neural_network/_multilayer_perceptron.py:1109: DataConversionWarning: A column-vector y was passed when a 1d array was expected. Please change the shape of y to (n_samples, ), for example using ravel().\n",
            "  y = column_or_1d(y, warn=True)\n"
          ]
        },
        {
          "output_type": "stream",
          "name": "stdout",
          "text": [
            "0.0\n"
          ]
        },
        {
          "output_type": "stream",
          "name": "stderr",
          "text": [
            "/usr/local/lib/python3.7/dist-packages/sklearn/neural_network/_multilayer_perceptron.py:1109: DataConversionWarning: A column-vector y was passed when a 1d array was expected. Please change the shape of y to (n_samples, ), for example using ravel().\n",
            "  y = column_or_1d(y, warn=True)\n"
          ]
        },
        {
          "output_type": "stream",
          "name": "stdout",
          "text": [
            "0.5394736842105263\n"
          ]
        },
        {
          "output_type": "stream",
          "name": "stderr",
          "text": [
            "/usr/local/lib/python3.7/dist-packages/sklearn/neural_network/_multilayer_perceptron.py:1109: DataConversionWarning: A column-vector y was passed when a 1d array was expected. Please change the shape of y to (n_samples, ), for example using ravel().\n",
            "  y = column_or_1d(y, warn=True)\n",
            "/usr/local/lib/python3.7/dist-packages/sklearn/metrics/_classification.py:1318: UndefinedMetricWarning: Precision is ill-defined and being set to 0.0 due to no predicted samples. Use `zero_division` parameter to control this behavior.\n",
            "  _warn_prf(average, modifier, msg_start, len(result))\n"
          ]
        },
        {
          "output_type": "stream",
          "name": "stdout",
          "text": [
            "0.0\n"
          ]
        },
        {
          "output_type": "stream",
          "name": "stderr",
          "text": [
            "/usr/local/lib/python3.7/dist-packages/sklearn/neural_network/_multilayer_perceptron.py:1109: DataConversionWarning: A column-vector y was passed when a 1d array was expected. Please change the shape of y to (n_samples, ), for example using ravel().\n",
            "  y = column_or_1d(y, warn=True)\n"
          ]
        },
        {
          "output_type": "stream",
          "name": "stdout",
          "text": [
            "0.5\n"
          ]
        },
        {
          "output_type": "stream",
          "name": "stderr",
          "text": [
            "/usr/local/lib/python3.7/dist-packages/sklearn/neural_network/_multilayer_perceptron.py:1109: DataConversionWarning: A column-vector y was passed when a 1d array was expected. Please change the shape of y to (n_samples, ), for example using ravel().\n",
            "  y = column_or_1d(y, warn=True)\n"
          ]
        },
        {
          "output_type": "stream",
          "name": "stdout",
          "text": [
            "0.625\n"
          ]
        },
        {
          "output_type": "stream",
          "name": "stderr",
          "text": [
            "/usr/local/lib/python3.7/dist-packages/sklearn/neural_network/_multilayer_perceptron.py:1109: DataConversionWarning: A column-vector y was passed when a 1d array was expected. Please change the shape of y to (n_samples, ), for example using ravel().\n",
            "  y = column_or_1d(y, warn=True)\n"
          ]
        },
        {
          "output_type": "stream",
          "name": "stdout",
          "text": [
            "0.4375\n"
          ]
        },
        {
          "output_type": "stream",
          "name": "stderr",
          "text": [
            "/usr/local/lib/python3.7/dist-packages/sklearn/neural_network/_multilayer_perceptron.py:1109: DataConversionWarning: A column-vector y was passed when a 1d array was expected. Please change the shape of y to (n_samples, ), for example using ravel().\n",
            "  y = column_or_1d(y, warn=True)\n"
          ]
        },
        {
          "output_type": "stream",
          "name": "stdout",
          "text": [
            "0.49038461538461536\n"
          ]
        },
        {
          "output_type": "stream",
          "name": "stderr",
          "text": [
            "/usr/local/lib/python3.7/dist-packages/sklearn/neural_network/_multilayer_perceptron.py:1109: DataConversionWarning: A column-vector y was passed when a 1d array was expected. Please change the shape of y to (n_samples, ), for example using ravel().\n",
            "  y = column_or_1d(y, warn=True)\n"
          ]
        },
        {
          "output_type": "stream",
          "name": "stdout",
          "text": [
            "0.49029126213592233\n"
          ]
        },
        {
          "output_type": "stream",
          "name": "stderr",
          "text": [
            "/usr/local/lib/python3.7/dist-packages/sklearn/neural_network/_multilayer_perceptron.py:1109: DataConversionWarning: A column-vector y was passed when a 1d array was expected. Please change the shape of y to (n_samples, ), for example using ravel().\n",
            "  y = column_or_1d(y, warn=True)\n"
          ]
        },
        {
          "output_type": "stream",
          "name": "stdout",
          "text": [
            "1.0\n"
          ]
        },
        {
          "output_type": "stream",
          "name": "stderr",
          "text": [
            "/usr/local/lib/python3.7/dist-packages/sklearn/neural_network/_multilayer_perceptron.py:1109: DataConversionWarning: A column-vector y was passed when a 1d array was expected. Please change the shape of y to (n_samples, ), for example using ravel().\n",
            "  y = column_or_1d(y, warn=True)\n"
          ]
        },
        {
          "output_type": "stream",
          "name": "stdout",
          "text": [
            "0.6216216216216216\n"
          ]
        },
        {
          "output_type": "stream",
          "name": "stderr",
          "text": [
            "/usr/local/lib/python3.7/dist-packages/sklearn/neural_network/_multilayer_perceptron.py:1109: DataConversionWarning: A column-vector y was passed when a 1d array was expected. Please change the shape of y to (n_samples, ), for example using ravel().\n",
            "  y = column_or_1d(y, warn=True)\n"
          ]
        },
        {
          "output_type": "stream",
          "name": "stdout",
          "text": [
            "0.5\n"
          ]
        },
        {
          "output_type": "stream",
          "name": "stderr",
          "text": [
            "/usr/local/lib/python3.7/dist-packages/sklearn/neural_network/_multilayer_perceptron.py:1109: DataConversionWarning: A column-vector y was passed when a 1d array was expected. Please change the shape of y to (n_samples, ), for example using ravel().\n",
            "  y = column_or_1d(y, warn=True)\n"
          ]
        },
        {
          "output_type": "stream",
          "name": "stdout",
          "text": [
            "0.8\n"
          ]
        },
        {
          "output_type": "stream",
          "name": "stderr",
          "text": [
            "/usr/local/lib/python3.7/dist-packages/sklearn/neural_network/_multilayer_perceptron.py:1109: DataConversionWarning: A column-vector y was passed when a 1d array was expected. Please change the shape of y to (n_samples, ), for example using ravel().\n",
            "  y = column_or_1d(y, warn=True)\n"
          ]
        },
        {
          "output_type": "stream",
          "name": "stdout",
          "text": [
            "0.47058823529411764\n"
          ]
        },
        {
          "output_type": "stream",
          "name": "stderr",
          "text": [
            "/usr/local/lib/python3.7/dist-packages/sklearn/neural_network/_multilayer_perceptron.py:1109: DataConversionWarning: A column-vector y was passed when a 1d array was expected. Please change the shape of y to (n_samples, ), for example using ravel().\n",
            "  y = column_or_1d(y, warn=True)\n",
            "/usr/local/lib/python3.7/dist-packages/sklearn/metrics/_classification.py:1318: UndefinedMetricWarning: Precision is ill-defined and being set to 0.0 due to no predicted samples. Use `zero_division` parameter to control this behavior.\n",
            "  _warn_prf(average, modifier, msg_start, len(result))\n"
          ]
        },
        {
          "output_type": "stream",
          "name": "stdout",
          "text": [
            "0.0\n"
          ]
        },
        {
          "output_type": "stream",
          "name": "stderr",
          "text": [
            "/usr/local/lib/python3.7/dist-packages/sklearn/neural_network/_multilayer_perceptron.py:1109: DataConversionWarning: A column-vector y was passed when a 1d array was expected. Please change the shape of y to (n_samples, ), for example using ravel().\n",
            "  y = column_or_1d(y, warn=True)\n"
          ]
        },
        {
          "output_type": "stream",
          "name": "stdout",
          "text": [
            "0.5192307692307693\n"
          ]
        },
        {
          "output_type": "stream",
          "name": "stderr",
          "text": [
            "/usr/local/lib/python3.7/dist-packages/sklearn/neural_network/_multilayer_perceptron.py:1109: DataConversionWarning: A column-vector y was passed when a 1d array was expected. Please change the shape of y to (n_samples, ), for example using ravel().\n",
            "  y = column_or_1d(y, warn=True)\n"
          ]
        },
        {
          "output_type": "stream",
          "name": "stdout",
          "text": [
            "0.4956521739130435\n"
          ]
        },
        {
          "output_type": "stream",
          "name": "stderr",
          "text": [
            "/usr/local/lib/python3.7/dist-packages/sklearn/neural_network/_multilayer_perceptron.py:1109: DataConversionWarning: A column-vector y was passed when a 1d array was expected. Please change the shape of y to (n_samples, ), for example using ravel().\n",
            "  y = column_or_1d(y, warn=True)\n"
          ]
        },
        {
          "output_type": "stream",
          "name": "stdout",
          "text": [
            "0.6111111111111112\n"
          ]
        },
        {
          "output_type": "stream",
          "name": "stderr",
          "text": [
            "/usr/local/lib/python3.7/dist-packages/sklearn/neural_network/_multilayer_perceptron.py:1109: DataConversionWarning: A column-vector y was passed when a 1d array was expected. Please change the shape of y to (n_samples, ), for example using ravel().\n",
            "  y = column_or_1d(y, warn=True)\n"
          ]
        },
        {
          "output_type": "stream",
          "name": "stdout",
          "text": [
            "0.5570776255707762\n"
          ]
        },
        {
          "output_type": "stream",
          "name": "stderr",
          "text": [
            "/usr/local/lib/python3.7/dist-packages/sklearn/neural_network/_multilayer_perceptron.py:1109: DataConversionWarning: A column-vector y was passed when a 1d array was expected. Please change the shape of y to (n_samples, ), for example using ravel().\n",
            "  y = column_or_1d(y, warn=True)\n"
          ]
        },
        {
          "output_type": "stream",
          "name": "stdout",
          "text": [
            "0.0\n"
          ]
        },
        {
          "output_type": "stream",
          "name": "stderr",
          "text": [
            "/usr/local/lib/python3.7/dist-packages/sklearn/neural_network/_multilayer_perceptron.py:1109: DataConversionWarning: A column-vector y was passed when a 1d array was expected. Please change the shape of y to (n_samples, ), for example using ravel().\n",
            "  y = column_or_1d(y, warn=True)\n"
          ]
        },
        {
          "output_type": "stream",
          "name": "stdout",
          "text": [
            "0.6666666666666666\n"
          ]
        },
        {
          "output_type": "stream",
          "name": "stderr",
          "text": [
            "/usr/local/lib/python3.7/dist-packages/sklearn/neural_network/_multilayer_perceptron.py:1109: DataConversionWarning: A column-vector y was passed when a 1d array was expected. Please change the shape of y to (n_samples, ), for example using ravel().\n",
            "  y = column_or_1d(y, warn=True)\n",
            "/usr/local/lib/python3.7/dist-packages/sklearn/metrics/_classification.py:1318: UndefinedMetricWarning: Precision is ill-defined and being set to 0.0 due to no predicted samples. Use `zero_division` parameter to control this behavior.\n",
            "  _warn_prf(average, modifier, msg_start, len(result))\n",
            "/usr/local/lib/python3.7/dist-packages/sklearn/neural_network/_multilayer_perceptron.py:1109: DataConversionWarning: A column-vector y was passed when a 1d array was expected. Please change the shape of y to (n_samples, ), for example using ravel().\n",
            "  y = column_or_1d(y, warn=True)\n"
          ]
        },
        {
          "output_type": "stream",
          "name": "stdout",
          "text": [
            "0.0\n",
            "0.5428571428571428\n"
          ]
        },
        {
          "output_type": "stream",
          "name": "stderr",
          "text": [
            "/usr/local/lib/python3.7/dist-packages/sklearn/neural_network/_multilayer_perceptron.py:1109: DataConversionWarning: A column-vector y was passed when a 1d array was expected. Please change the shape of y to (n_samples, ), for example using ravel().\n",
            "  y = column_or_1d(y, warn=True)\n",
            "/usr/local/lib/python3.7/dist-packages/sklearn/metrics/_classification.py:1318: UndefinedMetricWarning: Precision is ill-defined and being set to 0.0 due to no predicted samples. Use `zero_division` parameter to control this behavior.\n",
            "  _warn_prf(average, modifier, msg_start, len(result))\n"
          ]
        },
        {
          "output_type": "stream",
          "name": "stdout",
          "text": [
            "0.0\n"
          ]
        },
        {
          "output_type": "stream",
          "name": "stderr",
          "text": [
            "/usr/local/lib/python3.7/dist-packages/sklearn/neural_network/_multilayer_perceptron.py:1109: DataConversionWarning: A column-vector y was passed when a 1d array was expected. Please change the shape of y to (n_samples, ), for example using ravel().\n",
            "  y = column_or_1d(y, warn=True)\n"
          ]
        },
        {
          "output_type": "stream",
          "name": "stdout",
          "text": [
            "0.5294117647058824\n"
          ]
        },
        {
          "output_type": "stream",
          "name": "stderr",
          "text": [
            "/usr/local/lib/python3.7/dist-packages/sklearn/neural_network/_multilayer_perceptron.py:1109: DataConversionWarning: A column-vector y was passed when a 1d array was expected. Please change the shape of y to (n_samples, ), for example using ravel().\n",
            "  y = column_or_1d(y, warn=True)\n"
          ]
        },
        {
          "output_type": "stream",
          "name": "stdout",
          "text": [
            "0.5529411764705883\n"
          ]
        },
        {
          "output_type": "stream",
          "name": "stderr",
          "text": [
            "/usr/local/lib/python3.7/dist-packages/sklearn/neural_network/_multilayer_perceptron.py:1109: DataConversionWarning: A column-vector y was passed when a 1d array was expected. Please change the shape of y to (n_samples, ), for example using ravel().\n",
            "  y = column_or_1d(y, warn=True)\n",
            "/usr/local/lib/python3.7/dist-packages/sklearn/metrics/_classification.py:1318: UndefinedMetricWarning: Precision is ill-defined and being set to 0.0 due to no predicted samples. Use `zero_division` parameter to control this behavior.\n",
            "  _warn_prf(average, modifier, msg_start, len(result))\n"
          ]
        },
        {
          "output_type": "stream",
          "name": "stdout",
          "text": [
            "0.0\n"
          ]
        },
        {
          "output_type": "stream",
          "name": "stderr",
          "text": [
            "/usr/local/lib/python3.7/dist-packages/sklearn/neural_network/_multilayer_perceptron.py:1109: DataConversionWarning: A column-vector y was passed when a 1d array was expected. Please change the shape of y to (n_samples, ), for example using ravel().\n",
            "  y = column_or_1d(y, warn=True)\n"
          ]
        },
        {
          "output_type": "stream",
          "name": "stdout",
          "text": [
            "0.6271186440677966\n"
          ]
        },
        {
          "output_type": "stream",
          "name": "stderr",
          "text": [
            "/usr/local/lib/python3.7/dist-packages/sklearn/neural_network/_multilayer_perceptron.py:1109: DataConversionWarning: A column-vector y was passed when a 1d array was expected. Please change the shape of y to (n_samples, ), for example using ravel().\n",
            "  y = column_or_1d(y, warn=True)\n"
          ]
        },
        {
          "output_type": "stream",
          "name": "stdout",
          "text": [
            "0.5909090909090909\n"
          ]
        },
        {
          "output_type": "stream",
          "name": "stderr",
          "text": [
            "/usr/local/lib/python3.7/dist-packages/sklearn/neural_network/_multilayer_perceptron.py:1109: DataConversionWarning: A column-vector y was passed when a 1d array was expected. Please change the shape of y to (n_samples, ), for example using ravel().\n",
            "  y = column_or_1d(y, warn=True)\n"
          ]
        },
        {
          "output_type": "stream",
          "name": "stdout",
          "text": [
            "0.4861111111111111\n"
          ]
        },
        {
          "output_type": "stream",
          "name": "stderr",
          "text": [
            "/usr/local/lib/python3.7/dist-packages/sklearn/neural_network/_multilayer_perceptron.py:1109: DataConversionWarning: A column-vector y was passed when a 1d array was expected. Please change the shape of y to (n_samples, ), for example using ravel().\n",
            "  y = column_or_1d(y, warn=True)\n"
          ]
        },
        {
          "output_type": "stream",
          "name": "stdout",
          "text": [
            "0.5909090909090909\n"
          ]
        },
        {
          "output_type": "stream",
          "name": "stderr",
          "text": [
            "/usr/local/lib/python3.7/dist-packages/sklearn/neural_network/_multilayer_perceptron.py:1109: DataConversionWarning: A column-vector y was passed when a 1d array was expected. Please change the shape of y to (n_samples, ), for example using ravel().\n",
            "  y = column_or_1d(y, warn=True)\n",
            "/usr/local/lib/python3.7/dist-packages/sklearn/metrics/_classification.py:1318: UndefinedMetricWarning: Precision is ill-defined and being set to 0.0 due to no predicted samples. Use `zero_division` parameter to control this behavior.\n",
            "  _warn_prf(average, modifier, msg_start, len(result))\n"
          ]
        },
        {
          "output_type": "stream",
          "name": "stdout",
          "text": [
            "0.0\n"
          ]
        },
        {
          "output_type": "stream",
          "name": "stderr",
          "text": [
            "/usr/local/lib/python3.7/dist-packages/sklearn/neural_network/_multilayer_perceptron.py:1109: DataConversionWarning: A column-vector y was passed when a 1d array was expected. Please change the shape of y to (n_samples, ), for example using ravel().\n",
            "  y = column_or_1d(y, warn=True)\n",
            "/usr/local/lib/python3.7/dist-packages/sklearn/metrics/_classification.py:1318: UndefinedMetricWarning: Precision is ill-defined and being set to 0.0 due to no predicted samples. Use `zero_division` parameter to control this behavior.\n",
            "  _warn_prf(average, modifier, msg_start, len(result))\n"
          ]
        },
        {
          "output_type": "stream",
          "name": "stdout",
          "text": [
            "0.0\n"
          ]
        },
        {
          "output_type": "stream",
          "name": "stderr",
          "text": [
            "/usr/local/lib/python3.7/dist-packages/sklearn/neural_network/_multilayer_perceptron.py:1109: DataConversionWarning: A column-vector y was passed when a 1d array was expected. Please change the shape of y to (n_samples, ), for example using ravel().\n",
            "  y = column_or_1d(y, warn=True)\n"
          ]
        },
        {
          "output_type": "stream",
          "name": "stdout",
          "text": [
            "0.42857142857142855\n"
          ]
        },
        {
          "output_type": "stream",
          "name": "stderr",
          "text": [
            "/usr/local/lib/python3.7/dist-packages/sklearn/neural_network/_multilayer_perceptron.py:1109: DataConversionWarning: A column-vector y was passed when a 1d array was expected. Please change the shape of y to (n_samples, ), for example using ravel().\n",
            "  y = column_or_1d(y, warn=True)\n"
          ]
        },
        {
          "output_type": "stream",
          "name": "stdout",
          "text": [
            "0.5842696629213483\n"
          ]
        },
        {
          "output_type": "stream",
          "name": "stderr",
          "text": [
            "/usr/local/lib/python3.7/dist-packages/sklearn/neural_network/_multilayer_perceptron.py:1109: DataConversionWarning: A column-vector y was passed when a 1d array was expected. Please change the shape of y to (n_samples, ), for example using ravel().\n",
            "  y = column_or_1d(y, warn=True)\n"
          ]
        },
        {
          "output_type": "stream",
          "name": "stdout",
          "text": [
            "0.5540540540540541\n"
          ]
        },
        {
          "output_type": "stream",
          "name": "stderr",
          "text": [
            "/usr/local/lib/python3.7/dist-packages/sklearn/neural_network/_multilayer_perceptron.py:1109: DataConversionWarning: A column-vector y was passed when a 1d array was expected. Please change the shape of y to (n_samples, ), for example using ravel().\n",
            "  y = column_or_1d(y, warn=True)\n"
          ]
        },
        {
          "output_type": "stream",
          "name": "stdout",
          "text": [
            "0.46875\n"
          ]
        },
        {
          "output_type": "stream",
          "name": "stderr",
          "text": [
            "/usr/local/lib/python3.7/dist-packages/sklearn/neural_network/_multilayer_perceptron.py:1109: DataConversionWarning: A column-vector y was passed when a 1d array was expected. Please change the shape of y to (n_samples, ), for example using ravel().\n",
            "  y = column_or_1d(y, warn=True)\n"
          ]
        },
        {
          "output_type": "stream",
          "name": "stdout",
          "text": [
            "0.5289672544080605\n"
          ]
        },
        {
          "output_type": "stream",
          "name": "stderr",
          "text": [
            "/usr/local/lib/python3.7/dist-packages/sklearn/neural_network/_multilayer_perceptron.py:1109: DataConversionWarning: A column-vector y was passed when a 1d array was expected. Please change the shape of y to (n_samples, ), for example using ravel().\n",
            "  y = column_or_1d(y, warn=True)\n"
          ]
        },
        {
          "output_type": "stream",
          "name": "stdout",
          "text": [
            "0.5702479338842975\n"
          ]
        },
        {
          "output_type": "stream",
          "name": "stderr",
          "text": [
            "/usr/local/lib/python3.7/dist-packages/sklearn/neural_network/_multilayer_perceptron.py:1109: DataConversionWarning: A column-vector y was passed when a 1d array was expected. Please change the shape of y to (n_samples, ), for example using ravel().\n",
            "  y = column_or_1d(y, warn=True)\n"
          ]
        },
        {
          "output_type": "stream",
          "name": "stdout",
          "text": [
            "0.5522388059701493\n"
          ]
        },
        {
          "output_type": "stream",
          "name": "stderr",
          "text": [
            "/usr/local/lib/python3.7/dist-packages/sklearn/neural_network/_multilayer_perceptron.py:1109: DataConversionWarning: A column-vector y was passed when a 1d array was expected. Please change the shape of y to (n_samples, ), for example using ravel().\n",
            "  y = column_or_1d(y, warn=True)\n"
          ]
        },
        {
          "output_type": "stream",
          "name": "stdout",
          "text": [
            "0.23076923076923078\n"
          ]
        },
        {
          "output_type": "stream",
          "name": "stderr",
          "text": [
            "/usr/local/lib/python3.7/dist-packages/sklearn/neural_network/_multilayer_perceptron.py:1109: DataConversionWarning: A column-vector y was passed when a 1d array was expected. Please change the shape of y to (n_samples, ), for example using ravel().\n",
            "  y = column_or_1d(y, warn=True)\n"
          ]
        },
        {
          "output_type": "stream",
          "name": "stdout",
          "text": [
            "0.5288461538461539\n"
          ]
        },
        {
          "output_type": "stream",
          "name": "stderr",
          "text": [
            "/usr/local/lib/python3.7/dist-packages/sklearn/neural_network/_multilayer_perceptron.py:1109: DataConversionWarning: A column-vector y was passed when a 1d array was expected. Please change the shape of y to (n_samples, ), for example using ravel().\n",
            "  y = column_or_1d(y, warn=True)\n"
          ]
        },
        {
          "output_type": "stream",
          "name": "stdout",
          "text": [
            "0.5106382978723404\n"
          ]
        },
        {
          "output_type": "stream",
          "name": "stderr",
          "text": [
            "/usr/local/lib/python3.7/dist-packages/sklearn/neural_network/_multilayer_perceptron.py:1109: DataConversionWarning: A column-vector y was passed when a 1d array was expected. Please change the shape of y to (n_samples, ), for example using ravel().\n",
            "  y = column_or_1d(y, warn=True)\n"
          ]
        },
        {
          "output_type": "stream",
          "name": "stdout",
          "text": [
            "0.5\n"
          ]
        },
        {
          "output_type": "stream",
          "name": "stderr",
          "text": [
            "/usr/local/lib/python3.7/dist-packages/sklearn/neural_network/_multilayer_perceptron.py:1109: DataConversionWarning: A column-vector y was passed when a 1d array was expected. Please change the shape of y to (n_samples, ), for example using ravel().\n",
            "  y = column_or_1d(y, warn=True)\n"
          ]
        },
        {
          "output_type": "stream",
          "name": "stdout",
          "text": [
            "0.46153846153846156\n"
          ]
        },
        {
          "output_type": "stream",
          "name": "stderr",
          "text": [
            "/usr/local/lib/python3.7/dist-packages/sklearn/neural_network/_multilayer_perceptron.py:1109: DataConversionWarning: A column-vector y was passed when a 1d array was expected. Please change the shape of y to (n_samples, ), for example using ravel().\n",
            "  y = column_or_1d(y, warn=True)\n",
            "/usr/local/lib/python3.7/dist-packages/sklearn/metrics/_classification.py:1318: UndefinedMetricWarning: Precision is ill-defined and being set to 0.0 due to no predicted samples. Use `zero_division` parameter to control this behavior.\n",
            "  _warn_prf(average, modifier, msg_start, len(result))\n"
          ]
        },
        {
          "output_type": "stream",
          "name": "stdout",
          "text": [
            "0.0\n"
          ]
        },
        {
          "output_type": "stream",
          "name": "stderr",
          "text": [
            "/usr/local/lib/python3.7/dist-packages/sklearn/neural_network/_multilayer_perceptron.py:1109: DataConversionWarning: A column-vector y was passed when a 1d array was expected. Please change the shape of y to (n_samples, ), for example using ravel().\n",
            "  y = column_or_1d(y, warn=True)\n"
          ]
        },
        {
          "output_type": "stream",
          "name": "stdout",
          "text": [
            "0.5611510791366906\n"
          ]
        },
        {
          "output_type": "stream",
          "name": "stderr",
          "text": [
            "/usr/local/lib/python3.7/dist-packages/sklearn/neural_network/_multilayer_perceptron.py:1109: DataConversionWarning: A column-vector y was passed when a 1d array was expected. Please change the shape of y to (n_samples, ), for example using ravel().\n",
            "  y = column_or_1d(y, warn=True)\n"
          ]
        },
        {
          "output_type": "stream",
          "name": "stdout",
          "text": [
            "0.5196078431372549\n"
          ]
        },
        {
          "output_type": "stream",
          "name": "stderr",
          "text": [
            "/usr/local/lib/python3.7/dist-packages/sklearn/neural_network/_multilayer_perceptron.py:1109: DataConversionWarning: A column-vector y was passed when a 1d array was expected. Please change the shape of y to (n_samples, ), for example using ravel().\n",
            "  y = column_or_1d(y, warn=True)\n"
          ]
        },
        {
          "output_type": "stream",
          "name": "stdout",
          "text": [
            "0.5398230088495575\n"
          ]
        },
        {
          "output_type": "stream",
          "name": "stderr",
          "text": [
            "/usr/local/lib/python3.7/dist-packages/sklearn/neural_network/_multilayer_perceptron.py:1109: DataConversionWarning: A column-vector y was passed when a 1d array was expected. Please change the shape of y to (n_samples, ), for example using ravel().\n",
            "  y = column_or_1d(y, warn=True)\n"
          ]
        },
        {
          "output_type": "stream",
          "name": "stdout",
          "text": [
            "0.5595854922279793\n"
          ]
        },
        {
          "output_type": "stream",
          "name": "stderr",
          "text": [
            "/usr/local/lib/python3.7/dist-packages/sklearn/neural_network/_multilayer_perceptron.py:1109: DataConversionWarning: A column-vector y was passed when a 1d array was expected. Please change the shape of y to (n_samples, ), for example using ravel().\n",
            "  y = column_or_1d(y, warn=True)\n"
          ]
        },
        {
          "output_type": "stream",
          "name": "stdout",
          "text": [
            "0.5909090909090909\n"
          ]
        },
        {
          "output_type": "stream",
          "name": "stderr",
          "text": [
            "/usr/local/lib/python3.7/dist-packages/sklearn/neural_network/_multilayer_perceptron.py:1109: DataConversionWarning: A column-vector y was passed when a 1d array was expected. Please change the shape of y to (n_samples, ), for example using ravel().\n",
            "  y = column_or_1d(y, warn=True)\n"
          ]
        },
        {
          "output_type": "stream",
          "name": "stdout",
          "text": [
            "0.5945945945945946\n"
          ]
        },
        {
          "output_type": "stream",
          "name": "stderr",
          "text": [
            "/usr/local/lib/python3.7/dist-packages/sklearn/neural_network/_multilayer_perceptron.py:1109: DataConversionWarning: A column-vector y was passed when a 1d array was expected. Please change the shape of y to (n_samples, ), for example using ravel().\n",
            "  y = column_or_1d(y, warn=True)\n"
          ]
        },
        {
          "output_type": "stream",
          "name": "stdout",
          "text": [
            "0.4\n"
          ]
        },
        {
          "output_type": "stream",
          "name": "stderr",
          "text": [
            "/usr/local/lib/python3.7/dist-packages/sklearn/neural_network/_multilayer_perceptron.py:1109: DataConversionWarning: A column-vector y was passed when a 1d array was expected. Please change the shape of y to (n_samples, ), for example using ravel().\n",
            "  y = column_or_1d(y, warn=True)\n",
            "/usr/local/lib/python3.7/dist-packages/sklearn/metrics/_classification.py:1318: UndefinedMetricWarning: Precision is ill-defined and being set to 0.0 due to no predicted samples. Use `zero_division` parameter to control this behavior.\n",
            "  _warn_prf(average, modifier, msg_start, len(result))\n"
          ]
        },
        {
          "output_type": "stream",
          "name": "stdout",
          "text": [
            "0.0\n"
          ]
        },
        {
          "output_type": "stream",
          "name": "stderr",
          "text": [
            "/usr/local/lib/python3.7/dist-packages/sklearn/neural_network/_multilayer_perceptron.py:1109: DataConversionWarning: A column-vector y was passed when a 1d array was expected. Please change the shape of y to (n_samples, ), for example using ravel().\n",
            "  y = column_or_1d(y, warn=True)\n"
          ]
        },
        {
          "output_type": "stream",
          "name": "stdout",
          "text": [
            "0.25\n"
          ]
        },
        {
          "output_type": "stream",
          "name": "stderr",
          "text": [
            "/usr/local/lib/python3.7/dist-packages/sklearn/neural_network/_multilayer_perceptron.py:1109: DataConversionWarning: A column-vector y was passed when a 1d array was expected. Please change the shape of y to (n_samples, ), for example using ravel().\n",
            "  y = column_or_1d(y, warn=True)\n"
          ]
        },
        {
          "output_type": "stream",
          "name": "stdout",
          "text": [
            "0.5397350993377483\n"
          ]
        },
        {
          "output_type": "stream",
          "name": "stderr",
          "text": [
            "/usr/local/lib/python3.7/dist-packages/sklearn/neural_network/_multilayer_perceptron.py:1109: DataConversionWarning: A column-vector y was passed when a 1d array was expected. Please change the shape of y to (n_samples, ), for example using ravel().\n",
            "  y = column_or_1d(y, warn=True)\n"
          ]
        },
        {
          "output_type": "stream",
          "name": "stdout",
          "text": [
            "0.5580357142857143\n"
          ]
        },
        {
          "output_type": "stream",
          "name": "stderr",
          "text": [
            "/usr/local/lib/python3.7/dist-packages/sklearn/neural_network/_multilayer_perceptron.py:1109: DataConversionWarning: A column-vector y was passed when a 1d array was expected. Please change the shape of y to (n_samples, ), for example using ravel().\n",
            "  y = column_or_1d(y, warn=True)\n"
          ]
        },
        {
          "output_type": "stream",
          "name": "stdout",
          "text": [
            "0.5815384615384616\n"
          ]
        },
        {
          "output_type": "stream",
          "name": "stderr",
          "text": [
            "/usr/local/lib/python3.7/dist-packages/sklearn/neural_network/_multilayer_perceptron.py:1109: DataConversionWarning: A column-vector y was passed when a 1d array was expected. Please change the shape of y to (n_samples, ), for example using ravel().\n",
            "  y = column_or_1d(y, warn=True)\n"
          ]
        },
        {
          "output_type": "stream",
          "name": "stdout",
          "text": [
            "0.6236559139784946\n"
          ]
        },
        {
          "output_type": "stream",
          "name": "stderr",
          "text": [
            "/usr/local/lib/python3.7/dist-packages/sklearn/neural_network/_multilayer_perceptron.py:1109: DataConversionWarning: A column-vector y was passed when a 1d array was expected. Please change the shape of y to (n_samples, ), for example using ravel().\n",
            "  y = column_or_1d(y, warn=True)\n"
          ]
        },
        {
          "output_type": "stream",
          "name": "stdout",
          "text": [
            "0.5\n"
          ]
        },
        {
          "output_type": "stream",
          "name": "stderr",
          "text": [
            "/usr/local/lib/python3.7/dist-packages/sklearn/neural_network/_multilayer_perceptron.py:1109: DataConversionWarning: A column-vector y was passed when a 1d array was expected. Please change the shape of y to (n_samples, ), for example using ravel().\n",
            "  y = column_or_1d(y, warn=True)\n",
            "/usr/local/lib/python3.7/dist-packages/sklearn/metrics/_classification.py:1318: UndefinedMetricWarning: Precision is ill-defined and being set to 0.0 due to no predicted samples. Use `zero_division` parameter to control this behavior.\n",
            "  _warn_prf(average, modifier, msg_start, len(result))\n"
          ]
        },
        {
          "output_type": "stream",
          "name": "stdout",
          "text": [
            "0.0\n"
          ]
        },
        {
          "output_type": "stream",
          "name": "stderr",
          "text": [
            "/usr/local/lib/python3.7/dist-packages/sklearn/neural_network/_multilayer_perceptron.py:1109: DataConversionWarning: A column-vector y was passed when a 1d array was expected. Please change the shape of y to (n_samples, ), for example using ravel().\n",
            "  y = column_or_1d(y, warn=True)\n"
          ]
        },
        {
          "output_type": "stream",
          "name": "stdout",
          "text": [
            "0.5575221238938053\n"
          ]
        },
        {
          "output_type": "stream",
          "name": "stderr",
          "text": [
            "/usr/local/lib/python3.7/dist-packages/sklearn/neural_network/_multilayer_perceptron.py:1109: DataConversionWarning: A column-vector y was passed when a 1d array was expected. Please change the shape of y to (n_samples, ), for example using ravel().\n",
            "  y = column_or_1d(y, warn=True)\n"
          ]
        },
        {
          "output_type": "stream",
          "name": "stdout",
          "text": [
            "0.5733333333333334\n"
          ]
        },
        {
          "output_type": "stream",
          "name": "stderr",
          "text": [
            "/usr/local/lib/python3.7/dist-packages/sklearn/neural_network/_multilayer_perceptron.py:1109: DataConversionWarning: A column-vector y was passed when a 1d array was expected. Please change the shape of y to (n_samples, ), for example using ravel().\n",
            "  y = column_or_1d(y, warn=True)\n"
          ]
        },
        {
          "output_type": "stream",
          "name": "stdout",
          "text": [
            "0.46153846153846156\n"
          ]
        },
        {
          "output_type": "stream",
          "name": "stderr",
          "text": [
            "/usr/local/lib/python3.7/dist-packages/sklearn/neural_network/_multilayer_perceptron.py:1109: DataConversionWarning: A column-vector y was passed when a 1d array was expected. Please change the shape of y to (n_samples, ), for example using ravel().\n",
            "  y = column_or_1d(y, warn=True)\n",
            "/usr/local/lib/python3.7/dist-packages/sklearn/metrics/_classification.py:1318: UndefinedMetricWarning: Precision is ill-defined and being set to 0.0 due to no predicted samples. Use `zero_division` parameter to control this behavior.\n",
            "  _warn_prf(average, modifier, msg_start, len(result))\n"
          ]
        },
        {
          "output_type": "stream",
          "name": "stdout",
          "text": [
            "0.0\n"
          ]
        },
        {
          "output_type": "stream",
          "name": "stderr",
          "text": [
            "/usr/local/lib/python3.7/dist-packages/sklearn/neural_network/_multilayer_perceptron.py:1109: DataConversionWarning: A column-vector y was passed when a 1d array was expected. Please change the shape of y to (n_samples, ), for example using ravel().\n",
            "  y = column_or_1d(y, warn=True)\n"
          ]
        },
        {
          "output_type": "stream",
          "name": "stdout",
          "text": [
            "0.6458333333333334\n"
          ]
        },
        {
          "output_type": "stream",
          "name": "stderr",
          "text": [
            "/usr/local/lib/python3.7/dist-packages/sklearn/neural_network/_multilayer_perceptron.py:1109: DataConversionWarning: A column-vector y was passed when a 1d array was expected. Please change the shape of y to (n_samples, ), for example using ravel().\n",
            "  y = column_or_1d(y, warn=True)\n"
          ]
        },
        {
          "output_type": "stream",
          "name": "stdout",
          "text": [
            "0.5302013422818792\n"
          ]
        },
        {
          "output_type": "stream",
          "name": "stderr",
          "text": [
            "/usr/local/lib/python3.7/dist-packages/sklearn/neural_network/_multilayer_perceptron.py:1109: DataConversionWarning: A column-vector y was passed when a 1d array was expected. Please change the shape of y to (n_samples, ), for example using ravel().\n",
            "  y = column_or_1d(y, warn=True)\n"
          ]
        },
        {
          "output_type": "stream",
          "name": "stdout",
          "text": [
            "0.4230769230769231\n"
          ]
        },
        {
          "output_type": "stream",
          "name": "stderr",
          "text": [
            "/usr/local/lib/python3.7/dist-packages/sklearn/neural_network/_multilayer_perceptron.py:1109: DataConversionWarning: A column-vector y was passed when a 1d array was expected. Please change the shape of y to (n_samples, ), for example using ravel().\n",
            "  y = column_or_1d(y, warn=True)\n"
          ]
        },
        {
          "output_type": "stream",
          "name": "stdout",
          "text": [
            "0.5223880597014925\n"
          ]
        },
        {
          "output_type": "stream",
          "name": "stderr",
          "text": [
            "/usr/local/lib/python3.7/dist-packages/sklearn/neural_network/_multilayer_perceptron.py:1109: DataConversionWarning: A column-vector y was passed when a 1d array was expected. Please change the shape of y to (n_samples, ), for example using ravel().\n",
            "  y = column_or_1d(y, warn=True)\n"
          ]
        },
        {
          "output_type": "stream",
          "name": "stdout",
          "text": [
            "1.0\n"
          ]
        },
        {
          "output_type": "stream",
          "name": "stderr",
          "text": [
            "/usr/local/lib/python3.7/dist-packages/sklearn/neural_network/_multilayer_perceptron.py:1109: DataConversionWarning: A column-vector y was passed when a 1d array was expected. Please change the shape of y to (n_samples, ), for example using ravel().\n",
            "  y = column_or_1d(y, warn=True)\n"
          ]
        },
        {
          "output_type": "stream",
          "name": "stdout",
          "text": [
            "0.46987951807228917\n"
          ]
        },
        {
          "output_type": "stream",
          "name": "stderr",
          "text": [
            "/usr/local/lib/python3.7/dist-packages/sklearn/neural_network/_multilayer_perceptron.py:1109: DataConversionWarning: A column-vector y was passed when a 1d array was expected. Please change the shape of y to (n_samples, ), for example using ravel().\n",
            "  y = column_or_1d(y, warn=True)\n"
          ]
        },
        {
          "output_type": "stream",
          "name": "stdout",
          "text": [
            "0.46511627906976744\n"
          ]
        },
        {
          "output_type": "stream",
          "name": "stderr",
          "text": [
            "/usr/local/lib/python3.7/dist-packages/sklearn/neural_network/_multilayer_perceptron.py:1109: DataConversionWarning: A column-vector y was passed when a 1d array was expected. Please change the shape of y to (n_samples, ), for example using ravel().\n",
            "  y = column_or_1d(y, warn=True)\n"
          ]
        },
        {
          "output_type": "stream",
          "name": "stdout",
          "text": [
            "0.44680851063829785\n"
          ]
        },
        {
          "output_type": "stream",
          "name": "stderr",
          "text": [
            "/usr/local/lib/python3.7/dist-packages/sklearn/neural_network/_multilayer_perceptron.py:1109: DataConversionWarning: A column-vector y was passed when a 1d array was expected. Please change the shape of y to (n_samples, ), for example using ravel().\n",
            "  y = column_or_1d(y, warn=True)\n"
          ]
        },
        {
          "output_type": "stream",
          "name": "stdout",
          "text": [
            "0.5053763440860215\n"
          ]
        },
        {
          "output_type": "stream",
          "name": "stderr",
          "text": [
            "/usr/local/lib/python3.7/dist-packages/sklearn/neural_network/_multilayer_perceptron.py:1109: DataConversionWarning: A column-vector y was passed when a 1d array was expected. Please change the shape of y to (n_samples, ), for example using ravel().\n",
            "  y = column_or_1d(y, warn=True)\n"
          ]
        },
        {
          "output_type": "stream",
          "name": "stdout",
          "text": [
            "0.6\n"
          ]
        },
        {
          "output_type": "stream",
          "name": "stderr",
          "text": [
            "/usr/local/lib/python3.7/dist-packages/sklearn/neural_network/_multilayer_perceptron.py:1109: DataConversionWarning: A column-vector y was passed when a 1d array was expected. Please change the shape of y to (n_samples, ), for example using ravel().\n",
            "  y = column_or_1d(y, warn=True)\n"
          ]
        },
        {
          "output_type": "stream",
          "name": "stdout",
          "text": [
            "0.5544554455445545\n"
          ]
        },
        {
          "output_type": "stream",
          "name": "stderr",
          "text": [
            "/usr/local/lib/python3.7/dist-packages/sklearn/neural_network/_multilayer_perceptron.py:1109: DataConversionWarning: A column-vector y was passed when a 1d array was expected. Please change the shape of y to (n_samples, ), for example using ravel().\n",
            "  y = column_or_1d(y, warn=True)\n"
          ]
        },
        {
          "output_type": "stream",
          "name": "stdout",
          "text": [
            "0.49504950495049505\n"
          ]
        },
        {
          "output_type": "stream",
          "name": "stderr",
          "text": [
            "/usr/local/lib/python3.7/dist-packages/sklearn/neural_network/_multilayer_perceptron.py:1109: DataConversionWarning: A column-vector y was passed when a 1d array was expected. Please change the shape of y to (n_samples, ), for example using ravel().\n",
            "  y = column_or_1d(y, warn=True)\n"
          ]
        },
        {
          "output_type": "stream",
          "name": "stdout",
          "text": [
            "0.3333333333333333\n"
          ]
        },
        {
          "output_type": "stream",
          "name": "stderr",
          "text": [
            "/usr/local/lib/python3.7/dist-packages/sklearn/neural_network/_multilayer_perceptron.py:1109: DataConversionWarning: A column-vector y was passed when a 1d array was expected. Please change the shape of y to (n_samples, ), for example using ravel().\n",
            "  y = column_or_1d(y, warn=True)\n"
          ]
        },
        {
          "output_type": "stream",
          "name": "stdout",
          "text": [
            "0.43884892086330934\n"
          ]
        },
        {
          "output_type": "stream",
          "name": "stderr",
          "text": [
            "/usr/local/lib/python3.7/dist-packages/sklearn/neural_network/_multilayer_perceptron.py:1109: DataConversionWarning: A column-vector y was passed when a 1d array was expected. Please change the shape of y to (n_samples, ), for example using ravel().\n",
            "  y = column_or_1d(y, warn=True)\n"
          ]
        },
        {
          "output_type": "stream",
          "name": "stdout",
          "text": [
            "1.0\n"
          ]
        },
        {
          "output_type": "stream",
          "name": "stderr",
          "text": [
            "/usr/local/lib/python3.7/dist-packages/sklearn/neural_network/_multilayer_perceptron.py:1109: DataConversionWarning: A column-vector y was passed when a 1d array was expected. Please change the shape of y to (n_samples, ), for example using ravel().\n",
            "  y = column_or_1d(y, warn=True)\n"
          ]
        },
        {
          "output_type": "stream",
          "name": "stdout",
          "text": [
            "0.375\n"
          ]
        },
        {
          "output_type": "stream",
          "name": "stderr",
          "text": [
            "/usr/local/lib/python3.7/dist-packages/sklearn/neural_network/_multilayer_perceptron.py:1109: DataConversionWarning: A column-vector y was passed when a 1d array was expected. Please change the shape of y to (n_samples, ), for example using ravel().\n",
            "  y = column_or_1d(y, warn=True)\n"
          ]
        },
        {
          "output_type": "stream",
          "name": "stdout",
          "text": [
            "0.573170731707317\n"
          ]
        },
        {
          "output_type": "stream",
          "name": "stderr",
          "text": [
            "/usr/local/lib/python3.7/dist-packages/sklearn/neural_network/_multilayer_perceptron.py:1109: DataConversionWarning: A column-vector y was passed when a 1d array was expected. Please change the shape of y to (n_samples, ), for example using ravel().\n",
            "  y = column_or_1d(y, warn=True)\n"
          ]
        },
        {
          "output_type": "stream",
          "name": "stdout",
          "text": [
            "0.5846153846153846\n"
          ]
        },
        {
          "output_type": "stream",
          "name": "stderr",
          "text": [
            "/usr/local/lib/python3.7/dist-packages/sklearn/neural_network/_multilayer_perceptron.py:1109: DataConversionWarning: A column-vector y was passed when a 1d array was expected. Please change the shape of y to (n_samples, ), for example using ravel().\n",
            "  y = column_or_1d(y, warn=True)\n"
          ]
        },
        {
          "output_type": "stream",
          "name": "stdout",
          "text": [
            "0.3333333333333333\n"
          ]
        },
        {
          "output_type": "stream",
          "name": "stderr",
          "text": [
            "/usr/local/lib/python3.7/dist-packages/sklearn/neural_network/_multilayer_perceptron.py:1109: DataConversionWarning: A column-vector y was passed when a 1d array was expected. Please change the shape of y to (n_samples, ), for example using ravel().\n",
            "  y = column_or_1d(y, warn=True)\n"
          ]
        },
        {
          "output_type": "stream",
          "name": "stdout",
          "text": [
            "0.6470588235294118\n"
          ]
        },
        {
          "output_type": "stream",
          "name": "stderr",
          "text": [
            "/usr/local/lib/python3.7/dist-packages/sklearn/neural_network/_multilayer_perceptron.py:1109: DataConversionWarning: A column-vector y was passed when a 1d array was expected. Please change the shape of y to (n_samples, ), for example using ravel().\n",
            "  y = column_or_1d(y, warn=True)\n"
          ]
        },
        {
          "output_type": "stream",
          "name": "stdout",
          "text": [
            "0.5421686746987951\n"
          ]
        },
        {
          "output_type": "stream",
          "name": "stderr",
          "text": [
            "/usr/local/lib/python3.7/dist-packages/sklearn/neural_network/_multilayer_perceptron.py:1109: DataConversionWarning: A column-vector y was passed when a 1d array was expected. Please change the shape of y to (n_samples, ), for example using ravel().\n",
            "  y = column_or_1d(y, warn=True)\n"
          ]
        },
        {
          "output_type": "stream",
          "name": "stdout",
          "text": [
            "0.449438202247191\n"
          ]
        },
        {
          "output_type": "stream",
          "name": "stderr",
          "text": [
            "/usr/local/lib/python3.7/dist-packages/sklearn/neural_network/_multilayer_perceptron.py:1109: DataConversionWarning: A column-vector y was passed when a 1d array was expected. Please change the shape of y to (n_samples, ), for example using ravel().\n",
            "  y = column_or_1d(y, warn=True)\n"
          ]
        },
        {
          "output_type": "stream",
          "name": "stdout",
          "text": [
            "0.5645161290322581\n"
          ]
        },
        {
          "output_type": "stream",
          "name": "stderr",
          "text": [
            "/usr/local/lib/python3.7/dist-packages/sklearn/neural_network/_multilayer_perceptron.py:1109: DataConversionWarning: A column-vector y was passed when a 1d array was expected. Please change the shape of y to (n_samples, ), for example using ravel().\n",
            "  y = column_or_1d(y, warn=True)\n",
            "/usr/local/lib/python3.7/dist-packages/sklearn/metrics/_classification.py:1318: UndefinedMetricWarning: Precision is ill-defined and being set to 0.0 due to no predicted samples. Use `zero_division` parameter to control this behavior.\n",
            "  _warn_prf(average, modifier, msg_start, len(result))\n"
          ]
        },
        {
          "output_type": "stream",
          "name": "stdout",
          "text": [
            "0.0\n"
          ]
        },
        {
          "output_type": "stream",
          "name": "stderr",
          "text": [
            "/usr/local/lib/python3.7/dist-packages/sklearn/neural_network/_multilayer_perceptron.py:1109: DataConversionWarning: A column-vector y was passed when a 1d array was expected. Please change the shape of y to (n_samples, ), for example using ravel().\n",
            "  y = column_or_1d(y, warn=True)\n"
          ]
        },
        {
          "output_type": "stream",
          "name": "stdout",
          "text": [
            "0.4596774193548387\n"
          ]
        },
        {
          "output_type": "stream",
          "name": "stderr",
          "text": [
            "/usr/local/lib/python3.7/dist-packages/sklearn/neural_network/_multilayer_perceptron.py:1109: DataConversionWarning: A column-vector y was passed when a 1d array was expected. Please change the shape of y to (n_samples, ), for example using ravel().\n",
            "  y = column_or_1d(y, warn=True)\n"
          ]
        },
        {
          "output_type": "stream",
          "name": "stdout",
          "text": [
            "0.5142857142857142\n"
          ]
        },
        {
          "output_type": "stream",
          "name": "stderr",
          "text": [
            "/usr/local/lib/python3.7/dist-packages/sklearn/neural_network/_multilayer_perceptron.py:1109: DataConversionWarning: A column-vector y was passed when a 1d array was expected. Please change the shape of y to (n_samples, ), for example using ravel().\n",
            "  y = column_or_1d(y, warn=True)\n",
            "/usr/local/lib/python3.7/dist-packages/sklearn/metrics/_classification.py:1318: UndefinedMetricWarning: Precision is ill-defined and being set to 0.0 due to no predicted samples. Use `zero_division` parameter to control this behavior.\n",
            "  _warn_prf(average, modifier, msg_start, len(result))\n"
          ]
        },
        {
          "output_type": "stream",
          "name": "stdout",
          "text": [
            "0.0\n"
          ]
        },
        {
          "output_type": "stream",
          "name": "stderr",
          "text": [
            "/usr/local/lib/python3.7/dist-packages/sklearn/neural_network/_multilayer_perceptron.py:1109: DataConversionWarning: A column-vector y was passed when a 1d array was expected. Please change the shape of y to (n_samples, ), for example using ravel().\n",
            "  y = column_or_1d(y, warn=True)\n"
          ]
        },
        {
          "output_type": "stream",
          "name": "stdout",
          "text": [
            "0.524822695035461\n"
          ]
        },
        {
          "output_type": "stream",
          "name": "stderr",
          "text": [
            "/usr/local/lib/python3.7/dist-packages/sklearn/neural_network/_multilayer_perceptron.py:1109: DataConversionWarning: A column-vector y was passed when a 1d array was expected. Please change the shape of y to (n_samples, ), for example using ravel().\n",
            "  y = column_or_1d(y, warn=True)\n"
          ]
        },
        {
          "output_type": "stream",
          "name": "stdout",
          "text": [
            "0.5277777777777778\n"
          ]
        },
        {
          "output_type": "stream",
          "name": "stderr",
          "text": [
            "/usr/local/lib/python3.7/dist-packages/sklearn/neural_network/_multilayer_perceptron.py:1109: DataConversionWarning: A column-vector y was passed when a 1d array was expected. Please change the shape of y to (n_samples, ), for example using ravel().\n",
            "  y = column_or_1d(y, warn=True)\n"
          ]
        },
        {
          "output_type": "stream",
          "name": "stdout",
          "text": [
            "0.5576923076923077\n"
          ]
        },
        {
          "output_type": "stream",
          "name": "stderr",
          "text": [
            "/usr/local/lib/python3.7/dist-packages/sklearn/neural_network/_multilayer_perceptron.py:1109: DataConversionWarning: A column-vector y was passed when a 1d array was expected. Please change the shape of y to (n_samples, ), for example using ravel().\n",
            "  y = column_or_1d(y, warn=True)\n"
          ]
        },
        {
          "output_type": "stream",
          "name": "stdout",
          "text": [
            "0.4452054794520548\n"
          ]
        },
        {
          "output_type": "stream",
          "name": "stderr",
          "text": [
            "/usr/local/lib/python3.7/dist-packages/sklearn/neural_network/_multilayer_perceptron.py:1109: DataConversionWarning: A column-vector y was passed when a 1d array was expected. Please change the shape of y to (n_samples, ), for example using ravel().\n",
            "  y = column_or_1d(y, warn=True)\n",
            "/usr/local/lib/python3.7/dist-packages/sklearn/metrics/_classification.py:1318: UndefinedMetricWarning: Precision is ill-defined and being set to 0.0 due to no predicted samples. Use `zero_division` parameter to control this behavior.\n",
            "  _warn_prf(average, modifier, msg_start, len(result))\n"
          ]
        },
        {
          "output_type": "stream",
          "name": "stdout",
          "text": [
            "0.0\n"
          ]
        },
        {
          "output_type": "stream",
          "name": "stderr",
          "text": [
            "/usr/local/lib/python3.7/dist-packages/sklearn/neural_network/_multilayer_perceptron.py:1109: DataConversionWarning: A column-vector y was passed when a 1d array was expected. Please change the shape of y to (n_samples, ), for example using ravel().\n",
            "  y = column_or_1d(y, warn=True)\n"
          ]
        },
        {
          "output_type": "stream",
          "name": "stdout",
          "text": [
            "0.5522388059701493\n"
          ]
        },
        {
          "output_type": "stream",
          "name": "stderr",
          "text": [
            "/usr/local/lib/python3.7/dist-packages/sklearn/neural_network/_multilayer_perceptron.py:1109: DataConversionWarning: A column-vector y was passed when a 1d array was expected. Please change the shape of y to (n_samples, ), for example using ravel().\n",
            "  y = column_or_1d(y, warn=True)\n"
          ]
        },
        {
          "output_type": "stream",
          "name": "stdout",
          "text": [
            "0.0\n"
          ]
        },
        {
          "output_type": "stream",
          "name": "stderr",
          "text": [
            "/usr/local/lib/python3.7/dist-packages/sklearn/neural_network/_multilayer_perceptron.py:1109: DataConversionWarning: A column-vector y was passed when a 1d array was expected. Please change the shape of y to (n_samples, ), for example using ravel().\n",
            "  y = column_or_1d(y, warn=True)\n"
          ]
        },
        {
          "output_type": "stream",
          "name": "stdout",
          "text": [
            "0.5\n"
          ]
        },
        {
          "output_type": "stream",
          "name": "stderr",
          "text": [
            "/usr/local/lib/python3.7/dist-packages/sklearn/neural_network/_multilayer_perceptron.py:1109: DataConversionWarning: A column-vector y was passed when a 1d array was expected. Please change the shape of y to (n_samples, ), for example using ravel().\n",
            "  y = column_or_1d(y, warn=True)\n"
          ]
        },
        {
          "output_type": "stream",
          "name": "stdout",
          "text": [
            "0.5990566037735849\n"
          ]
        },
        {
          "output_type": "stream",
          "name": "stderr",
          "text": [
            "/usr/local/lib/python3.7/dist-packages/sklearn/neural_network/_multilayer_perceptron.py:1109: DataConversionWarning: A column-vector y was passed when a 1d array was expected. Please change the shape of y to (n_samples, ), for example using ravel().\n",
            "  y = column_or_1d(y, warn=True)\n"
          ]
        },
        {
          "output_type": "stream",
          "name": "stdout",
          "text": [
            "0.5058823529411764\n"
          ]
        },
        {
          "output_type": "stream",
          "name": "stderr",
          "text": [
            "/usr/local/lib/python3.7/dist-packages/sklearn/neural_network/_multilayer_perceptron.py:1109: DataConversionWarning: A column-vector y was passed when a 1d array was expected. Please change the shape of y to (n_samples, ), for example using ravel().\n",
            "  y = column_or_1d(y, warn=True)\n"
          ]
        },
        {
          "output_type": "stream",
          "name": "stdout",
          "text": [
            "0.4583333333333333\n"
          ]
        },
        {
          "output_type": "stream",
          "name": "stderr",
          "text": [
            "/usr/local/lib/python3.7/dist-packages/sklearn/neural_network/_multilayer_perceptron.py:1109: DataConversionWarning: A column-vector y was passed when a 1d array was expected. Please change the shape of y to (n_samples, ), for example using ravel().\n",
            "  y = column_or_1d(y, warn=True)\n"
          ]
        },
        {
          "output_type": "stream",
          "name": "stdout",
          "text": [
            "0.5066666666666667\n"
          ]
        },
        {
          "output_type": "stream",
          "name": "stderr",
          "text": [
            "/usr/local/lib/python3.7/dist-packages/sklearn/neural_network/_multilayer_perceptron.py:1109: DataConversionWarning: A column-vector y was passed when a 1d array was expected. Please change the shape of y to (n_samples, ), for example using ravel().\n",
            "  y = column_or_1d(y, warn=True)\n",
            "/usr/local/lib/python3.7/dist-packages/sklearn/neural_network/_multilayer_perceptron.py:696: ConvergenceWarning: Stochastic Optimizer: Maximum iterations (200) reached and the optimization hasn't converged yet.\n",
            "  ConvergenceWarning,\n"
          ]
        },
        {
          "output_type": "stream",
          "name": "stdout",
          "text": [
            "0.5739130434782609\n"
          ]
        },
        {
          "output_type": "stream",
          "name": "stderr",
          "text": [
            "/usr/local/lib/python3.7/dist-packages/sklearn/neural_network/_multilayer_perceptron.py:1109: DataConversionWarning: A column-vector y was passed when a 1d array was expected. Please change the shape of y to (n_samples, ), for example using ravel().\n",
            "  y = column_or_1d(y, warn=True)\n"
          ]
        },
        {
          "output_type": "stream",
          "name": "stdout",
          "text": [
            "1.0\n"
          ]
        },
        {
          "output_type": "stream",
          "name": "stderr",
          "text": [
            "/usr/local/lib/python3.7/dist-packages/sklearn/neural_network/_multilayer_perceptron.py:1109: DataConversionWarning: A column-vector y was passed when a 1d array was expected. Please change the shape of y to (n_samples, ), for example using ravel().\n",
            "  y = column_or_1d(y, warn=True)\n",
            "/usr/local/lib/python3.7/dist-packages/sklearn/metrics/_classification.py:1318: UndefinedMetricWarning: Precision is ill-defined and being set to 0.0 due to no predicted samples. Use `zero_division` parameter to control this behavior.\n",
            "  _warn_prf(average, modifier, msg_start, len(result))\n"
          ]
        },
        {
          "output_type": "stream",
          "name": "stdout",
          "text": [
            "0.0\n"
          ]
        },
        {
          "output_type": "stream",
          "name": "stderr",
          "text": [
            "/usr/local/lib/python3.7/dist-packages/sklearn/neural_network/_multilayer_perceptron.py:1109: DataConversionWarning: A column-vector y was passed when a 1d array was expected. Please change the shape of y to (n_samples, ), for example using ravel().\n",
            "  y = column_or_1d(y, warn=True)\n"
          ]
        },
        {
          "output_type": "stream",
          "name": "stdout",
          "text": [
            "0.5225225225225225\n"
          ]
        },
        {
          "output_type": "stream",
          "name": "stderr",
          "text": [
            "/usr/local/lib/python3.7/dist-packages/sklearn/neural_network/_multilayer_perceptron.py:1109: DataConversionWarning: A column-vector y was passed when a 1d array was expected. Please change the shape of y to (n_samples, ), for example using ravel().\n",
            "  y = column_or_1d(y, warn=True)\n"
          ]
        },
        {
          "output_type": "stream",
          "name": "stdout",
          "text": [
            "0.5277777777777778\n"
          ]
        },
        {
          "output_type": "stream",
          "name": "stderr",
          "text": [
            "/usr/local/lib/python3.7/dist-packages/sklearn/neural_network/_multilayer_perceptron.py:1109: DataConversionWarning: A column-vector y was passed when a 1d array was expected. Please change the shape of y to (n_samples, ), for example using ravel().\n",
            "  y = column_or_1d(y, warn=True)\n"
          ]
        },
        {
          "output_type": "stream",
          "name": "stdout",
          "text": [
            "0.5197368421052632\n"
          ]
        },
        {
          "output_type": "stream",
          "name": "stderr",
          "text": [
            "/usr/local/lib/python3.7/dist-packages/sklearn/neural_network/_multilayer_perceptron.py:1109: DataConversionWarning: A column-vector y was passed when a 1d array was expected. Please change the shape of y to (n_samples, ), for example using ravel().\n",
            "  y = column_or_1d(y, warn=True)\n"
          ]
        },
        {
          "output_type": "stream",
          "name": "stdout",
          "text": [
            "0.5\n"
          ]
        },
        {
          "output_type": "stream",
          "name": "stderr",
          "text": [
            "/usr/local/lib/python3.7/dist-packages/sklearn/neural_network/_multilayer_perceptron.py:1109: DataConversionWarning: A column-vector y was passed when a 1d array was expected. Please change the shape of y to (n_samples, ), for example using ravel().\n",
            "  y = column_or_1d(y, warn=True)\n"
          ]
        },
        {
          "output_type": "stream",
          "name": "stdout",
          "text": [
            "0.5454545454545454\n"
          ]
        },
        {
          "output_type": "stream",
          "name": "stderr",
          "text": [
            "/usr/local/lib/python3.7/dist-packages/sklearn/neural_network/_multilayer_perceptron.py:1109: DataConversionWarning: A column-vector y was passed when a 1d array was expected. Please change the shape of y to (n_samples, ), for example using ravel().\n",
            "  y = column_or_1d(y, warn=True)\n"
          ]
        },
        {
          "output_type": "stream",
          "name": "stdout",
          "text": [
            "0.453781512605042\n"
          ]
        },
        {
          "output_type": "stream",
          "name": "stderr",
          "text": [
            "/usr/local/lib/python3.7/dist-packages/sklearn/neural_network/_multilayer_perceptron.py:1109: DataConversionWarning: A column-vector y was passed when a 1d array was expected. Please change the shape of y to (n_samples, ), for example using ravel().\n",
            "  y = column_or_1d(y, warn=True)\n"
          ]
        },
        {
          "output_type": "stream",
          "name": "stdout",
          "text": [
            "0.4939759036144578\n"
          ]
        },
        {
          "output_type": "stream",
          "name": "stderr",
          "text": [
            "/usr/local/lib/python3.7/dist-packages/sklearn/neural_network/_multilayer_perceptron.py:1109: DataConversionWarning: A column-vector y was passed when a 1d array was expected. Please change the shape of y to (n_samples, ), for example using ravel().\n",
            "  y = column_or_1d(y, warn=True)\n"
          ]
        },
        {
          "output_type": "stream",
          "name": "stdout",
          "text": [
            "1.0\n"
          ]
        },
        {
          "output_type": "stream",
          "name": "stderr",
          "text": [
            "/usr/local/lib/python3.7/dist-packages/sklearn/neural_network/_multilayer_perceptron.py:1109: DataConversionWarning: A column-vector y was passed when a 1d array was expected. Please change the shape of y to (n_samples, ), for example using ravel().\n",
            "  y = column_or_1d(y, warn=True)\n"
          ]
        },
        {
          "output_type": "stream",
          "name": "stdout",
          "text": [
            "0.5823529411764706\n"
          ]
        },
        {
          "output_type": "stream",
          "name": "stderr",
          "text": [
            "/usr/local/lib/python3.7/dist-packages/sklearn/neural_network/_multilayer_perceptron.py:1109: DataConversionWarning: A column-vector y was passed when a 1d array was expected. Please change the shape of y to (n_samples, ), for example using ravel().\n",
            "  y = column_or_1d(y, warn=True)\n",
            "/usr/local/lib/python3.7/dist-packages/sklearn/metrics/_classification.py:1318: UndefinedMetricWarning: Precision is ill-defined and being set to 0.0 due to no predicted samples. Use `zero_division` parameter to control this behavior.\n",
            "  _warn_prf(average, modifier, msg_start, len(result))\n"
          ]
        },
        {
          "output_type": "stream",
          "name": "stdout",
          "text": [
            "0.0\n"
          ]
        },
        {
          "output_type": "stream",
          "name": "stderr",
          "text": [
            "/usr/local/lib/python3.7/dist-packages/sklearn/neural_network/_multilayer_perceptron.py:1109: DataConversionWarning: A column-vector y was passed when a 1d array was expected. Please change the shape of y to (n_samples, ), for example using ravel().\n",
            "  y = column_or_1d(y, warn=True)\n"
          ]
        },
        {
          "output_type": "stream",
          "name": "stdout",
          "text": [
            "0.5671641791044776\n"
          ]
        },
        {
          "output_type": "stream",
          "name": "stderr",
          "text": [
            "/usr/local/lib/python3.7/dist-packages/sklearn/neural_network/_multilayer_perceptron.py:1109: DataConversionWarning: A column-vector y was passed when a 1d array was expected. Please change the shape of y to (n_samples, ), for example using ravel().\n",
            "  y = column_or_1d(y, warn=True)\n"
          ]
        },
        {
          "output_type": "stream",
          "name": "stdout",
          "text": [
            "0.512396694214876\n"
          ]
        },
        {
          "output_type": "stream",
          "name": "stderr",
          "text": [
            "/usr/local/lib/python3.7/dist-packages/sklearn/neural_network/_multilayer_perceptron.py:1109: DataConversionWarning: A column-vector y was passed when a 1d array was expected. Please change the shape of y to (n_samples, ), for example using ravel().\n",
            "  y = column_or_1d(y, warn=True)\n",
            "/usr/local/lib/python3.7/dist-packages/sklearn/metrics/_classification.py:1318: UndefinedMetricWarning: Precision is ill-defined and being set to 0.0 due to no predicted samples. Use `zero_division` parameter to control this behavior.\n",
            "  _warn_prf(average, modifier, msg_start, len(result))\n"
          ]
        },
        {
          "output_type": "stream",
          "name": "stdout",
          "text": [
            "0.0\n"
          ]
        },
        {
          "output_type": "stream",
          "name": "stderr",
          "text": [
            "/usr/local/lib/python3.7/dist-packages/sklearn/neural_network/_multilayer_perceptron.py:1109: DataConversionWarning: A column-vector y was passed when a 1d array was expected. Please change the shape of y to (n_samples, ), for example using ravel().\n",
            "  y = column_or_1d(y, warn=True)\n"
          ]
        },
        {
          "output_type": "stream",
          "name": "stdout",
          "text": [
            "0.6363636363636364\n"
          ]
        },
        {
          "output_type": "stream",
          "name": "stderr",
          "text": [
            "/usr/local/lib/python3.7/dist-packages/sklearn/neural_network/_multilayer_perceptron.py:1109: DataConversionWarning: A column-vector y was passed when a 1d array was expected. Please change the shape of y to (n_samples, ), for example using ravel().\n",
            "  y = column_or_1d(y, warn=True)\n"
          ]
        },
        {
          "output_type": "stream",
          "name": "stdout",
          "text": [
            "0.5466666666666666\n"
          ]
        },
        {
          "output_type": "stream",
          "name": "stderr",
          "text": [
            "/usr/local/lib/python3.7/dist-packages/sklearn/neural_network/_multilayer_perceptron.py:1109: DataConversionWarning: A column-vector y was passed when a 1d array was expected. Please change the shape of y to (n_samples, ), for example using ravel().\n",
            "  y = column_or_1d(y, warn=True)\n"
          ]
        },
        {
          "output_type": "stream",
          "name": "stdout",
          "text": [
            "0.5364705882352941\n"
          ]
        },
        {
          "output_type": "stream",
          "name": "stderr",
          "text": [
            "/usr/local/lib/python3.7/dist-packages/sklearn/neural_network/_multilayer_perceptron.py:1109: DataConversionWarning: A column-vector y was passed when a 1d array was expected. Please change the shape of y to (n_samples, ), for example using ravel().\n",
            "  y = column_or_1d(y, warn=True)\n"
          ]
        },
        {
          "output_type": "stream",
          "name": "stdout",
          "text": [
            "0.5882352941176471\n"
          ]
        },
        {
          "output_type": "stream",
          "name": "stderr",
          "text": [
            "/usr/local/lib/python3.7/dist-packages/sklearn/neural_network/_multilayer_perceptron.py:1109: DataConversionWarning: A column-vector y was passed when a 1d array was expected. Please change the shape of y to (n_samples, ), for example using ravel().\n",
            "  y = column_or_1d(y, warn=True)\n"
          ]
        },
        {
          "output_type": "stream",
          "name": "stdout",
          "text": [
            "0.0\n"
          ]
        },
        {
          "output_type": "stream",
          "name": "stderr",
          "text": [
            "/usr/local/lib/python3.7/dist-packages/sklearn/neural_network/_multilayer_perceptron.py:1109: DataConversionWarning: A column-vector y was passed when a 1d array was expected. Please change the shape of y to (n_samples, ), for example using ravel().\n",
            "  y = column_or_1d(y, warn=True)\n"
          ]
        },
        {
          "output_type": "stream",
          "name": "stdout",
          "text": [
            "0.6\n"
          ]
        },
        {
          "output_type": "stream",
          "name": "stderr",
          "text": [
            "/usr/local/lib/python3.7/dist-packages/sklearn/neural_network/_multilayer_perceptron.py:1109: DataConversionWarning: A column-vector y was passed when a 1d array was expected. Please change the shape of y to (n_samples, ), for example using ravel().\n",
            "  y = column_or_1d(y, warn=True)\n"
          ]
        },
        {
          "output_type": "stream",
          "name": "stdout",
          "text": [
            "0.5157894736842106\n"
          ]
        },
        {
          "output_type": "stream",
          "name": "stderr",
          "text": [
            "/usr/local/lib/python3.7/dist-packages/sklearn/neural_network/_multilayer_perceptron.py:1109: DataConversionWarning: A column-vector y was passed when a 1d array was expected. Please change the shape of y to (n_samples, ), for example using ravel().\n",
            "  y = column_or_1d(y, warn=True)\n",
            "/usr/local/lib/python3.7/dist-packages/sklearn/metrics/_classification.py:1318: UndefinedMetricWarning: Precision is ill-defined and being set to 0.0 due to no predicted samples. Use `zero_division` parameter to control this behavior.\n",
            "  _warn_prf(average, modifier, msg_start, len(result))\n"
          ]
        },
        {
          "output_type": "stream",
          "name": "stdout",
          "text": [
            "0.0\n"
          ]
        },
        {
          "output_type": "stream",
          "name": "stderr",
          "text": [
            "/usr/local/lib/python3.7/dist-packages/sklearn/neural_network/_multilayer_perceptron.py:1109: DataConversionWarning: A column-vector y was passed when a 1d array was expected. Please change the shape of y to (n_samples, ), for example using ravel().\n",
            "  y = column_or_1d(y, warn=True)\n",
            "/usr/local/lib/python3.7/dist-packages/sklearn/metrics/_classification.py:1318: UndefinedMetricWarning: Precision is ill-defined and being set to 0.0 due to no predicted samples. Use `zero_division` parameter to control this behavior.\n",
            "  _warn_prf(average, modifier, msg_start, len(result))\n"
          ]
        },
        {
          "output_type": "stream",
          "name": "stdout",
          "text": [
            "0.0\n"
          ]
        },
        {
          "output_type": "stream",
          "name": "stderr",
          "text": [
            "/usr/local/lib/python3.7/dist-packages/sklearn/neural_network/_multilayer_perceptron.py:1109: DataConversionWarning: A column-vector y was passed when a 1d array was expected. Please change the shape of y to (n_samples, ), for example using ravel().\n",
            "  y = column_or_1d(y, warn=True)\n",
            "/usr/local/lib/python3.7/dist-packages/sklearn/metrics/_classification.py:1318: UndefinedMetricWarning: Precision is ill-defined and being set to 0.0 due to no predicted samples. Use `zero_division` parameter to control this behavior.\n",
            "  _warn_prf(average, modifier, msg_start, len(result))\n"
          ]
        },
        {
          "output_type": "stream",
          "name": "stdout",
          "text": [
            "0.0\n"
          ]
        },
        {
          "output_type": "stream",
          "name": "stderr",
          "text": [
            "/usr/local/lib/python3.7/dist-packages/sklearn/neural_network/_multilayer_perceptron.py:1109: DataConversionWarning: A column-vector y was passed when a 1d array was expected. Please change the shape of y to (n_samples, ), for example using ravel().\n",
            "  y = column_or_1d(y, warn=True)\n"
          ]
        },
        {
          "output_type": "stream",
          "name": "stdout",
          "text": [
            "0.5465116279069767\n"
          ]
        },
        {
          "output_type": "stream",
          "name": "stderr",
          "text": [
            "/usr/local/lib/python3.7/dist-packages/sklearn/neural_network/_multilayer_perceptron.py:1109: DataConversionWarning: A column-vector y was passed when a 1d array was expected. Please change the shape of y to (n_samples, ), for example using ravel().\n",
            "  y = column_or_1d(y, warn=True)\n",
            "/usr/local/lib/python3.7/dist-packages/sklearn/metrics/_classification.py:1318: UndefinedMetricWarning: Precision is ill-defined and being set to 0.0 due to no predicted samples. Use `zero_division` parameter to control this behavior.\n",
            "  _warn_prf(average, modifier, msg_start, len(result))\n"
          ]
        },
        {
          "output_type": "stream",
          "name": "stdout",
          "text": [
            "0.0\n"
          ]
        },
        {
          "output_type": "stream",
          "name": "stderr",
          "text": [
            "/usr/local/lib/python3.7/dist-packages/sklearn/neural_network/_multilayer_perceptron.py:1109: DataConversionWarning: A column-vector y was passed when a 1d array was expected. Please change the shape of y to (n_samples, ), for example using ravel().\n",
            "  y = column_or_1d(y, warn=True)\n"
          ]
        },
        {
          "output_type": "stream",
          "name": "stdout",
          "text": [
            "0.4897959183673469\n"
          ]
        },
        {
          "output_type": "stream",
          "name": "stderr",
          "text": [
            "/usr/local/lib/python3.7/dist-packages/sklearn/neural_network/_multilayer_perceptron.py:1109: DataConversionWarning: A column-vector y was passed when a 1d array was expected. Please change the shape of y to (n_samples, ), for example using ravel().\n",
            "  y = column_or_1d(y, warn=True)\n"
          ]
        },
        {
          "output_type": "stream",
          "name": "stdout",
          "text": [
            "0.5\n"
          ]
        },
        {
          "output_type": "stream",
          "name": "stderr",
          "text": [
            "/usr/local/lib/python3.7/dist-packages/sklearn/neural_network/_multilayer_perceptron.py:1109: DataConversionWarning: A column-vector y was passed when a 1d array was expected. Please change the shape of y to (n_samples, ), for example using ravel().\n",
            "  y = column_or_1d(y, warn=True)\n"
          ]
        },
        {
          "output_type": "stream",
          "name": "stdout",
          "text": [
            "0.6296296296296297\n"
          ]
        },
        {
          "output_type": "stream",
          "name": "stderr",
          "text": [
            "/usr/local/lib/python3.7/dist-packages/sklearn/neural_network/_multilayer_perceptron.py:1109: DataConversionWarning: A column-vector y was passed when a 1d array was expected. Please change the shape of y to (n_samples, ), for example using ravel().\n",
            "  y = column_or_1d(y, warn=True)\n",
            "/usr/local/lib/python3.7/dist-packages/sklearn/metrics/_classification.py:1318: UndefinedMetricWarning: Precision is ill-defined and being set to 0.0 due to no predicted samples. Use `zero_division` parameter to control this behavior.\n",
            "  _warn_prf(average, modifier, msg_start, len(result))\n"
          ]
        },
        {
          "output_type": "stream",
          "name": "stdout",
          "text": [
            "0.0\n"
          ]
        },
        {
          "output_type": "stream",
          "name": "stderr",
          "text": [
            "/usr/local/lib/python3.7/dist-packages/sklearn/neural_network/_multilayer_perceptron.py:1109: DataConversionWarning: A column-vector y was passed when a 1d array was expected. Please change the shape of y to (n_samples, ), for example using ravel().\n",
            "  y = column_or_1d(y, warn=True)\n",
            "/usr/local/lib/python3.7/dist-packages/sklearn/metrics/_classification.py:1318: UndefinedMetricWarning: Precision is ill-defined and being set to 0.0 due to no predicted samples. Use `zero_division` parameter to control this behavior.\n",
            "  _warn_prf(average, modifier, msg_start, len(result))\n"
          ]
        },
        {
          "output_type": "stream",
          "name": "stdout",
          "text": [
            "0.0\n"
          ]
        },
        {
          "output_type": "stream",
          "name": "stderr",
          "text": [
            "/usr/local/lib/python3.7/dist-packages/sklearn/neural_network/_multilayer_perceptron.py:1109: DataConversionWarning: A column-vector y was passed when a 1d array was expected. Please change the shape of y to (n_samples, ), for example using ravel().\n",
            "  y = column_or_1d(y, warn=True)\n"
          ]
        },
        {
          "output_type": "stream",
          "name": "stdout",
          "text": [
            "0.0\n"
          ]
        },
        {
          "output_type": "stream",
          "name": "stderr",
          "text": [
            "/usr/local/lib/python3.7/dist-packages/sklearn/neural_network/_multilayer_perceptron.py:1109: DataConversionWarning: A column-vector y was passed when a 1d array was expected. Please change the shape of y to (n_samples, ), for example using ravel().\n",
            "  y = column_or_1d(y, warn=True)\n"
          ]
        },
        {
          "output_type": "stream",
          "name": "stdout",
          "text": [
            "1.0\n"
          ]
        },
        {
          "output_type": "stream",
          "name": "stderr",
          "text": [
            "/usr/local/lib/python3.7/dist-packages/sklearn/neural_network/_multilayer_perceptron.py:1109: DataConversionWarning: A column-vector y was passed when a 1d array was expected. Please change the shape of y to (n_samples, ), for example using ravel().\n",
            "  y = column_or_1d(y, warn=True)\n"
          ]
        },
        {
          "output_type": "stream",
          "name": "stdout",
          "text": [
            "0.5862068965517241\n"
          ]
        },
        {
          "output_type": "stream",
          "name": "stderr",
          "text": [
            "/usr/local/lib/python3.7/dist-packages/sklearn/neural_network/_multilayer_perceptron.py:1109: DataConversionWarning: A column-vector y was passed when a 1d array was expected. Please change the shape of y to (n_samples, ), for example using ravel().\n",
            "  y = column_or_1d(y, warn=True)\n"
          ]
        },
        {
          "output_type": "stream",
          "name": "stdout",
          "text": [
            "0.48\n"
          ]
        },
        {
          "output_type": "stream",
          "name": "stderr",
          "text": [
            "/usr/local/lib/python3.7/dist-packages/sklearn/neural_network/_multilayer_perceptron.py:1109: DataConversionWarning: A column-vector y was passed when a 1d array was expected. Please change the shape of y to (n_samples, ), for example using ravel().\n",
            "  y = column_or_1d(y, warn=True)\n"
          ]
        },
        {
          "output_type": "stream",
          "name": "stdout",
          "text": [
            "0.6666666666666666\n"
          ]
        },
        {
          "output_type": "stream",
          "name": "stderr",
          "text": [
            "/usr/local/lib/python3.7/dist-packages/sklearn/neural_network/_multilayer_perceptron.py:1109: DataConversionWarning: A column-vector y was passed when a 1d array was expected. Please change the shape of y to (n_samples, ), for example using ravel().\n",
            "  y = column_or_1d(y, warn=True)\n"
          ]
        },
        {
          "output_type": "stream",
          "name": "stdout",
          "text": [
            "0.5087719298245614\n"
          ]
        },
        {
          "output_type": "stream",
          "name": "stderr",
          "text": [
            "/usr/local/lib/python3.7/dist-packages/sklearn/neural_network/_multilayer_perceptron.py:1109: DataConversionWarning: A column-vector y was passed when a 1d array was expected. Please change the shape of y to (n_samples, ), for example using ravel().\n",
            "  y = column_or_1d(y, warn=True)\n"
          ]
        },
        {
          "output_type": "stream",
          "name": "stdout",
          "text": [
            "0.4411764705882353\n"
          ]
        },
        {
          "output_type": "stream",
          "name": "stderr",
          "text": [
            "/usr/local/lib/python3.7/dist-packages/sklearn/neural_network/_multilayer_perceptron.py:1109: DataConversionWarning: A column-vector y was passed when a 1d array was expected. Please change the shape of y to (n_samples, ), for example using ravel().\n",
            "  y = column_or_1d(y, warn=True)\n"
          ]
        },
        {
          "output_type": "stream",
          "name": "stdout",
          "text": [
            "0.5\n"
          ]
        },
        {
          "output_type": "stream",
          "name": "stderr",
          "text": [
            "/usr/local/lib/python3.7/dist-packages/sklearn/neural_network/_multilayer_perceptron.py:1109: DataConversionWarning: A column-vector y was passed when a 1d array was expected. Please change the shape of y to (n_samples, ), for example using ravel().\n",
            "  y = column_or_1d(y, warn=True)\n"
          ]
        },
        {
          "output_type": "stream",
          "name": "stdout",
          "text": [
            "0.4394904458598726\n"
          ]
        },
        {
          "output_type": "stream",
          "name": "stderr",
          "text": [
            "/usr/local/lib/python3.7/dist-packages/sklearn/neural_network/_multilayer_perceptron.py:1109: DataConversionWarning: A column-vector y was passed when a 1d array was expected. Please change the shape of y to (n_samples, ), for example using ravel().\n",
            "  y = column_or_1d(y, warn=True)\n"
          ]
        },
        {
          "output_type": "stream",
          "name": "stdout",
          "text": [
            "0.510752688172043\n"
          ]
        },
        {
          "output_type": "stream",
          "name": "stderr",
          "text": [
            "/usr/local/lib/python3.7/dist-packages/sklearn/neural_network/_multilayer_perceptron.py:1109: DataConversionWarning: A column-vector y was passed when a 1d array was expected. Please change the shape of y to (n_samples, ), for example using ravel().\n",
            "  y = column_or_1d(y, warn=True)\n",
            "/usr/local/lib/python3.7/dist-packages/sklearn/metrics/_classification.py:1318: UndefinedMetricWarning: Precision is ill-defined and being set to 0.0 due to no predicted samples. Use `zero_division` parameter to control this behavior.\n",
            "  _warn_prf(average, modifier, msg_start, len(result))\n"
          ]
        },
        {
          "output_type": "stream",
          "name": "stdout",
          "text": [
            "0.0\n"
          ]
        },
        {
          "output_type": "stream",
          "name": "stderr",
          "text": [
            "/usr/local/lib/python3.7/dist-packages/sklearn/neural_network/_multilayer_perceptron.py:1109: DataConversionWarning: A column-vector y was passed when a 1d array was expected. Please change the shape of y to (n_samples, ), for example using ravel().\n",
            "  y = column_or_1d(y, warn=True)\n"
          ]
        },
        {
          "output_type": "stream",
          "name": "stdout",
          "text": [
            "0.5666666666666667\n"
          ]
        },
        {
          "output_type": "stream",
          "name": "stderr",
          "text": [
            "/usr/local/lib/python3.7/dist-packages/sklearn/neural_network/_multilayer_perceptron.py:1109: DataConversionWarning: A column-vector y was passed when a 1d array was expected. Please change the shape of y to (n_samples, ), for example using ravel().\n",
            "  y = column_or_1d(y, warn=True)\n",
            "/usr/local/lib/python3.7/dist-packages/sklearn/metrics/_classification.py:1318: UndefinedMetricWarning: Precision is ill-defined and being set to 0.0 due to no predicted samples. Use `zero_division` parameter to control this behavior.\n",
            "  _warn_prf(average, modifier, msg_start, len(result))\n"
          ]
        },
        {
          "output_type": "stream",
          "name": "stdout",
          "text": [
            "0.0\n"
          ]
        },
        {
          "output_type": "stream",
          "name": "stderr",
          "text": [
            "/usr/local/lib/python3.7/dist-packages/sklearn/neural_network/_multilayer_perceptron.py:1109: DataConversionWarning: A column-vector y was passed when a 1d array was expected. Please change the shape of y to (n_samples, ), for example using ravel().\n",
            "  y = column_or_1d(y, warn=True)\n"
          ]
        },
        {
          "output_type": "stream",
          "name": "stdout",
          "text": [
            "0.5592105263157895\n"
          ]
        },
        {
          "output_type": "stream",
          "name": "stderr",
          "text": [
            "/usr/local/lib/python3.7/dist-packages/sklearn/neural_network/_multilayer_perceptron.py:1109: DataConversionWarning: A column-vector y was passed when a 1d array was expected. Please change the shape of y to (n_samples, ), for example using ravel().\n",
            "  y = column_or_1d(y, warn=True)\n"
          ]
        },
        {
          "output_type": "stream",
          "name": "stdout",
          "text": [
            "0.547945205479452\n"
          ]
        },
        {
          "output_type": "stream",
          "name": "stderr",
          "text": [
            "/usr/local/lib/python3.7/dist-packages/sklearn/neural_network/_multilayer_perceptron.py:1109: DataConversionWarning: A column-vector y was passed when a 1d array was expected. Please change the shape of y to (n_samples, ), for example using ravel().\n",
            "  y = column_or_1d(y, warn=True)\n"
          ]
        },
        {
          "output_type": "stream",
          "name": "stdout",
          "text": [
            "0.5\n"
          ]
        },
        {
          "output_type": "stream",
          "name": "stderr",
          "text": [
            "/usr/local/lib/python3.7/dist-packages/sklearn/neural_network/_multilayer_perceptron.py:1109: DataConversionWarning: A column-vector y was passed when a 1d array was expected. Please change the shape of y to (n_samples, ), for example using ravel().\n",
            "  y = column_or_1d(y, warn=True)\n",
            "/usr/local/lib/python3.7/dist-packages/sklearn/metrics/_classification.py:1318: UndefinedMetricWarning: Precision is ill-defined and being set to 0.0 due to no predicted samples. Use `zero_division` parameter to control this behavior.\n",
            "  _warn_prf(average, modifier, msg_start, len(result))\n"
          ]
        },
        {
          "output_type": "stream",
          "name": "stdout",
          "text": [
            "0.0\n"
          ]
        },
        {
          "output_type": "stream",
          "name": "stderr",
          "text": [
            "/usr/local/lib/python3.7/dist-packages/sklearn/neural_network/_multilayer_perceptron.py:1109: DataConversionWarning: A column-vector y was passed when a 1d array was expected. Please change the shape of y to (n_samples, ), for example using ravel().\n",
            "  y = column_or_1d(y, warn=True)\n"
          ]
        },
        {
          "output_type": "stream",
          "name": "stdout",
          "text": [
            "0.5333333333333333\n"
          ]
        },
        {
          "output_type": "stream",
          "name": "stderr",
          "text": [
            "/usr/local/lib/python3.7/dist-packages/sklearn/neural_network/_multilayer_perceptron.py:1109: DataConversionWarning: A column-vector y was passed when a 1d array was expected. Please change the shape of y to (n_samples, ), for example using ravel().\n",
            "  y = column_or_1d(y, warn=True)\n"
          ]
        },
        {
          "output_type": "stream",
          "name": "stdout",
          "text": [
            "0.5406162464985994\n"
          ]
        },
        {
          "output_type": "stream",
          "name": "stderr",
          "text": [
            "/usr/local/lib/python3.7/dist-packages/sklearn/neural_network/_multilayer_perceptron.py:1109: DataConversionWarning: A column-vector y was passed when a 1d array was expected. Please change the shape of y to (n_samples, ), for example using ravel().\n",
            "  y = column_or_1d(y, warn=True)\n"
          ]
        },
        {
          "output_type": "stream",
          "name": "stdout",
          "text": [
            "0.4177215189873418\n"
          ]
        },
        {
          "output_type": "stream",
          "name": "stderr",
          "text": [
            "/usr/local/lib/python3.7/dist-packages/sklearn/neural_network/_multilayer_perceptron.py:1109: DataConversionWarning: A column-vector y was passed when a 1d array was expected. Please change the shape of y to (n_samples, ), for example using ravel().\n",
            "  y = column_or_1d(y, warn=True)\n"
          ]
        },
        {
          "output_type": "stream",
          "name": "stdout",
          "text": [
            "0.48148148148148145\n"
          ]
        },
        {
          "output_type": "stream",
          "name": "stderr",
          "text": [
            "/usr/local/lib/python3.7/dist-packages/sklearn/neural_network/_multilayer_perceptron.py:1109: DataConversionWarning: A column-vector y was passed when a 1d array was expected. Please change the shape of y to (n_samples, ), for example using ravel().\n",
            "  y = column_or_1d(y, warn=True)\n"
          ]
        },
        {
          "output_type": "stream",
          "name": "stdout",
          "text": [
            "0.4961832061068702\n"
          ]
        },
        {
          "output_type": "stream",
          "name": "stderr",
          "text": [
            "/usr/local/lib/python3.7/dist-packages/sklearn/neural_network/_multilayer_perceptron.py:1109: DataConversionWarning: A column-vector y was passed when a 1d array was expected. Please change the shape of y to (n_samples, ), for example using ravel().\n",
            "  y = column_or_1d(y, warn=True)\n"
          ]
        },
        {
          "output_type": "stream",
          "name": "stdout",
          "text": [
            "1.0\n"
          ]
        },
        {
          "output_type": "stream",
          "name": "stderr",
          "text": [
            "/usr/local/lib/python3.7/dist-packages/sklearn/neural_network/_multilayer_perceptron.py:1109: DataConversionWarning: A column-vector y was passed when a 1d array was expected. Please change the shape of y to (n_samples, ), for example using ravel().\n",
            "  y = column_or_1d(y, warn=True)\n"
          ]
        },
        {
          "output_type": "stream",
          "name": "stdout",
          "text": [
            "0.5833333333333334\n"
          ]
        },
        {
          "output_type": "stream",
          "name": "stderr",
          "text": [
            "/usr/local/lib/python3.7/dist-packages/sklearn/neural_network/_multilayer_perceptron.py:1109: DataConversionWarning: A column-vector y was passed when a 1d array was expected. Please change the shape of y to (n_samples, ), for example using ravel().\n",
            "  y = column_or_1d(y, warn=True)\n"
          ]
        },
        {
          "output_type": "stream",
          "name": "stdout",
          "text": [
            "0.5079365079365079\n"
          ]
        },
        {
          "output_type": "stream",
          "name": "stderr",
          "text": [
            "/usr/local/lib/python3.7/dist-packages/sklearn/neural_network/_multilayer_perceptron.py:1109: DataConversionWarning: A column-vector y was passed when a 1d array was expected. Please change the shape of y to (n_samples, ), for example using ravel().\n",
            "  y = column_or_1d(y, warn=True)\n"
          ]
        },
        {
          "output_type": "stream",
          "name": "stdout",
          "text": [
            "0.48623853211009177\n"
          ]
        },
        {
          "output_type": "stream",
          "name": "stderr",
          "text": [
            "/usr/local/lib/python3.7/dist-packages/sklearn/neural_network/_multilayer_perceptron.py:1109: DataConversionWarning: A column-vector y was passed when a 1d array was expected. Please change the shape of y to (n_samples, ), for example using ravel().\n",
            "  y = column_or_1d(y, warn=True)\n"
          ]
        },
        {
          "output_type": "stream",
          "name": "stdout",
          "text": [
            "0.5977011494252874\n"
          ]
        },
        {
          "output_type": "stream",
          "name": "stderr",
          "text": [
            "/usr/local/lib/python3.7/dist-packages/sklearn/neural_network/_multilayer_perceptron.py:1109: DataConversionWarning: A column-vector y was passed when a 1d array was expected. Please change the shape of y to (n_samples, ), for example using ravel().\n",
            "  y = column_or_1d(y, warn=True)\n",
            "/usr/local/lib/python3.7/dist-packages/sklearn/metrics/_classification.py:1318: UndefinedMetricWarning: Precision is ill-defined and being set to 0.0 due to no predicted samples. Use `zero_division` parameter to control this behavior.\n",
            "  _warn_prf(average, modifier, msg_start, len(result))\n"
          ]
        },
        {
          "output_type": "stream",
          "name": "stdout",
          "text": [
            "0.0\n"
          ]
        },
        {
          "output_type": "stream",
          "name": "stderr",
          "text": [
            "/usr/local/lib/python3.7/dist-packages/sklearn/neural_network/_multilayer_perceptron.py:1109: DataConversionWarning: A column-vector y was passed when a 1d array was expected. Please change the shape of y to (n_samples, ), for example using ravel().\n",
            "  y = column_or_1d(y, warn=True)\n"
          ]
        },
        {
          "output_type": "stream",
          "name": "stdout",
          "text": [
            "0.5244755244755245\n"
          ]
        },
        {
          "output_type": "stream",
          "name": "stderr",
          "text": [
            "/usr/local/lib/python3.7/dist-packages/sklearn/neural_network/_multilayer_perceptron.py:1109: DataConversionWarning: A column-vector y was passed when a 1d array was expected. Please change the shape of y to (n_samples, ), for example using ravel().\n",
            "  y = column_or_1d(y, warn=True)\n",
            "/usr/local/lib/python3.7/dist-packages/sklearn/metrics/_classification.py:1318: UndefinedMetricWarning: Precision is ill-defined and being set to 0.0 due to no predicted samples. Use `zero_division` parameter to control this behavior.\n",
            "  _warn_prf(average, modifier, msg_start, len(result))\n"
          ]
        },
        {
          "output_type": "stream",
          "name": "stdout",
          "text": [
            "0.0\n"
          ]
        },
        {
          "output_type": "stream",
          "name": "stderr",
          "text": [
            "/usr/local/lib/python3.7/dist-packages/sklearn/neural_network/_multilayer_perceptron.py:1109: DataConversionWarning: A column-vector y was passed when a 1d array was expected. Please change the shape of y to (n_samples, ), for example using ravel().\n",
            "  y = column_or_1d(y, warn=True)\n"
          ]
        },
        {
          "output_type": "stream",
          "name": "stdout",
          "text": [
            "0.5714285714285714\n"
          ]
        },
        {
          "output_type": "stream",
          "name": "stderr",
          "text": [
            "/usr/local/lib/python3.7/dist-packages/sklearn/neural_network/_multilayer_perceptron.py:1109: DataConversionWarning: A column-vector y was passed when a 1d array was expected. Please change the shape of y to (n_samples, ), for example using ravel().\n",
            "  y = column_or_1d(y, warn=True)\n"
          ]
        },
        {
          "output_type": "stream",
          "name": "stdout",
          "text": [
            "0.5633333333333334\n"
          ]
        },
        {
          "output_type": "stream",
          "name": "stderr",
          "text": [
            "/usr/local/lib/python3.7/dist-packages/sklearn/neural_network/_multilayer_perceptron.py:1109: DataConversionWarning: A column-vector y was passed when a 1d array was expected. Please change the shape of y to (n_samples, ), for example using ravel().\n",
            "  y = column_or_1d(y, warn=True)\n"
          ]
        },
        {
          "output_type": "stream",
          "name": "stdout",
          "text": [
            "0.4126984126984127\n"
          ]
        },
        {
          "output_type": "stream",
          "name": "stderr",
          "text": [
            "/usr/local/lib/python3.7/dist-packages/sklearn/neural_network/_multilayer_perceptron.py:1109: DataConversionWarning: A column-vector y was passed when a 1d array was expected. Please change the shape of y to (n_samples, ), for example using ravel().\n",
            "  y = column_or_1d(y, warn=True)\n"
          ]
        },
        {
          "output_type": "stream",
          "name": "stdout",
          "text": [
            "0.6216216216216216\n"
          ]
        },
        {
          "output_type": "stream",
          "name": "stderr",
          "text": [
            "/usr/local/lib/python3.7/dist-packages/sklearn/neural_network/_multilayer_perceptron.py:1109: DataConversionWarning: A column-vector y was passed when a 1d array was expected. Please change the shape of y to (n_samples, ), for example using ravel().\n",
            "  y = column_or_1d(y, warn=True)\n"
          ]
        },
        {
          "output_type": "stream",
          "name": "stdout",
          "text": [
            "0.5014836795252225\n"
          ]
        },
        {
          "output_type": "stream",
          "name": "stderr",
          "text": [
            "/usr/local/lib/python3.7/dist-packages/sklearn/neural_network/_multilayer_perceptron.py:1109: DataConversionWarning: A column-vector y was passed when a 1d array was expected. Please change the shape of y to (n_samples, ), for example using ravel().\n",
            "  y = column_or_1d(y, warn=True)\n"
          ]
        },
        {
          "output_type": "stream",
          "name": "stdout",
          "text": [
            "1.0\n"
          ]
        },
        {
          "output_type": "stream",
          "name": "stderr",
          "text": [
            "/usr/local/lib/python3.7/dist-packages/sklearn/neural_network/_multilayer_perceptron.py:1109: DataConversionWarning: A column-vector y was passed when a 1d array was expected. Please change the shape of y to (n_samples, ), for example using ravel().\n",
            "  y = column_or_1d(y, warn=True)\n"
          ]
        },
        {
          "output_type": "stream",
          "name": "stdout",
          "text": [
            "0.0\n"
          ]
        },
        {
          "output_type": "stream",
          "name": "stderr",
          "text": [
            "/usr/local/lib/python3.7/dist-packages/sklearn/neural_network/_multilayer_perceptron.py:1109: DataConversionWarning: A column-vector y was passed when a 1d array was expected. Please change the shape of y to (n_samples, ), for example using ravel().\n",
            "  y = column_or_1d(y, warn=True)\n"
          ]
        },
        {
          "output_type": "stream",
          "name": "stdout",
          "text": [
            "0.5970149253731343\n"
          ]
        },
        {
          "output_type": "stream",
          "name": "stderr",
          "text": [
            "/usr/local/lib/python3.7/dist-packages/sklearn/neural_network/_multilayer_perceptron.py:1109: DataConversionWarning: A column-vector y was passed when a 1d array was expected. Please change the shape of y to (n_samples, ), for example using ravel().\n",
            "  y = column_or_1d(y, warn=True)\n"
          ]
        },
        {
          "output_type": "stream",
          "name": "stdout",
          "text": [
            "0.0\n"
          ]
        },
        {
          "output_type": "stream",
          "name": "stderr",
          "text": [
            "/usr/local/lib/python3.7/dist-packages/sklearn/neural_network/_multilayer_perceptron.py:1109: DataConversionWarning: A column-vector y was passed when a 1d array was expected. Please change the shape of y to (n_samples, ), for example using ravel().\n",
            "  y = column_or_1d(y, warn=True)\n",
            "/usr/local/lib/python3.7/dist-packages/sklearn/metrics/_classification.py:1318: UndefinedMetricWarning: Precision is ill-defined and being set to 0.0 due to no predicted samples. Use `zero_division` parameter to control this behavior.\n",
            "  _warn_prf(average, modifier, msg_start, len(result))\n"
          ]
        },
        {
          "output_type": "stream",
          "name": "stdout",
          "text": [
            "0.0\n"
          ]
        },
        {
          "output_type": "stream",
          "name": "stderr",
          "text": [
            "/usr/local/lib/python3.7/dist-packages/sklearn/neural_network/_multilayer_perceptron.py:1109: DataConversionWarning: A column-vector y was passed when a 1d array was expected. Please change the shape of y to (n_samples, ), for example using ravel().\n",
            "  y = column_or_1d(y, warn=True)\n"
          ]
        },
        {
          "output_type": "stream",
          "name": "stdout",
          "text": [
            "0.573170731707317\n"
          ]
        },
        {
          "output_type": "stream",
          "name": "stderr",
          "text": [
            "/usr/local/lib/python3.7/dist-packages/sklearn/neural_network/_multilayer_perceptron.py:1109: DataConversionWarning: A column-vector y was passed when a 1d array was expected. Please change the shape of y to (n_samples, ), for example using ravel().\n",
            "  y = column_or_1d(y, warn=True)\n",
            "/usr/local/lib/python3.7/dist-packages/sklearn/metrics/_classification.py:1318: UndefinedMetricWarning: Precision is ill-defined and being set to 0.0 due to no predicted samples. Use `zero_division` parameter to control this behavior.\n",
            "  _warn_prf(average, modifier, msg_start, len(result))\n"
          ]
        },
        {
          "output_type": "stream",
          "name": "stdout",
          "text": [
            "0.0\n"
          ]
        },
        {
          "output_type": "stream",
          "name": "stderr",
          "text": [
            "/usr/local/lib/python3.7/dist-packages/sklearn/neural_network/_multilayer_perceptron.py:1109: DataConversionWarning: A column-vector y was passed when a 1d array was expected. Please change the shape of y to (n_samples, ), for example using ravel().\n",
            "  y = column_or_1d(y, warn=True)\n"
          ]
        },
        {
          "output_type": "stream",
          "name": "stdout",
          "text": [
            "0.45664739884393063\n"
          ]
        },
        {
          "output_type": "stream",
          "name": "stderr",
          "text": [
            "/usr/local/lib/python3.7/dist-packages/sklearn/neural_network/_multilayer_perceptron.py:1109: DataConversionWarning: A column-vector y was passed when a 1d array was expected. Please change the shape of y to (n_samples, ), for example using ravel().\n",
            "  y = column_or_1d(y, warn=True)\n",
            "/usr/local/lib/python3.7/dist-packages/sklearn/metrics/_classification.py:1318: UndefinedMetricWarning: Precision is ill-defined and being set to 0.0 due to no predicted samples. Use `zero_division` parameter to control this behavior.\n",
            "  _warn_prf(average, modifier, msg_start, len(result))\n"
          ]
        },
        {
          "output_type": "stream",
          "name": "stdout",
          "text": [
            "0.0\n"
          ]
        },
        {
          "output_type": "stream",
          "name": "stderr",
          "text": [
            "/usr/local/lib/python3.7/dist-packages/sklearn/neural_network/_multilayer_perceptron.py:1109: DataConversionWarning: A column-vector y was passed when a 1d array was expected. Please change the shape of y to (n_samples, ), for example using ravel().\n",
            "  y = column_or_1d(y, warn=True)\n"
          ]
        },
        {
          "output_type": "stream",
          "name": "stdout",
          "text": [
            "0.4806201550387597\n"
          ]
        },
        {
          "output_type": "stream",
          "name": "stderr",
          "text": [
            "/usr/local/lib/python3.7/dist-packages/sklearn/neural_network/_multilayer_perceptron.py:1109: DataConversionWarning: A column-vector y was passed when a 1d array was expected. Please change the shape of y to (n_samples, ), for example using ravel().\n",
            "  y = column_or_1d(y, warn=True)\n",
            "/usr/local/lib/python3.7/dist-packages/sklearn/metrics/_classification.py:1318: UndefinedMetricWarning: Precision is ill-defined and being set to 0.0 due to no predicted samples. Use `zero_division` parameter to control this behavior.\n",
            "  _warn_prf(average, modifier, msg_start, len(result))\n"
          ]
        },
        {
          "output_type": "stream",
          "name": "stdout",
          "text": [
            "0.0\n"
          ]
        },
        {
          "output_type": "stream",
          "name": "stderr",
          "text": [
            "/usr/local/lib/python3.7/dist-packages/sklearn/neural_network/_multilayer_perceptron.py:1109: DataConversionWarning: A column-vector y was passed when a 1d array was expected. Please change the shape of y to (n_samples, ), for example using ravel().\n",
            "  y = column_or_1d(y, warn=True)\n",
            "/usr/local/lib/python3.7/dist-packages/sklearn/metrics/_classification.py:1318: UndefinedMetricWarning: Precision is ill-defined and being set to 0.0 due to no predicted samples. Use `zero_division` parameter to control this behavior.\n",
            "  _warn_prf(average, modifier, msg_start, len(result))\n"
          ]
        },
        {
          "output_type": "stream",
          "name": "stdout",
          "text": [
            "0.0\n"
          ]
        },
        {
          "output_type": "stream",
          "name": "stderr",
          "text": [
            "/usr/local/lib/python3.7/dist-packages/sklearn/neural_network/_multilayer_perceptron.py:1109: DataConversionWarning: A column-vector y was passed when a 1d array was expected. Please change the shape of y to (n_samples, ), for example using ravel().\n",
            "  y = column_or_1d(y, warn=True)\n"
          ]
        },
        {
          "output_type": "stream",
          "name": "stdout",
          "text": [
            "0.45\n"
          ]
        },
        {
          "output_type": "stream",
          "name": "stderr",
          "text": [
            "/usr/local/lib/python3.7/dist-packages/sklearn/neural_network/_multilayer_perceptron.py:1109: DataConversionWarning: A column-vector y was passed when a 1d array was expected. Please change the shape of y to (n_samples, ), for example using ravel().\n",
            "  y = column_or_1d(y, warn=True)\n",
            "/usr/local/lib/python3.7/dist-packages/sklearn/metrics/_classification.py:1318: UndefinedMetricWarning: Precision is ill-defined and being set to 0.0 due to no predicted samples. Use `zero_division` parameter to control this behavior.\n",
            "  _warn_prf(average, modifier, msg_start, len(result))\n"
          ]
        },
        {
          "output_type": "stream",
          "name": "stdout",
          "text": [
            "0.0\n"
          ]
        },
        {
          "output_type": "stream",
          "name": "stderr",
          "text": [
            "/usr/local/lib/python3.7/dist-packages/sklearn/neural_network/_multilayer_perceptron.py:1109: DataConversionWarning: A column-vector y was passed when a 1d array was expected. Please change the shape of y to (n_samples, ), for example using ravel().\n",
            "  y = column_or_1d(y, warn=True)\n"
          ]
        },
        {
          "output_type": "stream",
          "name": "stdout",
          "text": [
            "0.5833333333333334\n"
          ]
        },
        {
          "output_type": "stream",
          "name": "stderr",
          "text": [
            "/usr/local/lib/python3.7/dist-packages/sklearn/neural_network/_multilayer_perceptron.py:1109: DataConversionWarning: A column-vector y was passed when a 1d array was expected. Please change the shape of y to (n_samples, ), for example using ravel().\n",
            "  y = column_or_1d(y, warn=True)\n"
          ]
        },
        {
          "output_type": "stream",
          "name": "stdout",
          "text": [
            "0.4514285714285714\n"
          ]
        },
        {
          "output_type": "stream",
          "name": "stderr",
          "text": [
            "/usr/local/lib/python3.7/dist-packages/sklearn/neural_network/_multilayer_perceptron.py:1109: DataConversionWarning: A column-vector y was passed when a 1d array was expected. Please change the shape of y to (n_samples, ), for example using ravel().\n",
            "  y = column_or_1d(y, warn=True)\n"
          ]
        },
        {
          "output_type": "stream",
          "name": "stdout",
          "text": [
            "0.525\n"
          ]
        },
        {
          "output_type": "stream",
          "name": "stderr",
          "text": [
            "/usr/local/lib/python3.7/dist-packages/sklearn/neural_network/_multilayer_perceptron.py:1109: DataConversionWarning: A column-vector y was passed when a 1d array was expected. Please change the shape of y to (n_samples, ), for example using ravel().\n",
            "  y = column_or_1d(y, warn=True)\n"
          ]
        },
        {
          "output_type": "stream",
          "name": "stdout",
          "text": [
            "0.5106382978723404\n"
          ]
        },
        {
          "output_type": "stream",
          "name": "stderr",
          "text": [
            "/usr/local/lib/python3.7/dist-packages/sklearn/neural_network/_multilayer_perceptron.py:1109: DataConversionWarning: A column-vector y was passed when a 1d array was expected. Please change the shape of y to (n_samples, ), for example using ravel().\n",
            "  y = column_or_1d(y, warn=True)\n"
          ]
        },
        {
          "output_type": "stream",
          "name": "stdout",
          "text": [
            "0.5660377358490566\n"
          ]
        },
        {
          "output_type": "stream",
          "name": "stderr",
          "text": [
            "/usr/local/lib/python3.7/dist-packages/sklearn/neural_network/_multilayer_perceptron.py:1109: DataConversionWarning: A column-vector y was passed when a 1d array was expected. Please change the shape of y to (n_samples, ), for example using ravel().\n",
            "  y = column_or_1d(y, warn=True)\n"
          ]
        },
        {
          "output_type": "stream",
          "name": "stdout",
          "text": [
            "0.4642857142857143\n"
          ]
        },
        {
          "output_type": "stream",
          "name": "stderr",
          "text": [
            "/usr/local/lib/python3.7/dist-packages/sklearn/neural_network/_multilayer_perceptron.py:1109: DataConversionWarning: A column-vector y was passed when a 1d array was expected. Please change the shape of y to (n_samples, ), for example using ravel().\n",
            "  y = column_or_1d(y, warn=True)\n"
          ]
        },
        {
          "output_type": "stream",
          "name": "stdout",
          "text": [
            "0.75\n"
          ]
        },
        {
          "output_type": "stream",
          "name": "stderr",
          "text": [
            "/usr/local/lib/python3.7/dist-packages/sklearn/neural_network/_multilayer_perceptron.py:1109: DataConversionWarning: A column-vector y was passed when a 1d array was expected. Please change the shape of y to (n_samples, ), for example using ravel().\n",
            "  y = column_or_1d(y, warn=True)\n"
          ]
        },
        {
          "output_type": "stream",
          "name": "stdout",
          "text": [
            "0.48717948717948717\n"
          ]
        },
        {
          "output_type": "stream",
          "name": "stderr",
          "text": [
            "/usr/local/lib/python3.7/dist-packages/sklearn/neural_network/_multilayer_perceptron.py:1109: DataConversionWarning: A column-vector y was passed when a 1d array was expected. Please change the shape of y to (n_samples, ), for example using ravel().\n",
            "  y = column_or_1d(y, warn=True)\n",
            "/usr/local/lib/python3.7/dist-packages/sklearn/metrics/_classification.py:1318: UndefinedMetricWarning: Precision is ill-defined and being set to 0.0 due to no predicted samples. Use `zero_division` parameter to control this behavior.\n",
            "  _warn_prf(average, modifier, msg_start, len(result))\n"
          ]
        },
        {
          "output_type": "stream",
          "name": "stdout",
          "text": [
            "0.0\n"
          ]
        },
        {
          "output_type": "stream",
          "name": "stderr",
          "text": [
            "/usr/local/lib/python3.7/dist-packages/sklearn/neural_network/_multilayer_perceptron.py:1109: DataConversionWarning: A column-vector y was passed when a 1d array was expected. Please change the shape of y to (n_samples, ), for example using ravel().\n",
            "  y = column_or_1d(y, warn=True)\n"
          ]
        },
        {
          "output_type": "stream",
          "name": "stdout",
          "text": [
            "0.5294117647058824\n"
          ]
        },
        {
          "output_type": "stream",
          "name": "stderr",
          "text": [
            "/usr/local/lib/python3.7/dist-packages/sklearn/neural_network/_multilayer_perceptron.py:1109: DataConversionWarning: A column-vector y was passed when a 1d array was expected. Please change the shape of y to (n_samples, ), for example using ravel().\n",
            "  y = column_or_1d(y, warn=True)\n"
          ]
        },
        {
          "output_type": "stream",
          "name": "stdout",
          "text": [
            "0.6666666666666666\n"
          ]
        },
        {
          "output_type": "stream",
          "name": "stderr",
          "text": [
            "/usr/local/lib/python3.7/dist-packages/sklearn/neural_network/_multilayer_perceptron.py:1109: DataConversionWarning: A column-vector y was passed when a 1d array was expected. Please change the shape of y to (n_samples, ), for example using ravel().\n",
            "  y = column_or_1d(y, warn=True)\n"
          ]
        },
        {
          "output_type": "stream",
          "name": "stdout",
          "text": [
            "0.4473684210526316\n"
          ]
        },
        {
          "output_type": "stream",
          "name": "stderr",
          "text": [
            "/usr/local/lib/python3.7/dist-packages/sklearn/neural_network/_multilayer_perceptron.py:1109: DataConversionWarning: A column-vector y was passed when a 1d array was expected. Please change the shape of y to (n_samples, ), for example using ravel().\n",
            "  y = column_or_1d(y, warn=True)\n"
          ]
        },
        {
          "output_type": "stream",
          "name": "stdout",
          "text": [
            "0.4322033898305085\n"
          ]
        },
        {
          "output_type": "stream",
          "name": "stderr",
          "text": [
            "/usr/local/lib/python3.7/dist-packages/sklearn/neural_network/_multilayer_perceptron.py:1109: DataConversionWarning: A column-vector y was passed when a 1d array was expected. Please change the shape of y to (n_samples, ), for example using ravel().\n",
            "  y = column_or_1d(y, warn=True)\n"
          ]
        },
        {
          "output_type": "stream",
          "name": "stdout",
          "text": [
            "0.47619047619047616\n"
          ]
        },
        {
          "output_type": "stream",
          "name": "stderr",
          "text": [
            "/usr/local/lib/python3.7/dist-packages/sklearn/neural_network/_multilayer_perceptron.py:1109: DataConversionWarning: A column-vector y was passed when a 1d array was expected. Please change the shape of y to (n_samples, ), for example using ravel().\n",
            "  y = column_or_1d(y, warn=True)\n"
          ]
        },
        {
          "output_type": "stream",
          "name": "stdout",
          "text": [
            "0.4112903225806452\n"
          ]
        },
        {
          "output_type": "stream",
          "name": "stderr",
          "text": [
            "/usr/local/lib/python3.7/dist-packages/sklearn/neural_network/_multilayer_perceptron.py:1109: DataConversionWarning: A column-vector y was passed when a 1d array was expected. Please change the shape of y to (n_samples, ), for example using ravel().\n",
            "  y = column_or_1d(y, warn=True)\n"
          ]
        },
        {
          "output_type": "stream",
          "name": "stdout",
          "text": [
            "0.4382716049382716\n"
          ]
        },
        {
          "output_type": "stream",
          "name": "stderr",
          "text": [
            "/usr/local/lib/python3.7/dist-packages/sklearn/neural_network/_multilayer_perceptron.py:1109: DataConversionWarning: A column-vector y was passed when a 1d array was expected. Please change the shape of y to (n_samples, ), for example using ravel().\n",
            "  y = column_or_1d(y, warn=True)\n"
          ]
        },
        {
          "output_type": "stream",
          "name": "stdout",
          "text": [
            "0.5662650602409639\n"
          ]
        },
        {
          "output_type": "stream",
          "name": "stderr",
          "text": [
            "/usr/local/lib/python3.7/dist-packages/sklearn/neural_network/_multilayer_perceptron.py:1109: DataConversionWarning: A column-vector y was passed when a 1d array was expected. Please change the shape of y to (n_samples, ), for example using ravel().\n",
            "  y = column_or_1d(y, warn=True)\n"
          ]
        },
        {
          "output_type": "stream",
          "name": "stdout",
          "text": [
            "0.43333333333333335\n"
          ]
        },
        {
          "output_type": "stream",
          "name": "stderr",
          "text": [
            "/usr/local/lib/python3.7/dist-packages/sklearn/neural_network/_multilayer_perceptron.py:1109: DataConversionWarning: A column-vector y was passed when a 1d array was expected. Please change the shape of y to (n_samples, ), for example using ravel().\n",
            "  y = column_or_1d(y, warn=True)\n"
          ]
        },
        {
          "output_type": "stream",
          "name": "stdout",
          "text": [
            "0.5405405405405406\n"
          ]
        },
        {
          "output_type": "stream",
          "name": "stderr",
          "text": [
            "/usr/local/lib/python3.7/dist-packages/sklearn/neural_network/_multilayer_perceptron.py:1109: DataConversionWarning: A column-vector y was passed when a 1d array was expected. Please change the shape of y to (n_samples, ), for example using ravel().\n",
            "  y = column_or_1d(y, warn=True)\n"
          ]
        },
        {
          "output_type": "stream",
          "name": "stdout",
          "text": [
            "0.6666666666666666\n"
          ]
        },
        {
          "output_type": "stream",
          "name": "stderr",
          "text": [
            "/usr/local/lib/python3.7/dist-packages/sklearn/neural_network/_multilayer_perceptron.py:1109: DataConversionWarning: A column-vector y was passed when a 1d array was expected. Please change the shape of y to (n_samples, ), for example using ravel().\n",
            "  y = column_or_1d(y, warn=True)\n"
          ]
        },
        {
          "output_type": "stream",
          "name": "stdout",
          "text": [
            "0.5\n"
          ]
        },
        {
          "output_type": "stream",
          "name": "stderr",
          "text": [
            "/usr/local/lib/python3.7/dist-packages/sklearn/neural_network/_multilayer_perceptron.py:1109: DataConversionWarning: A column-vector y was passed when a 1d array was expected. Please change the shape of y to (n_samples, ), for example using ravel().\n",
            "  y = column_or_1d(y, warn=True)\n"
          ]
        },
        {
          "output_type": "stream",
          "name": "stdout",
          "text": [
            "0.6136363636363636\n"
          ]
        },
        {
          "output_type": "stream",
          "name": "stderr",
          "text": [
            "/usr/local/lib/python3.7/dist-packages/sklearn/neural_network/_multilayer_perceptron.py:1109: DataConversionWarning: A column-vector y was passed when a 1d array was expected. Please change the shape of y to (n_samples, ), for example using ravel().\n",
            "  y = column_or_1d(y, warn=True)\n"
          ]
        },
        {
          "output_type": "stream",
          "name": "stdout",
          "text": [
            "0.5238095238095238\n"
          ]
        },
        {
          "output_type": "stream",
          "name": "stderr",
          "text": [
            "/usr/local/lib/python3.7/dist-packages/sklearn/neural_network/_multilayer_perceptron.py:1109: DataConversionWarning: A column-vector y was passed when a 1d array was expected. Please change the shape of y to (n_samples, ), for example using ravel().\n",
            "  y = column_or_1d(y, warn=True)\n"
          ]
        },
        {
          "output_type": "stream",
          "name": "stdout",
          "text": [
            "0.25\n"
          ]
        },
        {
          "output_type": "stream",
          "name": "stderr",
          "text": [
            "/usr/local/lib/python3.7/dist-packages/sklearn/neural_network/_multilayer_perceptron.py:1109: DataConversionWarning: A column-vector y was passed when a 1d array was expected. Please change the shape of y to (n_samples, ), for example using ravel().\n",
            "  y = column_or_1d(y, warn=True)\n",
            "/usr/local/lib/python3.7/dist-packages/sklearn/metrics/_classification.py:1318: UndefinedMetricWarning: Precision is ill-defined and being set to 0.0 due to no predicted samples. Use `zero_division` parameter to control this behavior.\n",
            "  _warn_prf(average, modifier, msg_start, len(result))\n"
          ]
        },
        {
          "output_type": "stream",
          "name": "stdout",
          "text": [
            "0.0\n"
          ]
        },
        {
          "output_type": "stream",
          "name": "stderr",
          "text": [
            "/usr/local/lib/python3.7/dist-packages/sklearn/neural_network/_multilayer_perceptron.py:1109: DataConversionWarning: A column-vector y was passed when a 1d array was expected. Please change the shape of y to (n_samples, ), for example using ravel().\n",
            "  y = column_or_1d(y, warn=True)\n"
          ]
        },
        {
          "output_type": "stream",
          "name": "stdout",
          "text": [
            "0.4358974358974359\n"
          ]
        },
        {
          "output_type": "stream",
          "name": "stderr",
          "text": [
            "/usr/local/lib/python3.7/dist-packages/sklearn/neural_network/_multilayer_perceptron.py:1109: DataConversionWarning: A column-vector y was passed when a 1d array was expected. Please change the shape of y to (n_samples, ), for example using ravel().\n",
            "  y = column_or_1d(y, warn=True)\n",
            "/usr/local/lib/python3.7/dist-packages/sklearn/metrics/_classification.py:1318: UndefinedMetricWarning: Precision is ill-defined and being set to 0.0 due to no predicted samples. Use `zero_division` parameter to control this behavior.\n",
            "  _warn_prf(average, modifier, msg_start, len(result))\n"
          ]
        },
        {
          "output_type": "stream",
          "name": "stdout",
          "text": [
            "0.0\n"
          ]
        },
        {
          "output_type": "stream",
          "name": "stderr",
          "text": [
            "/usr/local/lib/python3.7/dist-packages/sklearn/neural_network/_multilayer_perceptron.py:1109: DataConversionWarning: A column-vector y was passed when a 1d array was expected. Please change the shape of y to (n_samples, ), for example using ravel().\n",
            "  y = column_or_1d(y, warn=True)\n"
          ]
        },
        {
          "output_type": "stream",
          "name": "stdout",
          "text": [
            "0.5660377358490566\n"
          ]
        },
        {
          "output_type": "stream",
          "name": "stderr",
          "text": [
            "/usr/local/lib/python3.7/dist-packages/sklearn/neural_network/_multilayer_perceptron.py:1109: DataConversionWarning: A column-vector y was passed when a 1d array was expected. Please change the shape of y to (n_samples, ), for example using ravel().\n",
            "  y = column_or_1d(y, warn=True)\n"
          ]
        },
        {
          "output_type": "stream",
          "name": "stdout",
          "text": [
            "0.6105263157894737\n"
          ]
        },
        {
          "output_type": "stream",
          "name": "stderr",
          "text": [
            "/usr/local/lib/python3.7/dist-packages/sklearn/neural_network/_multilayer_perceptron.py:1109: DataConversionWarning: A column-vector y was passed when a 1d array was expected. Please change the shape of y to (n_samples, ), for example using ravel().\n",
            "  y = column_or_1d(y, warn=True)\n"
          ]
        },
        {
          "output_type": "stream",
          "name": "stdout",
          "text": [
            "0.5771428571428572\n"
          ]
        },
        {
          "output_type": "stream",
          "name": "stderr",
          "text": [
            "/usr/local/lib/python3.7/dist-packages/sklearn/neural_network/_multilayer_perceptron.py:1109: DataConversionWarning: A column-vector y was passed when a 1d array was expected. Please change the shape of y to (n_samples, ), for example using ravel().\n",
            "  y = column_or_1d(y, warn=True)\n",
            "/usr/local/lib/python3.7/dist-packages/sklearn/metrics/_classification.py:1318: UndefinedMetricWarning: Precision is ill-defined and being set to 0.0 due to no predicted samples. Use `zero_division` parameter to control this behavior.\n",
            "  _warn_prf(average, modifier, msg_start, len(result))\n"
          ]
        },
        {
          "output_type": "stream",
          "name": "stdout",
          "text": [
            "0.0\n"
          ]
        },
        {
          "output_type": "stream",
          "name": "stderr",
          "text": [
            "/usr/local/lib/python3.7/dist-packages/sklearn/neural_network/_multilayer_perceptron.py:1109: DataConversionWarning: A column-vector y was passed when a 1d array was expected. Please change the shape of y to (n_samples, ), for example using ravel().\n",
            "  y = column_or_1d(y, warn=True)\n"
          ]
        },
        {
          "output_type": "stream",
          "name": "stdout",
          "text": [
            "0.45454545454545453\n"
          ]
        },
        {
          "output_type": "stream",
          "name": "stderr",
          "text": [
            "/usr/local/lib/python3.7/dist-packages/sklearn/neural_network/_multilayer_perceptron.py:1109: DataConversionWarning: A column-vector y was passed when a 1d array was expected. Please change the shape of y to (n_samples, ), for example using ravel().\n",
            "  y = column_or_1d(y, warn=True)\n"
          ]
        },
        {
          "output_type": "stream",
          "name": "stdout",
          "text": [
            "0.4956521739130435\n"
          ]
        },
        {
          "output_type": "stream",
          "name": "stderr",
          "text": [
            "/usr/local/lib/python3.7/dist-packages/sklearn/neural_network/_multilayer_perceptron.py:1109: DataConversionWarning: A column-vector y was passed when a 1d array was expected. Please change the shape of y to (n_samples, ), for example using ravel().\n",
            "  y = column_or_1d(y, warn=True)\n"
          ]
        },
        {
          "output_type": "stream",
          "name": "stdout",
          "text": [
            "0.0\n"
          ]
        },
        {
          "output_type": "stream",
          "name": "stderr",
          "text": [
            "/usr/local/lib/python3.7/dist-packages/sklearn/neural_network/_multilayer_perceptron.py:1109: DataConversionWarning: A column-vector y was passed when a 1d array was expected. Please change the shape of y to (n_samples, ), for example using ravel().\n",
            "  y = column_or_1d(y, warn=True)\n"
          ]
        },
        {
          "output_type": "stream",
          "name": "stdout",
          "text": [
            "0.550561797752809\n"
          ]
        },
        {
          "output_type": "stream",
          "name": "stderr",
          "text": [
            "/usr/local/lib/python3.7/dist-packages/sklearn/neural_network/_multilayer_perceptron.py:1109: DataConversionWarning: A column-vector y was passed when a 1d array was expected. Please change the shape of y to (n_samples, ), for example using ravel().\n",
            "  y = column_or_1d(y, warn=True)\n"
          ]
        },
        {
          "output_type": "stream",
          "name": "stdout",
          "text": [
            "0.5\n"
          ]
        },
        {
          "output_type": "stream",
          "name": "stderr",
          "text": [
            "/usr/local/lib/python3.7/dist-packages/sklearn/neural_network/_multilayer_perceptron.py:1109: DataConversionWarning: A column-vector y was passed when a 1d array was expected. Please change the shape of y to (n_samples, ), for example using ravel().\n",
            "  y = column_or_1d(y, warn=True)\n"
          ]
        },
        {
          "output_type": "stream",
          "name": "stdout",
          "text": [
            "0.5454545454545454\n"
          ]
        },
        {
          "output_type": "stream",
          "name": "stderr",
          "text": [
            "/usr/local/lib/python3.7/dist-packages/sklearn/neural_network/_multilayer_perceptron.py:1109: DataConversionWarning: A column-vector y was passed when a 1d array was expected. Please change the shape of y to (n_samples, ), for example using ravel().\n",
            "  y = column_or_1d(y, warn=True)\n",
            "/usr/local/lib/python3.7/dist-packages/sklearn/metrics/_classification.py:1318: UndefinedMetricWarning: Precision is ill-defined and being set to 0.0 due to no predicted samples. Use `zero_division` parameter to control this behavior.\n",
            "  _warn_prf(average, modifier, msg_start, len(result))\n"
          ]
        },
        {
          "output_type": "stream",
          "name": "stdout",
          "text": [
            "0.0\n"
          ]
        },
        {
          "output_type": "stream",
          "name": "stderr",
          "text": [
            "/usr/local/lib/python3.7/dist-packages/sklearn/neural_network/_multilayer_perceptron.py:1109: DataConversionWarning: A column-vector y was passed when a 1d array was expected. Please change the shape of y to (n_samples, ), for example using ravel().\n",
            "  y = column_or_1d(y, warn=True)\n"
          ]
        },
        {
          "output_type": "stream",
          "name": "stdout",
          "text": [
            "0.0\n"
          ]
        },
        {
          "output_type": "stream",
          "name": "stderr",
          "text": [
            "/usr/local/lib/python3.7/dist-packages/sklearn/neural_network/_multilayer_perceptron.py:1109: DataConversionWarning: A column-vector y was passed when a 1d array was expected. Please change the shape of y to (n_samples, ), for example using ravel().\n",
            "  y = column_or_1d(y, warn=True)\n"
          ]
        },
        {
          "output_type": "stream",
          "name": "stdout",
          "text": [
            "0.6113989637305699\n"
          ]
        },
        {
          "output_type": "stream",
          "name": "stderr",
          "text": [
            "/usr/local/lib/python3.7/dist-packages/sklearn/neural_network/_multilayer_perceptron.py:1109: DataConversionWarning: A column-vector y was passed when a 1d array was expected. Please change the shape of y to (n_samples, ), for example using ravel().\n",
            "  y = column_or_1d(y, warn=True)\n"
          ]
        },
        {
          "output_type": "stream",
          "name": "stdout",
          "text": [
            "0.5\n"
          ]
        },
        {
          "output_type": "stream",
          "name": "stderr",
          "text": [
            "/usr/local/lib/python3.7/dist-packages/sklearn/neural_network/_multilayer_perceptron.py:1109: DataConversionWarning: A column-vector y was passed when a 1d array was expected. Please change the shape of y to (n_samples, ), for example using ravel().\n",
            "  y = column_or_1d(y, warn=True)\n"
          ]
        },
        {
          "output_type": "stream",
          "name": "stdout",
          "text": [
            "0.4666666666666667\n"
          ]
        },
        {
          "output_type": "stream",
          "name": "stderr",
          "text": [
            "/usr/local/lib/python3.7/dist-packages/sklearn/neural_network/_multilayer_perceptron.py:1109: DataConversionWarning: A column-vector y was passed when a 1d array was expected. Please change the shape of y to (n_samples, ), for example using ravel().\n",
            "  y = column_or_1d(y, warn=True)\n"
          ]
        },
        {
          "output_type": "stream",
          "name": "stdout",
          "text": [
            "0.5087719298245614\n"
          ]
        },
        {
          "output_type": "stream",
          "name": "stderr",
          "text": [
            "/usr/local/lib/python3.7/dist-packages/sklearn/neural_network/_multilayer_perceptron.py:1109: DataConversionWarning: A column-vector y was passed when a 1d array was expected. Please change the shape of y to (n_samples, ), for example using ravel().\n",
            "  y = column_or_1d(y, warn=True)\n"
          ]
        },
        {
          "output_type": "stream",
          "name": "stdout",
          "text": [
            "0.5522388059701493\n"
          ]
        },
        {
          "output_type": "stream",
          "name": "stderr",
          "text": [
            "/usr/local/lib/python3.7/dist-packages/sklearn/neural_network/_multilayer_perceptron.py:1109: DataConversionWarning: A column-vector y was passed when a 1d array was expected. Please change the shape of y to (n_samples, ), for example using ravel().\n",
            "  y = column_or_1d(y, warn=True)\n"
          ]
        },
        {
          "output_type": "stream",
          "name": "stdout",
          "text": [
            "0.5671641791044776\n"
          ]
        },
        {
          "output_type": "stream",
          "name": "stderr",
          "text": [
            "/usr/local/lib/python3.7/dist-packages/sklearn/neural_network/_multilayer_perceptron.py:1109: DataConversionWarning: A column-vector y was passed when a 1d array was expected. Please change the shape of y to (n_samples, ), for example using ravel().\n",
            "  y = column_or_1d(y, warn=True)\n",
            "/usr/local/lib/python3.7/dist-packages/sklearn/metrics/_classification.py:1318: UndefinedMetricWarning: Precision is ill-defined and being set to 0.0 due to no predicted samples. Use `zero_division` parameter to control this behavior.\n",
            "  _warn_prf(average, modifier, msg_start, len(result))\n"
          ]
        },
        {
          "output_type": "stream",
          "name": "stdout",
          "text": [
            "0.0\n"
          ]
        },
        {
          "output_type": "stream",
          "name": "stderr",
          "text": [
            "/usr/local/lib/python3.7/dist-packages/sklearn/neural_network/_multilayer_perceptron.py:1109: DataConversionWarning: A column-vector y was passed when a 1d array was expected. Please change the shape of y to (n_samples, ), for example using ravel().\n",
            "  y = column_or_1d(y, warn=True)\n"
          ]
        },
        {
          "output_type": "stream",
          "name": "stdout",
          "text": [
            "0.5242718446601942\n"
          ]
        },
        {
          "output_type": "stream",
          "name": "stderr",
          "text": [
            "/usr/local/lib/python3.7/dist-packages/sklearn/neural_network/_multilayer_perceptron.py:1109: DataConversionWarning: A column-vector y was passed when a 1d array was expected. Please change the shape of y to (n_samples, ), for example using ravel().\n",
            "  y = column_or_1d(y, warn=True)\n",
            "/usr/local/lib/python3.7/dist-packages/sklearn/metrics/_classification.py:1318: UndefinedMetricWarning: Precision is ill-defined and being set to 0.0 due to no predicted samples. Use `zero_division` parameter to control this behavior.\n",
            "  _warn_prf(average, modifier, msg_start, len(result))\n"
          ]
        },
        {
          "output_type": "stream",
          "name": "stdout",
          "text": [
            "0.0\n"
          ]
        },
        {
          "output_type": "stream",
          "name": "stderr",
          "text": [
            "/usr/local/lib/python3.7/dist-packages/sklearn/neural_network/_multilayer_perceptron.py:1109: DataConversionWarning: A column-vector y was passed when a 1d array was expected. Please change the shape of y to (n_samples, ), for example using ravel().\n",
            "  y = column_or_1d(y, warn=True)\n"
          ]
        },
        {
          "output_type": "stream",
          "name": "stdout",
          "text": [
            "0.5392156862745098\n"
          ]
        },
        {
          "output_type": "stream",
          "name": "stderr",
          "text": [
            "/usr/local/lib/python3.7/dist-packages/sklearn/neural_network/_multilayer_perceptron.py:1109: DataConversionWarning: A column-vector y was passed when a 1d array was expected. Please change the shape of y to (n_samples, ), for example using ravel().\n",
            "  y = column_or_1d(y, warn=True)\n"
          ]
        },
        {
          "output_type": "stream",
          "name": "stdout",
          "text": [
            "0.3448275862068966\n"
          ]
        },
        {
          "output_type": "stream",
          "name": "stderr",
          "text": [
            "/usr/local/lib/python3.7/dist-packages/sklearn/neural_network/_multilayer_perceptron.py:1109: DataConversionWarning: A column-vector y was passed when a 1d array was expected. Please change the shape of y to (n_samples, ), for example using ravel().\n",
            "  y = column_or_1d(y, warn=True)\n"
          ]
        },
        {
          "output_type": "stream",
          "name": "stdout",
          "text": [
            "0.6129032258064516\n"
          ]
        },
        {
          "output_type": "stream",
          "name": "stderr",
          "text": [
            "/usr/local/lib/python3.7/dist-packages/sklearn/neural_network/_multilayer_perceptron.py:1109: DataConversionWarning: A column-vector y was passed when a 1d array was expected. Please change the shape of y to (n_samples, ), for example using ravel().\n",
            "  y = column_or_1d(y, warn=True)\n"
          ]
        },
        {
          "output_type": "stream",
          "name": "stdout",
          "text": [
            "0.5436241610738255\n"
          ]
        },
        {
          "output_type": "stream",
          "name": "stderr",
          "text": [
            "/usr/local/lib/python3.7/dist-packages/sklearn/neural_network/_multilayer_perceptron.py:1109: DataConversionWarning: A column-vector y was passed when a 1d array was expected. Please change the shape of y to (n_samples, ), for example using ravel().\n",
            "  y = column_or_1d(y, warn=True)\n"
          ]
        },
        {
          "output_type": "stream",
          "name": "stdout",
          "text": [
            "0.5357142857142857\n"
          ]
        },
        {
          "output_type": "stream",
          "name": "stderr",
          "text": [
            "/usr/local/lib/python3.7/dist-packages/sklearn/neural_network/_multilayer_perceptron.py:1109: DataConversionWarning: A column-vector y was passed when a 1d array was expected. Please change the shape of y to (n_samples, ), for example using ravel().\n",
            "  y = column_or_1d(y, warn=True)\n"
          ]
        },
        {
          "output_type": "stream",
          "name": "stdout",
          "text": [
            "0.5172413793103449\n"
          ]
        },
        {
          "output_type": "stream",
          "name": "stderr",
          "text": [
            "/usr/local/lib/python3.7/dist-packages/sklearn/neural_network/_multilayer_perceptron.py:1109: DataConversionWarning: A column-vector y was passed when a 1d array was expected. Please change the shape of y to (n_samples, ), for example using ravel().\n",
            "  y = column_or_1d(y, warn=True)\n",
            "/usr/local/lib/python3.7/dist-packages/sklearn/metrics/_classification.py:1318: UndefinedMetricWarning: Precision is ill-defined and being set to 0.0 due to no predicted samples. Use `zero_division` parameter to control this behavior.\n",
            "  _warn_prf(average, modifier, msg_start, len(result))\n"
          ]
        },
        {
          "output_type": "stream",
          "name": "stdout",
          "text": [
            "0.0\n"
          ]
        },
        {
          "output_type": "stream",
          "name": "stderr",
          "text": [
            "/usr/local/lib/python3.7/dist-packages/sklearn/neural_network/_multilayer_perceptron.py:1109: DataConversionWarning: A column-vector y was passed when a 1d array was expected. Please change the shape of y to (n_samples, ), for example using ravel().\n",
            "  y = column_or_1d(y, warn=True)\n",
            "/usr/local/lib/python3.7/dist-packages/sklearn/metrics/_classification.py:1318: UndefinedMetricWarning: Precision is ill-defined and being set to 0.0 due to no predicted samples. Use `zero_division` parameter to control this behavior.\n",
            "  _warn_prf(average, modifier, msg_start, len(result))\n"
          ]
        },
        {
          "output_type": "stream",
          "name": "stdout",
          "text": [
            "0.0\n"
          ]
        },
        {
          "output_type": "stream",
          "name": "stderr",
          "text": [
            "/usr/local/lib/python3.7/dist-packages/sklearn/neural_network/_multilayer_perceptron.py:1109: DataConversionWarning: A column-vector y was passed when a 1d array was expected. Please change the shape of y to (n_samples, ), for example using ravel().\n",
            "  y = column_or_1d(y, warn=True)\n"
          ]
        },
        {
          "output_type": "stream",
          "name": "stdout",
          "text": [
            "0.4875\n"
          ]
        },
        {
          "output_type": "stream",
          "name": "stderr",
          "text": [
            "/usr/local/lib/python3.7/dist-packages/sklearn/neural_network/_multilayer_perceptron.py:1109: DataConversionWarning: A column-vector y was passed when a 1d array was expected. Please change the shape of y to (n_samples, ), for example using ravel().\n",
            "  y = column_or_1d(y, warn=True)\n"
          ]
        },
        {
          "output_type": "stream",
          "name": "stdout",
          "text": [
            "0.576271186440678\n"
          ]
        },
        {
          "output_type": "stream",
          "name": "stderr",
          "text": [
            "/usr/local/lib/python3.7/dist-packages/sklearn/neural_network/_multilayer_perceptron.py:1109: DataConversionWarning: A column-vector y was passed when a 1d array was expected. Please change the shape of y to (n_samples, ), for example using ravel().\n",
            "  y = column_or_1d(y, warn=True)\n"
          ]
        },
        {
          "output_type": "stream",
          "name": "stdout",
          "text": [
            "0.535483870967742\n"
          ]
        },
        {
          "output_type": "stream",
          "name": "stderr",
          "text": [
            "/usr/local/lib/python3.7/dist-packages/sklearn/neural_network/_multilayer_perceptron.py:1109: DataConversionWarning: A column-vector y was passed when a 1d array was expected. Please change the shape of y to (n_samples, ), for example using ravel().\n",
            "  y = column_or_1d(y, warn=True)\n"
          ]
        },
        {
          "output_type": "stream",
          "name": "stdout",
          "text": [
            "0.5357142857142857\n"
          ]
        },
        {
          "output_type": "stream",
          "name": "stderr",
          "text": [
            "/usr/local/lib/python3.7/dist-packages/sklearn/neural_network/_multilayer_perceptron.py:1109: DataConversionWarning: A column-vector y was passed when a 1d array was expected. Please change the shape of y to (n_samples, ), for example using ravel().\n",
            "  y = column_or_1d(y, warn=True)\n"
          ]
        },
        {
          "output_type": "stream",
          "name": "stdout",
          "text": [
            "0.49635036496350365\n"
          ]
        },
        {
          "output_type": "stream",
          "name": "stderr",
          "text": [
            "/usr/local/lib/python3.7/dist-packages/sklearn/neural_network/_multilayer_perceptron.py:1109: DataConversionWarning: A column-vector y was passed when a 1d array was expected. Please change the shape of y to (n_samples, ), for example using ravel().\n",
            "  y = column_or_1d(y, warn=True)\n"
          ]
        },
        {
          "output_type": "stream",
          "name": "stdout",
          "text": [
            "0.5737704918032787\n"
          ]
        },
        {
          "output_type": "stream",
          "name": "stderr",
          "text": [
            "/usr/local/lib/python3.7/dist-packages/sklearn/neural_network/_multilayer_perceptron.py:1109: DataConversionWarning: A column-vector y was passed when a 1d array was expected. Please change the shape of y to (n_samples, ), for example using ravel().\n",
            "  y = column_or_1d(y, warn=True)\n",
            "/usr/local/lib/python3.7/dist-packages/sklearn/metrics/_classification.py:1318: UndefinedMetricWarning: Precision is ill-defined and being set to 0.0 due to no predicted samples. Use `zero_division` parameter to control this behavior.\n",
            "  _warn_prf(average, modifier, msg_start, len(result))\n"
          ]
        },
        {
          "output_type": "stream",
          "name": "stdout",
          "text": [
            "0.0\n"
          ]
        },
        {
          "output_type": "stream",
          "name": "stderr",
          "text": [
            "/usr/local/lib/python3.7/dist-packages/sklearn/neural_network/_multilayer_perceptron.py:1109: DataConversionWarning: A column-vector y was passed when a 1d array was expected. Please change the shape of y to (n_samples, ), for example using ravel().\n",
            "  y = column_or_1d(y, warn=True)\n"
          ]
        },
        {
          "output_type": "stream",
          "name": "stdout",
          "text": [
            "0.6666666666666666\n"
          ]
        },
        {
          "output_type": "stream",
          "name": "stderr",
          "text": [
            "/usr/local/lib/python3.7/dist-packages/sklearn/neural_network/_multilayer_perceptron.py:1109: DataConversionWarning: A column-vector y was passed when a 1d array was expected. Please change the shape of y to (n_samples, ), for example using ravel().\n",
            "  y = column_or_1d(y, warn=True)\n"
          ]
        },
        {
          "output_type": "stream",
          "name": "stdout",
          "text": [
            "0.5740740740740741\n"
          ]
        },
        {
          "output_type": "stream",
          "name": "stderr",
          "text": [
            "/usr/local/lib/python3.7/dist-packages/sklearn/neural_network/_multilayer_perceptron.py:1109: DataConversionWarning: A column-vector y was passed when a 1d array was expected. Please change the shape of y to (n_samples, ), for example using ravel().\n",
            "  y = column_or_1d(y, warn=True)\n"
          ]
        },
        {
          "output_type": "stream",
          "name": "stdout",
          "text": [
            "0.5306122448979592\n"
          ]
        },
        {
          "output_type": "stream",
          "name": "stderr",
          "text": [
            "/usr/local/lib/python3.7/dist-packages/sklearn/neural_network/_multilayer_perceptron.py:1109: DataConversionWarning: A column-vector y was passed when a 1d array was expected. Please change the shape of y to (n_samples, ), for example using ravel().\n",
            "  y = column_or_1d(y, warn=True)\n"
          ]
        },
        {
          "output_type": "stream",
          "name": "stdout",
          "text": [
            "0.44041450777202074\n"
          ]
        },
        {
          "output_type": "stream",
          "name": "stderr",
          "text": [
            "/usr/local/lib/python3.7/dist-packages/sklearn/neural_network/_multilayer_perceptron.py:1109: DataConversionWarning: A column-vector y was passed when a 1d array was expected. Please change the shape of y to (n_samples, ), for example using ravel().\n",
            "  y = column_or_1d(y, warn=True)\n"
          ]
        },
        {
          "output_type": "stream",
          "name": "stdout",
          "text": [
            "0.5230769230769231\n"
          ]
        },
        {
          "output_type": "stream",
          "name": "stderr",
          "text": [
            "/usr/local/lib/python3.7/dist-packages/sklearn/neural_network/_multilayer_perceptron.py:1109: DataConversionWarning: A column-vector y was passed when a 1d array was expected. Please change the shape of y to (n_samples, ), for example using ravel().\n",
            "  y = column_or_1d(y, warn=True)\n"
          ]
        },
        {
          "output_type": "stream",
          "name": "stdout",
          "text": [
            "0.4666666666666667\n"
          ]
        },
        {
          "output_type": "stream",
          "name": "stderr",
          "text": [
            "/usr/local/lib/python3.7/dist-packages/sklearn/neural_network/_multilayer_perceptron.py:1109: DataConversionWarning: A column-vector y was passed when a 1d array was expected. Please change the shape of y to (n_samples, ), for example using ravel().\n",
            "  y = column_or_1d(y, warn=True)\n"
          ]
        },
        {
          "output_type": "stream",
          "name": "stdout",
          "text": [
            "0.5819209039548022\n"
          ]
        },
        {
          "output_type": "stream",
          "name": "stderr",
          "text": [
            "/usr/local/lib/python3.7/dist-packages/sklearn/neural_network/_multilayer_perceptron.py:1109: DataConversionWarning: A column-vector y was passed when a 1d array was expected. Please change the shape of y to (n_samples, ), for example using ravel().\n",
            "  y = column_or_1d(y, warn=True)\n",
            "/usr/local/lib/python3.7/dist-packages/sklearn/metrics/_classification.py:1318: UndefinedMetricWarning: Precision is ill-defined and being set to 0.0 due to no predicted samples. Use `zero_division` parameter to control this behavior.\n",
            "  _warn_prf(average, modifier, msg_start, len(result))\n"
          ]
        },
        {
          "output_type": "stream",
          "name": "stdout",
          "text": [
            "0.0\n"
          ]
        },
        {
          "output_type": "stream",
          "name": "stderr",
          "text": [
            "/usr/local/lib/python3.7/dist-packages/sklearn/neural_network/_multilayer_perceptron.py:1109: DataConversionWarning: A column-vector y was passed when a 1d array was expected. Please change the shape of y to (n_samples, ), for example using ravel().\n",
            "  y = column_or_1d(y, warn=True)\n"
          ]
        },
        {
          "output_type": "stream",
          "name": "stdout",
          "text": [
            "0.5876777251184834\n"
          ]
        },
        {
          "output_type": "stream",
          "name": "stderr",
          "text": [
            "/usr/local/lib/python3.7/dist-packages/sklearn/neural_network/_multilayer_perceptron.py:1109: DataConversionWarning: A column-vector y was passed when a 1d array was expected. Please change the shape of y to (n_samples, ), for example using ravel().\n",
            "  y = column_or_1d(y, warn=True)\n"
          ]
        },
        {
          "output_type": "stream",
          "name": "stdout",
          "text": [
            "0.4107142857142857\n"
          ]
        },
        {
          "output_type": "stream",
          "name": "stderr",
          "text": [
            "/usr/local/lib/python3.7/dist-packages/sklearn/neural_network/_multilayer_perceptron.py:1109: DataConversionWarning: A column-vector y was passed when a 1d array was expected. Please change the shape of y to (n_samples, ), for example using ravel().\n",
            "  y = column_or_1d(y, warn=True)\n"
          ]
        },
        {
          "output_type": "stream",
          "name": "stdout",
          "text": [
            "0.68\n"
          ]
        },
        {
          "output_type": "stream",
          "name": "stderr",
          "text": [
            "/usr/local/lib/python3.7/dist-packages/sklearn/neural_network/_multilayer_perceptron.py:1109: DataConversionWarning: A column-vector y was passed when a 1d array was expected. Please change the shape of y to (n_samples, ), for example using ravel().\n",
            "  y = column_or_1d(y, warn=True)\n"
          ]
        },
        {
          "output_type": "stream",
          "name": "stdout",
          "text": [
            "0.4166666666666667\n"
          ]
        },
        {
          "output_type": "stream",
          "name": "stderr",
          "text": [
            "/usr/local/lib/python3.7/dist-packages/sklearn/neural_network/_multilayer_perceptron.py:1109: DataConversionWarning: A column-vector y was passed when a 1d array was expected. Please change the shape of y to (n_samples, ), for example using ravel().\n",
            "  y = column_or_1d(y, warn=True)\n"
          ]
        },
        {
          "output_type": "stream",
          "name": "stdout",
          "text": [
            "0.5127118644067796\n"
          ]
        },
        {
          "output_type": "stream",
          "name": "stderr",
          "text": [
            "/usr/local/lib/python3.7/dist-packages/sklearn/neural_network/_multilayer_perceptron.py:1109: DataConversionWarning: A column-vector y was passed when a 1d array was expected. Please change the shape of y to (n_samples, ), for example using ravel().\n",
            "  y = column_or_1d(y, warn=True)\n"
          ]
        },
        {
          "output_type": "stream",
          "name": "stdout",
          "text": [
            "0.5102639296187683\n"
          ]
        },
        {
          "output_type": "stream",
          "name": "stderr",
          "text": [
            "/usr/local/lib/python3.7/dist-packages/sklearn/neural_network/_multilayer_perceptron.py:1109: DataConversionWarning: A column-vector y was passed when a 1d array was expected. Please change the shape of y to (n_samples, ), for example using ravel().\n",
            "  y = column_or_1d(y, warn=True)\n"
          ]
        },
        {
          "output_type": "stream",
          "name": "stdout",
          "text": [
            "0.5625\n"
          ]
        },
        {
          "output_type": "stream",
          "name": "stderr",
          "text": [
            "/usr/local/lib/python3.7/dist-packages/sklearn/neural_network/_multilayer_perceptron.py:1109: DataConversionWarning: A column-vector y was passed when a 1d array was expected. Please change the shape of y to (n_samples, ), for example using ravel().\n",
            "  y = column_or_1d(y, warn=True)\n"
          ]
        },
        {
          "output_type": "stream",
          "name": "stdout",
          "text": [
            "0.0\n"
          ]
        },
        {
          "output_type": "stream",
          "name": "stderr",
          "text": [
            "/usr/local/lib/python3.7/dist-packages/sklearn/neural_network/_multilayer_perceptron.py:1109: DataConversionWarning: A column-vector y was passed when a 1d array was expected. Please change the shape of y to (n_samples, ), for example using ravel().\n",
            "  y = column_or_1d(y, warn=True)\n"
          ]
        },
        {
          "output_type": "stream",
          "name": "stdout",
          "text": [
            "0.5277777777777778\n"
          ]
        },
        {
          "output_type": "stream",
          "name": "stderr",
          "text": [
            "/usr/local/lib/python3.7/dist-packages/sklearn/neural_network/_multilayer_perceptron.py:1109: DataConversionWarning: A column-vector y was passed when a 1d array was expected. Please change the shape of y to (n_samples, ), for example using ravel().\n",
            "  y = column_or_1d(y, warn=True)\n",
            "/usr/local/lib/python3.7/dist-packages/sklearn/metrics/_classification.py:1318: UndefinedMetricWarning: Precision is ill-defined and being set to 0.0 due to no predicted samples. Use `zero_division` parameter to control this behavior.\n",
            "  _warn_prf(average, modifier, msg_start, len(result))\n"
          ]
        },
        {
          "output_type": "stream",
          "name": "stdout",
          "text": [
            "0.0\n"
          ]
        },
        {
          "output_type": "stream",
          "name": "stderr",
          "text": [
            "/usr/local/lib/python3.7/dist-packages/sklearn/neural_network/_multilayer_perceptron.py:1109: DataConversionWarning: A column-vector y was passed when a 1d array was expected. Please change the shape of y to (n_samples, ), for example using ravel().\n",
            "  y = column_or_1d(y, warn=True)\n"
          ]
        },
        {
          "output_type": "stream",
          "name": "stdout",
          "text": [
            "0.25\n"
          ]
        },
        {
          "output_type": "stream",
          "name": "stderr",
          "text": [
            "/usr/local/lib/python3.7/dist-packages/sklearn/neural_network/_multilayer_perceptron.py:1109: DataConversionWarning: A column-vector y was passed when a 1d array was expected. Please change the shape of y to (n_samples, ), for example using ravel().\n",
            "  y = column_or_1d(y, warn=True)\n"
          ]
        },
        {
          "output_type": "stream",
          "name": "stdout",
          "text": [
            "0.5294117647058824\n"
          ]
        },
        {
          "output_type": "stream",
          "name": "stderr",
          "text": [
            "/usr/local/lib/python3.7/dist-packages/sklearn/neural_network/_multilayer_perceptron.py:1109: DataConversionWarning: A column-vector y was passed when a 1d array was expected. Please change the shape of y to (n_samples, ), for example using ravel().\n",
            "  y = column_or_1d(y, warn=True)\n"
          ]
        },
        {
          "output_type": "stream",
          "name": "stdout",
          "text": [
            "0.5468164794007491\n"
          ]
        },
        {
          "output_type": "stream",
          "name": "stderr",
          "text": [
            "/usr/local/lib/python3.7/dist-packages/sklearn/neural_network/_multilayer_perceptron.py:1109: DataConversionWarning: A column-vector y was passed when a 1d array was expected. Please change the shape of y to (n_samples, ), for example using ravel().\n",
            "  y = column_or_1d(y, warn=True)\n",
            "/usr/local/lib/python3.7/dist-packages/sklearn/metrics/_classification.py:1318: UndefinedMetricWarning: Precision is ill-defined and being set to 0.0 due to no predicted samples. Use `zero_division` parameter to control this behavior.\n",
            "  _warn_prf(average, modifier, msg_start, len(result))\n"
          ]
        },
        {
          "output_type": "stream",
          "name": "stdout",
          "text": [
            "0.0\n"
          ]
        },
        {
          "output_type": "stream",
          "name": "stderr",
          "text": [
            "/usr/local/lib/python3.7/dist-packages/sklearn/neural_network/_multilayer_perceptron.py:1109: DataConversionWarning: A column-vector y was passed when a 1d array was expected. Please change the shape of y to (n_samples, ), for example using ravel().\n",
            "  y = column_or_1d(y, warn=True)\n"
          ]
        },
        {
          "output_type": "stream",
          "name": "stdout",
          "text": [
            "0.5625\n"
          ]
        },
        {
          "output_type": "stream",
          "name": "stderr",
          "text": [
            "/usr/local/lib/python3.7/dist-packages/sklearn/neural_network/_multilayer_perceptron.py:1109: DataConversionWarning: A column-vector y was passed when a 1d array was expected. Please change the shape of y to (n_samples, ), for example using ravel().\n",
            "  y = column_or_1d(y, warn=True)\n",
            "/usr/local/lib/python3.7/dist-packages/sklearn/metrics/_classification.py:1318: UndefinedMetricWarning: Precision is ill-defined and being set to 0.0 due to no predicted samples. Use `zero_division` parameter to control this behavior.\n",
            "  _warn_prf(average, modifier, msg_start, len(result))\n"
          ]
        },
        {
          "output_type": "stream",
          "name": "stdout",
          "text": [
            "0.0\n"
          ]
        },
        {
          "output_type": "stream",
          "name": "stderr",
          "text": [
            "/usr/local/lib/python3.7/dist-packages/sklearn/neural_network/_multilayer_perceptron.py:1109: DataConversionWarning: A column-vector y was passed when a 1d array was expected. Please change the shape of y to (n_samples, ), for example using ravel().\n",
            "  y = column_or_1d(y, warn=True)\n"
          ]
        },
        {
          "output_type": "stream",
          "name": "stdout",
          "text": [
            "0.6666666666666666\n"
          ]
        },
        {
          "output_type": "stream",
          "name": "stderr",
          "text": [
            "/usr/local/lib/python3.7/dist-packages/sklearn/neural_network/_multilayer_perceptron.py:1109: DataConversionWarning: A column-vector y was passed when a 1d array was expected. Please change the shape of y to (n_samples, ), for example using ravel().\n",
            "  y = column_or_1d(y, warn=True)\n"
          ]
        },
        {
          "output_type": "stream",
          "name": "stdout",
          "text": [
            "0.25\n"
          ]
        },
        {
          "output_type": "stream",
          "name": "stderr",
          "text": [
            "/usr/local/lib/python3.7/dist-packages/sklearn/neural_network/_multilayer_perceptron.py:1109: DataConversionWarning: A column-vector y was passed when a 1d array was expected. Please change the shape of y to (n_samples, ), for example using ravel().\n",
            "  y = column_or_1d(y, warn=True)\n"
          ]
        },
        {
          "output_type": "stream",
          "name": "stdout",
          "text": [
            "0.5\n"
          ]
        },
        {
          "output_type": "stream",
          "name": "stderr",
          "text": [
            "/usr/local/lib/python3.7/dist-packages/sklearn/neural_network/_multilayer_perceptron.py:1109: DataConversionWarning: A column-vector y was passed when a 1d array was expected. Please change the shape of y to (n_samples, ), for example using ravel().\n",
            "  y = column_or_1d(y, warn=True)\n"
          ]
        },
        {
          "output_type": "stream",
          "name": "stdout",
          "text": [
            "0.6896551724137931\n"
          ]
        },
        {
          "output_type": "stream",
          "name": "stderr",
          "text": [
            "/usr/local/lib/python3.7/dist-packages/sklearn/neural_network/_multilayer_perceptron.py:1109: DataConversionWarning: A column-vector y was passed when a 1d array was expected. Please change the shape of y to (n_samples, ), for example using ravel().\n",
            "  y = column_or_1d(y, warn=True)\n"
          ]
        },
        {
          "output_type": "stream",
          "name": "stdout",
          "text": [
            "0.4198473282442748\n"
          ]
        },
        {
          "output_type": "stream",
          "name": "stderr",
          "text": [
            "/usr/local/lib/python3.7/dist-packages/sklearn/neural_network/_multilayer_perceptron.py:1109: DataConversionWarning: A column-vector y was passed when a 1d array was expected. Please change the shape of y to (n_samples, ), for example using ravel().\n",
            "  y = column_or_1d(y, warn=True)\n"
          ]
        },
        {
          "output_type": "stream",
          "name": "stdout",
          "text": [
            "0.6\n"
          ]
        },
        {
          "output_type": "stream",
          "name": "stderr",
          "text": [
            "/usr/local/lib/python3.7/dist-packages/sklearn/neural_network/_multilayer_perceptron.py:1109: DataConversionWarning: A column-vector y was passed when a 1d array was expected. Please change the shape of y to (n_samples, ), for example using ravel().\n",
            "  y = column_or_1d(y, warn=True)\n"
          ]
        },
        {
          "output_type": "stream",
          "name": "stdout",
          "text": [
            "0.43617021276595747\n"
          ]
        },
        {
          "output_type": "stream",
          "name": "stderr",
          "text": [
            "/usr/local/lib/python3.7/dist-packages/sklearn/neural_network/_multilayer_perceptron.py:1109: DataConversionWarning: A column-vector y was passed when a 1d array was expected. Please change the shape of y to (n_samples, ), for example using ravel().\n",
            "  y = column_or_1d(y, warn=True)\n",
            "/usr/local/lib/python3.7/dist-packages/sklearn/metrics/_classification.py:1318: UndefinedMetricWarning: Precision is ill-defined and being set to 0.0 due to no predicted samples. Use `zero_division` parameter to control this behavior.\n",
            "  _warn_prf(average, modifier, msg_start, len(result))\n"
          ]
        },
        {
          "output_type": "stream",
          "name": "stdout",
          "text": [
            "0.0\n"
          ]
        },
        {
          "output_type": "stream",
          "name": "stderr",
          "text": [
            "/usr/local/lib/python3.7/dist-packages/sklearn/neural_network/_multilayer_perceptron.py:1109: DataConversionWarning: A column-vector y was passed when a 1d array was expected. Please change the shape of y to (n_samples, ), for example using ravel().\n",
            "  y = column_or_1d(y, warn=True)\n"
          ]
        },
        {
          "output_type": "stream",
          "name": "stdout",
          "text": [
            "0.5151515151515151\n"
          ]
        },
        {
          "output_type": "stream",
          "name": "stderr",
          "text": [
            "/usr/local/lib/python3.7/dist-packages/sklearn/neural_network/_multilayer_perceptron.py:1109: DataConversionWarning: A column-vector y was passed when a 1d array was expected. Please change the shape of y to (n_samples, ), for example using ravel().\n",
            "  y = column_or_1d(y, warn=True)\n"
          ]
        },
        {
          "output_type": "stream",
          "name": "stdout",
          "text": [
            "0.0\n"
          ]
        },
        {
          "output_type": "stream",
          "name": "stderr",
          "text": [
            "/usr/local/lib/python3.7/dist-packages/sklearn/neural_network/_multilayer_perceptron.py:1109: DataConversionWarning: A column-vector y was passed when a 1d array was expected. Please change the shape of y to (n_samples, ), for example using ravel().\n",
            "  y = column_or_1d(y, warn=True)\n"
          ]
        },
        {
          "output_type": "stream",
          "name": "stdout",
          "text": [
            "0.6176470588235294\n"
          ]
        },
        {
          "output_type": "stream",
          "name": "stderr",
          "text": [
            "/usr/local/lib/python3.7/dist-packages/sklearn/neural_network/_multilayer_perceptron.py:1109: DataConversionWarning: A column-vector y was passed when a 1d array was expected. Please change the shape of y to (n_samples, ), for example using ravel().\n",
            "  y = column_or_1d(y, warn=True)\n"
          ]
        },
        {
          "output_type": "stream",
          "name": "stdout",
          "text": [
            "0.47619047619047616\n"
          ]
        }
      ]
    },
    {
      "cell_type": "code",
      "source": [
        "avg_prec = 0\n",
        "avg_over_fifty = 0\n",
        "prec_over_fifty = {}\n",
        "for ticker in wsb_stock_prediction[0]:\n",
        "  precision = wsb_stock_prediction[0][ticker]\n",
        "  print(\"Ticker: \", ticker)\n",
        "  print(\"Precision: \", precision)\n",
        "  avg_prec += precision\n",
        "  if precision > 0.5:\n",
        "    prec_over_fifty[ticker] = precision\n",
        "    avg_over_fifty += precision\n",
        "\n",
        "print(\"Average precision: \", avg_prec/len(wsb_stock_prediction[0]))\n",
        "print(\"Total number of stocks with sufficient data: \" + str(len(wsb_stock_prediction[0])))\n",
        "print(\"Stocks with too little data: \", wsb_stock_prediction[1], \"\\n total number of stocks with too little data: \" + str(len(wsb_stock_prediction[1])))\n",
        "\n",
        "print(\"---stocks predicted with over 50% precision---\")\n",
        "print(\"total number of stocks over 50%: \" + str(len(prec_over_fifty)))\n",
        "for stock in prec_over_fifty:\n",
        "  print(stock)\n",
        "  print(prec_over_fifty[stock])\n",
        "  \n",
        "print(\"Average precision for stocks with over 50% precision: \" + str(avg_over_fifty / len(prec_over_fifty)))"
      ],
      "metadata": {
        "colab": {
          "base_uri": "https://localhost:8080/"
        },
        "id": "PgZbecBp1Um4",
        "outputId": "2d224ab0-c972-4b3b-b637-d6f6a77fd03e"
      },
      "execution_count": null,
      "outputs": [
        {
          "output_type": "stream",
          "name": "stdout",
          "text": [
            "Ticker:  NVAX\n",
            "Precision:  0.3888888888888889\n",
            "Ticker:  PDD\n",
            "Precision:  0.6065573770491803\n",
            "Ticker:  WW\n",
            "Precision:  0.5473684210526316\n",
            "Ticker:  FOX\n",
            "Precision:  0.3125\n",
            "Ticker:  ZG\n",
            "Precision:  0.4\n",
            "Ticker:  AL\n",
            "Precision:  0.42424242424242425\n",
            "Ticker:  MO\n",
            "Precision:  0.45390070921985815\n",
            "Ticker:  DARE\n",
            "Precision:  1.0\n",
            "Ticker:  OPEN\n",
            "Precision:  0.0\n",
            "Ticker:  BB\n",
            "Precision:  0.16666666666666666\n",
            "Ticker:  T\n",
            "Precision:  0.6666666666666666\n",
            "Ticker:  XL\n",
            "Precision:  0.0\n",
            "Ticker:  OR\n",
            "Precision:  0.46511627906976744\n",
            "Ticker:  FSLY\n",
            "Precision:  0.4797687861271676\n",
            "Ticker:  CG\n",
            "Precision:  0.4946236559139785\n",
            "Ticker:  GEO\n",
            "Precision:  0.0\n",
            "Ticker:  BAC\n",
            "Precision:  0.5089974293059126\n",
            "Ticker:  PPT\n",
            "Precision:  0.0\n",
            "Ticker:  FREE\n",
            "Precision:  0.0\n",
            "Ticker:  JAN\n",
            "Precision:  0.0\n",
            "Ticker:  HAL\n",
            "Precision:  0.4166666666666667\n",
            "Ticker:  STZ\n",
            "Precision:  0.5412844036697247\n",
            "Ticker:  ADBE\n",
            "Precision:  0.601010101010101\n",
            "Ticker:  ARE\n",
            "Precision:  0.568904593639576\n",
            "Ticker:  NAK\n",
            "Precision:  0.25\n",
            "Ticker:  CB\n",
            "Precision:  0.48633879781420764\n",
            "Ticker:  BOX\n",
            "Precision:  0.6666666666666666\n",
            "Ticker:  CFA\n",
            "Precision:  0.6190476190476191\n",
            "Ticker:  MPC\n",
            "Precision:  0.0\n",
            "Ticker:  WD\n",
            "Precision:  0.5531914893617021\n",
            "Ticker:  FCEL\n",
            "Precision:  0.0\n",
            "Ticker:  AI\n",
            "Precision:  0.45161290322580644\n",
            "Ticker:  ORCL\n",
            "Precision:  0.5967741935483871\n",
            "Ticker:  DPZ\n",
            "Precision:  1.0\n",
            "Ticker:  SWBI\n",
            "Precision:  0.0\n",
            "Ticker:  IR\n",
            "Precision:  0.0\n",
            "Ticker:  ACH\n",
            "Precision:  0.5128205128205128\n",
            "Ticker:  SNAP\n",
            "Precision:  0.44648318042813456\n",
            "Ticker:  HA\n",
            "Precision:  0.4\n",
            "Ticker:  EBAY\n",
            "Precision:  0.6285714285714286\n",
            "Ticker:  JETS\n",
            "Precision:  0.4\n",
            "Ticker:  DB\n",
            "Precision:  0.5726872246696035\n",
            "Ticker:  RIOT\n",
            "Precision:  0.0\n",
            "Ticker:  ID\n",
            "Precision:  0.0\n",
            "Ticker:  MUST\n",
            "Precision:  0.43333333333333335\n",
            "Ticker:  RY\n",
            "Precision:  0.5287356321839081\n",
            "Ticker:  EXP\n",
            "Precision:  0.5283018867924528\n",
            "Ticker:  JDST\n",
            "Precision:  0.45098039215686275\n",
            "Ticker:  PD\n",
            "Precision:  0.5192307692307693\n",
            "Ticker:  MMM\n",
            "Precision:  0.4891304347826087\n",
            "Ticker:  MAN\n",
            "Precision:  0.5026178010471204\n",
            "Ticker:  GL\n",
            "Precision:  0.5382165605095541\n",
            "Ticker:  PBR\n",
            "Precision:  0.49019607843137253\n",
            "Ticker:  RUN\n",
            "Precision:  0.5721649484536082\n",
            "Ticker:  NEE\n",
            "Precision:  0.5543478260869565\n",
            "Ticker:  UPS\n",
            "Precision:  0.5061728395061729\n",
            "Ticker:  KO\n",
            "Precision:  0.5241635687732342\n",
            "Ticker:  CMG\n",
            "Precision:  0.5325670498084292\n",
            "Ticker:  CALL\n",
            "Precision:  0.0\n",
            "Ticker:  FL\n",
            "Precision:  0.43790849673202614\n",
            "Ticker:  MLM\n",
            "Precision:  0.5495495495495496\n",
            "Ticker:  LOGI\n",
            "Precision:  0.6666666666666666\n",
            "Ticker:  CAR\n",
            "Precision:  0.0\n",
            "Ticker:  SPG\n",
            "Precision:  0.5\n",
            "Ticker:  MTCH\n",
            "Precision:  0.5202020202020202\n",
            "Ticker:  AXP\n",
            "Precision:  0.4927536231884058\n",
            "Ticker:  DG\n",
            "Precision:  0.5771812080536913\n",
            "Ticker:  ET\n",
            "Precision:  0.0\n",
            "Ticker:  CUT\n",
            "Precision:  0.5394736842105263\n",
            "Ticker:  TZA\n",
            "Precision:  0.0\n",
            "Ticker:  EB\n",
            "Precision:  0.5\n",
            "Ticker:  HR\n",
            "Precision:  0.625\n",
            "Ticker:  SIRI\n",
            "Precision:  0.4375\n",
            "Ticker:  FIVE\n",
            "Precision:  0.49038461538461536\n",
            "Ticker:  ICE\n",
            "Precision:  0.49029126213592233\n",
            "Ticker:  RTX\n",
            "Precision:  1.0\n",
            "Ticker:  EEM\n",
            "Precision:  0.6216216216216216\n",
            "Ticker:  BG\n",
            "Precision:  0.5\n",
            "Ticker:  MJ\n",
            "Precision:  0.8\n",
            "Ticker:  HD\n",
            "Precision:  0.47058823529411764\n",
            "Ticker:  WBA\n",
            "Precision:  0.0\n",
            "Ticker:  MSM\n",
            "Precision:  0.5192307692307693\n",
            "Ticker:  DT\n",
            "Precision:  0.4956521739130435\n",
            "Ticker:  PLAN\n",
            "Precision:  0.6111111111111112\n",
            "Ticker:  LOW\n",
            "Precision:  0.5570776255707762\n",
            "Ticker:  TOPS\n",
            "Precision:  0.0\n",
            "Ticker:  NOC\n",
            "Precision:  0.6666666666666666\n",
            "Ticker:  WTI\n",
            "Precision:  0.0\n",
            "Ticker:  CCJ\n",
            "Precision:  0.5428571428571428\n",
            "Ticker:  HIMX\n",
            "Precision:  0.0\n",
            "Ticker:  SO\n",
            "Precision:  0.5294117647058824\n",
            "Ticker:  MELI\n",
            "Precision:  0.5529411764705883\n",
            "Ticker:  OCGN\n",
            "Precision:  0.0\n",
            "Ticker:  MRVL\n",
            "Precision:  0.6271186440677966\n",
            "Ticker:  AAP\n",
            "Precision:  0.5909090909090909\n",
            "Ticker:  CCI\n",
            "Precision:  0.4861111111111111\n",
            "Ticker:  FTC\n",
            "Precision:  0.5909090909090909\n",
            "Ticker:  AMC\n",
            "Precision:  0.0\n",
            "Ticker:  DROP\n",
            "Precision:  0.0\n",
            "Ticker:  PEG\n",
            "Precision:  0.42857142857142855\n",
            "Ticker:  LNG\n",
            "Precision:  0.5842696629213483\n",
            "Ticker:  FDX\n",
            "Precision:  0.5540540540540541\n",
            "Ticker:  BNTX\n",
            "Precision:  0.46875\n",
            "Ticker:  IT\n",
            "Precision:  0.5289672544080605\n",
            "Ticker:  PYPL\n",
            "Precision:  0.5702479338842975\n",
            "Ticker:  ICLN\n",
            "Precision:  0.5522388059701493\n",
            "Ticker:  CRSR\n",
            "Precision:  0.23076923076923078\n",
            "Ticker:  FCX\n",
            "Precision:  0.5288461538461539\n",
            "Ticker:  AY\n",
            "Precision:  0.5106382978723404\n",
            "Ticker:  ARKG\n",
            "Precision:  0.5\n",
            "Ticker:  ED\n",
            "Precision:  0.46153846153846156\n",
            "Ticker:  WOW\n",
            "Precision:  0.0\n",
            "Ticker:  BR\n",
            "Precision:  0.5611510791366906\n",
            "Ticker:  TNA\n",
            "Precision:  0.5196078431372549\n",
            "Ticker:  MRK\n",
            "Precision:  0.5398230088495575\n",
            "Ticker:  GLD\n",
            "Precision:  0.5595854922279793\n",
            "Ticker:  AZN\n",
            "Precision:  0.5909090909090909\n",
            "Ticker:  KMI\n",
            "Precision:  0.5945945945945946\n",
            "Ticker:  LL\n",
            "Precision:  0.4\n",
            "Ticker:  XPEV\n",
            "Precision:  0.0\n",
            "Ticker:  COO\n",
            "Precision:  0.25\n",
            "Ticker:  SBUX\n",
            "Precision:  0.5397350993377483\n",
            "Ticker:  PG\n",
            "Precision:  0.5580357142857143\n",
            "Ticker:  TQQQ\n",
            "Precision:  0.5815384615384616\n",
            "Ticker:  KL\n",
            "Precision:  0.6236559139784946\n",
            "Ticker:  SONO\n",
            "Precision:  0.5\n",
            "Ticker:  OXY\n",
            "Precision:  0.0\n",
            "Ticker:  HOG\n",
            "Precision:  0.5575221238938053\n",
            "Ticker:  BOTZ\n",
            "Precision:  0.5733333333333334\n",
            "Ticker:  YY\n",
            "Precision:  0.46153846153846156\n",
            "Ticker:  NOV\n",
            "Precision:  0.0\n",
            "Ticker:  VT\n",
            "Precision:  0.6458333333333334\n",
            "Ticker:  UI\n",
            "Precision:  0.5302013422818792\n",
            "Ticker:  IG\n",
            "Precision:  0.4230769230769231\n",
            "Ticker:  NICE\n",
            "Precision:  0.5223880597014925\n",
            "Ticker:  ABNB\n",
            "Precision:  1.0\n",
            "Ticker:  PRO\n",
            "Precision:  0.46987951807228917\n",
            "Ticker:  LI\n",
            "Precision:  0.46511627906976744\n",
            "Ticker:  JBLU\n",
            "Precision:  0.44680851063829785\n",
            "Ticker:  ULTA\n",
            "Precision:  0.5053763440860215\n",
            "Ticker:  SAVE\n",
            "Precision:  0.6\n",
            "Ticker:  UL\n",
            "Precision:  0.5544554455445545\n",
            "Ticker:  RL\n",
            "Precision:  0.49504950495049505\n",
            "Ticker:  DRIP\n",
            "Precision:  0.3333333333333333\n",
            "Ticker:  PCG\n",
            "Precision:  0.43884892086330934\n",
            "Ticker:  VIXY\n",
            "Precision:  1.0\n",
            "Ticker:  BIDU\n",
            "Precision:  0.375\n",
            "Ticker:  APH\n",
            "Precision:  0.573170731707317\n",
            "Ticker:  EW\n",
            "Precision:  0.5846153846153846\n",
            "Ticker:  NG\n",
            "Precision:  0.3333333333333333\n",
            "Ticker:  AMP\n",
            "Precision:  0.6470588235294118\n",
            "Ticker:  CAT\n",
            "Precision:  0.5421686746987951\n",
            "Ticker:  PB\n",
            "Precision:  0.449438202247191\n",
            "Ticker:  HPQ\n",
            "Precision:  0.5645161290322581\n",
            "Ticker:  GILD\n",
            "Precision:  0.0\n",
            "Ticker:  SI\n",
            "Precision:  0.4596774193548387\n",
            "Ticker:  VG\n",
            "Precision:  0.5142857142857142\n",
            "Ticker:  CCL\n",
            "Precision:  0.0\n",
            "Ticker:  LIT\n",
            "Precision:  0.524822695035461\n",
            "Ticker:  WB\n",
            "Precision:  0.5277777777777778\n",
            "Ticker:  FAS\n",
            "Precision:  0.5576923076923077\n",
            "Ticker:  GO\n",
            "Precision:  0.4452054794520548\n",
            "Ticker:  REV\n",
            "Precision:  0.0\n",
            "Ticker:  MGM\n",
            "Precision:  0.5522388059701493\n",
            "Ticker:  PT\n",
            "Precision:  0.0\n",
            "Ticker:  EA\n",
            "Precision:  0.5\n",
            "Ticker:  AMAT\n",
            "Precision:  0.5990566037735849\n",
            "Ticker:  JACK\n",
            "Precision:  0.5058823529411764\n",
            "Ticker:  UBS\n",
            "Precision:  0.4583333333333333\n",
            "Ticker:  CR\n",
            "Precision:  0.5066666666666667\n",
            "Ticker:  TECH\n",
            "Precision:  0.5739130434782609\n",
            "Ticker:  CLF\n",
            "Precision:  1.0\n",
            "Ticker:  TLRY\n",
            "Precision:  0.0\n",
            "Ticker:  IQ\n",
            "Precision:  0.5225225225225225\n",
            "Ticker:  DFEN\n",
            "Precision:  0.5277777777777778\n",
            "Ticker:  BA\n",
            "Precision:  0.5197368421052632\n",
            "Ticker:  LIVE\n",
            "Precision:  0.5\n",
            "Ticker:  DKNG\n",
            "Precision:  0.5454545454545454\n",
            "Ticker:  TTM\n",
            "Precision:  0.453781512605042\n",
            "Ticker:  NRZ\n",
            "Precision:  0.4939759036144578\n",
            "Ticker:  RNA\n",
            "Precision:  1.0\n",
            "Ticker:  TSM\n",
            "Precision:  0.5823529411764706\n",
            "Ticker:  SDS\n",
            "Precision:  0.0\n",
            "Ticker:  OKTA\n",
            "Precision:  0.5671641791044776\n",
            "Ticker:  GOAT\n",
            "Precision:  0.512396694214876\n",
            "Ticker:  JOB\n",
            "Precision:  0.0\n",
            "Ticker:  TCEHY\n",
            "Precision:  0.6363636363636364\n",
            "Ticker:  C\n",
            "Precision:  0.5466666666666666\n",
            "Ticker:  NVDA\n",
            "Precision:  0.5364705882352941\n",
            "Ticker:  GH\n",
            "Precision:  0.5882352941176471\n",
            "Ticker:  SNDL\n",
            "Precision:  0.0\n",
            "Ticker:  LVS\n",
            "Precision:  0.6\n",
            "Ticker:  HE\n",
            "Precision:  0.5157894736842106\n",
            "Ticker:  CRSP\n",
            "Precision:  0.0\n",
            "Ticker:  FAT\n",
            "Precision:  0.0\n",
            "Ticker:  IDEA\n",
            "Precision:  0.0\n",
            "Ticker:  BILI\n",
            "Precision:  0.5465116279069767\n",
            "Ticker:  PINS\n",
            "Precision:  0.0\n",
            "Ticker:  ATVI\n",
            "Precision:  0.4897959183673469\n",
            "Ticker:  INTC\n",
            "Precision:  0.5\n",
            "Ticker:  GEX\n",
            "Precision:  0.6296296296296297\n",
            "Ticker:  UBER\n",
            "Precision:  0.0\n",
            "Ticker:  FM\n",
            "Precision:  0.0\n",
            "Ticker:  BUD\n",
            "Precision:  0.0\n",
            "Ticker:  BP\n",
            "Precision:  1.0\n",
            "Ticker:  GDXJ\n",
            "Precision:  0.5862068965517241\n",
            "Ticker:  CC\n",
            "Precision:  0.48\n",
            "Ticker:  RIDE\n",
            "Precision:  0.6666666666666666\n",
            "Ticker:  AMZN\n",
            "Precision:  0.5087719298245614\n",
            "Ticker:  AM\n",
            "Precision:  0.4411764705882353\n",
            "Ticker:  TAN\n",
            "Precision:  0.5\n",
            "Ticker:  XLE\n",
            "Precision:  0.4394904458598726\n",
            "Ticker:  TX\n",
            "Precision:  0.510752688172043\n",
            "Ticker:  NEW\n",
            "Precision:  0.0\n",
            "Ticker:  CMCSA\n",
            "Precision:  0.5666666666666667\n",
            "Ticker:  SPXU\n",
            "Precision:  0.0\n",
            "Ticker:  DOCU\n",
            "Precision:  0.5592105263157895\n",
            "Ticker:  PLNT\n",
            "Precision:  0.547945205479452\n",
            "Ticker:  PLAY\n",
            "Precision:  0.5\n",
            "Ticker:  GOLD\n",
            "Precision:  0.0\n",
            "Ticker:  MX\n",
            "Precision:  0.5333333333333333\n",
            "Ticker:  MSFT\n",
            "Precision:  0.5406162464985994\n",
            "Ticker:  FNKO\n",
            "Precision:  0.4177215189873418\n",
            "Ticker:  VSTO\n",
            "Precision:  0.48148148148148145\n",
            "Ticker:  GDX\n",
            "Precision:  0.4961832061068702\n",
            "Ticker:  HEAR\n",
            "Precision:  1.0\n",
            "Ticker:  DFS\n",
            "Precision:  0.5833333333333334\n",
            "Ticker:  AUD\n",
            "Precision:  0.5079365079365079\n",
            "Ticker:  CF\n",
            "Precision:  0.48623853211009177\n",
            "Ticker:  ING\n",
            "Precision:  0.5977011494252874\n",
            "Ticker:  BNGO\n",
            "Precision:  0.0\n",
            "Ticker:  USO\n",
            "Precision:  0.5244755244755245\n",
            "Ticker:  QS\n",
            "Precision:  0.0\n",
            "Ticker:  HSBC\n",
            "Precision:  0.5714285714285714\n",
            "Ticker:  MCD\n",
            "Precision:  0.5633333333333334\n",
            "Ticker:  GRPN\n",
            "Precision:  0.4126984126984127\n",
            "Ticker:  LOVE\n",
            "Precision:  0.6216216216216216\n",
            "Ticker:  AMD\n",
            "Precision:  0.5014836795252225\n",
            "Ticker:  ANY\n",
            "Precision:  1.0\n",
            "Ticker:  HPE\n",
            "Precision:  0.0\n",
            "Ticker:  FAST\n",
            "Precision:  0.5970149253731343\n",
            "Ticker:  XXII\n",
            "Precision:  0.0\n",
            "Ticker:  FSR\n",
            "Precision:  0.0\n",
            "Ticker:  SMH\n",
            "Precision:  0.573170731707317\n",
            "Ticker:  ONE\n",
            "Precision:  0.0\n",
            "Ticker:  SEE\n",
            "Precision:  0.45664739884393063\n",
            "Ticker:  SOXS\n",
            "Precision:  0.0\n",
            "Ticker:  COST\n",
            "Precision:  0.4806201550387597\n",
            "Ticker:  CHAD\n",
            "Precision:  0.0\n",
            "Ticker:  EAT\n",
            "Precision:  0.0\n",
            "Ticker:  NS\n",
            "Precision:  0.45\n",
            "Ticker:  EC\n",
            "Precision:  0.0\n",
            "Ticker:  TIP\n",
            "Precision:  0.5833333333333334\n",
            "Ticker:  BC\n",
            "Precision:  0.4514285714285714\n",
            "Ticker:  BILL\n",
            "Precision:  0.525\n",
            "Ticker:  OC\n",
            "Precision:  0.5106382978723404\n",
            "Ticker:  CASH\n",
            "Precision:  0.5660377358490566\n",
            "Ticker:  THC\n",
            "Precision:  0.4642857142857143\n",
            "Ticker:  DS\n",
            "Precision:  0.75\n",
            "Ticker:  UFO\n",
            "Precision:  0.48717948717948717\n",
            "Ticker:  UAL\n",
            "Precision:  0.0\n",
            "Ticker:  CP\n",
            "Precision:  0.5294117647058824\n",
            "Ticker:  GM\n",
            "Precision:  0.6666666666666666\n",
            "Ticker:  F\n",
            "Precision:  0.4473684210526316\n",
            "Ticker:  DBX\n",
            "Precision:  0.4322033898305085\n",
            "Ticker:  IP\n",
            "Precision:  0.47619047619047616\n",
            "Ticker:  CVX\n",
            "Precision:  0.4112903225806452\n",
            "Ticker:  CS\n",
            "Precision:  0.4382716049382716\n",
            "Ticker:  IMO\n",
            "Precision:  0.5662650602409639\n",
            "Ticker:  YANG\n",
            "Precision:  0.43333333333333335\n",
            "Ticker:  CBOE\n",
            "Precision:  0.5405405405405406\n",
            "Ticker:  SEDG\n",
            "Precision:  0.6666666666666666\n",
            "Ticker:  JMIA\n",
            "Precision:  0.5\n",
            "Ticker:  BYD\n",
            "Precision:  0.6136363636363636\n",
            "Ticker:  ENPH\n",
            "Precision:  0.5238095238095238\n",
            "Ticker:  NP\n",
            "Precision:  0.25\n",
            "Ticker:  MARK\n",
            "Precision:  0.0\n",
            "Ticker:  RIG\n",
            "Precision:  0.4358974358974359\n",
            "Ticker:  TH\n",
            "Precision:  0.0\n",
            "Ticker:  SHE\n",
            "Precision:  0.5660377358490566\n",
            "Ticker:  RNG\n",
            "Precision:  0.6105263157894737\n",
            "Ticker:  WANT\n",
            "Precision:  0.5771428571428572\n",
            "Ticker:  RM\n",
            "Precision:  0.0\n",
            "Ticker:  SAM\n",
            "Precision:  0.45454545454545453\n",
            "Ticker:  CHWY\n",
            "Precision:  0.4956521739130435\n",
            "Ticker:  GNUS\n",
            "Precision:  0.0\n",
            "Ticker:  BBY\n",
            "Precision:  0.550561797752809\n",
            "Ticker:  WWE\n",
            "Precision:  0.5\n",
            "Ticker:  TWLO\n",
            "Precision:  0.5454545454545454\n",
            "Ticker:  SH\n",
            "Precision:  0.0\n",
            "Ticker:  SPXS\n",
            "Precision:  0.0\n",
            "Ticker:  VTI\n",
            "Precision:  0.6113989637305699\n",
            "Ticker:  SDC\n",
            "Precision:  0.5\n",
            "Ticker:  CME\n",
            "Precision:  0.4666666666666667\n",
            "Ticker:  DTE\n",
            "Precision:  0.5087719298245614\n",
            "Ticker:  TJX\n",
            "Precision:  0.5522388059701493\n",
            "Ticker:  MRO\n",
            "Precision:  0.5671641791044776\n",
            "Ticker:  KHC\n",
            "Precision:  0.0\n",
            "Ticker:  YETI\n",
            "Precision:  0.5242718446601942\n",
            "Ticker:  LMND\n",
            "Precision:  0.0\n",
            "Ticker:  DE\n",
            "Precision:  0.5392156862745098\n",
            "Ticker:  GSAT\n",
            "Precision:  0.3448275862068966\n",
            "Ticker:  CE\n",
            "Precision:  0.6129032258064516\n",
            "Ticker:  NET\n",
            "Precision:  0.5436241610738255\n",
            "Ticker:  LYFT\n",
            "Precision:  0.5357142857142857\n",
            "Ticker:  HOPE\n",
            "Precision:  0.5172413793103449\n",
            "Ticker:  GME\n",
            "Precision:  0.0\n",
            "Ticker:  CRON\n",
            "Precision:  0.0\n",
            "Ticker:  DKS\n",
            "Precision:  0.4875\n",
            "Ticker:  PEP\n",
            "Precision:  0.576271186440678\n",
            "Ticker:  WELL\n",
            "Precision:  0.535483870967742\n",
            "Ticker:  DON\n",
            "Precision:  0.5357142857142857\n",
            "Ticker:  WDC\n",
            "Precision:  0.49635036496350365\n",
            "Ticker:  NOW\n",
            "Precision:  0.5737704918032787\n",
            "Ticker:  CGC\n",
            "Precision:  0.0\n",
            "Ticker:  WF\n",
            "Precision:  0.6666666666666666\n",
            "Ticker:  MDB\n",
            "Precision:  0.5740740740740741\n",
            "Ticker:  ABBV\n",
            "Precision:  0.5306122448979592\n",
            "Ticker:  AN\n",
            "Precision:  0.44041450777202074\n",
            "Ticker:  CHGG\n",
            "Precision:  0.5230769230769231\n",
            "Ticker:  FN\n",
            "Precision:  0.4666666666666667\n",
            "Ticker:  CSCO\n",
            "Precision:  0.5819209039548022\n",
            "Ticker:  HP\n",
            "Precision:  0.0\n",
            "Ticker:  V\n",
            "Precision:  0.5876777251184834\n",
            "Ticker:  PENN\n",
            "Precision:  0.4107142857142857\n",
            "Ticker:  WFH\n",
            "Precision:  0.68\n",
            "Ticker:  NC\n",
            "Precision:  0.4166666666666667\n",
            "Ticker:  XLF\n",
            "Precision:  0.5127118644067796\n",
            "Ticker:  ES\n",
            "Precision:  0.5102639296187683\n",
            "Ticker:  QQQ\n",
            "Precision:  0.5625\n",
            "Ticker:  AUPH\n",
            "Precision:  0.0\n",
            "Ticker:  XOM\n",
            "Precision:  0.5277777777777778\n",
            "Ticker:  AX\n",
            "Precision:  0.0\n",
            "Ticker:  EDIT\n",
            "Precision:  0.25\n",
            "Ticker:  UNG\n",
            "Precision:  0.5294117647058824\n",
            "Ticker:  IWM\n",
            "Precision:  0.5468164794007491\n",
            "Ticker:  BE\n",
            "Precision:  0.0\n",
            "Ticker:  TBF\n",
            "Precision:  0.5625\n",
            "Ticker:  BEST\n",
            "Precision:  0.0\n",
            "Ticker:  NEXT\n",
            "Precision:  0.6666666666666666\n",
            "Ticker:  CNK\n",
            "Precision:  0.25\n",
            "Ticker:  TM\n",
            "Precision:  0.5\n",
            "Ticker:  CROX\n",
            "Precision:  0.6896551724137931\n",
            "Ticker:  SM\n",
            "Precision:  0.4198473282442748\n",
            "Ticker:  MOD\n",
            "Precision:  0.6\n",
            "Ticker:  TSN\n",
            "Precision:  0.43617021276595747\n",
            "Ticker:  BBBY\n",
            "Precision:  0.0\n",
            "Ticker:  VC\n",
            "Precision:  0.5151515151515151\n",
            "Ticker:  NGL\n",
            "Precision:  0.0\n",
            "Ticker:  ZS\n",
            "Precision:  0.6176470588235294\n",
            "Ticker:  VALE\n",
            "Precision:  0.47619047619047616\n",
            "Average precision:  0.42310722045555155\n",
            "Total number of stocks with sufficient data: 351\n",
            "Stocks with too little data:  {'PXJ': 10, 'HARP': 16, 'WDAY': 219, 'TVTY': 12, 'ZOM': 186, 'BZH': 14, 'CXW': 239, 'ATRC': 2, 'SURF': 60, 'XIACF': 1, 'HUBS': 64, 'TROW': 15, 'BROS': 70, 'MVST': 118, 'UFCS': 0, 'EGP': 7, 'BXC': 53, 'LILM': 26, 'LYFE': 38, 'EFC': 13, 'PRI': 14, 'TRND': 2, 'PRGO': 14, 'CFR': 129, 'JNCE': 11, 'AQN': 15, 'ACIU': 19, 'FTS': 24, 'BLDG': 0, 'DOL': 58, 'REKR': 7, 'FUV': 152, 'ATGE': 4, 'CNXT': 1, 'VDC': 13, 'INFR': 1, 'REPO': 179, 'TER': 142, 'FXF': 12, 'MBOT': 18, 'QUIK': 11, 'EFU': 1, 'SGMO': 198, 'BCH': 52, 'FNK': 11, 'SPXT': 6, 'VIS': 47, 'REC': 21, 'APPH': 107, 'SPYG': 174, 'CPI': 8, 'CDNS': 37, 'DTEA': 64, 'ARKW': 234, 'PEGA': 9, 'BWX': 1, 'CRT': 104, 'HIPS': 7, 'UDMY': 3, 'MORF': 0, 'PIPR': 1, 'ABCB': 6, 'EIX': 28, 'FLNT': 21, 'IEV': 8, 'CSTE': 0, 'LAZ': 30, 'EPZM': 38, 'ALTS': 6, 'CCRN': 14, 'MNMD': 113, 'AMPL': 8, 'GLRE': 0, 'RGEN': 21, 'DISH': 142, 'FAF': 49, 'DAR': 169, 'CBAY': 34, 'AFTY': 2, 'SYY': 122, 'BOND': 136, 'STLA': 44, 'MUNI': 4, 'UUUU': 142, 'SQSP': 27, 'RMED': 38, 'INSG': 153, 'RPV': 5, 'CARZ': 3, 'VFH': 19, 'APDN': 30, 'FMS': 31, 'CODX': 148, 'PKI': 21, 'NAN': 16, 'CDLX': 30, 'ADM': 141, 'GIL': 40, 'USCI': 1, 'IVOO': 2, 'IRM': 140, 'SITE': 50, 'PPG': 43, 'TECL': 223, 'BAP': 6, 'ESS': 52, 'EWRE': 0, 'SKYW': 43, 'PLCE': 61, 'FLS': 7, 'FRSH': 5, 'JOET': 1, 'DMB': 11, 'IHC': 3, 'WPRT': 43, 'INST': 4, 'XNET': 47, 'GROY': 2, 'KRO': 15, 'SUI': 23, 'AIN': 204, 'AVDL': 7, 'GLDM': 32, 'MODN': 1, 'CSB': 8, 'GILT': 39, 'WTRG': 6, 'OTEX': 5, 'CEO': 4, 'MIC': 138, 'SCOR': 8, 'CHI': 82, 'CIL': 2, 'XPO': 159, 'SNT': 4, 'LCUT': 0, 'CIZ': 0, 'NR': 186, 'UYM': 0, 'BOXL': 54, 'HBTC': 0, 'STL': 80, 'TPB': 64, 'ONCY': 32, 'BRMK': 4, 'MYNA': 1, 'G': 75, 'BIOC': 41, 'FRHC': 1, 'MASI': 25, 'FLNG': 7, 'UCC': 31, 'VOXX': 1, 'GPI': 28, 'AEHR': 14, 'LLY': 222, 'FEDX': 8, 'GSG': 13, 'PLTM': 3, 'CORP': 156, 'QMN': 0, 'WLL': 155, 'DOGZ': 17, 'EQX': 24, 'PHB': 26, 'OGI': 191, 'SIMS': 15, 'ZBRA': 41, 'CTRE': 9, 'UDOW': 205, 'FTV': 19, 'XSW': 9, 'TTNP': 87, 'AQUA': 37, 'QURE': 30, 'NINE': 103, 'XRAY': 19, 'INGR': 7, 'ACHC': 16, 'DBO': 33, 'ZEN': 154, 'ZIM': 166, 'INFA': 0, 'ZT': 11, 'DRIV': 33, 'FXC': 8, 'POSH': 110, 'VEU': 10, 'SWT': 2, 'SLI': 48, 'NCNO': 45, 'TRI': 27, 'VIV': 9, 'VECO': 1, 'ALLE': 8, 'BON': 3, 'UIS': 6, 'PSI': 60, 'RRX': 0, 'CVEO': 1, 'UVV': 13, 'COUP': 130, 'IGN': 53, 'SILV': 32, 'VZIO': 93, 'PHT': 0, 'WERN': 15, 'KGRN': 1, 'EMHY': 0, 'AOK': 14, 'CHKP': 34, 'PROG': 86, 'SSL': 100, 'DOCT': 1, 'PZA': 9, 'CTT': 11, 'PRNT': 99, 'EWUS': 0, 'ESTE': 7, 'UPLD': 10, 'FPX': 8, 'JKH': 2, 'DICE': 3, 'SCHD': 74, 'SMIN': 0, 'DENN': 79, 'SDD': 5, 'ADES': 8, 'GLYC': 6, 'SRI': 23, 'MCS': 44, 'RING': 93, 'SHG': 13, 'MRVI': 40, 'DEUS': 11, 'USHY': 3, 'AZUL': 63, 'FNDC': 0, 'VEGA': 104, 'GOL': 35, 'HIVE': 126, 'RLX': 73, 'SGRY': 9, 'NXST': 13, 'IZRL': 45, 'GCO': 17, 'DRQ': 0, 'ENTA': 11, 'EZM': 7, 'CSGP': 15, 'GAIA': 11, 'BLND': 28, 'EVN': 3, 'ICSH': 3, 'FRAK': 3, 'LWAY': 3, 'DEO': 75, 'SFY': 12, 'ZSAN': 47, 'ZVIA': 7, 'MVP': 151, 'DBEM': 0, 'VOE': 4, 'AAC': 8, 'FEM': 7, 'HSDT': 3, 'HSY': 108, 'BATRK': 0, 'FSV': 6, 'URNM': 67, 'URBN': 148, 'CBRL': 91, 'HIW': 1, 'DHI': 168, 'AAU': 19, 'SPB': 26, 'GIII': 15, 'EWK': 3, 'GLT': 4, 'SWAG': 2, 'CVI': 20, 'EAF': 53, 'ALE': 21, 'FIX': 121, 'LUMN': 162, 'WRAP': 63, 'EVX': 2, 'MDRX': 8, 'ORLA': 6, 'ALKS': 32, 'MMAT': 74, 'BBUS': 11, 'IWF': 15, 'COMP': 33, 'LEG': 145, 'EME': 19, 'BSV': 35, 'NMRK': 18, 'HYRE': 25, 'KAI': 19, 'TIPT': 2, 'PECO': 4, 'GVI': 2, 'NIU': 118, 'ALV': 10, 'OUSA': 4, 'AWK': 113, 'AME': 85, 'VEST': 3, 'CWI': 3, 'PFFA': 0, 'PBA': 47, 'VYM': 109, 'SJI': 3, 'CLB': 28, 'LAKE': 124, 'QD': 203, 'SJNK': 1, 'FSS': 7, 'REZI': 13, 'FTAI': 12, 'FDM': 15, 'HDB': 42, 'EWN': 2, 'DFIN': 0, 'GAA': 9, 'FHN': 37, 'PBW': 112, 'AVLR': 32, 'INVZ': 45, 'PSEC': 125, 'EMKR': 2, 'AMS': 65, 'HACK': 102, 'AACG': 13, 'ERII': 3, 'VNE': 7, 'BEKE': 64, 'XBI': 227, 'TTI': 36, 'EVRG': 6, 'DOMO': 120, 'AURA': 0, 'IWC': 25, 'NXPI': 159, 'PVG': 21, 'NVEE': 5, 'NDAQ': 215, 'IXN': 5, 'BKSY': 16, 'PUI': 5, 'ARMR': 0, 'DAWN': 8, 'GOSS': 5, 'UPV': 3, 'WHG': 2, 'USX': 14, 'WIT': 77, 'EXC': 35, 'KORU': 15, 'GNL': 7, 'PZD': 4, 'HOLI': 3, 'IDXX': 38, 'BFC': 10, 'IZEA': 59, 'CCNE': 1, 'YNDX': 51, 'SCHA': 7, 'SCHW': 155, 'ACVF': 1, 'BASE': 19, 'ADDDF': 1, 'PAWZ': 12, 'MNP': 1, 'NUZE': 3, 'COL': 134, 'ACM': 78, 'AAWW': 99, 'SIG': 149, 'CCO': 59, 'LBRDA': 1, 'INCO': 3, 'SY': 190, 'NUAN': 77, 'VTRN': 0, 'LQD': 173, 'AMWL': 95, 'MTH': 18, 'VIGI': 0, 'NRDS': 11, 'CVLT': 5, 'ECH': 26, 'NVEI': 22, 'SKIL': 11, 'TISI': 5, 'PWB': 7, 'QTEC': 4, 'KOD': 55, 'UEC': 63, 'BKE': 55, 'MOTO': 4, 'GSLC': 2, 'IYK': 2, 'IMPL': 11, 'MANT': 7, 'UHS': 23, 'KBWB': 5, 'MTLS': 52, 'WNEB': 0, 'AROC': 8, 'GOGO': 177, 'CSIQ': 241, 'PRTS': 55, 'NPO': 17, 'BIRD': 30, 'WIX': 196, 'UST': 202, 'MFGP': 13, 'ITA': 157, 'MMTM': 0, 'BSBR': 10, 'XSOE': 0, 'AZ': 208, 'IHF': 4, 'SAIC': 72, 'LCII': 3, 'MNKD': 161, 'CHDN': 28, 'FLOT': 5, 'WGO': 114, 'SUZ': 0, 'GLCNF': 6, 'IBUY': 12, 'PSL': 79, 'DLB': 27, 'TPIC': 41, 'ARGT': 29, 'IDV': 11, 'GTN': 15, 'GII': 4, 'HYLS': 0, 'NOVT': 2, 'VVNT': 35, 'PAYA': 47, 'HMY': 31, 'AWX': 2, 'WRE': 4, 'AKTS': 8, 'HBT': 1, 'CVGW': 38, 'TAAG': 1, 'RSX': 47, 'QLTA': 1, 'KFVG': 0, 'MRCY': 23, 'ELLO': 1, 'DNL': 1, 'BRZU': 127, 'YCBD': 27, 'IJH': 8, 'EGC': 0, 'CHIM': 2, 'ZNH': 15, 'THG': 6, 'ELS': 11, 'DGII': 2, 'XEL': 39, 'B': 149, 'SPT': 78, 'TCOM': 66, 'ENZL': 2, 'FNX': 5, 'CEMI': 46, 'LZB': 80, 'NTCT': 0, 'STRA': 8, 'HDG': 4, 'ACES': 43, 'CENT': 79, 'GOAU': 3, 'OLPX': 12, 'SALM': 4, 'BXP': 42, 'AVTR': 54, 'IMH': 11, 'RETA': 41, 'YORW': 4, 'EZPW': 19, 'CCEP': 0, 'IWP': 11, 'ONEY': 1, 'VERB': 52, 'FXP': 15, 'KXI': 2, 'DXD': 28, 'XSD': 22, 'BLCT': 12, 'BBH': 7, 'XYLD': 6, 'EGRX': 11, 'MMYT': 20, 'LHCG': 5, 'ATEN': 18, 'AGNC': 114, 'INCY': 40, 'STLD': 165, 'HCAT': 15, 'DST': 22, 'MAX': 224, 'LCG': 1, 'CGW': 27, 'PGJ': 11, 'PHG': 19, 'DOOR': 128, 'VVV': 25, 'RHS': 32, 'ITM': 2, 'FIDU': 0, 'WABC': 1, 'OBOR': 11, 'INDY': 19, 'DCO': 7, 'TYO': 61, 'HLIT': 4, 'QQQN': 6, 'KODK': 239, 'NHC': 19, 'FLV': 3, 'EPAC': 1, 'HXL': 17, 'XRT': 221, 'CMT': 22, 'QTWO': 2, 'ABM': 27, 'BKYI': 18, 'BCX': 22, 'ZETA': 4, 'VRNT': 30, 'NXRT': 7, 'PGRE': 14, 'QDF': 2, 'CCCC': 5, 'IIVI': 59, 'ESE': 16, 'PBD': 10, 'PTVE': 8, 'DUG': 18, 'VRAY': 14, 'STAG': 59, 'RMTI': 16, 'ASTC': 16, 'EWX': 6, 'CNI': 50, 'KNSA': 13, 'PAY': 97, 'TWOU': 103, 'MGK': 80, 'AEM': 64, 'PED': 83, 'GPL': 34, 'FYC': 3, 'LND': 6, 'BLV': 11, 'KLXE': 6, 'OLO': 22, 'ATOM': 46, 'FLZA': 0, 'SMTS': 6, 'PNT': 4, 'CEY': 5, 'AON': 47, 'FATE': 102, 'SEB': 25, 'TYL': 16, 'HAIN': 29, 'ZTS': 49, 'EVH': 23, 'FRSX': 39, 'NGM': 12, 'VB': 194, 'NBIX': 19, 'EYE': 114, 'HRL': 93, 'RHP': 15, 'MDU': 9, 'COKE': 248, 'CEVA': 4, 'RPRX': 15, 'BKU': 5, 'VVPR': 20, 'CBZ': 4, 'AMTD': 114, 'CFG': 35, 'UBSFF': 2, 'BOH': 22, 'BLU': 41, 'AMPY': 4, 'BDX': 44, 'IYM': 2, 'RYLD': 12, 'CNHI': 59, 'ESGV': 2, 'CEZ': 0, 'PNW': 206, 'DRD': 19, 'TPR': 100, 'RES': 247, 'PIXY': 51, 'CAG': 122, 'AQST': 39, 'INMD': 52, 'BLBD': 20, 'ENB': 115, 'DVY': 13, 'TNET': 6, 'SBLK': 38, 'HTHT': 61, 'KLAC': 66, 'CDEV': 73, 'HIG': 45, 'APLS': 30, 'PWR': 42, 'PARR': 3, 'VAPO': 13, 'SOHO': 15, 'MSEX': 6, 'MITT': 77, 'SMLF': 0, 'FKU': 7, 'IDU': 1, 'BMRN': 59, 'PSO': 28, 'YTRA': 0, 'SBB': 3, 'ARMK': 60, 'CHIQ': 11, 'TGLS': 7, 'USRT': 6, 'EQH': 5, 'STGW': 5, 'FTNT': 134, 'NRG': 87, 'XYLG': 3, 'MLPX': 1, 'IWS': 2, 'FXS': 6, 'VONV': 4, 'OMCL': 2, 'RIGL': 80, 'ROP': 61, 'NERV': 40, 'KOPN': 47, 'AOM': 10, 'WWW': 116, 'GPRE': 30, 'PNNT': 5, 'IEF': 101, 'GCI': 40, 'FTSL': 0, 'XAR': 98, 'HLI': 3, 'CW': 222, 'WASH': 60, 'THD': 24, 'WEB': 3, 'MTN': 194, 'BECN': 16, 'FBK': 4, 'SCHG': 8, 'CAPR': 31, 'KBR': 42, 'ANAT': 0, 'SLGG': 90, 'TPHS': 3, 'HOT': 16, 'GMAB': 17, 'CATO': 3, 'SPLG': 22, 'AXSM': 63, 'DLA': 8, 'USFR': 18, 'CTAS': 73, 'FMF': 9, 'OG': 164, 'ORI': 33, 'COWN': 6, 'PRQR': 14, 'BTBT': 59, 'BRP': 22, 'IHE': 5, 'FLOW': 92, 'SAFM': 19, 'ULH': 2, 'MIST': 13, 'EIDO': 11, 'QQQM': 42, 'TRIT': 75, 'ASIX': 1, 'SMLP': 6, 'PSY': 11, 'ENTG': 39, 'CSD': 5, 'PXI': 0, 'AJRD': 68, 'NOVA': 104, 'DECK': 103, 'ZGNX': 18, 'RUSL': 57, 'BRF': 14, 'USFD': 70, 'FCN': 3, 'ALDX': 7, 'KRMA': 4, 'EEX': 2, 'RTM': 13, 'TAL': 199, 'MVV': 0, 'TRIB': 15, 'GEL': 12, 'APM': 24, 'INSW': 8, 'CUBI': 0, 'FLC': 2, 'FNDE': 0, 'OVB': 0, 'VIOG': 0, 'ARKQ': 164, 'ENSG': 5, 'ADSK': 214, 'SPMB': 1, 'SESN': 87, 'GNMA': 12, 'XLG': 1, 'A': 166, 'REXR': 8, 'RODE': 11, 'GGT': 3, 'BTC': 195, 'UNF': 17, 'IJK': 1, 'AMKR': 55, 'TGI': 87, 'ELP': 15, 'VYGR': 16, 'ANAB': 6, 'KFY': 13, 'THRM': 17, 'BKNG': 182, 'WBT': 20, 'PNFP': 3, 'DBI': 26, 'IBP': 6, 'COLL': 7, 'RAIL': 100, 'NVS': 89, 'UNP': 136, 'DOLE': 48, 'SNDX': 10, 'DJD': 5, 'GGB': 92, 'ARC': 52, 'BTU': 139, 'MTX': 47, 'JAMF': 47, 'THR': 45, 'IVOL': 10, 'RYN': 31, 'W': 210, 'DAT': 6, 'PYZ': 5, 'VGK': 40, 'APLE': 108, 'LSI': 17, 'CASY': 29, 'IEP': 47, 'DEI': 11, 'CHIX': 17, 'ELF': 113, 'COPX': 43, 'SIEGY': 6, 'TBLT': 57, 'SLAB': 27, 'FDN': 63, 'PING': 113, 'YLCO': 2, 'CNRG': 29, 'PTGX': 8, 'GBL': 6, 'LOB': 26, 'HLAL': 1, 'HMHC': 44, 'SPYD': 121, 'WIRE': 97, 'OTGLF': 10, 'VKTX': 61, 'SIEN': 13, 'MUFG': 26, 'FXE': 54, 'AVEO': 42, 'APPN': 113, 'BGS': 87, 'RCUS': 7, 'SHW': 116, 'MLN': 70, 'NEU': 10, 'IRBO': 3, 'LEA': 20, 'IVV': 112, 'ETP': 148, 'REE': 157, 'BOOT': 66, 'UAVS': 163, 'SDG': 14, 'ATHX': 86, 'CHRS': 14, 'MOS': 153, 'EWM': 13, 'MDC': 27, 'STAR': 164, 'BDN': 10, 'CMA': 86, 'DGRW': 6, 'DVAX': 203, 'XTRM': 2, 'IQV': 9, 'DBJP': 0, 'ESP': 160, 'CHAU': 7, 'DXLG': 16, 'JKK': 14, 'VSTM': 70, 'DD': 69, 'PILL': 49, 'RZV': 1, 'ESTC': 155, 'TDG': 46, 'EDN': 9, 'PGEN': 23, 'KBA': 7, 'MSGE': 47, 'VTGN': 33, 'SUPN': 16, 'VISL': 69, 'KBAL': 9, 'SITC': 9, 'PHR': 6, 'DESP': 2, 'UPST': 236, 'AAXJ': 4, 'CLIX': 8, 'INDL': 23, 'CLR': 105, 'SND': 82, 'XPL': 15, 'SDIG': 4, 'LGO': 7, 'RGNX': 4, 'GOTU': 79, 'OMI': 76, 'SID': 75, 'APTS': 13, 'POR': 45, 'CSGS': 2, 'LCR': 15, 'XELA': 80, 'SBT': 23, 'PPA': 53, 'RTH': 142, 'LTL': 38, 'WOR': 29, 'MCHP': 85, 'DLR': 76, 'MTOR': 8, 'ONVO': 39, 'BW': 247, 'SOCL': 20, 'VICR': 4, 'TSLX': 4, 'ADTN': 1, 'CSA': 23, 'AGRX': 79, 'PRVA': 4, 'TBT': 210, 'QQC': 2, 'DOO': 52, 'GOLF': 79, 'EGAN': 15, 'AVYA': 27, 'TFI': 5, 'HT': 241, 'NWE': 4, 'OPT': 26, 'BRZE': 1, 'ROOF': 85, 'CYB': 10, 'WEBS': 2, 'FEX': 5, 'LNDC': 4, 'MESO': 46, 'GLW': 232, 'WAL': 29, 'GGG': 38, 'PLTK': 18, 'SPD': 27, 'GMBL': 77, 'R': 54, 'ZBH': 9, 'UMH': 3, 'SXI': 9, 'REPL': 5, 'SHLD': 7, 'ADN': 28, 'RWLK': 46, 'MMX': 7, 'WTTR': 4, 'ROC': 0, 'USM': 15, 'SFL': 35, 'ACWV': 0, 'IMMR': 35, 'LSPD': 118, 'VONE': 2, 'KWT': 0, 'ERF': 19, 'APTV': 34, 'GTLS': 14, 'IUSG': 1, 'SNA': 58, 'SAL': 6, 'DTD': 9, 'ALC': 20, 'COOK': 29, 'KBWD': 5, 'CRMD': 77, 'ACN': 91, 'MGIC': 3, 'TRUL': 69, 'GRUB': 132, 'AGS': 41, 'AMSWA': 3, 'WHR': 87, 'MNDY': 32, 'EWW': 108, 'ICF': 10, 'AGCO': 18, 'VTIP': 4, 'XLB': 50, 'BRC': 35, 'KULR': 41, 'AIM': 209, 'ACRX': 81, 'VOLVF': 0, 'CLLS': 9, 'TTEC': 2, 'MOV': 20, 'TORM': 3, 'PTC': 46, 'SENS': 230, 'PBT': 10, 'BKF': 2, 'SPSB': 0, 'EWH': 78, 'APRE': 19, 'VOOV': 6, 'ASTS': 174, 'ARVL': 127, 'PID': 19, 'CONX': 0, 'LNT': 5, 'DRW': 8, 'VXUS': 121, 'PAI': 10, 'FRC': 18, 'CEI': 156, 'VPU': 19, 'IPGP': 19, 'CMCO': 2, 'NEP': 36, 'SMTC': 6, 'OUST': 45, 'FSP': 7, 'JOYY': 18, 'WWD': 11, 'PSCE': 5, 'LPRO': 9, 'STAA': 9, 'SPPI': 48, 'YINN': 230, 'VRM': 137, 'CIO': 173, 'CTXS': 94, 'KORE': 1, 'RAVI': 3, 'EUSA': 1, 'BLDR': 39, 'BSY': 16, 'AHH': 98, 'BEN': 70, 'HRI': 13, 'SHOO': 40, 'TFII': 4, 'HOOD': 108, 'NSIT': 4, 'AGE': 74, 'HVT': 35, 'MEC': 4, 'VNDA': 19, 'IWV': 10, 'MNST': 157, 'ADX': 106, 'TTCF': 229, 'TRVG': 85, 'WWR': 78, 'RILY': 10, 'GTHX': 44, 'EXPE': 203, 'BLGO': 3, 'BSET': 5, 'ATNX': 33, 'WSO': 30, 'AXGN': 3, 'CDL': 66, 'PFI': 4, 'ESGE': 0, 'VSH': 13, 'SLYG': 0, 'BBJP': 0, 'SHAG': 0, 'RGLS': 10, 'IGOV': 4, 'KOIN': 3, 'RVP': 65, 'CHIK': 9, 'BXMT': 19, 'FTSI': 3, 'ZUMZ': 39, 'SPR': 244, 'FAME': 13, 'MOON': 93, 'CYBR': 110, 'HCSG': 3, 'D': 127, 'HCA': 122, 'DAG': 14, 'XPOF': 4, 'CVY': 0, 'KNG': 19, 'SDOG': 3, 'HTZ': 25, 'SLY': 21, 'IVE': 163, 'UNC': 1, 'COIN': 153, 'PNR': 22, 'FTDR': 3, 'IYH': 13, 'YUMC': 98, 'PEB': 3, 'VPC': 7, 'PHUN': 79, 'AVCO': 5, 'TAST': 10, 'CNO': 15, 'OPCH': 0, 'CONN': 38, 'SKY': 247, 'GXG': 4, 'EYPT': 12, 'AVGR': 44, 'SILC': 1, 'SOYB': 111, 'ASTE': 5, 'EOLS': 74, 'NBRV': 50, 'GDRX': 130, 'HELE': 23, 'EWGS': 1, 'CWEN': 21, 'SNEX': 2, 'BTAL': 4, 'ARCO': 12, 'ASC': 64, 'EDOC': 6, 'TAIL': 26, 'TMO': 246, 'GWRE': 20, 'JEF': 30, 'ATUS': 72, 'ATC': 15, 'WHD': 3, 'LPG': 36, 'HIBS': 51, 'DGT': 3, 'ROIC': 91, 'DCI': 12, 'IGM': 11, 'MUSA': 5, 'TACO': 221, 'FMC': 55, 'SSO': 150, 'JBGS': 14, 'PRTY': 146, 'SHYG': 1, 'VIEW': 63, 'JOE': 228, 'SONY': 197, 'VDE': 68, 'QRTEA': 38, 'SCHB': 52, 'XNCR': 0, 'NNVC': 25, 'MSGS': 67, 'WPM': 142, 'ALEX': 33, 'PZT': 1, 'QAI': 5, 'FTA': 27, 'SJM': 90, 'BNY': 31, 'IUSV': 0, 'ZEUS': 33, 'VLDR': 199, 'BJRI': 22, 'CDK': 14, 'GTLB': 29, 'CREX': 18, 'AKR': 15, 'BBI': 51, 'LOPE': 15, 'GNRC': 114, 'QID': 78, 'RORO': 0, 'PSCT': 1, 'TBB': 5, 'WWJD': 41, 'LOV': 31, 'PNM': 7, 'BFTR': 1, 'HUN': 42, 'IDCC': 18, 'ACHV': 17, 'PSJ': 3, 'POTX': 88, 'ATRS': 61, 'EFV': 1, 'OUNZ': 13, 'KURA': 11, 'YGYI': 3, 'NWS': 105, 'PSTH': 196, 'AXS': 29, 'INT': 101, 'SMFG': 2, 'CRC': 12, 'OLN': 156, 'SHC': 6, 'SCS': 91, 'MTL': 31, 'WSFS': 6, 'CAE': 18, 'DWSH': 2, 'SPXC': 7, 'PAX': 10, 'ETD': 13, 'LGIH': 26, 'LEU': 25, 'AIMC': 6, 'AEL': 3, 'COMT': 0, 'VOOG': 43, 'GENE': 46, 'EWY': 89, 'STAF': 22, 'MSTR': 246, 'GNW': 74, 'SEER': 9, 'TRTN': 26, 'RFL': 8, 'FMCCT': 13, 'PBE': 3, 'VCEL': 24, 'IFRX': 19, 'SPTS': 1, 'ODC': 1, 'EXT': 156, 'GRC': 0, 'SFIG': 0, 'CCK': 19, 'PODD': 26, 'HAIL': 198, 'BOMN': 7, 'SNP': 116, 'MED': 66, 'NCR': 73, 'JPXN': 0, 'CBSH': 4, 'NBTB': 0, 'PULM': 22, 'ESPO': 48, 'HOV': 40, 'VAL': 6, 'SCHE': 0, 'XITK': 2, 'UBT': 12, 'AMLP': 19, 'OPTT': 95, 'PTNR': 1, 'MSCI': 229, 'IBD': 165, 'WIP': 19, 'UFI': 5, 'GERN': 224, 'BWXT': 22, 'FAAR': 0, 'DIM': 14, 'AZZ': 95, 'BTA': 3, 'NAVI': 144, 'ARW': 15, 'FNY': 3, 'CCXI': 80, 'LX': 181, 'LRN': 100, 'KEP': 20, 'TUSK': 38, 'GLF': 0, 'ICUI': 2, 'NAUT': 9, 'ATSG': 51, 'VLO': 233, 'CHIL': 3, 'PYN': 2, 'AMOM': 9, 'VLY': 1, 'EDI': 25, 'VFMF': 2, 'GHM': 7, 'KN': 171, 'FAB': 36, 'CRU': 0, 'ELD': 7, 'ALNY': 27, 'PGNY': 30, 'AIRC': 4, 'VCRA': 8, 'CORT': 25, 'VIA': 88, 'TFX': 7, 'SMCI': 33, 'BUR': 11, 'KOS': 106, 'PAVM': 38, 'DOGEF': 0, 'RXI': 2, 'DINT': 4, 'ARCH': 31, 'CHCO': 0, 'FWONK': 6, 'GBX': 32, 'NEAR': 212, 'HAYW': 12, 'BGFV': 101, 'PSM': 1, 'OIIM': 2, 'DGS': 7, 'ROBT': 3, 'IHG': 18, 'IGIB': 1, 'SPFF': 0, 'OVV': 58, 'RPD': 41, 'SABR': 194, 'QNST': 1, 'BKH': 7, 'SYK': 57, 'MYY': 4, 'CDMO': 14, 'SPEM': 0, 'KRBN': 15, 'GRIN': 12, 'ASR': 31, 'GFS': 21, 'SRAD': 8, 'ADPT': 13, 'FDL': 1, 'VCTR': 2, 'HTGM': 22, 'TIVC': 0, 'SUM': 68, 'INTU': 184, 'IDA': 8, 'TVTX': 0, 'CSF': 16, 'GTY': 5, 'HMN': 5, 'HYLD': 0, 'RWR': 1, 'ISRG': 181, 'JIG': 5, 'IYF': 3, 'QQD': 0, 'BEAT': 7, 'HCP': 5, 'EFG': 8, 'GNOM': 1, 'OGIG': 12, 'U': 162, 'MATW': 17, 'SPC': 0, 'MEXX': 7, 'MTZ': 30, 'VOD': 140, 'AMRC': 16, 'ADI': 100, 'SEV': 7, 'CRBN': 1, 'UPW': 3, 'FXG': 2, 'VERU': 43, 'RGI': 41, 'RENN': 7, 'BNDW': 0, 'ITUB': 78, 'DTC': 11, 'RLY': 26, 'AGT': 18, 'PLM': 29, 'LUMO': 0, 'WPC': 22, 'BNO': 58, 'BAB': 66, 'NUSI': 14, 'AGFY': 22, 'VV': 201, 'WEAV': 0, 'OEF': 11, 'XCUR': 0, 'UPWK': 234, 'ACI': 151, 'BRDG': 2, 'IPG': 10, 'ENJ': 10, 'RCKT': 47, 'ATR': 106, 'SBAC': 26, 'HIBB': 37, 'OCUL': 79, 'AVUV': 1, 'ALRM': 25, 'NVMI': 3, 'APO': 80, 'FROG': 102, 'USMV': 13, 'ROMO': 10, 'UGL': 29, 'TNC': 7, 'PWFL': 1, 'BNED': 37, 'GLTR': 18, 'WE': 49, 'CMC': 174, 'EWO': 12, 'LBC': 13, 'SEED': 23, 'RARE': 136, 'CYRX': 30, 'MKL': 14, 'CALM': 154, 'PAGS': 67, 'VXRT': 184, 'STEM': 215, 'NTSX': 8, 'BUYZ': 4, 'FCUV': 3, 'LASR': 14, 'CTRA': 4, 'PNC': 175, 'TTMI': 3, 'TUYA': 8, 'CEN': 23, 'RWM': 35, 'DCOM': 1, 'RSXJ': 4, 'IYY': 5, 'REG': 48, 'MIME': 42, 'NEXA': 0, 'COMB': 3, 'CAS': 5, 'ETR': 44, 'SUNL': 18, 'RDHL': 90, 'ATNI': 3, 'COM': 228, 'CYTK': 17, 'SLYV': 11, 'YTEN': 12, 'VIPS': 134, 'BIO': 144, 'FEZ': 19, 'ECL': 41, 'CNXC': 4, 'TLH': 22, 'JLL': 15, 'UBOT': 11, 'CVM': 121, 'SPOK': 2, 'RYI': 6, 'EMR': 53, 'VTEB': 0, 'BKLN': 54, 'VTNR': 30, 'CECE': 6, 'PAYS': 73, 'PWC': 58, 'ICPT': 108, 'IOT': 5, 'PTLO': 19, 'USAC': 14, 'CELH': 128, 'CSTR': 23, 'GMF': 16, 'MLCO': 52, 'TMHC': 14, 'NWG': 3, 'KDP': 102, 'VIR': 89, 'ZIOP': 27, 'RYCEF': 11, 'NE': 82, 'UGI': 7, 'IHT': 11, 'INSP': 9, 'LQDT': 4, 'RMBS': 73, 'PCYG': 0, 'PPC': 100, 'TAK': 169, 'LAMR': 9, 'GIGE': 3, 'AFG': 19, 'PBS': 183, 'DNLI': 13, 'SENT': 25, 'TRTX': 13, 'ADNT': 4, 'BSCS': 2, 'PACK': 75, 'RMO': 129, 'GSC': 8, 'BKD': 30, 'ARVN': 8, 'EWJ': 113, 'WBS': 238, 'VCYT': 7, 'OWLT': 7, 'SONM': 26, 'NBR': 45, 'XM': 133, 'STVN': 0, 'SPLV': 27, 'DXCM': 129, 'ETHO': 1, 'CMRE': 25, 'ESTA': 6, 'XIN': 15, 'STRS': 5, 'NVCR': 49, 'FNMAL': 4, 'JKL': 7, 'VRRM': 7, 'HGH': 103, 'BKEP': 2, 'MANU': 79, 'OSK': 106, 'FBZ': 1, 'WES': 13, 'HLX': 32, 'WAN': 0, 'EXFY': 3, 'AVY': 18, 'ELA': 14, 'WNC': 7, 'DEN': 46, 'NVT': 4, 'FXB': 40, 'CLAR': 7, 'XSPA': 171, 'CANF': 13, 'IWB': 12, 'AKA': 58, 'PRAX': 1, 'SBS': 30, 'MIG': 5, 'FRPT': 13, 'BCI': 11, 'MLI': 7, 'PAK': 13, 'RKLY': 13, 'QMJ': 2, 'GDOT': 29, 'NAIL': 161, 'RNR': 6, 'MGY': 17, 'TPC': 8, 'SLM': 88, 'INBX': 4, 'CADE': 6, 'OMFS': 1, 'SWKS': 210, 'MYOV': 55, 'BLD': 11, 'HPS': 10, 'CMF': 48, 'JAZZ': 48, 'ODP': 88, 'SYNA': 22, 'VIVE': 34, 'SKM': 10, 'LIV': 2, 'ATCO': 11, 'TXN': 247, 'GATX': 0, 'LPTH': 8, 'WRLD': 42, 'GEOS': 1, 'SWCH': 85, 'BKR': 78, 'SHEN': 36, 'CMP': 57, 'RFI': 19, 'HERB': 4, 'QMCO': 3, 'JELD': 14, 'CIM': 96, 'ETWO': 23, 'OOMA': 16, 'SNSR': 2, 'BIZD': 0, 'LIDR': 15, 'AAT': 18, 'BLMN': 89, 'TK': 221, 'BGSF': 0, 'QRFT': 0, 'SFTBF': 8, 'STFC': 9, 'IYJ': 3, 'COIL': 3, 'TXMD': 137, 'SPUS': 0, 'PRFX': 1, 'LGH': 3, 'SAN': 158, 'PGX': 12, 'VS': 3, 'IMMP': 14, 'EVY': 3, 'AGQ': 103, 'CHH': 16, 'ECOR': 16, 'VONG': 3, 'SPYC': 6, 'CMCM': 20, 'OIS': 36, 'PAAS': 127, 'MILE': 127, 'JILL': 25, 'COCO': 13, 'NOG': 91, 'FORM': 122, 'ALTR': 1, 'GECC': 2, 'CEPU': 0, 'COLB': 2, 'FTEC': 42, 'PDS': 36, 'GSPI': 0, 'MNTV': 1, 'BMA': 41, 'WSM': 124, 'LUNA': 34, 'OPAD': 48, 'ASRT': 53, 'BLDP': 157, 'IRDM': 87, 'WPP': 62, 'QIWI': 11, 'AEIS': 5, 'SDIV': 59, 'GSST': 0, 'BBIO': 12, 'IUSS': 0, 'AGG': 44, 'VIXM': 67, 'RLJ': 17, 'OESX': 7, 'LAUR': 15, 'ITI': 14, 'EVO': 43, 'WTM': 7, 'BPOP': 8, 'OXM': 14, 'XLV': 148, 'RYAAY': 22, 'EDZ': 23, 'GPMT': 12, 'SYN': 53, 'QSY': 4, 'HEP': 23, 'PTH': 4, 'HEDJ': 1, 'SPIN': 32, 'OVS': 3, 'QQQJ': 163, 'FLR': 119, 'VIOV': 6, 'GLMD': 9, 'IVAC': 0, 'IS': 242, 'VET': 90, 'ACCD': 15, 'SANG': 6, 'ALGT': 41, 'TREC': 0, 'SVC': 42, 'ORN': 9, 'EMD': 5, 'CDNA': 19, 'RMAX': 5, 'CWH': 162, 'PGHY': 0, 'HBP': 12, 'ASA': 114, 'DUAL': 0, 'RXL': 1, 'DWM': 2, 'ARCM': 0, 'ADZ': 2, 'UXI': 4, 'PTCT': 15, 'MORT': 15, 'USAU': 1, 'MDGL': 20, 'FFR': 50, 'ROLL': 239, 'AIRS': 0, 'STRAX': 0, 'TRHC': 8, 'DORM': 8, 'NEGG': 112, 'DEX': 46, 'FMB': 2, 'IBB': 230, 'STM': 136, 'IDNA': 6, 'TCS': 58, 'JHG': 5, 'EMXC': 3, 'CHII': 0, 'VGZ': 14, 'RCII': 42, 'BIIB': 237, 'IFMK': 8, 'KMX': 195, 'HCC': 17, 'QRVO': 55, 'AMCX': 127, 'CATH': 5, 'IBA': 10, 'MTTR': 79, 'DCPH': 5, 'MSI': 124, 'XME': 40, 'KIE': 11, 'INVH': 22, 'TDS': 243, 'DFE': 5, 'RPAY': 11, 'AUR': 23, 'AXTI': 8, 'PSK': 3, 'CTLT': 20, 'RLGY': 39, 'VICE': 86, 'FUTY': 6, 'OPRA': 57, 'AMEH': 19, 'CSV': 116, 'AGRO': 9, 'SAND': 88, 'YLD': 1, 'LTRPA': 16, 'ROK': 82, 'UNB': 0, 'MPW': 28, 'BTG': 106, 'DOX': 23, 'VHT': 12, 'BBWI': 6, 'INUV': 24, 'E': 81, 'HGEN': 108, 'GROM': 14, 'VOT': 7, 'SPDN': 31, 'STN': 9, 'LTRX': 5, 'CVAC': 104, 'VGLT': 11, 'OYST': 2, 'LYRA': 2, 'TAGS': 9, 'FIVG': 32, 'PDCO': 12, 'WMK': 4, 'LMNR': 4, 'UBR': 2, 'HDGE': 20, 'RVNC': 26, 'SHLS': 13, 'HOLX': 44, 'ENLC': 19, 'WOLF': 70, 'MATX': 16, 'OTTR': 8, 'SNV': 11, 'TRX': 103, 'WPS': 15, 'BAR': 94, 'SEF': 9, 'RKDA': 23, 'ALT': 203, 'RLI': 2, 'BSMX': 6, 'MNR': 6, 'AHI': 2, 'RCD': 5, 'EQIX': 49, 'CTXR': 73, 'VRSK': 3, 'GRFS': 9, 'TCBI': 1, 'NLY': 189, 'ENZ': 13, 'MOBL': 2, 'UTZ': 151, 'CPK': 17, 'NYMT': 126, 'FINN': 0, 'LODE': 82, 'PHDG': 5, 'HES': 184, 'KCE': 1, 'TRIP': 224, 'TCMD': 2, 'XLU': 168, 'CWK': 8, 'VIG': 68, 'GMS': 38, 'DHX': 2, 'INPX': 108, 'ASB': 19, 'LBRT': 16, 'AMG': 235, 'FUT': 55, 'EXR': 51, 'GENC': 5, 'GXF': 3, 'WU': 229, 'SSYS': 66, 'CMS': 95, 'AIZ': 8, 'RGLD': 23, 'SKX': 86, 'SCU': 8, 'VRNS': 21, 'MYGN': 34, 'SPWH': 50, 'PLOW': 31, 'DAKT': 3, 'FRT': 27, 'CAC': 226, 'GPK': 17, 'AJG': 8, 'SLX': 46, 'URI': 171, 'SPXE': 0, 'SGH': 38, 'MBB': 64, 'LVMUY': 16, 'LNC': 20, 'CHTR': 48, 'REW': 4, 'DXC': 71, 'NAZ': 17, 'STLC': 10, 'EQL': 0, 'MIR': 8, 'PDP': 10, 'EXPD': 16, 'VCLT': 12, 'AMRS': 188, 'SPYV': 51, 'FENY': 8, 'DSS': 56, 'NVRO': 13, 'BSGM': 16, 'XPH': 5, 'BRKL': 0, 'AGR': 4, 'FLWS': 101, 'EPOL': 7, 'MET': 124, 'ALB': 210, 'TUFN': 8, 'UTL': 1, 'QED': 132, 'MAPS': 119, 'EXPR': 161, 'EZJ': 16, 'PETS': 127, 'CURV': 18, 'HLNE': 2, 'DOCS': 43, 'PCAR': 33, 'BITO': 16, 'MID': 66, 'MBT': 14, 'LECO': 4, 'ADCT': 3, 'AVAV': 69, 'POCT': 0, 'CANE': 26, 'POLY': 19, 'SFM': 121, 'USL': 227, 'IHRT': 24, 'FTCS': 1, 'SEND': 16, 'FXA': 2, 'DWX': 2, 'NERD': 175, 'CLSD': 16, 'PASS': 86, 'FAD': 16, 'MCG': 0, 'CRS': 48, 'CLXT': 8, 'WRK': 75, 'MKFG': 11, 'EPI': 39, 'HPP': 15, 'NNBR': 0, 'DUSL': 1, 'CNX': 41, 'DRV': 153, 'ZVO': 20, 'SCC': 31, 'OGN': 6, 'EMN': 12, 'AAA': 230, 'PDSB': 16, 'EWI': 69, 'ASTR': 104, 'LEE': 146, 'NUVA': 0, 'MCRI': 16, 'SOS': 245, 'GGAL': 54, 'CERN': 70, 'SPSC': 0, 'PIE': 46, 'JXI': 2, 'CIX': 0, 'ESLT': 15, 'CHRW': 33, 'GLPI': 12, 'RBA': 67, 'BURL': 91, 'CHK': 23, 'SKIN': 62, 'TRN': 11, 'ANSS': 8, 'JOBS': 200, 'XLC': 37, 'CRUS': 39, 'GWB': 71, 'RPT': 18, 'ZYME': 9, 'WCC': 19, 'FNDA': 0, 'OSH': 27, 'MMLP': 12, 'GHST': 0, 'QLYS': 18, 'OVF': 1, 'SPCX': 24, 'MWA': 10, 'HDV': 11, 'LGVN': 9, 'MLAB': 0, 'MXL': 7, 'EPRT': 4, 'CORR': 15, 'KERN': 90, 'SRCL': 4, 'DEFA': 4, 'S': 47, 'RCEL': 5, 'RYJ': 0, 'QUAD': 73, 'VCR': 119, 'TLK': 3, 'IAI': 3, 'FNI': 7, 'CYBE': 0, 'RESP': 24, 'COUR': 54, 'LH': 226, 'PRN': 85, 'DEM': 129, 'IIIN': 2, 'STX': 236, 'WEBR': 37, 'KYN': 8, 'CWST': 0, 'IVW': 20, 'ONON': 23, 'FLUX': 18, 'HTH': 31, 'DNOW': 11, 'MEDP': 0, 'FRG': 7, 'PAM': 28, 'MCB': 8, 'DVN': 198, 'ARLO': 60, 'BCO': 26, 'WRN': 5, 'NESR': 0, 'NSC': 58, 'FIBR': 2, 'GTE': 87, 'IYZ': 1, 'SHV': 21, 'RSI': 66, 'TMX': 26, 'ISRA': 0, 'LSCC': 67, 'ACGL': 0, 'SBGI': 29, 'IRTC': 19, 'XPER': 15, 'HYLB': 2, 'RWT': 68, 'EFA': 101, 'VNQ': 210, 'BV': 174, 'DLS': 9, 'CDAY': 4, 'VEA': 25, 'AWI': 5, 'NLSN': 20, 'ARDX': 25, 'FILL': 95, 'QCLN': 112, 'KSM': 5, 'ROG': 43, 'JNPR': 64, 'RDW': 20, 'FST': 11, 'SWAV': 14, 'SECT': 2, 'NRP': 2, 'CETX': 25, 'CLS': 67, 'SPUU': 7, 'FGEN': 29, 'BBAR': 12, 'SRRA': 6, 'SAH': 23, 'BNL': 1, 'HRMY': 2, 'SUMR': 2, 'RH': 148, 'ALG': 3, 'FPI': 18, 'MNA': 6, 'SMRT': 2, 'LEAD': 115, 'VSL': 4, 'PFM': 3, 'IREN': 2, 'BLES': 8, 'KICK': 59, 'GWX': 0, 'LPTX': 9, 'AMT': 208, 'CPLG': 8, 'PBP': 11, 'PHYL': 0, 'CACC': 82, 'MOR': 29, 'MHLD': 2, 'GNPX': 23, 'EWL': 7, 'HONE': 2, 'GEM': 125, 'VNT': 11, 'POWW': 127, 'FBIO': 22, 'BRG': 5, 'HNP': 7, 'WLK': 6, 'EYES': 180, 'SUN': 236, 'ARLP': 23, 'GOCO': 58, 'PXH': 2, 'NTES': 133, 'BTEC': 0, 'VMI': 22, 'PSX': 240, 'FRGI': 3, 'JBT': 9, 'ILTB': 1, 'ESRT': 23, 'GLAD': 120, 'ALLT': 3, 'DIAL': 13, 'HSTM': 0, 'ABEV': 56, 'SZC': 4, 'NATR': 1, 'ONEM': 73, 'LDRS': 1, 'VRTX': 139, 'IWD': 5, 'UDR': 7, 'BUG': 50, 'SCYX': 63, 'FXD': 7, 'KOF': 7, 'SAVA': 243, 'BIL': 116, 'AAIC': 16, 'HHC': 36, 'FCFS': 7, 'BTT': 59, 'MRIN': 35, 'ARB': 44, 'GLS': 11, 'RLAY': 7, 'NVR': 35, 'VEON': 22, 'TIPS': 215, 'SVRA': 30, 'DLTH': 36, 'MXI': 1, 'PUK': 8, 'BSTN': 0, 'PRTK': 33, 'WHEN': 223, 'AZO': 139, 'TDC': 78, 'SMAR': 64, 'SCHP': 1, 'UBA': 12, 'BST': 50, 'ORPH': 29, 'EGHT': 43, 'TITN': 7, 'AFRM': 185, 'REPH': 10, 'EVCM': 1, 'KBE': 62, 'CWCO': 4, 'FCOM': 1, 'VWOB': 0, 'JKJ': 2, 'ODFL': 36, 'IDT': 21, 'TREE': 240, 'KOP': 12, 'CPRT': 53, 'GFF': 6, 'ACHR': 23, 'BATT': 35, 'CIEN': 65, 'MUTE': 4, 'DOMA': 21, 'KOLD': 26, 'GRBK': 17, 'PTN': 103, 'USAS': 16, 'FLT': 80, 'VBR': 27, 'ALCO': 1, 'FGD': 5, 'ARKF': 220, 'XLP': 137, 'AEZS': 39, 'CTS': 55, 'ACOR': 12, 'NU': 6, 'GNK': 15, 'EAR': 49, 'LOOP': 52, 'SBOW': 1, 'SAIA': 6, 'RPG': 218, 'FHI': 2, 'TEF': 18, 'DGP': 11, 'HFFG': 4, 'USMC': 68, 'VRSN': 11, 'UHT': 1, 'THS': 25, 'BLZE': 6, 'FLMN': 0, 'WTFC': 8, 'PRK': 12, 'RAMP': 59, 'ACIW': 11, 'XERS': 57, 'DMS': 27, 'MPAA': 9, 'AHPI': 19, 'PXLW': 4, 'JAAA': 2, 'IMTE': 8, 'LEVI': 234, 'GERM': 20, 'EARN': 70, 'LOAN': 120, 'RVT': 1, 'YCL': 6, 'FREQ': 44, 'PFGC': 40, 'ANIX': 9, 'ALFA': 3, 'SCHF': 3, 'HYMB': 5, 'SMMT': 2, 'IJJ': 1, 'WEC': 10, 'STK': 30, 'DNN': 123, 'WNS': 4, 'SUSA': 1, 'PPSI': 16, 'TPOR': 15, 'ERUS': 9, 'ROOT': 228, 'BTB': 14, 'DAC': 113, 'MOAT': 52, 'EVOK': 18, 'DIOD': 9, 'DDM': 48, 'KURE': 0, 'PAYC': 54, 'PSN': 85, 'GURU': 30, 'GREK': 14, 'EMB': 18, 'SANA': 5, 'GPN': 48, 'MGI': 116, 'DRE': 36, 'ETG': 7, 'HSIC': 20, 'LPSN': 23, 'LEV': 130, 'ATKR': 10, 'IBOC': 0, 'GTS': 38, 'FUND': 202, 'GMRE': 8, 'PROV': 0, 'TYME': 33, 'VPG': 1, 'VETS': 7, 'AHCO': 11, 'PBF': 65, 'GSS': 39, 'ESG': 219, 'EMLC': 0, 'HERD': 17, 'CALX': 17, 'FLRN': 2, 'EWZ': 210, 'SDP': 10, 'YELL': 38, 'GXC': 23, 'ASTA': 0, 'MDT': 183, 'HWC': 1, 'DIN': 97, 'JEPI': 27, 'DV': 44, 'VMBS': 5, 'SWIM': 10, 'ASUR': 4, 'MEG': 33, 'PLX': 29, 'FWRD': 4, 'CHX': 13, 'PKX': 12, 'SMN': 6, 'COLD': 139, 'MDLZ': 91, 'TBPH': 6, 'HUM': 83, 'VTVT': 13, 'SMPL': 46, 'IWR': 9, 'CZOO': 5, 'CSLT': 6, 'TECK': 92, 'FXR': 6, 'GINN': 1, 'PSHG': 0, 'CFRX': 5, 'DXF': 0, 'JJSF': 4, 'LUNG': 6, 'DIVA': 2, 'CURE': 134, 'NOA': 9, 'TOTL': 5, 'UWMC': 237, 'AEO': 233} \n",
            " total number of stocks with too little data: 2236\n",
            "---stocks predicted with over 50% precision---\n",
            "total number of stocks over 50%: 175\n",
            "PDD\n",
            "0.6065573770491803\n",
            "WW\n",
            "0.5473684210526316\n",
            "DARE\n",
            "1.0\n",
            "T\n",
            "0.6666666666666666\n",
            "BAC\n",
            "0.5089974293059126\n",
            "STZ\n",
            "0.5412844036697247\n",
            "ADBE\n",
            "0.601010101010101\n",
            "ARE\n",
            "0.568904593639576\n",
            "BOX\n",
            "0.6666666666666666\n",
            "CFA\n",
            "0.6190476190476191\n",
            "WD\n",
            "0.5531914893617021\n",
            "ORCL\n",
            "0.5967741935483871\n",
            "DPZ\n",
            "1.0\n",
            "ACH\n",
            "0.5128205128205128\n",
            "EBAY\n",
            "0.6285714285714286\n",
            "DB\n",
            "0.5726872246696035\n",
            "RY\n",
            "0.5287356321839081\n",
            "EXP\n",
            "0.5283018867924528\n",
            "PD\n",
            "0.5192307692307693\n",
            "MAN\n",
            "0.5026178010471204\n",
            "GL\n",
            "0.5382165605095541\n",
            "RUN\n",
            "0.5721649484536082\n",
            "NEE\n",
            "0.5543478260869565\n",
            "UPS\n",
            "0.5061728395061729\n",
            "KO\n",
            "0.5241635687732342\n",
            "CMG\n",
            "0.5325670498084292\n",
            "MLM\n",
            "0.5495495495495496\n",
            "LOGI\n",
            "0.6666666666666666\n",
            "MTCH\n",
            "0.5202020202020202\n",
            "DG\n",
            "0.5771812080536913\n",
            "CUT\n",
            "0.5394736842105263\n",
            "HR\n",
            "0.625\n",
            "RTX\n",
            "1.0\n",
            "EEM\n",
            "0.6216216216216216\n",
            "MJ\n",
            "0.8\n",
            "MSM\n",
            "0.5192307692307693\n",
            "PLAN\n",
            "0.6111111111111112\n",
            "LOW\n",
            "0.5570776255707762\n",
            "NOC\n",
            "0.6666666666666666\n",
            "CCJ\n",
            "0.5428571428571428\n",
            "SO\n",
            "0.5294117647058824\n",
            "MELI\n",
            "0.5529411764705883\n",
            "MRVL\n",
            "0.6271186440677966\n",
            "AAP\n",
            "0.5909090909090909\n",
            "FTC\n",
            "0.5909090909090909\n",
            "LNG\n",
            "0.5842696629213483\n",
            "FDX\n",
            "0.5540540540540541\n",
            "IT\n",
            "0.5289672544080605\n",
            "PYPL\n",
            "0.5702479338842975\n",
            "ICLN\n",
            "0.5522388059701493\n",
            "FCX\n",
            "0.5288461538461539\n",
            "AY\n",
            "0.5106382978723404\n",
            "BR\n",
            "0.5611510791366906\n",
            "TNA\n",
            "0.5196078431372549\n",
            "MRK\n",
            "0.5398230088495575\n",
            "GLD\n",
            "0.5595854922279793\n",
            "AZN\n",
            "0.5909090909090909\n",
            "KMI\n",
            "0.5945945945945946\n",
            "SBUX\n",
            "0.5397350993377483\n",
            "PG\n",
            "0.5580357142857143\n",
            "TQQQ\n",
            "0.5815384615384616\n",
            "KL\n",
            "0.6236559139784946\n",
            "HOG\n",
            "0.5575221238938053\n",
            "BOTZ\n",
            "0.5733333333333334\n",
            "VT\n",
            "0.6458333333333334\n",
            "UI\n",
            "0.5302013422818792\n",
            "NICE\n",
            "0.5223880597014925\n",
            "ABNB\n",
            "1.0\n",
            "ULTA\n",
            "0.5053763440860215\n",
            "SAVE\n",
            "0.6\n",
            "UL\n",
            "0.5544554455445545\n",
            "VIXY\n",
            "1.0\n",
            "APH\n",
            "0.573170731707317\n",
            "EW\n",
            "0.5846153846153846\n",
            "AMP\n",
            "0.6470588235294118\n",
            "CAT\n",
            "0.5421686746987951\n",
            "HPQ\n",
            "0.5645161290322581\n",
            "VG\n",
            "0.5142857142857142\n",
            "LIT\n",
            "0.524822695035461\n",
            "WB\n",
            "0.5277777777777778\n",
            "FAS\n",
            "0.5576923076923077\n",
            "MGM\n",
            "0.5522388059701493\n",
            "AMAT\n",
            "0.5990566037735849\n",
            "JACK\n",
            "0.5058823529411764\n",
            "CR\n",
            "0.5066666666666667\n",
            "TECH\n",
            "0.5739130434782609\n",
            "CLF\n",
            "1.0\n",
            "IQ\n",
            "0.5225225225225225\n",
            "DFEN\n",
            "0.5277777777777778\n",
            "BA\n",
            "0.5197368421052632\n",
            "DKNG\n",
            "0.5454545454545454\n",
            "RNA\n",
            "1.0\n",
            "TSM\n",
            "0.5823529411764706\n",
            "OKTA\n",
            "0.5671641791044776\n",
            "GOAT\n",
            "0.512396694214876\n",
            "TCEHY\n",
            "0.6363636363636364\n",
            "C\n",
            "0.5466666666666666\n",
            "NVDA\n",
            "0.5364705882352941\n",
            "GH\n",
            "0.5882352941176471\n",
            "LVS\n",
            "0.6\n",
            "HE\n",
            "0.5157894736842106\n",
            "BILI\n",
            "0.5465116279069767\n",
            "GEX\n",
            "0.6296296296296297\n",
            "BP\n",
            "1.0\n",
            "GDXJ\n",
            "0.5862068965517241\n",
            "RIDE\n",
            "0.6666666666666666\n",
            "AMZN\n",
            "0.5087719298245614\n",
            "TX\n",
            "0.510752688172043\n",
            "CMCSA\n",
            "0.5666666666666667\n",
            "DOCU\n",
            "0.5592105263157895\n",
            "PLNT\n",
            "0.547945205479452\n",
            "MX\n",
            "0.5333333333333333\n",
            "MSFT\n",
            "0.5406162464985994\n",
            "HEAR\n",
            "1.0\n",
            "DFS\n",
            "0.5833333333333334\n",
            "AUD\n",
            "0.5079365079365079\n",
            "ING\n",
            "0.5977011494252874\n",
            "USO\n",
            "0.5244755244755245\n",
            "HSBC\n",
            "0.5714285714285714\n",
            "MCD\n",
            "0.5633333333333334\n",
            "LOVE\n",
            "0.6216216216216216\n",
            "AMD\n",
            "0.5014836795252225\n",
            "ANY\n",
            "1.0\n",
            "FAST\n",
            "0.5970149253731343\n",
            "SMH\n",
            "0.573170731707317\n",
            "TIP\n",
            "0.5833333333333334\n",
            "BILL\n",
            "0.525\n",
            "OC\n",
            "0.5106382978723404\n",
            "CASH\n",
            "0.5660377358490566\n",
            "DS\n",
            "0.75\n",
            "CP\n",
            "0.5294117647058824\n",
            "GM\n",
            "0.6666666666666666\n",
            "IMO\n",
            "0.5662650602409639\n",
            "CBOE\n",
            "0.5405405405405406\n",
            "SEDG\n",
            "0.6666666666666666\n",
            "BYD\n",
            "0.6136363636363636\n",
            "ENPH\n",
            "0.5238095238095238\n",
            "SHE\n",
            "0.5660377358490566\n",
            "RNG\n",
            "0.6105263157894737\n",
            "WANT\n",
            "0.5771428571428572\n",
            "BBY\n",
            "0.550561797752809\n",
            "TWLO\n",
            "0.5454545454545454\n",
            "VTI\n",
            "0.6113989637305699\n",
            "DTE\n",
            "0.5087719298245614\n",
            "TJX\n",
            "0.5522388059701493\n",
            "MRO\n",
            "0.5671641791044776\n",
            "YETI\n",
            "0.5242718446601942\n",
            "DE\n",
            "0.5392156862745098\n",
            "CE\n",
            "0.6129032258064516\n",
            "NET\n",
            "0.5436241610738255\n",
            "LYFT\n",
            "0.5357142857142857\n",
            "HOPE\n",
            "0.5172413793103449\n",
            "PEP\n",
            "0.576271186440678\n",
            "WELL\n",
            "0.535483870967742\n",
            "DON\n",
            "0.5357142857142857\n",
            "NOW\n",
            "0.5737704918032787\n",
            "WF\n",
            "0.6666666666666666\n",
            "MDB\n",
            "0.5740740740740741\n",
            "ABBV\n",
            "0.5306122448979592\n",
            "CHGG\n",
            "0.5230769230769231\n",
            "CSCO\n",
            "0.5819209039548022\n",
            "V\n",
            "0.5876777251184834\n",
            "WFH\n",
            "0.68\n",
            "XLF\n",
            "0.5127118644067796\n",
            "ES\n",
            "0.5102639296187683\n",
            "QQQ\n",
            "0.5625\n",
            "XOM\n",
            "0.5277777777777778\n",
            "UNG\n",
            "0.5294117647058824\n",
            "IWM\n",
            "0.5468164794007491\n",
            "TBF\n",
            "0.5625\n",
            "NEXT\n",
            "0.6666666666666666\n",
            "CROX\n",
            "0.6896551724137931\n",
            "MOD\n",
            "0.6\n",
            "VC\n",
            "0.5151515151515151\n",
            "ZS\n",
            "0.6176470588235294\n",
            "Average precision for stocks with over 50% precision: 0.5919728869811091\n"
          ]
        }
      ]
    },
    {
      "cell_type": "code",
      "source": [
        "stocks_with_predictions_wsb = pd.DataFrame(prec_over_fifty.items(), columns={\"Ticker\", \"Precision\"})\n",
        "\n",
        "\n",
        "with open('/content/drive/MyDrive/SKOLA/UU/C-UPPSATS/FEK/Notebooks/stocks_w_predictions_wsb_MLP.csv', 'w') as writefile:\n",
        "    stocks_with_predictions_wsb.to_csv(writefile)"
      ],
      "metadata": {
        "id": "_D-s8Mqp1WAK"
      },
      "execution_count": null,
      "outputs": []
    }
  ]
}